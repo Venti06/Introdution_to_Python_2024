{
 "cells": [
  {
   "cell_type": "markdown",
   "id": "b87fece5-362d-4ad5-9a17-4d3bf96d23af",
   "metadata": {},
   "source": [
    "第三章 列表"
   ]
  },
  {
   "cell_type": "markdown",
   "id": "ac9beab6-be5c-4bc7-8e17-23ee27c7c0b4",
   "metadata": {},
   "source": []
  },
  {
   "cell_type": "code",
   "execution_count": 1,
   "id": "22cd397b-733f-43c8-be11-88ecd5af1f01",
   "metadata": {},
   "outputs": [
    {
     "name": "stdout",
     "output_type": "stream",
     "text": [
      "['trek', 'redline', 'giant']\n"
     ]
    }
   ],
   "source": [
    "bikes=['trek','redline','giant']\n",
    "print(bikes)"
   ]
  },
  {
   "cell_type": "code",
   "execution_count": 3,
   "id": "050113f6-bc3b-45fa-b135-3f1fa5f06063",
   "metadata": {},
   "outputs": [
    {
     "name": "stdout",
     "output_type": "stream",
     "text": [
      "trek\n",
      "giant giant\n"
     ]
    }
   ],
   "source": [
    "bikes=['trek','redline','giant']\n",
    "print(bikes[0])\n",
    "print(bikes[2],bikes[-1])"
   ]
  },
  {
   "cell_type": "code",
   "execution_count": 4,
   "id": "bd8ff98a-8d7a-4761-a235-d0f387ccdc94",
   "metadata": {},
   "outputs": [
    {
     "name": "stdout",
     "output_type": "stream",
     "text": [
      "My first bicycle was a Trek.\n"
     ]
    }
   ],
   "source": [
    "bicycles=['trek','cannondale','redline','specialized']\n",
    "message=f\"My first bicycle was a {bicycles[0].title()}.\"\n",
    "print(message)"
   ]
  },
  {
   "cell_type": "markdown",
   "id": "cd610754-6c79-4850-994d-b5e1945e8f15",
   "metadata": {},
   "source": []
  },
  {
   "cell_type": "markdown",
   "id": "d2de816f-0db3-446a-8474-00283229f9ff",
   "metadata": {},
   "source": [
    "3.2"
   ]
  },
  {
   "cell_type": "code",
   "execution_count": 5,
   "id": "0eb9eb5f-d30b-46d7-8dcc-7666c6465e33",
   "metadata": {},
   "outputs": [
    {
     "name": "stdout",
     "output_type": "stream",
     "text": [
      "['honda', 'yamaha', 'suzuki']\n",
      "['ducati', 'yamaha', 'suzuki']\n"
     ]
    }
   ],
   "source": [
    "motorcycles=['honda','yamaha','suzuki']\n",
    "print(motorcycles)\n",
    "motorcycles[0]='ducati'\n",
    "print(motorcycles)"
   ]
  },
  {
   "cell_type": "code",
   "execution_count": 9,
   "id": "5ee73a76-162c-48a3-b10f-375639163e53",
   "metadata": {},
   "outputs": [
    {
     "name": "stdout",
     "output_type": "stream",
     "text": [
      "['trek', 'redline']\n"
     ]
    }
   ],
   "source": [
    "#lst.append('val')在列表末尾添加新元素\n",
    "#lst.insert(idx,'val')在列表的指定位置上添加新元素\n",
    "bikes=[]\n",
    "bikes.append('redline')\n",
    "bikes.insert(0,'trek')\n",
    "print(bikes)"
   ]
  },
  {
   "cell_type": "code",
   "execution_count": 10,
   "id": "07b30837-6dac-4886-8afa-53f01b5f41f3",
   "metadata": {},
   "outputs": [
    {
     "name": "stdout",
     "output_type": "stream",
     "text": [
      "['trek', 'redline']\n"
     ]
    }
   ],
   "source": [
    "#删除列表指定索引元素\n",
    "bikes=['giant','trek','redline']\n",
    "del bikes[0]\n",
    "print(bikes)"
   ]
  },
  {
   "cell_type": "code",
   "execution_count": 12,
   "id": "1445a366-83fd-44b2-afcb-4a7e6b24c953",
   "metadata": {},
   "outputs": [
    {
     "name": "stdout",
     "output_type": "stream",
     "text": [
      "redline\n",
      "['trek']\n",
      "giant\n"
     ]
    }
   ],
   "source": [
    "#del lst[idx]删除列表中指定索引的元素\n",
    "#lst.pop([idx])->val删除并返回列表中指定索引（默认末尾）的元素，弹出（pop）的值能被接着使用\n",
    "bikes=['giant','trek','redline']\n",
    "popped_bike=bikes.pop(0)\n",
    "print(bikes.pop())\n",
    "print(bikes)\n",
    "print(popped_bike)"
   ]
  },
  {
   "cell_type": "code",
   "execution_count": 23,
   "id": "b0560b4d-f3c0-4d6b-88e4-1632d669f94b",
   "metadata": {},
   "outputs": [
    {
     "name": "stdout",
     "output_type": "stream",
     "text": [
      "['honda', 'yamaha', 'suzuki']\n",
      "\n",
      "A Ducati is too expensive for me.\n"
     ]
    }
   ],
   "source": [
    "#根据值删除列表中的元素 lst.remove(val)删除列表中匹配到的第一个指定元素\n",
    "motorcycles=['honda','yamaha','suzuki','ducati']\n",
    "too_expensive='ducati'\n",
    "motorcycles.remove(too_expensive)\n",
    "print(motorcycles)\n",
    "print(f\"\\nA {too_expensive.title()} is too expensive for me.\")"
   ]
  },
  {
   "cell_type": "markdown",
   "id": "f6d9d1ca-50b2-4cac-9863-08022b89947a",
   "metadata": {},
   "source": []
  },
  {
   "cell_type": "markdown",
   "id": "4cec0332-228b-4994-a188-7ee8f152fe98",
   "metadata": {},
   "source": [
    "3.3 管理列表：排序"
   ]
  },
  {
   "cell_type": "code",
   "execution_count": 24,
   "id": "028e9129-b7d6-439e-9e36-b35dbdb4007f",
   "metadata": {},
   "outputs": [
    {
     "name": "stdout",
     "output_type": "stream",
     "text": [
      "['audi', 'bmw', 'subaru', 'toyota']\n"
     ]
    }
   ],
   "source": [
    "#使用方法sort()对列表永久排序\n",
    "cars=['bmw','audi','toyota','subaru']\n",
    "cars.sort()\n",
    "print(cars)"
   ]
  },
  {
   "cell_type": "code",
   "execution_count": 25,
   "id": "a9645b0b-c96d-47b6-8a36-4a974a704354",
   "metadata": {},
   "outputs": [
    {
     "name": "stdout",
     "output_type": "stream",
     "text": [
      "['toyota', 'subaru', 'bmw', 'audi']\n"
     ]
    }
   ],
   "source": [
    "#使用方法sort(reverse=True)按与字母顺序相反的顺序排序\n",
    "cars=['bmw','audi','toyota','subaru']\n",
    "cars.sort(reverse=True)\n",
    "print(cars)"
   ]
  },
  {
   "cell_type": "code",
   "execution_count": 26,
   "id": "c26164b6-e9b4-4820-97f1-d13c2e5bf90f",
   "metadata": {},
   "outputs": [
    {
     "name": "stdout",
     "output_type": "stream",
     "text": [
      "Here is the original list:\n",
      "['bmw', 'audi', 'toyota', 'subaru']\n",
      "\n",
      "Here is the original list:\n",
      "['audi', 'bmw', 'subaru', 'toyota']\n",
      "\n",
      "Here is the original list again:\n",
      "['bmw', 'audi', 'toyota', 'subaru']\n"
     ]
    }
   ],
   "source": [
    "#使用函数sorted()对列表临时排序\n",
    "cars=['bmw','audi','toyota','subaru']\n",
    "print(\"Here is the original list:\")\n",
    "print(cars)\n",
    "print(\"\\nHere is the original list:\")\n",
    "print(sorted(cars))\n",
    "print(\"\\nHere is the original list again:\")\n",
    "print(cars)"
   ]
  },
  {
   "cell_type": "code",
   "execution_count": 15,
   "id": "e22eebd4-ddc2-4222-8f41-5cdfd7b25ee2",
   "metadata": {},
   "outputs": [
    {
     "name": "stdout",
     "output_type": "stream",
     "text": [
      "[1, 2, 4, 6, 9]\n",
      "[9, 6, 1, 4, 2]\n",
      "[1, 2, 4, 6, 9]\n",
      "[9, 6, 4, 2, 1]\n"
     ]
    }
   ],
   "source": [
    "#lst.sort()永久修改原列表，对其中元素进行排序\n",
    "#sorted(lst)->lst' 返回排序后的列表的副本\n",
    "nums=[9,6,1,4,2]\n",
    "print(sorted(nums))\n",
    "print(nums)#原列表不变\n",
    "#列表排序（默认正序）\n",
    "nums.sort()\n",
    "print(nums)\n",
    "#列表排序（指定倒序）\n",
    "nums.sort(reverse=True)\n",
    "print(nums)"
   ]
  },
  {
   "cell_type": "markdown",
   "id": "44553973-39f4-4374-a5e2-4c50c8fd46bc",
   "metadata": {},
   "source": [
    "反转"
   ]
  },
  {
   "cell_type": "code",
   "execution_count": 16,
   "id": "7ae32226-6249-45bd-a5c6-17ec96853649",
   "metadata": {},
   "outputs": [
    {
     "name": "stdout",
     "output_type": "stream",
     "text": [
      "[2, 4, 1, 6, 9]\n"
     ]
    }
   ],
   "source": [
    "#lst.reverse()永久修改原列表，对其中的元素进行翻转\n",
    "nums=[9,6,1,4,2]\n",
    "nums.reverse()#翻转列表\n",
    "print(nums)"
   ]
  },
  {
   "cell_type": "markdown",
   "id": "7672331a-e26d-4448-8dfc-92a28b525785",
   "metadata": {},
   "source": [
    "获取长度"
   ]
  },
  {
   "cell_type": "code",
   "execution_count": 17,
   "id": "b1ff7df7-5f5c-455c-af2e-223bca8f430e",
   "metadata": {},
   "outputs": [
    {
     "name": "stdout",
     "output_type": "stream",
     "text": [
      "4\n"
     ]
    }
   ],
   "source": [
    "#len(lst)->num获取列表的元素个数\n",
    "cars=['bmw','audi','toyota','subaru']\n",
    "print(len(cars))"
   ]
  },
  {
   "cell_type": "markdown",
   "id": "2b650c35-de93-454c-b388-10f3526008e9",
   "metadata": {},
   "source": []
  },
  {
   "cell_type": "markdown",
   "id": "5fa62779-3df7-4d8b-b9b9-d430c70091e9",
   "metadata": {},
   "source": [
    "3.4 避免索引错误（从0开始）"
   ]
  },
  {
   "cell_type": "code",
   "execution_count": null,
   "id": "38d0bd0f-5533-4d7d-8b60-5b2ef7551afd",
   "metadata": {},
   "outputs": [],
   "source": []
  },
  {
   "cell_type": "code",
   "execution_count": null,
   "id": "7ec91529-0053-44e4-8fa9-bb88d1c44a4a",
   "metadata": {},
   "outputs": [],
   "source": []
  },
  {
   "cell_type": "code",
   "execution_count": null,
   "id": "f8854dae-505f-430b-a897-514ddd788c5a",
   "metadata": {},
   "outputs": [],
   "source": []
  },
  {
   "cell_type": "code",
   "execution_count": null,
   "id": "8d534118-ca83-45ea-960d-dcba980dd249",
   "metadata": {},
   "outputs": [],
   "source": []
  },
  {
   "cell_type": "code",
   "execution_count": null,
   "id": "fadedf7c-274e-4e0a-82f6-0d8fd50a3675",
   "metadata": {},
   "outputs": [],
   "source": []
  }
 ],
 "metadata": {
  "kernelspec": {
   "display_name": "Python 3 (ipykernel)",
   "language": "python",
   "name": "python3"
  },
  "language_info": {
   "codemirror_mode": {
    "name": "ipython",
    "version": 3
   },
   "file_extension": ".py",
   "mimetype": "text/x-python",
   "name": "python",
   "nbconvert_exporter": "python",
   "pygments_lexer": "ipython3",
   "version": "3.11.7"
  }
 },
 "nbformat": 4,
 "nbformat_minor": 5
}
