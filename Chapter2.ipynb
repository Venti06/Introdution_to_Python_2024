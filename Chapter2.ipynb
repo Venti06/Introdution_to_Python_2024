{
 "cells": [
  {
   "cell_type": "markdown",
   "id": "2d0cddae-26ca-4ace-9b41-3076a5d5a754",
   "metadata": {},
   "source": [
    "第二章 变量和简单数据类型"
   ]
  },
  {
   "cell_type": "code",
   "execution_count": null,
   "id": "70d93c28-a421-4e3f-a30f-fbdb92403c6f",
   "metadata": {},
   "outputs": [],
   "source": [
    "print(\"Hello Python world\")"
   ]
  },
  {
   "cell_type": "markdown",
   "id": "8aa096c7-1487-41e2-b50f-4843247bc809",
   "metadata": {},
   "source": [
    "2.2 变量"
   ]
  },
  {
   "cell_type": "code",
   "execution_count": 3,
   "id": "e6c9ef43-ec8b-40bf-9c53-abe4cf696b0a",
   "metadata": {},
   "outputs": [
    {
     "name": "stdout",
     "output_type": "stream",
     "text": [
      "Hello Python world!\n"
     ]
    }
   ],
   "source": [
    "message=\"Hello Python world!\"\n",
    "print(message)"
   ]
  },
  {
   "cell_type": "code",
   "execution_count": 4,
   "id": "bcb28103-ebb8-478e-8771-5cc1514f341e",
   "metadata": {},
   "outputs": [
    {
     "name": "stdout",
     "output_type": "stream",
     "text": [
      "Hello Python world!\n",
      "Hello Python Crash Course world!\n"
     ]
    }
   ],
   "source": [
    "message=\"Hello Python world!\"\n",
    "print(message)\n",
    "message=\"Hello Python Crash Course world!\"\n",
    "print(message)"
   ]
  },
  {
   "cell_type": "code",
   "execution_count": 2,
   "id": "b1132e69-27a2-47c2-9bb4-d30d462acf72",
   "metadata": {},
   "outputs": [
    {
     "name": "stdout",
     "output_type": "stream",
     "text": [
      "Hello Python world!\n"
     ]
    }
   ],
   "source": [
    "mesage=\"Hello Python world!\"\n",
    "print(mesage)"
   ]
  },
  {
   "cell_type": "markdown",
   "id": "44195439-8744-44a7-baa0-d1afa24c4b94",
   "metadata": {},
   "source": []
  },
  {
   "cell_type": "markdown",
   "id": "196ba655-03d1-49fb-b06d-0ca076a7d973",
   "metadata": {},
   "source": [
    "2.3 字符串"
   ]
  },
  {
   "cell_type": "code",
   "execution_count": 1,
   "id": "9f10c011-c451-4e1d-affe-4da887945d25",
   "metadata": {},
   "outputs": [
    {
     "name": "stdout",
     "output_type": "stream",
     "text": [
      "Ada Lovelace\n"
     ]
    }
   ],
   "source": [
    "name=\"ada lovelace\"\n",
    "print(name.title())"
   ]
  },
  {
   "cell_type": "code",
   "execution_count": 3,
   "id": "53d69c9f-d4d4-4d7e-9fd7-26d91e139df9",
   "metadata": {},
   "outputs": [
    {
     "name": "stdout",
     "output_type": "stream",
     "text": [
      "ADA LOVELACE\n",
      "ada lovelace\n"
     ]
    }
   ],
   "source": [
    "name=\"ada lovelace\"\n",
    "print(name.upper())\n",
    "print(name.lower())"
   ]
  },
  {
   "cell_type": "code",
   "execution_count": 4,
   "id": "7369e10d-5b44-43ca-9c48-044de0117a88",
   "metadata": {},
   "outputs": [
    {
     "name": "stdout",
     "output_type": "stream",
     "text": [
      "ada lovelace\n"
     ]
    }
   ],
   "source": [
    "first_name=\"ada\"\n",
    "last_name=\"lovelace\"\n",
    "full_name=f\"{first_name} {last_name}\"\n",
    "print(full_name)"
   ]
  },
  {
   "cell_type": "code",
   "execution_count": 5,
   "id": "4db948bb-463e-4adf-85b0-dfd2e77c7978",
   "metadata": {},
   "outputs": [
    {
     "name": "stdout",
     "output_type": "stream",
     "text": [
      "Hello, Ada Lovelace!\n"
     ]
    }
   ],
   "source": [
    "first_name=\"ada\"\n",
    "last_name=\"lovelace\"\n",
    "full_name=f\"{first_name} {last_name}\"\n",
    "print(f\"Hello, {full_name.title()}!\")"
   ]
  },
  {
   "cell_type": "code",
   "execution_count": 6,
   "id": "ce8dec5e-aeb6-4a9c-b984-2e115fd25f25",
   "metadata": {},
   "outputs": [
    {
     "name": "stdout",
     "output_type": "stream",
     "text": [
      "Hello, Ada Lovelace!\n"
     ]
    }
   ],
   "source": [
    "first_name=\"ada\"\n",
    "last_name=\"lovelace\"\n",
    "full_name=f\"{first_name} {last_name}\"\n",
    "message=f\"Hello, {full_name.title()}!\"\n",
    "print(message)"
   ]
  },
  {
   "cell_type": "markdown",
   "id": "ef6e0bbc-084e-4ce7-858f-9cdc9c28c9a6",
   "metadata": {},
   "source": []
  },
  {
   "cell_type": "code",
   "execution_count": 7,
   "id": "1586b36c-9845-4c67-a6b6-64cb472d8fa7",
   "metadata": {},
   "outputs": [
    {
     "name": "stdout",
     "output_type": "stream",
     "text": [
      "\tPython\n"
     ]
    }
   ],
   "source": [
    "print(\"\\tPython\")"
   ]
  },
  {
   "cell_type": "code",
   "execution_count": 8,
   "id": "ba0b0470-5c1f-4140-8598-86f33d11a197",
   "metadata": {},
   "outputs": [
    {
     "name": "stdout",
     "output_type": "stream",
     "text": [
      "Languages:\n",
      "Python\n",
      "C\n",
      "JavaScript\n"
     ]
    }
   ],
   "source": [
    "print(\"Languages:\\nPython\\nC\\nJavaScript\")"
   ]
  },
  {
   "cell_type": "code",
   "execution_count": 9,
   "id": "1655aff8-1bda-46ad-beea-7f458650340c",
   "metadata": {},
   "outputs": [
    {
     "name": "stdout",
     "output_type": "stream",
     "text": [
      "Languages:\n",
      "\tPython\n",
      "\tC\n",
      "\tJavaScript\n"
     ]
    }
   ],
   "source": [
    "print(\"Languages:\\n\\tPython\\n\\tC\\n\\tJavaScript\")"
   ]
  },
  {
   "cell_type": "code",
   "execution_count": 10,
   "id": "ffd03e27-6d66-4d2e-8b49-e809a1d96714",
   "metadata": {},
   "outputs": [
    {
     "data": {
      "text/plain": [
       "'python'"
      ]
     },
     "execution_count": 10,
     "metadata": {},
     "output_type": "execute_result"
    }
   ],
   "source": [
    "favorite_language='python '\n",
    "favorite_language.rstrip()"
   ]
  },
  {
   "cell_type": "code",
   "execution_count": 16,
   "id": "f1fd7e69-ab32-42c0-9cca-6a6f3dab6cd9",
   "metadata": {},
   "outputs": [
    {
     "data": {
      "text/plain": [
       "' python'"
      ]
     },
     "execution_count": 16,
     "metadata": {},
     "output_type": "execute_result"
    }
   ],
   "source": [
    "favorite_language=' python '\n",
    "favorite_language.rstrip()"
   ]
  },
  {
   "cell_type": "code",
   "execution_count": 17,
   "id": "ea50f34a-8394-4b93-a982-dae727cf9183",
   "metadata": {},
   "outputs": [
    {
     "data": {
      "text/plain": [
       "'python '"
      ]
     },
     "execution_count": 17,
     "metadata": {},
     "output_type": "execute_result"
    }
   ],
   "source": [
    "favorite_language.lstrip()"
   ]
  },
  {
   "cell_type": "code",
   "execution_count": 18,
   "id": "22f1ccdc-b9f9-434b-a041-470a3c284fb7",
   "metadata": {},
   "outputs": [
    {
     "data": {
      "text/plain": [
       "'python'"
      ]
     },
     "execution_count": 18,
     "metadata": {},
     "output_type": "execute_result"
    }
   ],
   "source": [
    "favorite_language.strip()"
   ]
  },
  {
   "cell_type": "code",
   "execution_count": 21,
   "id": "74e58f91-f12c-423d-86fc-808bdb3c7ac7",
   "metadata": {},
   "outputs": [
    {
     "name": "stdout",
     "output_type": "stream",
     "text": [
      "www.ituring.com.cn\n"
     ]
    }
   ],
   "source": [
    "ur1='https://www.ituring.com.cn'\n",
    "ur1=ur1.removeprefix('https://')\n",
    "print(ur1)"
   ]
  },
  {
   "cell_type": "markdown",
   "id": "136d1c29-7a36-412f-8644-c0b9260618ad",
   "metadata": {},
   "source": []
  },
  {
   "cell_type": "markdown",
   "id": "027c9be2-801b-4c33-81e7-767321525a52",
   "metadata": {},
   "source": [
    "2.4 数"
   ]
  },
  {
   "cell_type": "code",
   "execution_count": 22,
   "id": "9b091c15-d46e-4fc0-b96c-30fcc1710803",
   "metadata": {},
   "outputs": [
    {
     "data": {
      "text/plain": [
       "5"
      ]
     },
     "execution_count": 22,
     "metadata": {},
     "output_type": "execute_result"
    }
   ],
   "source": [
    "2+3"
   ]
  },
  {
   "cell_type": "code",
   "execution_count": 23,
   "id": "0cd8b7b5-737a-4ee1-84e0-03a5060950f4",
   "metadata": {},
   "outputs": [
    {
     "data": {
      "text/plain": [
       "1"
      ]
     },
     "execution_count": 23,
     "metadata": {},
     "output_type": "execute_result"
    }
   ],
   "source": [
    "3-2"
   ]
  },
  {
   "cell_type": "code",
   "execution_count": 24,
   "id": "4c75e79d-055b-4e95-8bb0-175ac529255f",
   "metadata": {},
   "outputs": [
    {
     "data": {
      "text/plain": [
       "6"
      ]
     },
     "execution_count": 24,
     "metadata": {},
     "output_type": "execute_result"
    }
   ],
   "source": [
    "2*3"
   ]
  },
  {
   "cell_type": "code",
   "execution_count": 25,
   "id": "29f2c6f6-6b92-4ae3-b362-c1573d1507a9",
   "metadata": {},
   "outputs": [
    {
     "data": {
      "text/plain": [
       "1.5"
      ]
     },
     "execution_count": 25,
     "metadata": {},
     "output_type": "execute_result"
    }
   ],
   "source": [
    "3/2"
   ]
  },
  {
   "cell_type": "code",
   "execution_count": 29,
   "id": "1a6ab6ec-9b35-4835-956a-9475f7527c03",
   "metadata": {},
   "outputs": [
    {
     "name": "stdout",
     "output_type": "stream",
     "text": [
      "1\n",
      "1.0\n",
      "0\n",
      "1.0\n"
     ]
    }
   ],
   "source": [
    "#整数除法\n",
    "print(3//3)\n",
    "print(2.5//2)\n",
    "print(1//2)\n",
    "print(1.5//1.5)"
   ]
  },
  {
   "cell_type": "code",
   "execution_count": 30,
   "id": "c81f176d-caa7-4f60-b2e4-9240925404df",
   "metadata": {},
   "outputs": [
    {
     "name": "stdout",
     "output_type": "stream",
     "text": [
      "27\n",
      "6.25\n",
      "1\n",
      "1.8371173070873836\n"
     ]
    }
   ],
   "source": [
    "#乘方\n",
    "print(3**3)\n",
    "print(2.5**2)\n",
    "print(1**2)\n",
    "print(1.5**1.5)"
   ]
  },
  {
   "cell_type": "code",
   "execution_count": 28,
   "id": "a695986a-b29a-4526-b774-22ee1fa839b5",
   "metadata": {},
   "outputs": [
    {
     "name": "stdout",
     "output_type": "stream",
     "text": [
      "0 0 0\n"
     ]
    }
   ],
   "source": [
    "x,y,z=0,0,0\n",
    "print(x,y,z)"
   ]
  },
  {
   "cell_type": "code",
   "execution_count": null,
   "id": "1f030ecf-326e-468d-bfed-d46332f9699c",
   "metadata": {},
   "outputs": [],
   "source": []
  },
  {
   "cell_type": "code",
   "execution_count": null,
   "id": "6673f8ab-0188-446d-918c-c07e311f3ef7",
   "metadata": {},
   "outputs": [],
   "source": []
  },
  {
   "cell_type": "code",
   "execution_count": null,
   "id": "86e41e1a-f735-4a93-b640-a901e0d29350",
   "metadata": {},
   "outputs": [],
   "source": []
  }
 ],
 "metadata": {
  "kernelspec": {
   "display_name": "Python 3 (ipykernel)",
   "language": "python",
   "name": "python3"
  },
  "language_info": {
   "codemirror_mode": {
    "name": "ipython",
    "version": 3
   },
   "file_extension": ".py",
   "mimetype": "text/x-python",
   "name": "python",
   "nbconvert_exporter": "python",
   "pygments_lexer": "ipython3",
   "version": "3.11.7"
  }
 },
 "nbformat": 4,
 "nbformat_minor": 5
}
