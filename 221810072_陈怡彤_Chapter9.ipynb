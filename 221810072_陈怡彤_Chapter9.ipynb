{
 "cells": [
  {
   "cell_type": "markdown",
   "id": "6cf45e53-943a-496f-850d-f06e8c7c33eb",
   "metadata": {},
   "source": [
    "第九章 类"
   ]
  },
  {
   "cell_type": "markdown",
   "id": "6f49750b-747f-4e24-b6f0-f16852a39e1d",
   "metadata": {},
   "source": [
    "面向对象编程\n",
    "（函数：面向过程编程）"
   ]
  },
  {
   "cell_type": "markdown",
   "id": "89edf9cb-52f0-40d3-a7fc-6125dee2923f",
   "metadata": {},
   "source": [
    "##面向编程对象（object-oriented programming,OOP)是最有效的软件编写方法之一。\r\n",
    "##基于表示现实中的事物与场景的类（class）来创建对象(object)\r\n",
    "##根据类来创建对象称为实例化，让人能够使用类的实例（instance）"
   ]
  },
  {
   "cell_type": "code",
   "execution_count": null,
   "id": "17eebd3c-3d7f-4a80-9918-dc1f7ac7daf8",
   "metadata": {},
   "outputs": [],
   "source": []
  },
  {
   "cell_type": "markdown",
   "id": "819a9e5e-5554-43e0-89aa-9003bb7c2959",
   "metadata": {},
   "source": [
    "9.1 创建和使用类"
   ]
  },
  {
   "cell_type": "markdown",
   "id": "dc0cfdd2-8536-4ad8-bb93-0d6b6a84ca77",
   "metadata": {},
   "source": [
    "9.1.1 创建Dog类"
   ]
  },
  {
   "cell_type": "code",
   "execution_count": 2,
   "id": "445be12a-8467-4d22-a867-f71b3f26cfcd",
   "metadata": {
    "scrolled": true
   },
   "outputs": [
    {
     "ename": "IndentationError",
     "evalue": "unindent does not match any outer indentation level (<tokenize>, line 19)",
     "output_type": "error",
     "traceback": [
      "\u001b[1;36m  File \u001b[1;32m<tokenize>:19\u001b[1;36m\u001b[0m\n\u001b[1;33m    print(f\"{self.name} rolled over!\")\u001b[0m\n\u001b[1;37m    ^\u001b[0m\n\u001b[1;31mIndentationError\u001b[0m\u001b[1;31m:\u001b[0m unindent does not match any outer indentation level\n"
     ]
    }
   ],
   "source": [
    "#class关键字：用于定义类（类名以大写字母开头）\n",
    "# __init__方法（函数）：使用def关键字（开头结尾两个——）\n",
    "#self形参：指向实例本身的引用\n",
    "#可以通过实例访问的变量称之为属性\n",
    "class Dog:\n",
    "    \"\"\"一次模拟小狗的简单尝试\"\"\"\n",
    "    \n",
    "    def __init__(self,name,age):\n",
    "        \"\"\"初始化属性 name 和 age\"\"\"\n",
    "        self.name = name\n",
    "        self.age = age\n",
    "\n",
    "    def sit(self):\n",
    "        \"\"\"模拟小狗收到命令时坐下\"\"\"\n",
    "        print(f\"{self.name} is now sitting.\")\n",
    "\n",
    "    def roll_over(self):\n",
    "         \"\"\"模拟小狗收到命令时打滚\"\"\"\n",
    "        print(f\"{self.name} rolled over!\")\n",
    "#类中的函数称为方法"
   ]
  },
  {
   "cell_type": "code",
   "execution_count": 1,
   "id": "4aa0efe2-30e2-43d7-bf80-5b83083bb6ca",
   "metadata": {},
   "outputs": [],
   "source": [
    "#__init__()方法\n",
    "##类中的函数被称为方法。__init__()是一个特殊方法，当根据Dog类创建新实例时，Python会自动运行它。\n",
    "##将__init__()定义为包含三个形参：self,name 和age.其中，self必不可少且在前面。\n",
    "##以self为前缀的变量可供类中的方法使用，可以通过类的任意实例来传递。\n",
    "##可通过实例访问的变量被称为属性（attribute)"
   ]
  },
  {
   "cell_type": "markdown",
   "id": "065c2388-e77c-435d-89e4-e48da842a066",
   "metadata": {},
   "source": [
    "9.1.2 根据类创建实例"
   ]
  },
  {
   "cell_type": "code",
   "execution_count": 4,
   "id": "f1843690-926e-459c-8bf0-b010d5be9243",
   "metadata": {},
   "outputs": [
    {
     "ename": "IndentationError",
     "evalue": "unindent does not match any outer indentation level (<tokenize>, line 15)",
     "output_type": "error",
     "traceback": [
      "\u001b[1;36m  File \u001b[1;32m<tokenize>:15\u001b[1;36m\u001b[0m\n\u001b[1;33m    print(f\"{self.name} rolled over!\")\u001b[0m\n\u001b[1;37m    ^\u001b[0m\n\u001b[1;31mIndentationError\u001b[0m\u001b[1;31m:\u001b[0m unindent does not match any outer indentation level\n"
     ]
    }
   ],
   "source": [
    "class Dog:\n",
    "    \"\"\"一次模拟小狗的简单尝试\"\"\"\n",
    "    \n",
    "    def __init__(self,name,age):\n",
    "        \"\"\"初始化属性 name 和 age\"\"\"\n",
    "        self.name = name\n",
    "        self.age = age\n",
    "\n",
    "    def sit(self):\n",
    "        \"\"\"模拟小狗收到命令时坐下\"\"\"\n",
    "        print(f\"{self.name} is now sitting.\")\n",
    "\n",
    "    def roll_over(self):\n",
    "         \"\"\"模拟小狗收到命令时打滚\"\"\"\n",
    "        print(f\"{self.name} rolled over!\")\n",
    "\n",
    "my_dog = Dog('Willie\",6)\n",
    "\n",
    "print(f\"My dog's name is {my_dog.name}.\")\n",
    "print(f\"My dog's age is {my_dog.age}.\")"
   ]
  },
  {
   "cell_type": "code",
   "execution_count": null,
   "id": "41cdd3b1-b355-4209-a2bd-1f87c46cf6e6",
   "metadata": {},
   "outputs": [],
   "source": [
    " class Dog:\n",
    "    \"\"\"一次模拟小狗的简单尝试\"\"\"\n",
    "\n",
    "    def __init__(self, name, age):\n",
    "        \"\"\"初始化属性name和age\"\"\"\n",
    "        self.name = name\n",
    "        self.age = age\n",
    "\n",
    "    def sit(self):\n",
    "        \"\"\"模拟小狗收到命令时坐下\"\"\"\n",
    "        print(f\"{self.name} is now sitting.\")\n",
    "\n",
    "    def roll_over(self):\n",
    "        \"\"\"模拟小狗收到命令时打滚\"\"\"\n",
    "        print(f\"{self.name} rolled over!\")\n",
    "my_dog = Dog('Willie', 6)\n",
    "#2.调用方法\n",
    "my_dog.sit()\n",
    "my_dog.roll_over()"
   ]
  },
  {
   "cell_type": "code",
   "execution_count": null,
   "id": "498342bb-2abb-4c50-9f03-1a281acd0152",
   "metadata": {},
   "outputs": [],
   "source": [
    "class Dog:\n",
    "    \"\"\"一次模拟小狗的简单尝试\"\"\"\n",
    "    def __init__(self, name, age):\n",
    "        \"\"\"初始化属性name和age\"\"\"\n",
    "        self.name = name\n",
    "        self.age = age\n",
    "\n",
    "    def sit(self):\n",
    "        \"\"\"模拟小狗收到命令时坐下\"\"\"\n",
    "        print(f\"{self.name} is now sitting.\")\n",
    "\n",
    "    def roll_over(self):\n",
    "        \"\"\"模拟小狗收到命令时打滚\"\"\"\n",
    "        print(f\"{self.name} rolled over!\")\n",
    "my_dog = Dog('Willie', 6)\n",
    "your_dog = Dog('Lucy',3)\n",
    "#3.创建多个实例\n",
    "print(f\"My dog's name is {my_dog.name}.\")\n",
    "print(f\"My dog is {my_dog.age} years old.\")\n",
    "my_dog.sit()\n",
    "\n",
    "print(f\"\\nYour dog's name is {your_dog.name}.\")\n",
    "print(f\"Your dog is {your_dog.age} years old.\")\n",
    "your_dog.roll_over()"
   ]
  },
  {
   "cell_type": "code",
   "execution_count": null,
   "id": "66f2bd1a-c721-483c-84e6-2a6d888e9083",
   "metadata": {},
   "outputs": [],
   "source": []
  },
  {
   "cell_type": "code",
   "execution_count": 2,
   "id": "2c9c2863-5216-4c23-8d49-432c962d92f1",
   "metadata": {},
   "outputs": [
    {
     "name": "stdout",
     "output_type": "stream",
     "text": [
      "Kfc\n",
      "fried chicken\n",
      "Kfc serves wonderful fried chicken.\n",
      "Kfc is open.Welcome!\n"
     ]
    }
   ],
   "source": [
    "#9.1 餐馆\n",
    "class Restaurant:\n",
    "    \"\"\"一个表示餐馆的类\"\"\"\n",
    "    def __init__(self,name,cuisine_type):\n",
    "        \"\"\"初始化餐馆\"\"\"\n",
    "        self.name = name.title()\n",
    "        self.cuisine_type = cuisine_type\n",
    "    def describe_restaurant(self):\n",
    "        \"\"\"显示两项信息\"\"\"\n",
    "        print(f\"{self.name} serves wonderful {self.cuisine_type}.\")\n",
    "    def open_restaurant(self):\n",
    "        \"\"\"显示消息指出餐馆正在营业\"\"\"\n",
    "        print(f\"{self.name} is open.Welcome!\")\n",
    "restaurant = Restaurant('KFC','fried chicken')\n",
    "print(restaurant.name)\n",
    "print(restaurant.cuisine_type)\n",
    "restaurant.describe_restaurant()\n",
    "restaurant.open_restaurant()"
   ]
  },
  {
   "cell_type": "code",
   "execution_count": 4,
   "id": "518737f2-c2f1-4d88-a3bb-68ed92a8613b",
   "metadata": {},
   "outputs": [
    {
     "name": "stdout",
     "output_type": "stream",
     "text": [
      "Kfc serves wonderful fried chicken.\n",
      "Nanjing_Impression serves wonderful nanjing food.\n",
      "Haidilao serves wonderful hot pot.\n"
     ]
    }
   ],
   "source": [
    "#9.2 三家餐馆\n",
    "class Restaurant:\n",
    "    \"\"\"一个表示餐馆的类\"\"\"\n",
    "    def __init__(self,name,cuisine_type):\n",
    "        \"\"\"初始化餐馆\"\"\"\n",
    "        self.name = name.title()\n",
    "        self.cuisine_type = cuisine_type\n",
    "    def describe_restaurant(self):\n",
    "        \"\"\"显示两项信息\"\"\"\n",
    "        print(f\"{self.name} serves wonderful {self.cuisine_type}.\")\n",
    "    def open_restaurant(self):\n",
    "        \"\"\"显示消息指出餐馆正在营业\"\"\"\n",
    "        print(f\"{self.name} is open.Welcome!\")\n",
    "kfc = Restaurant('KFC','fried chicken')\n",
    "kfc.describe_restaurant()\n",
    "\n",
    "nanjing_impression = Restaurant('nanjing_impression','nanjing food')\n",
    "nanjing_impression.describe_restaurant()\n",
    "\n",
    "haidilao = Restaurant('haidilao','hot pot')\n",
    "haidilao.describe_restaurant()"
   ]
  },
  {
   "cell_type": "code",
   "execution_count": 5,
   "id": "126ca352-13c6-4921-8ab6-593595a005d4",
   "metadata": {},
   "outputs": [
    {
     "name": "stdout",
     "output_type": "stream",
     "text": [
      "\n",
      "Anna Smith\n",
      " Username:aaannnaaa\n",
      " Email:anansmith@163.com\n",
      " Location:Shanghai\n",
      "\n",
      "Welcome, aaannnaaa!\n",
      "\n",
      "Bob Jones\n",
      " Username:bj\n",
      " Email:b_jones@163.com\n",
      " Location:Guangzhou\n",
      "\n",
      "Welcome, bj!\n"
     ]
    }
   ],
   "source": [
    "#9.3 用户\n",
    "class User:\n",
    "    \"\"\"一个表示用户的类\"\"\"\n",
    "    def __init__(self,first_name,last_name,username,email,location):\n",
    "        \"\"\"初始化用户\"\"\"\n",
    "        self.first_name = first_name.title()\n",
    "        self.last_name = last_name.title()\n",
    "        self.username = username\n",
    "        self.email = email\n",
    "        self.location = location.title()\n",
    "    def describe_user(self):\n",
    "        \"\"\"显示用户信息\"\"\"\n",
    "        print(f\"\\n{self.first_name} {self.last_name}\")\n",
    "        print(f\" Username:{self.username}\")\n",
    "        print(f\" Email:{self.email}\")\n",
    "        print(f\" Location:{self.location}\")\n",
    "    def greet_user(self):\n",
    "        \"\"\"向用户发出个性化问候\"\"\"\n",
    "        print(f\"\\nWelcome, {self.username}!\")\n",
    "anna = User('anna','smith','aaannnaaa','anansmith@163.com','shanghai')\n",
    "anna.describe_user()\n",
    "anna.greet_user()\n",
    "\n",
    "bob = User('bob','Jones','bj','b_jones@163.com','guangzhou')\n",
    "bob.describe_user()\n",
    "bob.greet_user()"
   ]
  },
  {
   "cell_type": "code",
   "execution_count": null,
   "id": "68c23769-ddb9-43e2-9617-c3fc56c6c53d",
   "metadata": {},
   "outputs": [],
   "source": []
  },
  {
   "cell_type": "markdown",
   "id": "48bdac6b-95b9-49f2-b898-cfe765b64ab5",
   "metadata": {},
   "source": [
    "9.2 使用类和实例"
   ]
  },
  {
   "cell_type": "markdown",
   "id": "87d2e664-4841-4279-80e1-6b3eb59a76c7",
   "metadata": {},
   "source": [
    "9.2.1 CAR 类"
   ]
  },
  {
   "cell_type": "markdown",
   "id": "4c3ecbc4-0311-4d4f-a9ca-529cff38c6d2",
   "metadata": {},
   "source": [
    "9.2.2 给属性指定默认值"
   ]
  },
  {
   "cell_type": "code",
   "execution_count": 6,
   "id": "56651092-e315-4432-82e1-216310485d14",
   "metadata": {},
   "outputs": [
    {
     "ename": "AttributeError",
     "evalue": "'Car' object has no attribute 'model'",
     "output_type": "error",
     "traceback": [
      "\u001b[1;31m---------------------------------------------------------------------------\u001b[0m",
      "\u001b[1;31mAttributeError\u001b[0m                            Traceback (most recent call last)",
      "Cell \u001b[1;32mIn[6], line 20\u001b[0m\n\u001b[0;32m     17\u001b[0m         \u001b[38;5;28mprint\u001b[39m(\u001b[38;5;124mf\u001b[39m\u001b[38;5;124m\"\u001b[39m\u001b[38;5;124mThis car has \u001b[39m\u001b[38;5;132;01m{\u001b[39;00m\u001b[38;5;28mself\u001b[39m\u001b[38;5;241m.\u001b[39modometer_reading\u001b[38;5;132;01m}\u001b[39;00m\u001b[38;5;124m miles on it.\u001b[39m\u001b[38;5;124m\"\u001b[39m)\n\u001b[0;32m     19\u001b[0m my_new_car \u001b[38;5;241m=\u001b[39m Car(\u001b[38;5;124m'\u001b[39m\u001b[38;5;124maudi\u001b[39m\u001b[38;5;124m'\u001b[39m, \u001b[38;5;124m'\u001b[39m\u001b[38;5;124ma4\u001b[39m\u001b[38;5;124m'\u001b[39m, \u001b[38;5;241m2024\u001b[39m)\n\u001b[1;32m---> 20\u001b[0m \u001b[38;5;28mprint\u001b[39m(my_new_car\u001b[38;5;241m.\u001b[39mget_descriptive_name())\n\u001b[0;32m     21\u001b[0m my_new_car\u001b[38;5;241m.\u001b[39mread_odometer()\n",
      "Cell \u001b[1;32mIn[6], line 12\u001b[0m, in \u001b[0;36mCar.get_descriptive_name\u001b[1;34m(self)\u001b[0m\n\u001b[0;32m     10\u001b[0m \u001b[38;5;28;01mdef\u001b[39;00m \u001b[38;5;21mget_descriptive_name\u001b[39m(\u001b[38;5;28mself\u001b[39m):\n\u001b[0;32m     11\u001b[0m \u001b[38;5;250m    \u001b[39m\u001b[38;5;124;03m\"\"\"返回格式规范的描述性信息\"\"\"\u001b[39;00m\n\u001b[1;32m---> 12\u001b[0m     long_name \u001b[38;5;241m=\u001b[39m \u001b[38;5;124mf\u001b[39m\u001b[38;5;124m\"\u001b[39m\u001b[38;5;132;01m{\u001b[39;00m\u001b[38;5;28mself\u001b[39m\u001b[38;5;241m.\u001b[39myear\u001b[38;5;132;01m}\u001b[39;00m\u001b[38;5;124m \u001b[39m\u001b[38;5;132;01m{\u001b[39;00m\u001b[38;5;28mself\u001b[39m\u001b[38;5;241m.\u001b[39mmake\u001b[38;5;132;01m}\u001b[39;00m\u001b[38;5;124m \u001b[39m\u001b[38;5;132;01m{\u001b[39;00m\u001b[38;5;28mself\u001b[39m\u001b[38;5;241m.\u001b[39mmodel\u001b[38;5;132;01m}\u001b[39;00m\u001b[38;5;124m\"\u001b[39m\n\u001b[0;32m     13\u001b[0m     \u001b[38;5;28;01mreturn\u001b[39;00m long_name\u001b[38;5;241m.\u001b[39mtitle()\n",
      "\u001b[1;31mAttributeError\u001b[0m: 'Car' object has no attribute 'model'"
     ]
    }
   ],
   "source": [
    "class Car:\n",
    "    \"\"\"一次模拟汽车的简单尝试\"\"\"\n",
    "\n",
    "    def __init__(self,make,model,year):\n",
    "        \"\"\"初始化描述汽车的属性\"\"\"\n",
    "        self.make = make\n",
    "        self.make = model\n",
    "        self.year = year\n",
    "\n",
    "    def get_descriptive_name(self):\n",
    "        \"\"\"返回格式规范的描述性信息\"\"\"\n",
    "        long_name = f\"{self.year} {self.make} {self.model}\"\n",
    "        return long_name.title()\n",
    "\n",
    "    def read_odometer(self):\n",
    "        \"\"\"打印一条指出汽车行驶里程的消息\"\"\"\n",
    "        print(f\"This car has {self.odometer_reading} miles on it.\")\n",
    "\n",
    "my_new_car = Car('audi', 'a4', 2024)\n",
    "print(my_new_car.get_descriptive_name())\n",
    "my_new_car.read_odometer()"
   ]
  },
  {
   "cell_type": "markdown",
   "id": "d0f6e729-8052-4c59-91f4-dffd5555bdf2",
   "metadata": {},
   "source": [
    "9.2.3 修改属性的值"
   ]
  },
  {
   "cell_type": "code",
   "execution_count": 7,
   "id": "63ebcbf9-6998-4f5e-b832-0eaea5cb3718",
   "metadata": {},
   "outputs": [
    {
     "name": "stdout",
     "output_type": "stream",
     "text": [
      "2024 Audi A4\n",
      "This car has 23 miles on it.\n"
     ]
    }
   ],
   "source": [
    "#1.直接修改属性的值\n",
    "class Car:\n",
    "    \"\"\"一次模拟汽车的简单尝试\"\"\"\n",
    "\n",
    "    def __init__(self, make, model, year):\n",
    "        \"\"\"初始化描述汽车的属性\"\"\"\n",
    "        self.make = make\n",
    "        self.model = model\n",
    "        self.year = year\n",
    "        self.odometer_reading = 0\n",
    "\n",
    "    def get_descriptive_name(self):\n",
    "        \"\"\"返回格式规范的描述性信息\"\"\"\n",
    "        long_name = f\"{self.year} {self.make} {self.model}\"\n",
    "        return long_name.title()\n",
    "\n",
    "    def read_odometer(self):\n",
    "        \"\"\"打印一条指出汽车行驶里程的消息\"\"\"\n",
    "        print(f\"This car has {self.odometer_reading} miles on it.\")\n",
    "\n",
    "my_new_car = Car('audi', 'a4', 2024)\n",
    "print(my_new_car.get_descriptive_name())\n",
    "my_new_car.odometer_reading = 23\n",
    "my_new_car.read_odometer()"
   ]
  },
  {
   "cell_type": "code",
   "execution_count": 8,
   "id": "3dd69ec6-05c6-487a-aa9b-fa1ed7a8493d",
   "metadata": {},
   "outputs": [
    {
     "name": "stdout",
     "output_type": "stream",
     "text": [
      "2024 Audi A4\n",
      "This car has 23 miles on it.\n"
     ]
    }
   ],
   "source": [
    "#2.通过方法修改属性的值\n",
    "class Car:\n",
    "    \"\"\"一次模拟汽车的简单尝试\"\"\"\n",
    "\n",
    "    def __init__(self, make, model, year):\n",
    "        \"\"\"初始化描述汽车的属性\"\"\"\n",
    "        self.make = make\n",
    "        self.model = model\n",
    "        self.year = year\n",
    "        self.odometer_reading = 0\n",
    "\n",
    "    def get_descriptive_name(self):\n",
    "        \"\"\"返回格式规范的描述性信息\"\"\"\n",
    "        long_name = f\"{self.year} {self.make} {self.model}\"\n",
    "        return long_name.title()\n",
    "\n",
    "    def read_odometer(self):\n",
    "        \"\"\"打印一条指出汽车行驶里程的消息\"\"\"\n",
    "        print(f\"This car has {self.odometer_reading} miles on it.\")\n",
    "    \n",
    "    def update_odometer(self,mileage):\n",
    "        \"\"\"将里程表读数设置为指定的值\"\"\"\n",
    "        self.odometer_reading = mileage\n",
    "my_new_car = Car('audi', 'a4', 2024)\n",
    "print(my_new_car.get_descriptive_name())\n",
    "my_new_car.update_odometer(23)\n",
    "my_new_car.read_odometer()"
   ]
  },
  {
   "cell_type": "code",
   "execution_count": 9,
   "id": "88591acf-0e87-4b29-bf15-ac152a2265a6",
   "metadata": {},
   "outputs": [
    {
     "name": "stdout",
     "output_type": "stream",
     "text": [
      "2024 Audi A4\n",
      "This car has 23 miles on it.\n"
     ]
    }
   ],
   "source": [
    "class Car:\n",
    "    \"\"\"一次模拟汽车的简单尝试\"\"\"\n",
    "\n",
    "    def __init__(self, make, model, year):\n",
    "        \"\"\"初始化描述汽车的属性\"\"\"\n",
    "        self.make = make\n",
    "        self.model = model\n",
    "        self.year = year\n",
    "        self.odometer_reading = 0\n",
    "\n",
    "    def get_descriptive_name(self):\n",
    "        \"\"\"返回格式规范的描述性信息\"\"\"\n",
    "        long_name = f\"{self.year} {self.make} {self.model}\"\n",
    "        return long_name.title()\n",
    "\n",
    "    def read_odometer(self):\n",
    "        \"\"\"打印一条指出汽车行驶里程的消息\"\"\"\n",
    "        print(f\"This car has {self.odometer_reading} miles on it.\")\n",
    "    \n",
    "    def update_odometer(self,mileage):\n",
    "        \"\"\"将里程表读数设置为指定的值\n",
    "       禁止将里程表读数往回调\"\"\"\n",
    "        if mileage >= self.odometer_reading:\n",
    "            self.odometer_reading = mileage\n",
    "        else:\n",
    "            print(\"You can't roll back an odometer!\")\n",
    "\n",
    "my_new_car = Car('audi', 'a4', 2024)\n",
    "print(my_new_car.get_descriptive_name())\n",
    "my_new_car.update_odometer(23)\n",
    "my_new_car.read_odometer()"
   ]
  },
  {
   "cell_type": "code",
   "execution_count": 10,
   "id": "f8667fa8-23c7-40f3-95ac-2797c43e7ae1",
   "metadata": {},
   "outputs": [
    {
     "name": "stdout",
     "output_type": "stream",
     "text": [
      "2019 Subaru Outback\n",
      "This car has 23500 miles on it.\n",
      "This car has 23600 miles on it.\n"
     ]
    }
   ],
   "source": [
    "#3.通过方法让属性的值递增\n",
    "class Car:\n",
    "    \"\"\"一次模拟汽车的简单尝试\"\"\"\n",
    "\n",
    "    def __init__(self, make, model, year):\n",
    "        \"\"\"初始化描述汽车的属性\"\"\"\n",
    "        self.make = make\n",
    "        self.model = model\n",
    "        self.year = year\n",
    "        self.odometer_reading = 0\n",
    "\n",
    "    def get_descriptive_name(self):\n",
    "        \"\"\"返回格式规范的描述性信息\"\"\"\n",
    "        long_name = f\"{self.year} {self.make} {self.model}\"\n",
    "        return long_name.title()\n",
    "\n",
    "    def read_odometer(self):\n",
    "        \"\"\"打印一条指出汽车行驶里程的消息\"\"\"\n",
    "        print(f\"This car has {self.odometer_reading} miles on it.\")\n",
    "    \n",
    "    def update_odometer(self,mileage):\n",
    "        \"\"\"将里程表读数设置为指定的值\n",
    "       禁止将里程表读数往回调\"\"\"\n",
    "        if mileage >= self.odometer_reading:\n",
    "            self.odometer_reading = mileage\n",
    "        else:\n",
    "            print(\"You can't roll back an odometer!\")\n",
    "\n",
    "    def increment_odometer(self, miles):\n",
    "        \"\"\"Add the given amount to the odometer reading.\"\"\"\n",
    "        self.odometer_reading += miles\n",
    "\n",
    "\n",
    "my_used_car = Car('subaru', 'outback', 2019)\n",
    "print(my_used_car.get_descriptive_name())\n",
    "\n",
    "my_used_car.update_odometer(23_500)\n",
    "my_used_car.read_odometer()\n",
    "\n",
    "my_used_car.increment_odometer(100)\n",
    "my_used_car.read_odometer()"
   ]
  },
  {
   "cell_type": "code",
   "execution_count": null,
   "id": "f43074f3-edd7-4df3-a68e-3cd6584fa429",
   "metadata": {},
   "outputs": [],
   "source": []
  },
  {
   "cell_type": "code",
   "execution_count": 11,
   "id": "47214d1a-bbb8-4c61-8616-40ffd67fd45a",
   "metadata": {},
   "outputs": [
    {
     "name": "stdout",
     "output_type": "stream",
     "text": [
      "Kfc serves wonderful fried chicken.\n",
      "\n",
      "Number served:0\n",
      "Number served:300\n",
      "Number served: 500\n",
      "Number served: 750\n"
     ]
    }
   ],
   "source": [
    "#9.4就餐人数\n",
    "class Restaurant:\n",
    "    \"\"\"一个表示餐馆的类\"\"\"\n",
    "    def __init__(self,name,cuisine_type):\n",
    "        \"\"\"初始化餐馆\"\"\"\n",
    "        self.name = name.title()\n",
    "        self.cuisine_type = cuisine_type\n",
    "        self.number_served = 0\n",
    "        \n",
    "    def describe_restaurant(self):\n",
    "        \"\"\"显示两项信息\"\"\"\n",
    "        print(f\"{self.name} serves wonderful {self.cuisine_type}.\")\n",
    "    def open_restaurant(self):\n",
    "        \"\"\"显示消息指出餐馆正在营业\"\"\"\n",
    "        print(f\"{self.name} is open.Welcome!\")\n",
    "\n",
    "    def set_number_served(self,number_served):\n",
    "        \"\"\"设置用餐人数\"\"\"\n",
    "        self.number_served = number_served\n",
    "\n",
    "    def increment_number_served(self,additional_served):\n",
    "        \"\"\"用来让就餐人数递增\"\"\"\n",
    "        self.number_served += additional_served\n",
    "        \n",
    "restaurant = Restaurant('KFC','fried chicken')\n",
    "restaurant.describe_restaurant()\n",
    "\n",
    "print(f\"\\nNumber served:{restaurant.number_served}\")\n",
    "restaurant.number_served = 300\n",
    "print(f\"Number served:{restaurant.number_served}\")\n",
    "\n",
    "restaurant.set_number_served(500)\n",
    "print(f\"Number served: {restaurant.number_served}\")\n",
    "\n",
    "restaurant.increment_number_served(250)\n",
    "print(f\"Number served: {restaurant.number_served}\")"
   ]
  },
  {
   "cell_type": "code",
   "execution_count": 12,
   "id": "3d9c1840-4db2-4f98-bcb7-79b084a857bf",
   "metadata": {},
   "outputs": [
    {
     "ename": "SyntaxError",
     "evalue": "unterminated string literal (detected at line 34) (3884835743.py, line 34)",
     "output_type": "error",
     "traceback": [
      "\u001b[1;36m  Cell \u001b[1;32mIn[12], line 34\u001b[1;36m\u001b[0m\n\u001b[1;33m    print(\"\\n\u001b[0m\n\u001b[1;37m          ^\u001b[0m\n\u001b[1;31mSyntaxError\u001b[0m\u001b[1;31m:\u001b[0m unterminated string literal (detected at line 34)\n"
     ]
    }
   ],
   "source": [
    "#9.5尝试登陆次数\n",
    "class User:\n",
    "    \"\"\"一个表示用户的类\"\"\"\n",
    "    def __init__(self,first_name,last_name,username,email,location):\n",
    "        \"\"\"初始化用户\"\"\"\n",
    "        self.first_name = first_name.title()\n",
    "        self.last_name = last_name.title()\n",
    "        self.username = username\n",
    "        self.email = email\n",
    "        self.location = location.title()\n",
    "        self.login_attempts = 0\n",
    "        \n",
    "    def describe_user(self):\n",
    "        \"\"\"显示用户信息\"\"\"\n",
    "        print(f\"\\n{self.first_name} {self.last_name}\")\n",
    "        print(f\" Username:{self.username}\")\n",
    "        print(f\" Email:{self.email}\")\n",
    "        print(f\" Location:{self.location}\")\n",
    "    def greet_user(self):\n",
    "        \"\"\"向用户发出个性化问候\"\"\"\n",
    "        print(f\"\\nWelcome, {self.username}!\")\n",
    "\n",
    "    def increment_login_attempts(self):\n",
    "        \"\"\"将属性login_attempts的值加1\"\"\"\n",
    "        self.login_attempts += 1\n",
    "\n",
    "    def reset_login_attempts(self):\n",
    "        \"\"\"将属性login_attempts的值充值为0\"\"\"\n",
    "        self.login_attempts = 0\n",
    "        \n",
    "anna = User('anna','smith','aaannnaaa','anansmith@163.com','shanghai')\n",
    "anna.describe_user()\n",
    "anna.greet_user()\n",
    "print(\"\\n"
   ]
  },
  {
   "cell_type": "markdown",
   "id": "1b3906c8-14aa-4cf9-be9f-bebe7eac9b32",
   "metadata": {},
   "source": [
    "9.3 继承"
   ]
  },
  {
   "cell_type": "markdown",
   "id": "ba216c6b-848d-4c66-a7c3-4c65b672a6c3",
   "metadata": {},
   "source": [
    "9.3.1 子类的方法_init_()"
   ]
  },
  {
   "cell_type": "code",
   "execution_count": 13,
   "id": "4aa08163-64d3-4d3c-8bd7-333ecbb7ab4b",
   "metadata": {},
   "outputs": [
    {
     "name": "stdout",
     "output_type": "stream",
     "text": [
      "2024 Nissan Leaf\n"
     ]
    }
   ],
   "source": [
    "class Car:\n",
    "    \"\"\"一次模拟汽车的简单尝试\"\"\"\n",
    "\n",
    "    def __init__(self, make, model, year):\n",
    "        \"\"\"初始化描述汽车的属性\"\"\"\n",
    "        self.make = make\n",
    "        self.model = model\n",
    "        self.year = year\n",
    "        self.odometer_reading = 0\n",
    "\n",
    "    def get_descriptive_name(self):\n",
    "        \"\"\"返回格式规范的描述性名称\"\"\"\n",
    "        long_name = f\"{self.year} {self.make} {self.model}\"\n",
    "        return long_name.title()\n",
    "\n",
    "    def read_odometer(self):\n",
    "        \"\"\"打印一个句子，指出汽车的行驶里程\"\"\"\n",
    "        print(f\"This car has {self.odometer_reading} miles on it.\")\n",
    "\n",
    "    def update_odometer(self, mileage):\n",
    "        \"\"\"将里程表读数设置为给定的值\"\"\"\n",
    "        if mileage >= self.odometer_reading:\n",
    "            self.odometer_reading = mileage\n",
    "        else:\n",
    "            print(\"You can't roll back an odometer!\")\n",
    "\n",
    "    def increment_odometer(self, miles):\n",
    "        \"\"\"让里程表读数增加给定的量\"\"\"\n",
    "        self.odometer_reading += miles\n",
    "\n",
    "class ElectricCar(Car):\n",
    "    \"\"\"电动汽车的独特之处\"\"\"\n",
    "\n",
    "    def __init__(self, make, model, year):\n",
    "        \"\"\"初始化父类的属性\"\"\"\n",
    "        super().__init__(make, model, year)\n",
    "\n",
    "my_leaf = ElectricCar('nissan', 'leaf', 2024)\n",
    "print(my_leaf.get_descriptive_name())"
   ]
  },
  {
   "cell_type": "markdown",
   "id": "8d5c3110-3376-4ed2-992a-3a06ca2b2e1a",
   "metadata": {},
   "source": [
    "9.3.2 给子类定义属性和方法"
   ]
  },
  {
   "cell_type": "code",
   "execution_count": 14,
   "id": "074dece1-2409-416e-89e8-dda1a21ceb4a",
   "metadata": {},
   "outputs": [
    {
     "name": "stdout",
     "output_type": "stream",
     "text": [
      "2024 Nissan Leaf\n",
      "This car has a 40-kWh battery.\n"
     ]
    }
   ],
   "source": [
    "class Car:\n",
    "    \"\"\"一次模拟汽车的简单尝试\"\"\"\n",
    "\n",
    "    def __init__(self, make, model, year):\n",
    "        \"\"\"初始化描述汽车的属性\"\"\"\n",
    "        self.make = make\n",
    "        self.model = model\n",
    "        self.year = year\n",
    "        self.odometer_reading = 0\n",
    "\n",
    "    def get_descriptive_name(self):\n",
    "        \"\"\"返回格式规范的描述性名称\"\"\"\n",
    "        long_name = f\"{self.year} {self.make} {self.model}\"\n",
    "        return long_name.title()\n",
    "\n",
    "    def read_odometer(self):\n",
    "        \"\"\"打印一个句子，指出汽车的行驶里程\"\"\"\n",
    "        print(f\"This car has {self.odometer_reading} miles on it.\")\n",
    "\n",
    "    def update_odometer(self, mileage):\n",
    "        \"\"\"将里程表读数设置为给定的值\"\"\"\n",
    "        if mileage >= self.odometer_reading:\n",
    "            self.odometer_reading = mileage\n",
    "        else:\n",
    "            print(\"You can't roll back an odometer!\")\n",
    "\n",
    "    def increment_odometer(self, miles):\n",
    "        \"\"\"让里程表读数增加给定的量\"\"\"\n",
    "        self.odometer_reading += miles\n",
    "\n",
    "class ElectricCar(Car):\n",
    "    \"\"\"电动汽车的独特之处\"\"\"\n",
    "\n",
    "    def __init__(self, make, model, year):\n",
    "        \"\"\"先初始化父类的属性，再初始化电动汽车的特有的属性\"\"\"\n",
    "        super().__init__(make, model, year)\n",
    "        self.battery_size = 40\n",
    "        \n",
    "    def describe_battery(self):\n",
    "        \"\"\"打印一条描述电池容量的消息\"\"\"\n",
    "        print(f\"This car has a {self.battery_size}-kWh battery.\")\n",
    "\n",
    "my_leaf = ElectricCar('nissan', 'leaf', 2024)\n",
    "print(my_leaf.get_descriptive_name())\n",
    "my_leaf.describe_battery()"
   ]
  },
  {
   "cell_type": "markdown",
   "id": "1a6d89cf-c5cd-49e7-be4e-f82b6a5a7d3f",
   "metadata": {},
   "source": [
    "9.3.3 重写父类的方法"
   ]
  },
  {
   "cell_type": "code",
   "execution_count": 15,
   "id": "0155fd74-bb7e-481f-b20a-eadcbdb90a90",
   "metadata": {},
   "outputs": [],
   "source": [
    "class Car:\n",
    "    \"\"\"一次模拟汽车的简单尝试\"\"\"\n",
    "\n",
    "    def __init__(self, make, model, year):\n",
    "        \"\"\"初始化描述汽车的属性\"\"\"\n",
    "        self.make = make\n",
    "        self.model = model\n",
    "        self.year = year\n",
    "        self.odometer_reading = 0\n",
    "\n",
    "    def get_descriptive_name(self):\n",
    "        \"\"\"返回格式规范的描述性名称\"\"\"\n",
    "        long_name = f\"{self.year} {self.make} {self.model}\"\n",
    "        return long_name.title()\n",
    "\n",
    "    def read_odometer(self):\n",
    "        \"\"\"打印一个句子，指出汽车的行驶里程\"\"\"\n",
    "        print(f\"This car has {self.odometer_reading} miles on it.\")\n",
    "\n",
    "    def update_odometer(self, mileage):\n",
    "        \"\"\"将里程表读数设置为给定的值\"\"\"\n",
    "        if mileage >= self.odometer_reading:\n",
    "            self.odometer_reading = mileage\n",
    "        else:\n",
    "            print(\"You can't roll back an odometer!\")\n",
    "\n",
    "    def increment_odometer(self, miles):\n",
    "        \"\"\"让里程表读数增加给定的量\"\"\"\n",
    "        self.odometer_reading += miles\n",
    "\n",
    "class ElectricCar(Car):\n",
    "    \"\"\"电动汽车的独特之处\"\"\"\n",
    "\n",
    "    def __init__(self, make, model, year):\n",
    "        \"\"\"先初始化父类的属性，再初始化电动汽车的特有的属性\"\"\"\n",
    "        super().__init__(make, model, year)\n",
    "        self.battery_size = 40\n",
    "        \n",
    "    def describe_battery(self):\n",
    "        \"\"\"打印一条描述电池容量的消息\"\"\"\n",
    "        print(f\"This car has a {self.battery_size}-kWh battery.\")\n",
    "\n",
    "    def fill_gas_tank(self):\n",
    "        \"\"\"电动汽车没有油箱\"\"\"\n",
    "        print(\"This car doesn't have a gas tank!\")\n",
    "#如果父类中的一些方法不能满足子类的需求，就可以：在子类中定义一个与要重写的父类方法同名的方法"
   ]
  },
  {
   "cell_type": "code",
   "execution_count": null,
   "id": "98a29652-361e-49e0-b093-5331626a5595",
   "metadata": {},
   "outputs": [],
   "source": []
  },
  {
   "cell_type": "markdown",
   "id": "6aea0504-8d90-4646-81ee-1e56029eb1ee",
   "metadata": {},
   "source": [
    "9.3.4 将实例用作属性"
   ]
  },
  {
   "cell_type": "code",
   "execution_count": 16,
   "id": "d2cbadab-1f05-4556-83e9-eb0e40cd87a5",
   "metadata": {},
   "outputs": [
    {
     "name": "stdout",
     "output_type": "stream",
     "text": [
      "2024 Nissan Leaf\n",
      "This car has a 40-kWh battery.\n",
      "This car can go about 150 miles on a full charge.\n"
     ]
    }
   ],
   "source": [
    "class Car:\n",
    "    \"\"\"一次模拟汽车的简单尝试\"\"\"\n",
    "\n",
    "    def __init__(self, make, model, year):\n",
    "        \"\"\"初始化描述汽车的属性\"\"\"\n",
    "        self.make = make\n",
    "        self.model = model\n",
    "        self.year = year\n",
    "        self.odometer_reading = 0\n",
    "\n",
    "    def get_descriptive_name(self):\n",
    "        \"\"\"返回格式规范的描述性名称\"\"\"\n",
    "        long_name = f\"{self.year} {self.make} {self.model}\"\n",
    "        return long_name.title()\n",
    "\n",
    "    def read_odometer(self):\n",
    "        \"\"\"打印一个句子，指出汽车的行驶里程\"\"\"\n",
    "        print(f\"This car has {self.odometer_reading} miles on it.\")\n",
    "\n",
    "    def update_odometer(self, mileage):\n",
    "        \"\"\"将里程表读数设置为给定的值\"\"\"\n",
    "        if mileage >= self.odometer_reading:\n",
    "            self.odometer_reading = mileage\n",
    "        else:\n",
    "            print(\"You can't roll back an odometer!\")\n",
    "\n",
    "    def increment_odometer(self, miles):\n",
    "        \"\"\"让里程表读数增加给定的量\"\"\"\n",
    "        self.odometer_reading += miles\n",
    "\n",
    "class Battery:\n",
    "    \"\"\"一次模拟电动汽车电池的简单尝试\"\"\"\n",
    "\n",
    "    def __init__(self, battery_size=40):\n",
    "        \"\"\"初始化电池的属性\"\"\"\n",
    "        self.battery_size = battery_size\n",
    "\n",
    "    def describe_battery(self):\n",
    "        \"\"\"打印一条描述电池容量的消息\"\"\"\n",
    "        print(f\"This car has a {self.battery_size}-kWh battery.\")\n",
    "    def get_range(self):\n",
    "        \"\"\"打印一条信息，指出电池的续航里程\"\"\"\n",
    "        if self.battery_size == 40:\n",
    "            range = 150\n",
    "        elif self.battery_size == 65:\n",
    "            range = 225\n",
    "\n",
    "        print(f\"This car can go about {range} miles on a full charge.\")\n",
    "\n",
    "class ElectricCar(Car):\n",
    "    \"\"\"电动汽车的独特之处\"\"\"\n",
    "\n",
    "    def __init__(self, make, model, year):\n",
    "        \"\"\"\n",
    "        先初始化父类的属性，再初始化电动汽车特有的属性\n",
    "        \"\"\"\n",
    "        super().__init__(make, model, year)\n",
    "        self.battery = Battery()\n",
    "\n",
    "\n",
    "my_leaf = ElectricCar('nissan', 'leaf', 2024)\n",
    "print(my_leaf.get_descriptive_name())\n",
    "my_leaf.battery.describe_battery()\n",
    "my_leaf.battery.get_range()"
   ]
  },
  {
   "cell_type": "markdown",
   "id": "c9a31beb-51e7-454b-aeda-c08ec1367cdf",
   "metadata": {},
   "source": [
    "9.3.5 模拟实物"
   ]
  },
  {
   "cell_type": "code",
   "execution_count": 17,
   "id": "3df63b09-086b-4060-a756-6440c351a2f2",
   "metadata": {},
   "outputs": [
    {
     "name": "stdout",
     "output_type": "stream",
     "text": [
      "Icy World serves wonderful ice cream.\n",
      "\n",
      "We have these flavors:\n",
      "-Chocolate\n",
      "-Vanilla\n",
      "-Strawberry\n"
     ]
    }
   ],
   "source": [
    "#练习9.6 冰淇淋小店\n",
    "class Restaurant:\n",
    "    \"\"\"一个表示餐馆的类\"\"\"\n",
    "    def __init__(self,name,cuisine_type):\n",
    "        \"\"\"初始化餐馆\"\"\"\n",
    "        self.name = name.title()\n",
    "        self.cuisine_type = cuisine_type\n",
    "    def describe_restaurant(self):\n",
    "        \"\"\"显示两项信息\"\"\"\n",
    "        print(f\"{self.name} serves wonderful {self.cuisine_type}.\")\n",
    "    def open_restaurant(self):\n",
    "        \"\"\"显示消息指出餐馆正在营业\"\"\"\n",
    "        print(f\"{self.name} is open.Welcome!\")\n",
    "\n",
    "class IceCreamStand(Restaurant):\n",
    "    def __init__(self, name, cuisine_type='ice cream'):\n",
    "        super().__init__(name, cuisine_type)\n",
    "        self.flavors = []\n",
    "    def show_flavors(self):\n",
    "        print(\"\\nWe have these flavors:\")\n",
    "        for flavor in self.flavors:\n",
    "            print(f\"-{flavor.title()}\")\n",
    "\n",
    "icy_world = IceCreamStand('Icy World')\n",
    "icy_world.flavors = ['chocolate','vanilla','strawberry']\n",
    "icy_world.describe_restaurant()\n",
    "icy_world.show_flavors()"
   ]
  },
  {
   "cell_type": "code",
   "execution_count": null,
   "id": "dcfb4159-2f47-4728-bdf0-023964f2af5b",
   "metadata": {},
   "outputs": [],
   "source": []
  },
  {
   "cell_type": "code",
   "execution_count": 18,
   "id": "aa4b5348-6fac-410b-b83d-b533ce4a6eb9",
   "metadata": {},
   "outputs": [
    {
     "name": "stdout",
     "output_type": "stream",
     "text": [
      "\n",
      "Amy Jones\n",
      " Username:ammier\n",
      " Email:amyjones@163.com\n",
      " Location:Sanya\n",
      "\n",
      "Privileges:\n",
      "-can add post\n",
      "-can delete post\n",
      "-can ban user\n"
     ]
    }
   ],
   "source": [
    "#练习9.7 管理员\n",
    "class User:\n",
    "    \"\"\"一个表示用户的类\"\"\"\n",
    "    def __init__(self,first_name,last_name,username,email,location):\n",
    "        \"\"\"初始化用户\"\"\"\n",
    "        self.first_name = first_name.title()\n",
    "        self.last_name = last_name.title()\n",
    "        self.username = username\n",
    "        self.email = email\n",
    "        self.location = location.title()\n",
    "        self.login_attempts = 0\n",
    "        \n",
    "    def describe_user(self):\n",
    "        \"\"\"显示用户信息\"\"\"\n",
    "        print(f\"\\n{self.first_name} {self.last_name}\")\n",
    "        print(f\" Username:{self.username}\")\n",
    "        print(f\" Email:{self.email}\")\n",
    "        print(f\" Location:{self.location}\")\n",
    "    def greet_user(self):\n",
    "        \"\"\"向用户发出个性化问候\"\"\"\n",
    "        print(f\"\\nWelcome, {self.username}!\")\n",
    "\n",
    "    def increment_login_attempts(self):\n",
    "        \"\"\"将属性login_attempts的值加1\"\"\"\n",
    "        self.login_attempts += 1\n",
    "\n",
    "    def reset_login_attempts(self):\n",
    "        \"\"\"将属性login_attempts的值充值为0\"\"\"\n",
    "        self.login_attempts = 0\n",
    "\n",
    "class Admin(User):\n",
    "    def __init__(self, first_name,last_name,username,email,location):\n",
    "        super().__init__(first_name,last_name,username,email,location)\n",
    "        self.privileges = []\n",
    "    def show_privileges(self):\n",
    "        \"\"\"显示目前管理员的权限\"\"\"\n",
    "        print(\"\\nPrivileges:\")\n",
    "        for privilege in self.privileges:\n",
    "            print(f\"-{privilege}\")\n",
    "\n",
    "amy = Admin('amy','jones','ammier','amyjones@163.com','sanya')\n",
    "amy.describe_user()\n",
    "amy.privileges =['can add post','can delete post','can ban user']\n",
    "amy.show_privileges()"
   ]
  },
  {
   "cell_type": "markdown",
   "id": "e889de84-48f8-44a6-a969-f440981b20d7",
   "metadata": {},
   "source": [
    "9.4 导入类"
   ]
  },
  {
   "cell_type": "markdown",
   "id": "e7689c44-da93-464e-a8e6-1b9333072ed7",
   "metadata": {},
   "source": [
    "9.4.1 导入单个类"
   ]
  },
  {
   "cell_type": "code",
   "execution_count": null,
   "id": "213a80d3-4480-48c0-ae9f-db14ed24112a",
   "metadata": {},
   "outputs": [],
   "source": [
    "class Car:\n",
    "    \"\"\"一次模拟汽车的简单尝试\"\"\"\n",
    "\n",
    "    def __init__(self, make, model, year):\n",
    "        \"\"\"初始化描述汽车的属性\"\"\"\n",
    "        self.make = make\n",
    "        self.model = model\n",
    "        self.year = year\n",
    "        self.odometer_reading = 0\n",
    "\n",
    "    def get_descriptive_name(self):\n",
    "        \"\"\"返回格式规范的描述性名称\"\"\"\n",
    "        long_name = f\"{self.year} {self.make} {self.model}\"\n",
    "        return long_name.title()\n",
    "\n",
    "    def read_odometer(self):\n",
    "        \"\"\"打印一个句子，指出汽车的行驶里程\"\"\"\n",
    "        print(f\"This car has {self.odometer_reading} miles on it.\")\n",
    "\n",
    "    def update_odometer(self, mileage):\n",
    "        \"\"\"将里程表读数设置为给定的值\"\"\"\n",
    "        if mileage >= self.odometer_reading:\n",
    "            self.odometer_reading = mileage\n",
    "        else:\n",
    "            print(\"You can't roll back an odometer!\")\n",
    "\n",
    "    def increment_odometer(self, miles):\n",
    "        \"\"\"让里程表读数增加给定的量\"\"\"\n",
    "        self.odometer_reading += miles\n",
    "\n",
    "class Battery:\n",
    "    \"\"\"一次模拟电动汽车电池的简单尝试\"\"\"\n",
    "\n",
    "    def __init__(self, battery_size=40):\n",
    "        \"\"\"初始化电池的属性\"\"\"\n",
    "        self.battery_size = battery_size\n",
    "\n",
    "    def describe_battery(self):\n",
    "        \"\"\"打印一条描述电池容量的消息\"\"\"\n",
    "        print(f\"This car has a {self.battery_size}-kWh battery.\")\n",
    "    def get_range(self):\n",
    "        \"\"\"打印一条信息，指出电池的续航里程\"\"\"\n",
    "        if self.battery_size == 40:\n",
    "            range = 150\n",
    "        elif self.battery_size == 65:\n",
    "            range = 225\n",
    "\n",
    "        print(f\"This car can go about {range} miles on a full charge.\")\n",
    "\n",
    "    def upgrade_battery(self):\n",
    "        \"\"\"给电池升级\"\"\"\n",
    "        if self.battery_size == 40:\n",
    "            self.battery_size = 65\n",
    "            print(\"Upgraded the battery to 65 kWh.\")\n",
    "        else:\n",
    "            print(\"The battery is already upgraded.\")\n",
    "            \n",
    "\n",
    "class ElectricCar(Car):\n",
    "    \"\"\"电动汽车的独特之处\"\"\""
   ]
  },
  {
   "cell_type": "markdown",
   "id": "8c56f645-a746-4692-85ea-712ec060744e",
   "metadata": {},
   "source": [
    "9.4.2 在一个模块中存储多个类"
   ]
  },
  {
   "cell_type": "code",
   "execution_count": 19,
   "id": "227b2fb8-a59b-48f6-be34-dc742b66e9cf",
   "metadata": {},
   "outputs": [
    {
     "ename": "ModuleNotFoundError",
     "evalue": "No module named 'car'",
     "output_type": "error",
     "traceback": [
      "\u001b[1;31m---------------------------------------------------------------------------\u001b[0m",
      "\u001b[1;31mModuleNotFoundError\u001b[0m                       Traceback (most recent call last)",
      "Cell \u001b[1;32mIn[19], line 1\u001b[0m\n\u001b[1;32m----> 1\u001b[0m \u001b[38;5;28;01mfrom\u001b[39;00m \u001b[38;5;21;01mcar\u001b[39;00m \u001b[38;5;28;01mimport\u001b[39;00m ElectricCar\n\u001b[0;32m      3\u001b[0m my_leaf \u001b[38;5;241m=\u001b[39m ElectricCar(\u001b[38;5;124m'\u001b[39m\u001b[38;5;124mnissan\u001b[39m\u001b[38;5;124m'\u001b[39m, \u001b[38;5;124m'\u001b[39m\u001b[38;5;124mleaf\u001b[39m\u001b[38;5;124m'\u001b[39m, \u001b[38;5;241m2024\u001b[39m)\n\u001b[0;32m      4\u001b[0m \u001b[38;5;28mprint\u001b[39m(my_leaf\u001b[38;5;241m.\u001b[39mget_descriptive_name())\n",
      "\u001b[1;31mModuleNotFoundError\u001b[0m: No module named 'car'"
     ]
    }
   ],
   "source": [
    "from car import ElectricCar\n",
    "\n",
    "my_leaf = ElectricCar('nissan', 'leaf', 2024)\n",
    "print(my_leaf.get_descriptive_name())\n",
    "my_leaf.battery.describe_battery()\n",
    "my_leaf.battery.get_range()"
   ]
  },
  {
   "cell_type": "markdown",
   "id": "1d87f462-a78e-495c-8802-4cc03349ee73",
   "metadata": {},
   "source": [
    "9.4.3 从一个模块中导入多个类"
   ]
  },
  {
   "cell_type": "code",
   "execution_count": null,
   "id": "af525748-f356-46bb-b451-4502bd2eed96",
   "metadata": {},
   "outputs": [],
   "source": [
    "from car import Car, ElectricCar\n",
    "\n",
    "my_mustang = Car('ford', 'mustang', 2024)\n",
    "print(my_mustang.get_descriptive_name())\n",
    "\n",
    "my_leaf = ElectricCar('nissan', 'leaf', 2024)\n",
    "print(my_leaf.get_descriptive_name())"
   ]
  },
  {
   "cell_type": "markdown",
   "id": "e12e6470-7def-4e10-b44c-01982b83f0c4",
   "metadata": {},
   "source": [
    "9.4.4 导入整个模块"
   ]
  },
  {
   "cell_type": "code",
   "execution_count": null,
   "id": "4992ce97-f11f-48df-b52c-80bbcd9bbdc4",
   "metadata": {},
   "outputs": [],
   "source": [
    "import car\n",
    "\n",
    "my_mustang = car.Car('ford', 'mustang', 2024)\n",
    "print(my_mustang.get_descriptive_name())\n",
    "\n",
    "my_leaf = car.ElectricCar('nissan', 'leaf', 2024)\n",
    "print(my_leaf.get_descriptive_name())"
   ]
  },
  {
   "cell_type": "markdown",
   "id": "ee12cbea-757d-48ff-95fc-fd98dd54be8d",
   "metadata": {},
   "source": [
    "9.4.5 导入模块中的所有类"
   ]
  },
  {
   "cell_type": "code",
   "execution_count": 20,
   "id": "a88464b9-9d51-4916-b5af-bc070ba8a50e",
   "metadata": {},
   "outputs": [
    {
     "ename": "ModuleNotFoundError",
     "evalue": "No module named 'module_name'",
     "output_type": "error",
     "traceback": [
      "\u001b[1;31m---------------------------------------------------------------------------\u001b[0m",
      "\u001b[1;31mModuleNotFoundError\u001b[0m                       Traceback (most recent call last)",
      "Cell \u001b[1;32mIn[20], line 2\u001b[0m\n\u001b[0;32m      1\u001b[0m \u001b[38;5;66;03m#导入每个类可以用以下的语法：\u001b[39;00m\n\u001b[1;32m----> 2\u001b[0m \u001b[38;5;28;01mfrom\u001b[39;00m \u001b[38;5;21;01mmodule_name\u001b[39;00m \u001b[38;5;28;01mimport\u001b[39;00m \u001b[38;5;241m*\u001b[39m\n",
      "\u001b[1;31mModuleNotFoundError\u001b[0m: No module named 'module_name'"
     ]
    }
   ],
   "source": [
    "#导入每个类可以用以下的语法：\n",
    "from module_name import *\n",
    "#不推荐这种方式：没有明确指出用了哪些类，肯恩更引发名称方面的迷惑"
   ]
  },
  {
   "cell_type": "markdown",
   "id": "e3eb5ffc-4ca1-4d6f-be00-45516aa4d90d",
   "metadata": {},
   "source": [
    "9.4.6 在一个模块中导入另一个模块"
   ]
  },
  {
   "cell_type": "code",
   "execution_count": 21,
   "id": "20e2f060-86f4-416e-88fb-5650309222ac",
   "metadata": {},
   "outputs": [
    {
     "ename": "ModuleNotFoundError",
     "evalue": "No module named 'car'",
     "output_type": "error",
     "traceback": [
      "\u001b[1;31m---------------------------------------------------------------------------\u001b[0m",
      "\u001b[1;31mModuleNotFoundError\u001b[0m                       Traceback (most recent call last)",
      "Cell \u001b[1;32mIn[21], line 2\u001b[0m\n\u001b[0;32m      1\u001b[0m \u001b[38;5;124;03m\"\"\"一组可用于表示电动汽车的类\"\"\"\u001b[39;00m\n\u001b[1;32m----> 2\u001b[0m \u001b[38;5;28;01mfrom\u001b[39;00m \u001b[38;5;21;01mcar\u001b[39;00m \u001b[38;5;28;01mimport\u001b[39;00m Car\n\u001b[0;32m      4\u001b[0m \u001b[38;5;66;03m#接下来存储Battery类和ElectricCar类。\u001b[39;00m\n\u001b[0;32m      5\u001b[0m \u001b[38;5;66;03m#ElectricCar类需要访问父类Car,因此直接将Car 类导入该模块，\u001b[39;00m\n\u001b[0;32m      6\u001b[0m \u001b[38;5;28;01mclass\u001b[39;00m \u001b[38;5;21;01mBattery\u001b[39;00m:\n",
      "\u001b[1;31mModuleNotFoundError\u001b[0m: No module named 'car'"
     ]
    }
   ],
   "source": [
    "\"\"\"一组可用于表示电动汽车的类\"\"\"\n",
    "from car import Car\n",
    "\n",
    "#接下来存储Battery类和ElectricCar类。\n",
    "#ElectricCar类需要访问父类Car,因此直接将Car 类导入该模块，\n",
    "class Battery:\n",
    "    \"\"\"A simple attempt to model a battery for an electric car.\"\"\"\n",
    "\n",
    "    def __init__(self, battery_size=40):\n",
    "        \"\"\"Initialize the battery's attributes.\"\"\"\n",
    "        self.battery_size = battery_size\n",
    "\n",
    "    def describe_battery(self):\n",
    "        \"\"\"Print a statement describing the battery size.\"\"\"\n",
    "        print(f\"This car has a {self.battery_size}-kWh battery.\")\n",
    "\n",
    "    def get_range(self):\n",
    "        \"\"\"Print a statement about the range this battery provides.\"\"\"\n",
    "        if self.battery_size == 40:\n",
    "            range = 150\n",
    "        elif self.battery_size == 65:\n",
    "            range = 225\n",
    "\n",
    "        print(f\"This car can go about {range} miles on a full charge.\")\n",
    "\n",
    "\n",
    "class ElectricCar(Car):\n",
    "    \"\"\"Represent aspects of a car, specific to electric vehicles.\"\"\"\n",
    "\n",
    "    def __init__(self, make, model, year):\n",
    "        \"\"\"\n",
    "        Initialize attributes of the parent class.\n",
    "        Then initialize attributes specific to an electric car.\n",
    "        \"\"\"\n",
    "        super().__init__(make, model, year)\n",
    "        self.battery = Battery()"
   ]
  },
  {
   "cell_type": "code",
   "execution_count": null,
   "id": "0c62b96c-23eb-4c8c-9e60-d02ebbd326e0",
   "metadata": {},
   "outputs": [],
   "source": [
    "from car import Car\n",
    "from electric_car import ElectricCar\n",
    "\n",
    "my_mustang = Car('ford', 'mustang', 2024)\n",
    "print(my_mustang.get_descriptive_name())\n",
    "\n",
    "my_leaf = ElectricCar('nissan', 'leaf', 2024)\n",
    "print(my_leaf.get_descriptive_name())"
   ]
  },
  {
   "cell_type": "code",
   "execution_count": null,
   "id": "74271c31-0be3-4e7f-b91d-67d34f8ea76b",
   "metadata": {},
   "outputs": [],
   "source": [
    "from car import Car\n",
    "from electric_car import ElectricCar\n",
    "\n",
    "my_mustang = Car('ford', 'mustang', 2024)\n",
    "print(my_mustang.get_descriptive_name())\n",
    "\n",
    "my_leaf = ElectricCar('nissan', 'leaf', 2024)\n",
    "print(my_leaf.get_descriptive_name())"
   ]
  },
  {
   "cell_type": "markdown",
   "id": "b35abe25-165e-40bb-ac44-af05c51edc84",
   "metadata": {},
   "source": [
    "9.4.7 使用别名"
   ]
  },
  {
   "cell_type": "markdown",
   "id": "bcd97538-9913-4076-b493-3addf139e868",
   "metadata": {},
   "source": [
    "9.4.8 自定义工作流程"
   ]
  },
  {
   "cell_type": "code",
   "execution_count": null,
   "id": "ee0cd20f-dd71-4b35-a595-67916cbe20f8",
   "metadata": {},
   "outputs": [],
   "source": []
  },
  {
   "cell_type": "markdown",
   "id": "5cc82d1a-d256-4331-836c-bfcc42e10895",
   "metadata": {},
   "source": [
    "9.5 Python标准库"
   ]
  },
  {
   "cell_type": "code",
   "execution_count": null,
   "id": "a85f1e29-1207-472b-b5c3-4cebb76fd24f",
   "metadata": {},
   "outputs": [],
   "source": []
  },
  {
   "cell_type": "markdown",
   "id": "e22e8ada-16f3-4afe-945c-bcfb5e391858",
   "metadata": {},
   "source": [
    "9.6 类编码风格"
   ]
  },
  {
   "cell_type": "code",
   "execution_count": null,
   "id": "9ff343db-a8c9-4484-a68b-bd3d9cd4c175",
   "metadata": {},
   "outputs": [],
   "source": []
  },
  {
   "cell_type": "code",
   "execution_count": 22,
   "id": "d95335d2-6760-4619-bd98-7744b86ba916",
   "metadata": {},
   "outputs": [
    {
     "ename": "ModuleNotFoundError",
     "evalue": "No module named 'electric_car'",
     "output_type": "error",
     "traceback": [
      "\u001b[1;31m---------------------------------------------------------------------------\u001b[0m",
      "\u001b[1;31mModuleNotFoundError\u001b[0m                       Traceback (most recent call last)",
      "Cell \u001b[1;32mIn[22], line 2\u001b[0m\n\u001b[0;32m      1\u001b[0m \u001b[38;5;66;03m#如需反复输入ElectricCar,非常繁琐，可以在import语句中给它指定一个别名。\u001b[39;00m\n\u001b[1;32m----> 2\u001b[0m \u001b[38;5;28;01mfrom\u001b[39;00m \u001b[38;5;21;01melectric_car\u001b[39;00m \u001b[38;5;28;01mimport\u001b[39;00m ElcectricCar \u001b[38;5;28;01mas\u001b[39;00m EC\n\u001b[0;32m      3\u001b[0m my_leaf \u001b[38;5;241m=\u001b[39m EC(\u001b[38;5;124m'\u001b[39m\u001b[38;5;124mnissan\u001b[39m\u001b[38;5;124m'\u001b[39m,\u001b[38;5;124m'\u001b[39m\u001b[38;5;124mleaf\u001b[39m\u001b[38;5;124m'\u001b[39m,\u001b[38;5;241m2024\u001b[39m)\n\u001b[0;32m      5\u001b[0m \u001b[38;5;66;03m#还可以给模块指定别名\u001b[39;00m\n",
      "\u001b[1;31mModuleNotFoundError\u001b[0m: No module named 'electric_car'"
     ]
    }
   ],
   "source": [
    "#如需反复输入ElectricCar,非常繁琐，可以在import语句中给它指定一个别名。\n",
    "from electric_car import ElcectricCar as EC\n",
    "my_leaf = EC('nissan','leaf',2024)\n",
    "\n",
    "#还可以给模块指定别名\n",
    "import electric_car as ec\n",
    "\n",
    "#现在可以结合使用模块别名和完整的类名了。\n",
    "my_leaf = ec.ElectricCar('nissan','leaf',2024)"
   ]
  },
  {
   "cell_type": "code",
   "execution_count": 23,
   "id": "424ce4c0-8c9d-4862-aad7-1a9ad9bade4f",
   "metadata": {},
   "outputs": [
    {
     "name": "stdout",
     "output_type": "stream",
     "text": [
      "\n",
      "The Channel Club serves wonderful steak and seafood.\n",
      "\n",
      "The Channel Club is open. Come on in!\n"
     ]
    }
   ],
   "source": [
    "#练习9.10 导入Restaurant类\n",
    "\"\"\"一个表示餐馆的类\"\"\" \n",
    " \n",
    "class Restaurant: \n",
    "    \"\"\"一个表示餐馆的类\"\"\" \n",
    " \n",
    "    def __init__(self, name, cuisine_type): \n",
    "        \"\"\"初始化餐馆\"\"\" \n",
    "        self.name = name.title() \n",
    "        self.cuisine_type = cuisine_type \n",
    "        self.number_served = 0 \n",
    " \n",
    "    def describe_restaurant(self): \n",
    "        \"\"\"显示餐馆信息摘要\"\"\" \n",
    "        msg = f\"{self.name} serves wonderful {self.cuisine_type}.\" \n",
    "        print(f\"\\n{msg}\")\n",
    "        \n",
    "    def open_restaurant(self): \n",
    "        \"\"\"显示一条消息，指出餐馆正在营业\"\"\" \n",
    "        msg = f\"{self.name} is open. Come on in!\" \n",
    "        print(f\"\\n{msg}\") \n",
    " \n",
    "    def set_number_served(self, number_served): \n",
    "        \"\"\"让用户能够设置就餐人数\"\"\" \n",
    "        self.number_served = number_served \n",
    " \n",
    "    def increment_number_served(self, additional_served): \n",
    "        \"\"\"让用户能够增加就餐人数\"\"\" \n",
    "        self.number_served += additional_served\n",
    "\n",
    "#from restaurant import Restaurant \n",
    " \n",
    "channel_club = Restaurant('the channel club', 'steak and seafood') \n",
    "channel_club.describe_restaurant() \n",
    "channel_club.open_restaurant() "
   ]
  },
  {
   "cell_type": "code",
   "execution_count": 24,
   "id": "15114b42-f59a-42d2-b2ce-73ac8c39ac95",
   "metadata": {},
   "outputs": [
    {
     "ename": "SyntaxError",
     "evalue": "invalid syntax (1667896746.py, line 1)",
     "output_type": "error",
     "traceback": [
      "\u001b[1;36m  Cell \u001b[1;32mIn[24], line 1\u001b[1;36m\u001b[0m\n\u001b[1;33m    练习9.11 导入Admin类\u001b[0m\n\u001b[1;37m       ^\u001b[0m\n\u001b[1;31mSyntaxError\u001b[0m\u001b[1;31m:\u001b[0m invalid syntax\n"
     ]
    }
   ],
   "source": [
    "练习9.11 导入Admin类\n",
    "from user import Admin \n",
    " \n",
    "eric = Admin('eric', 'matthes', 'e_matthes', 'e_matthes@example.com', \n",
    "'alaska') \n",
    "eric.describe_user() \n",
    " \n",
    "eric_privileges = [ \n",
    "    'can reset passwords', \n",
    "    'can moderate discussions', \n",
    "    'can suspend accounts', \n",
    "    ] \n",
    "eric.privileges.privileges = eric_privileges \n",
    " \n",
    "print(f\"\\nThe admin {eric.username} has these privileges: \") \n",
    "eric.privileges.show_privileges()"
   ]
  },
  {
   "cell_type": "code",
   "execution_count": null,
   "id": "3342f6a0-f42f-4c0b-b66f-4850cca3356e",
   "metadata": {},
   "outputs": [],
   "source": []
  },
  {
   "cell_type": "code",
   "execution_count": null,
   "id": "d864cab1-2a10-42fe-805c-d92ba3ecc242",
   "metadata": {},
   "outputs": [],
   "source": [
    "#练习9.12 多个模块\n",
    "\"\"\"一系列模拟管理员的类\"\"\" \n",
    " \n",
    "from user import User \n",
    " \n",
    "class Admin(User): \n",
    "    \"\"\"有管理权限的用户\"\"\" \n",
    " \n",
    "    def __init__(self, first_name, last_name, username, email, location): \n",
    "        \"\"\"初始化管理员\"\"\" \n",
    "        super().__init__(first_name, last_name, username, email, location) \n",
    " \n",
    "        # 将权限集初始化为空 \n",
    "        self.privileges = Privileges() \n",
    " \n",
    " \n",
    "class Privileges: \n",
    "    \"\"\"存储管理员权限的类\"\"\" \n",
    " \n",
    "    def __init__(self, privileges=[]): \n",
    "        self.privileges = privileges \n",
    " \n",
    "    def show_privileges(self): \n",
    "        print(\"\\nPrivileges:\") \n",
    "        if self.privileges: \n",
    "            for privilege in self.privileges: \n",
    "                print(f\"- {privilege}\") \n",
    "        else: \n",
    "            print(\"- This user has no privileges.\")\n",
    "\n",
    "#from admin import Admin\n",
    "eric = Admin('eric', 'matthes', 'e_matthes', 'e_matthes@example.com', \n",
    "'alaska') \n",
    "eric.describe_user() \n",
    " \n",
    "eric_privileges = [ \n",
    "    'can reset passwords', \n",
    "    'can moderate discussions', \n",
    "    'can suspend accounts', \n",
    "    ] \n",
    "eric.privileges.privileges = eric_privileges \n",
    " \n",
    "print(f\"\\nThe admin {eric.username} has these privileges: \") \n",
    "eric.privileges.show_privileges()"
   ]
  },
  {
   "cell_type": "code",
   "execution_count": null,
   "id": "4db91dda-8855-4f64-bb77-b42c579f9f42",
   "metadata": {},
   "outputs": [],
   "source": []
  },
  {
   "cell_type": "markdown",
   "id": "4ccd2ca1-e993-4a6f-a582-e30c4f14c583",
   "metadata": {},
   "source": [
    "9.5 Python标准库`m"
   ]
  },
  {
   "cell_type": "code",
   "execution_count": 25,
   "id": "6e3e7e75-cfc6-44e8-a4cb-db34c108d564",
   "metadata": {},
   "outputs": [
    {
     "data": {
      "text/plain": [
       "6"
      ]
     },
     "execution_count": 25,
     "metadata": {},
     "output_type": "execute_result"
    }
   ],
   "source": [
    "#将两个整数视为参数，并随即返回一个位于这两个整数之间（含）的整数。\n",
    "from random import randint\n",
    "randint(1,6)"
   ]
  },
  {
   "cell_type": "code",
   "execution_count": 26,
   "id": "dee717b0-26ef-4fcf-8323-3f6b9a4bdba1",
   "metadata": {},
   "outputs": [
    {
     "name": "stdout",
     "output_type": "stream",
     "text": [
      "10 rolls of a 6-sided die:\n",
      "[1, 4, 4, 1, 4, 5, 1, 6, 6, 4]\n",
      "\n",
      "10 rolls of a 10-sided die:\n",
      "[6, 7, 10, 1, 1, 10, 7, 9, 7, 3]\n",
      "\n",
      "10 rolls of a 20-sided die:\n",
      "[12, 13, 4, 10, 3, 17, 13, 5, 19, 15]\n"
     ]
    }
   ],
   "source": [
    "from random import randint \n",
    " \n",
    "class Die: \n",
    "    \"\"\"一个表示骰子的类\"\"\" \n",
    " \n",
    "    def __init__(self, sides=6): \n",
    "        \"\"\"初始化骰子\"\"\" \n",
    "        self.sides = sides \n",
    " \n",
    "    def roll_die(self): \n",
    "        \"\"\"返回一个位于1和骰子面数之间的随机数\"\"\" \n",
    "        return randint(1, self.sides) \n",
    " \n",
    "# 创建一个6面的骰子，再掷10次并显示结果 \n",
    "d6 = Die() \n",
    " \n",
    "results = [] \n",
    "for roll_num in range(10): \n",
    "    result = d6.roll_die() \n",
    "    results.append(result) \n",
    "print(\"10 rolls of a 6-sided die:\") \n",
    "print(results) \n",
    " \n",
    "# 创建一个10面的骰子，再掷10次并显示结果 \n",
    "d10 = Die(sides=10) \n",
    " \n",
    "results = [] \n",
    "for roll_num in range(10): \n",
    "    result = d10.roll_die() \n",
    "    results.append(result) \n",
    "print(\"\\n10 rolls of a 10-sided die:\") \n",
    "print(results) \n",
    " \n",
    "# 创建一个20面的骰子，再掷10次并显示结果 \n",
    "d20 = Die(sides=20) \n",
    " \n",
    "results = [] \n",
    "for roll_num in range(10): \n",
    "    result = d20.roll_die() \n",
    "    results.append(result) \n",
    "print(\"\\n10 rolls of a 20-sided die:\") \n",
    "print(results)"
   ]
  },
  {
   "cell_type": "code",
   "execution_count": 28,
   "id": "4c175f80-d1cb-40dd-974a-d49cdb8a8456",
   "metadata": {},
   "outputs": [
    {
     "name": "stdout",
     "output_type": "stream",
     "text": [
      "The winning ticket is...\n",
      "  We pulled a d!\n",
      "  We pulled a 1!\n",
      "  We pulled a e!\n",
      "  We pulled a 6!\n",
      "\n",
      "The final winning ticket is: ['d', 1, 'e', 6]\n"
     ]
    }
   ],
   "source": [
    "#练习9.14 彩票\n",
    "from random import choice \n",
    "\n",
    "possibilities = [1, 2, 3, 4, 5, 6, 7, 8, 9, 10, 'a', 'b', 'c', 'd', 'e'] \n",
    "\n",
    "winning_ticket = [] \n",
    "print(\"The winning ticket is...\") \n",
    "\n",
    "#不放回抽样，因此元素不能重复\n",
    "while len(winning_ticket) < 4: \n",
    "    pulled_item = choice(possibilities) \n",
    "\n",
    "    if pulled_item not in winning_ticket: \n",
    "        print(f\"  We pulled a {pulled_item}!\") \n",
    "        winning_ticket.append(pulled_item) \n",
    "    \n",
    "print(f\"\\nThe final winning ticket is: {winning_ticket}\")"
   ]
  },
  {
   "cell_type": "code",
   "execution_count": null,
   "id": "306f7817-be15-4b25-bc95-ffb3c16e5fdd",
   "metadata": {},
   "outputs": [],
   "source": []
  },
  {
   "cell_type": "code",
   "execution_count": null,
   "id": "83418f0c-2aff-4c33-bc87-180171d99e02",
   "metadata": {},
   "outputs": [],
   "source": []
  }
 ],
 "metadata": {
  "kernelspec": {
   "display_name": "Python 3 (ipykernel)",
   "language": "python",
   "name": "python3"
  },
  "language_info": {
   "codemirror_mode": {
    "name": "ipython",
    "version": 3
   },
   "file_extension": ".py",
   "mimetype": "text/x-python",
   "name": "python",
   "nbconvert_exporter": "python",
   "pygments_lexer": "ipython3",
   "version": "3.11.7"
  }
 },
 "nbformat": 4,
 "nbformat_minor": 5
}
