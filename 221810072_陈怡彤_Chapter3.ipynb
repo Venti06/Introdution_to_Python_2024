{
 "cells": [
  {
   "cell_type": "markdown",
   "id": "b87fece5-362d-4ad5-9a17-4d3bf96d23af",
   "metadata": {},
   "source": [
    "第三章 列表"
   ]
  },
  {
   "cell_type": "markdown",
   "id": "ac9beab6-be5c-4bc7-8e17-23ee27c7c0b4",
   "metadata": {},
   "source": []
  },
  {
   "cell_type": "code",
   "execution_count": null,
   "id": "f3d71dc1-3a9a-4bbc-ab58-fafe6e5a935d",
   "metadata": {},
   "outputs": [],
   "source": [
    "#列表由一系列按特定顺序排列的元素组成"
   ]
  },
  {
   "cell_type": "code",
   "execution_count": 1,
   "id": "22cd397b-733f-43c8-be11-88ecd5af1f01",
   "metadata": {},
   "outputs": [
    {
     "name": "stdout",
     "output_type": "stream",
     "text": [
      "['trek', 'redline', 'giant']\n"
     ]
    }
   ],
   "source": [
    "bikes=['trek','redline','giant']\n",
    "print(bikes)"
   ]
  },
  {
   "cell_type": "markdown",
   "id": "9d0ccc2c-1bd8-416a-8207-2973cb6a745d",
   "metadata": {},
   "source": [
    "3.1.2索引从0开始而不是1开始"
   ]
  },
  {
   "cell_type": "code",
   "execution_count": 3,
   "id": "050113f6-bc3b-45fa-b135-3f1fa5f06063",
   "metadata": {},
   "outputs": [
    {
     "name": "stdout",
     "output_type": "stream",
     "text": [
      "trek\n",
      "giant giant\n"
     ]
    }
   ],
   "source": [
    "bikes=['trek','redline','giant']\n",
    "print(bikes[0])\n",
    "print(bikes[2],bikes[-1])"
   ]
  },
  {
   "cell_type": "markdown",
   "id": "7f665188-b908-42d6-9ccb-38bd90da0bac",
   "metadata": {},
   "source": [
    "3.1.3使用列表中的各个值"
   ]
  },
  {
   "cell_type": "code",
   "execution_count": 4,
   "id": "bd8ff98a-8d7a-4761-a235-d0f387ccdc94",
   "metadata": {},
   "outputs": [
    {
     "name": "stdout",
     "output_type": "stream",
     "text": [
      "My first bicycle was a Trek.\n"
     ]
    }
   ],
   "source": [
    "bicycles=['trek','cannondale','redline','specialized']\n",
    "message=f\"My first bicycle was a {bicycles[0].title()}.\"\n",
    "print(message)"
   ]
  },
  {
   "cell_type": "markdown",
   "id": "cd610754-6c79-4850-994d-b5e1945e8f15",
   "metadata": {},
   "source": []
  },
  {
   "cell_type": "code",
   "execution_count": 1,
   "id": "865ff232-265d-46d0-bc9a-3bc1817a0f7a",
   "metadata": {},
   "outputs": [
    {
     "name": "stdout",
     "output_type": "stream",
     "text": [
      "amy\n",
      "bob\n",
      "candy\n",
      "david\n"
     ]
    }
   ],
   "source": [
    "#练习3.1姓名\n",
    "names=['amy','bob','candy','david']\n",
    "print(names[0])\n",
    "print(names[1])\n",
    "print(names[2])\n",
    "print(names[3])"
   ]
  },
  {
   "cell_type": "code",
   "execution_count": 2,
   "id": "f8ea51ee-0018-4cad-aa29-e538aa6c7951",
   "metadata": {},
   "outputs": [
    {
     "name": "stdout",
     "output_type": "stream",
     "text": [
      "Glad to see you here, Amy!\n",
      "Glad to see you here, Bob!\n",
      "Glad to see you here, Candy!\n",
      "Glad to see you here, David!\n"
     ]
    }
   ],
   "source": [
    "#练习3.2 问候语\n",
    "names=['amy','bob','candy','david']\n",
    "print(f\"Glad to see you here, {names[0].title()}!\")\n",
    "print(f\"Glad to see you here, {names[1].title()}!\")\n",
    "print(f\"Glad to see you here, {names[2].title()}!\")\n",
    "print(f\"Glad to see you here, {names[3].title()}!\")"
   ]
  },
  {
   "cell_type": "code",
   "execution_count": 3,
   "id": "30930135-0ffa-4fc4-9fe3-2b53e062a071",
   "metadata": {},
   "outputs": [
    {
     "name": "stdout",
     "output_type": "stream",
     "text": [
      "I want to buy a Honda motorcycle.\n",
      "I want to buy a Yamaha motorcycle.\n"
     ]
    }
   ],
   "source": [
    "#练习3.3 自己的列表\n",
    "motorcycles=['honda','yamaha','suzuki']\n",
    "message=f\"I want to buy a {motorcycles[0].title()} motorcycle.\"\n",
    "print(message)\n",
    "message=f\"I want to buy a {motorcycles[1].title()} motorcycle.\"\n",
    "print(message)"
   ]
  },
  {
   "cell_type": "code",
   "execution_count": null,
   "id": "5efb01e8-2898-4242-b162-563a41a0a37c",
   "metadata": {},
   "outputs": [],
   "source": []
  },
  {
   "cell_type": "markdown",
   "id": "d2de816f-0db3-446a-8474-00283229f9ff",
   "metadata": {},
   "source": [
    "3.2 修改、添加和删除元素"
   ]
  },
  {
   "cell_type": "markdown",
   "id": "dd9ccef7-0e0b-4310-bde0-69d2dea650ed",
   "metadata": {},
   "source": [
    "3.2.1修改列表元素"
   ]
  },
  {
   "cell_type": "code",
   "execution_count": 5,
   "id": "0eb9eb5f-d30b-46d7-8dcc-7666c6465e33",
   "metadata": {},
   "outputs": [
    {
     "name": "stdout",
     "output_type": "stream",
     "text": [
      "['honda', 'yamaha', 'suzuki']\n",
      "['ducati', 'yamaha', 'suzuki']\n"
     ]
    }
   ],
   "source": [
    "motorcycles=['honda','yamaha','suzuki']\n",
    "print(motorcycles)\n",
    "motorcycles[0]='ducati'\n",
    "print(motorcycles)"
   ]
  },
  {
   "cell_type": "markdown",
   "id": "17f3b61b-df61-470f-aead-70a1da30739c",
   "metadata": {},
   "source": [
    "3.3.2在列表中添加元素"
   ]
  },
  {
   "cell_type": "code",
   "execution_count": 9,
   "id": "5ee73a76-162c-48a3-b10f-375639163e53",
   "metadata": {},
   "outputs": [
    {
     "name": "stdout",
     "output_type": "stream",
     "text": [
      "['trek', 'redline']\n"
     ]
    }
   ],
   "source": [
    "#lst.append('val')在列表末尾添加新元素\n",
    "#lst.insert(idx,'val')在列表的指定位置上添加新元素\n",
    "bikes=[]\n",
    "bikes.append('redline')\n",
    "bikes.insert(0,'trek')\n",
    "print(bikes)"
   ]
  },
  {
   "cell_type": "markdown",
   "id": "01c3c69c-2e27-4009-8fb0-b866f5a731e0",
   "metadata": {},
   "source": [
    "3.2.3从列表中删除元素"
   ]
  },
  {
   "cell_type": "code",
   "execution_count": 10,
   "id": "07b30837-6dac-4886-8afa-53f01b5f41f3",
   "metadata": {},
   "outputs": [
    {
     "name": "stdout",
     "output_type": "stream",
     "text": [
      "['trek', 'redline']\n"
     ]
    }
   ],
   "source": [
    "#删除列表指定索引元素\n",
    "bikes=['giant','trek','redline']\n",
    "del bikes[0]\n",
    "print(bikes)"
   ]
  },
  {
   "cell_type": "code",
   "execution_count": 12,
   "id": "1445a366-83fd-44b2-afcb-4a7e6b24c953",
   "metadata": {},
   "outputs": [
    {
     "name": "stdout",
     "output_type": "stream",
     "text": [
      "redline\n",
      "['trek']\n",
      "giant\n"
     ]
    }
   ],
   "source": [
    "#del lst[idx]删除列表中指定索引的元素\n",
    "#lst.pop([idx])->val删除并返回列表中指定索引（默认末尾）的元素，弹出（pop）的值能被接着使用\n",
    "bikes=['giant','trek','redline']\n",
    "popped_bike=bikes.pop(0)\n",
    "print(bikes.pop())\n",
    "print(bikes)\n",
    "print(popped_bike)"
   ]
  },
  {
   "cell_type": "code",
   "execution_count": 23,
   "id": "b0560b4d-f3c0-4d6b-88e4-1632d669f94b",
   "metadata": {},
   "outputs": [
    {
     "name": "stdout",
     "output_type": "stream",
     "text": [
      "['honda', 'yamaha', 'suzuki']\n",
      "\n",
      "A Ducati is too expensive for me.\n"
     ]
    }
   ],
   "source": [
    "#根据值删除列表中的元素 lst.remove(val)删除列表中匹配到的第一个指定元素\n",
    "motorcycles=['honda','yamaha','suzuki','ducati']\n",
    "too_expensive='ducati'\n",
    "motorcycles.remove(too_expensive)\n",
    "print(motorcycles)\n",
    "print(f\"\\nA {too_expensive.title()} is too expensive for me.\")"
   ]
  },
  {
   "cell_type": "markdown",
   "id": "f6d9d1ca-50b2-4cac-9863-08022b89947a",
   "metadata": {},
   "source": []
  },
  {
   "cell_type": "code",
   "execution_count": 4,
   "id": "06d22d47-c0a5-4845-8e8f-4007769acdf3",
   "metadata": {},
   "outputs": [
    {
     "name": "stdout",
     "output_type": "stream",
     "text": [
      "Would you like to come over for dinner, Amy?\n",
      "Would you like to come over for dinner, Bob?\n",
      "Would you like to come over for dinner, Candy?\n",
      "Would you like to come over for dinner, David?\n"
     ]
    }
   ],
   "source": [
    "#练习3.4嘉宾名单\n",
    "names=['amy','bob','candy','david']\n",
    "message1=f\"Would you like to come over for dinner, {names[0].title()}?\"\n",
    "message2=f\"Would you like to come over for dinner, {names[1].title()}?\"\n",
    "message3=f\"Would you like to come over for dinner, {names[2].title()}?\"\n",
    "message4=f\"Would you like to come over for dinner, {names[3].title()}?\"\n",
    "print(message1)\n",
    "print(message2)\n",
    "print(message3)\n",
    "print(message4)"
   ]
  },
  {
   "cell_type": "code",
   "execution_count": 5,
   "id": "ca9cf75f-1607-4179-ba28-64ef3675b7fd",
   "metadata": {},
   "outputs": [
    {
     "name": "stdout",
     "output_type": "stream",
     "text": [
      "Would you like to come over for dinner, Amy?\n",
      "Would you like to come over for dinner, Bob?\n",
      "I am sorry to know that you can't come over for dinner, Candy.\n",
      "Would you like to come over for dinner, David?\n",
      "\n",
      "Would you like to come over for dinner, Amy?\n",
      "Would you like to come over for dinner, Bob?\n",
      "Would you like to come over for dinner, Cart?\n",
      "Would you like to come over for dinner, David?\n",
      "\n",
      "We have a bigger table now!\n",
      "\n",
      "Would you like to come over for dinner, Emilly?\n",
      "Would you like to come over for dinner, Amy?\n",
      "Would you like to come over for dinner, Bob?\n",
      "Would you like to come over for dinner, Fanny?\n",
      "Would you like to come over for dinner, Cart?\n",
      "Would you like to come over for dinner, David?\n",
      "Would you like to come over for dinner, Mike?\n",
      "/nSorry, we can only invite two people.\n",
      "\n",
      "Sorry, Mike, I can't invite you to dinner.\n",
      "\n",
      "Sorry, David, I can't invite you to dinner.\n",
      "\n",
      "Sorry, Cart, I can't invite you to dinner.\n",
      "\n",
      "Sorry, Fanny, I can't invite you to dinner.\n",
      "\n",
      "Sorry, Bob, I can't invite you to dinner.\n",
      "\n",
      "Emilly, come over for dinner!\n",
      "Amy, come over for dinner!\n",
      "[]\n"
     ]
    }
   ],
   "source": [
    "#练习3.5~3.7修改嘉宾名单\n",
    "names=['amy','bob','candy','david']\n",
    "##candy 不能来参加晚餐，改邀请cart\n",
    "message1=f\"Would you like to come over for dinner, {names[0].title()}?\"\n",
    "message2=f\"Would you like to come over for dinner, {names[1].title()}?\"\n",
    "message3=f\"I am sorry to know that you can't come over for dinner, {names[2].title()}.\"\n",
    "message4=f\"Would you like to come over for dinner, {names[3].title()}?\"\n",
    "print(message1)\n",
    "print(message2)\n",
    "print(message3)\n",
    "print(message4)\n",
    "\n",
    "del(names[2])\n",
    "names.insert(2,'cart')\n",
    "message1=f\"\\nWould you like to come over for dinner, {names[0].title()}?\"\n",
    "message2=f\"Would you like to come over for dinner, {names[1].title()}?\"\n",
    "message3=f\"Would you like to come over for dinner, {names[2].title()}?\"\n",
    "message4=f\"Would you like to come over for dinner, {names[3].title()}?\"\n",
    "print(message1)\n",
    "print(message2)\n",
    "print(message3)\n",
    "print(message4)\n",
    "\n",
    "print(\"\\nWe have a bigger table now!\")\n",
    "names.insert(0,'emilly')\n",
    "names.insert(3,'fanny')\n",
    "names.append('mike')\n",
    "message1=f\"\\nWould you like to come over for dinner, {names[0].title()}?\"\n",
    "message2=f\"Would you like to come over for dinner, {names[1].title()}?\"\n",
    "message3=f\"Would you like to come over for dinner, {names[2].title()}?\"\n",
    "message4=f\"Would you like to come over for dinner, {names[3].title()}?\"\n",
    "message5=f\"Would you like to come over for dinner, {names[4].title()}?\"\n",
    "message6=f\"Would you like to come over for dinner, {names[5].title()}?\"\n",
    "message7=f\"Would you like to come over for dinner, {names[6].title()}?\"\n",
    "print(message1)\n",
    "print(message2)\n",
    "print(message3)\n",
    "print(message4)\n",
    "print(message5)\n",
    "print(message6)\n",
    "print(message7)\n",
    "\n",
    "##餐桌无法及时送达。只能邀请两位嘉宾。\n",
    "print(\"/nSorry, we can only invite two people.\")\n",
    "pity=names.pop()\n",
    "print(f\"\\nSorry, {pity.title()}, I can't invite you to dinner.\")\n",
    "pity=names.pop()\n",
    "print(f\"\\nSorry, {pity.title()}, I can't invite you to dinner.\")\n",
    "pity=names.pop()\n",
    "print(f\"\\nSorry, {pity.title()}, I can't invite you to dinner.\")\n",
    "pity=names.pop()\n",
    "print(f\"\\nSorry, {pity.title()}, I can't invite you to dinner.\")\n",
    "pity=names.pop()\n",
    "print(f\"\\nSorry, {pity.title()}, I can't invite you to dinner.\")\n",
    "\n",
    "message1=f\"\\n{names[0].title()}, come over for dinner!\"\n",
    "message2=f\"{names[1].title()}, come over for dinner!\"\n",
    "print(message1)\n",
    "print(message2)\n",
    "\n",
    "##清空名单\n",
    "del(names[0])\n",
    "del(names[0])\n",
    "print(names)"
   ]
  },
  {
   "cell_type": "code",
   "execution_count": null,
   "id": "9e31fae1-ea43-48d6-bb23-aa585c89fb1d",
   "metadata": {},
   "outputs": [],
   "source": []
  },
  {
   "cell_type": "markdown",
   "id": "4cec0332-228b-4994-a188-7ee8f152fe98",
   "metadata": {},
   "source": [
    "3.3 管理列表：排序"
   ]
  },
  {
   "cell_type": "code",
   "execution_count": 24,
   "id": "028e9129-b7d6-439e-9e36-b35dbdb4007f",
   "metadata": {},
   "outputs": [
    {
     "name": "stdout",
     "output_type": "stream",
     "text": [
      "['audi', 'bmw', 'subaru', 'toyota']\n"
     ]
    }
   ],
   "source": [
    "#使用方法sort()对列表永久排序\n",
    "cars=['bmw','audi','toyota','subaru']\n",
    "cars.sort()\n",
    "print(cars)"
   ]
  },
  {
   "cell_type": "code",
   "execution_count": 25,
   "id": "a9645b0b-c96d-47b6-8a36-4a974a704354",
   "metadata": {},
   "outputs": [
    {
     "name": "stdout",
     "output_type": "stream",
     "text": [
      "['toyota', 'subaru', 'bmw', 'audi']\n"
     ]
    }
   ],
   "source": [
    "#使用方法sort(reverse=True)按与字母顺序相反的顺序排序\n",
    "cars=['bmw','audi','toyota','subaru']\n",
    "cars.sort(reverse=True)\n",
    "print(cars)"
   ]
  },
  {
   "cell_type": "code",
   "execution_count": 26,
   "id": "c26164b6-e9b4-4820-97f1-d13c2e5bf90f",
   "metadata": {},
   "outputs": [
    {
     "name": "stdout",
     "output_type": "stream",
     "text": [
      "Here is the original list:\n",
      "['bmw', 'audi', 'toyota', 'subaru']\n",
      "\n",
      "Here is the original list:\n",
      "['audi', 'bmw', 'subaru', 'toyota']\n",
      "\n",
      "Here is the original list again:\n",
      "['bmw', 'audi', 'toyota', 'subaru']\n"
     ]
    }
   ],
   "source": [
    "#使用函数sorted()对列表临时排序\n",
    "cars=['bmw','audi','toyota','subaru']\n",
    "print(\"Here is the original list:\")\n",
    "print(cars)\n",
    "print(\"\\nHere is the original list:\")\n",
    "print(sorted(cars))\n",
    "print(\"\\nHere is the original list again:\")\n",
    "print(cars)"
   ]
  },
  {
   "cell_type": "code",
   "execution_count": 15,
   "id": "e22eebd4-ddc2-4222-8f41-5cdfd7b25ee2",
   "metadata": {},
   "outputs": [
    {
     "name": "stdout",
     "output_type": "stream",
     "text": [
      "[1, 2, 4, 6, 9]\n",
      "[9, 6, 1, 4, 2]\n",
      "[1, 2, 4, 6, 9]\n",
      "[9, 6, 4, 2, 1]\n"
     ]
    }
   ],
   "source": [
    "#lst.sort()永久修改原列表，对其中元素进行排序\n",
    "#sorted(lst)->lst' 返回排序后的列表的副本\n",
    "nums=[9,6,1,4,2]\n",
    "print(sorted(nums))\n",
    "print(nums)#原列表不变\n",
    "#列表排序（默认正序）\n",
    "nums.sort()\n",
    "print(nums)\n",
    "#列表排序（指定倒序）\n",
    "nums.sort(reverse=True)\n",
    "print(nums)"
   ]
  },
  {
   "cell_type": "markdown",
   "id": "44553973-39f4-4374-a5e2-4c50c8fd46bc",
   "metadata": {},
   "source": [
    "反转"
   ]
  },
  {
   "cell_type": "code",
   "execution_count": 16,
   "id": "7ae32226-6249-45bd-a5c6-17ec96853649",
   "metadata": {},
   "outputs": [
    {
     "name": "stdout",
     "output_type": "stream",
     "text": [
      "[2, 4, 1, 6, 9]\n"
     ]
    }
   ],
   "source": [
    "#lst.reverse()永久修改原列表，对其中的元素进行翻转\n",
    "nums=[9,6,1,4,2]\n",
    "nums.reverse()#翻转列表\n",
    "print(nums)"
   ]
  },
  {
   "cell_type": "markdown",
   "id": "7672331a-e26d-4448-8dfc-92a28b525785",
   "metadata": {},
   "source": [
    "获取长度"
   ]
  },
  {
   "cell_type": "code",
   "execution_count": 17,
   "id": "b1ff7df7-5f5c-455c-af2e-223bca8f430e",
   "metadata": {},
   "outputs": [
    {
     "name": "stdout",
     "output_type": "stream",
     "text": [
      "4\n"
     ]
    }
   ],
   "source": [
    "#len(lst)->num获取列表的元素个数\n",
    "cars=['bmw','audi','toyota','subaru']\n",
    "print(len(cars))"
   ]
  },
  {
   "cell_type": "markdown",
   "id": "2b650c35-de93-454c-b388-10f3526008e9",
   "metadata": {},
   "source": []
  },
  {
   "cell_type": "code",
   "execution_count": 6,
   "id": "20b2ed8c-f695-43d5-a544-0eb4545d3106",
   "metadata": {},
   "outputs": [
    {
     "name": "stdout",
     "output_type": "stream",
     "text": [
      "Original list:\n",
      "['shanghai', 'beijing', 'hangzhou', 'lijiang', 'kelamayi']\n",
      "\n",
      "字母顺序：\n",
      "['beijing', 'hangzhou', 'kelamayi', 'lijiang', 'shanghai']\n",
      "\n",
      "Original list:\n",
      "['shanghai', 'beijing', 'hangzhou', 'lijiang', 'kelamayi']\n",
      "\n",
      "字母反向：\n",
      "['shanghai', 'lijiang', 'kelamayi', 'hangzhou', 'beijing']\n",
      "\n",
      "Original list:\n",
      "['shanghai', 'beijing', 'hangzhou', 'lijiang', 'kelamayi']\n",
      "\n",
      "字母顺序更改:\n",
      "['beijing', 'hangzhou', 'kelamayi', 'lijiang', 'shanghai']\n",
      "\n",
      "字母反向更改:\n",
      "['shanghai', 'lijiang', 'kelamayi', 'hangzhou', 'beijing']\n"
     ]
    }
   ],
   "source": [
    "#练习3.8 放眼世界\n",
    "places=['shanghai','beijing','hangzhou','lijiang','kelamayi']\n",
    "print(\"Original list:\")\n",
    "print(places)\n",
    "\n",
    "print(\"\\n字母顺序：\")\n",
    "print(sorted(places))\n",
    "\n",
    "print(\"\\nOriginal list:\")\n",
    "print(places)\n",
    "\n",
    "print(\"\\n字母反向：\")\n",
    "print(sorted(places,reverse=True))\n",
    "\n",
    "print(\"\\nOriginal list:\")\n",
    "print(places)\n",
    "\n",
    "print(\"\\n字母顺序更改:\")\n",
    "places.sort()\n",
    "print(places)\n",
    "print(\"\\n字母反向更改:\")\n",
    "places.sort(reverse=True)\n",
    "print(places)"
   ]
  },
  {
   "cell_type": "code",
   "execution_count": 7,
   "id": "37ab3b71-737c-4368-a98d-992d7d9cc54b",
   "metadata": {},
   "outputs": [
    {
     "data": {
      "text/plain": [
       "4"
      ]
     },
     "execution_count": 7,
     "metadata": {},
     "output_type": "execute_result"
    }
   ],
   "source": [
    "#练习3.9 晚餐嘉宾\n",
    "names=['amy','bob','candy','david']\n",
    "len(names)"
   ]
  },
  {
   "cell_type": "code",
   "execution_count": null,
   "id": "9a588224-d736-4ca7-9737-99e822dba729",
   "metadata": {},
   "outputs": [],
   "source": []
  },
  {
   "cell_type": "markdown",
   "id": "5fa62779-3df7-4d8b-b9b9-d430c70091e9",
   "metadata": {},
   "source": [
    "3.4 避免索引错误（从0开始）"
   ]
  },
  {
   "cell_type": "code",
   "execution_count": null,
   "id": "38d0bd0f-5533-4d7d-8b60-5b2ef7551afd",
   "metadata": {},
   "outputs": [],
   "source": []
  },
  {
   "cell_type": "code",
   "execution_count": null,
   "id": "7ec91529-0053-44e4-8fa9-bb88d1c44a4a",
   "metadata": {},
   "outputs": [],
   "source": []
  },
  {
   "cell_type": "code",
   "execution_count": null,
   "id": "f8854dae-505f-430b-a897-514ddd788c5a",
   "metadata": {},
   "outputs": [],
   "source": []
  },
  {
   "cell_type": "code",
   "execution_count": null,
   "id": "8d534118-ca83-45ea-960d-dcba980dd249",
   "metadata": {},
   "outputs": [],
   "source": []
  },
  {
   "cell_type": "code",
   "execution_count": null,
   "id": "fadedf7c-274e-4e0a-82f6-0d8fd50a3675",
   "metadata": {},
   "outputs": [],
   "source": []
  }
 ],
 "metadata": {
  "kernelspec": {
   "display_name": "Python 3 (ipykernel)",
   "language": "python",
   "name": "python3"
  },
  "language_info": {
   "codemirror_mode": {
    "name": "ipython",
    "version": 3
   },
   "file_extension": ".py",
   "mimetype": "text/x-python",
   "name": "python",
   "nbconvert_exporter": "python",
   "pygments_lexer": "ipython3",
   "version": "3.11.7"
  }
 },
 "nbformat": 4,
 "nbformat_minor": 5
}
