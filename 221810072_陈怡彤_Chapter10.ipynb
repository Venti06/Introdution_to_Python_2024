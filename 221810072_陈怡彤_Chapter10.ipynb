{
 "cells": [
  {
   "cell_type": "markdown",
   "id": "6bc403e0-8a54-40c5-9bed-c9d9bdd436b7",
   "metadata": {},
   "source": [
    "第10章 文件和异常"
   ]
  },
  {
   "cell_type": "code",
   "execution_count": null,
   "id": "a291d2fb-7785-4664-b258-94087c009db1",
   "metadata": {},
   "outputs": [],
   "source": [
    "#LINUX文件系统（UNIX/MAC同理）"
   ]
  },
  {
   "cell_type": "code",
   "execution_count": null,
   "id": "44b755da-649c-4ec4-aa50-5f7a109a1fd4",
   "metadata": {},
   "outputs": [],
   "source": [
    "#函数open() 接受一个参数：要打开的文件的名称，返回一个表示文件的对象。\n",
    "#并非在任何情况下都能轻松确定关闭文件的恰当时机，只管打开，Python会在合适的时候自动将其关闭\n",
    "\n",
    "#关键字with 在不再需要访问文件后将其关闭\n",
    "#open('pi_digits.txt') 返回一个表示文件pi_digits.txt的对象，将该对象赋给file_object 供以后使用"
   ]
  },
  {
   "cell_type": "markdown",
   "id": "21b0ddd5-fa84-42e8-93a6-58f3d80ba655",
   "metadata": {},
   "source": [
    "10.1 从文件中读取数据"
   ]
  },
  {
   "cell_type": "markdown",
   "id": "9be1d759-1985-4da6-821b-1b1dca1be7a3",
   "metadata": {},
   "source": [
    "10.1.1 读取整个文件"
   ]
  },
  {
   "cell_type": "code",
   "execution_count": 6,
   "id": "b7fea983-67d8-4306-a732-990ba9ce8898",
   "metadata": {},
   "outputs": [
    {
     "name": "stdout",
     "output_type": "stream",
     "text": [
      "3.1415926535\n",
      "   8979323846\n",
      "   2643383279\n"
     ]
    }
   ],
   "source": [
    "with open('pi_digits.txt') as file_object:\n",
    "    contents = file_object.read()\n",
    "print(contents)"
   ]
  },
  {
   "cell_type": "code",
   "execution_count": null,
   "id": "79803668-147c-4c17-9bb2-e5b8d859de3d",
   "metadata": {},
   "outputs": [],
   "source": [
    "from pathlib import Path\n",
    "path = Path('  ')\n",
    "contents = path.read_text()\n",
    "print(contents)"
   ]
  },
  {
   "cell_type": "code",
   "execution_count": null,
   "id": "0f07b904-a08a-499e-9b18-520c0adecbb6",
   "metadata": {},
   "outputs": [],
   "source": [
    "#补充拓展（‘r’代表 read）\n",
    "with open('   ','r') as file:\n",
    "    data = file.readlines()\n",
    "\n",
    "data"
   ]
  },
  {
   "cell_type": "markdown",
   "id": "a00fe5f8-67ed-4b63-9b7e-05e8b6f9dc1f",
   "metadata": {},
   "source": [
    "10.1.2 文件路径"
   ]
  },
  {
   "cell_type": "code",
   "execution_count": null,
   "id": "15cadd97-53f2-48f2-9e77-25fe288eaaa9",
   "metadata": {},
   "outputs": [],
   "source": [
    "#相对文件路径\n",
    "#绝对文件路径\n",
    "#（注意 Windows中的路径使用反斜杠'/'需改为斜杠'\\'）"
   ]
  },
  {
   "cell_type": "markdown",
   "id": "f73d1d44-601f-4a31-9e76-b7b5683c9977",
   "metadata": {},
   "source": [
    "10.1.3 逐行读取"
   ]
  },
  {
   "cell_type": "code",
   "execution_count": 1,
   "id": "97cfc0b7-5848-44fe-b099-462a1f09adb5",
   "metadata": {},
   "outputs": [
    {
     "name": "stdout",
     "output_type": "stream",
     "text": [
      "3.1415926535\n",
      "\n",
      "   8979323846\n",
      "\n",
      "   2643383279\n"
     ]
    }
   ],
   "source": [
    "filename = 'pi_digits.txt'\n",
    "\n",
    "with open(filename) as file_object:\n",
    "    for line in file_object:\n",
    "        print(line)"
   ]
  },
  {
   "cell_type": "code",
   "execution_count": 2,
   "id": "50558458-dc23-4ce5-895b-e261a2112230",
   "metadata": {},
   "outputs": [
    {
     "name": "stdout",
     "output_type": "stream",
     "text": [
      "3.1415926535\n",
      "   8979323846\n",
      "   2643383279\n"
     ]
    }
   ],
   "source": [
    "filename = 'pi_digits.txt'\n",
    "\n",
    "with open(filename) as file_object:\n",
    "    for line in file_object:\n",
    "        print(line.rstrip())"
   ]
  },
  {
   "cell_type": "markdown",
   "id": "ef56b2ec-fc70-4c11-994f-b31fc8b29c01",
   "metadata": {},
   "source": [
    "10.1.4 创建一个包含文件各行内容的列表"
   ]
  },
  {
   "cell_type": "code",
   "execution_count": 3,
   "id": "fded06e6-91a5-4b1a-98bc-7dcf1c32233b",
   "metadata": {},
   "outputs": [
    {
     "name": "stdout",
     "output_type": "stream",
     "text": [
      "3.1415926535\n",
      "   8979323846\n",
      "   2643383279\n"
     ]
    }
   ],
   "source": [
    "filename = 'pi_digits.txt'\n",
    "\n",
    "with open(filename) as file_object:\n",
    "    lines = file_object.readlines()\n",
    "\n",
    "for line in lines:\n",
    "    print(line.rstrip())"
   ]
  },
  {
   "cell_type": "markdown",
   "id": "97e06c39-57f1-45ed-b991-a2fe880544c2",
   "metadata": {},
   "source": [
    "10.1.5 使用文件的内容"
   ]
  },
  {
   "cell_type": "code",
   "execution_count": 4,
   "id": "7b3b95d9-8468-46d4-8afb-efd0fe2575b8",
   "metadata": {},
   "outputs": [
    {
     "name": "stdout",
     "output_type": "stream",
     "text": [
      "3.1415926535   8979323846   2643383279\n",
      "38\n"
     ]
    }
   ],
   "source": [
    "filename = 'pi_digits.txt'\n",
    "\n",
    "with open(filename) as file_object:\n",
    "    lines = file_object.readlines()\n",
    "\n",
    "pi_string = ''\n",
    "for line in lines:\n",
    "    pi_string += line.rstrip()\n",
    "\n",
    "print(pi_string)\n",
    "print(len(pi_string))"
   ]
  },
  {
   "cell_type": "code",
   "execution_count": 5,
   "id": "260dbfbf-4c02-4813-9b0d-44d71b292024",
   "metadata": {},
   "outputs": [
    {
     "name": "stdout",
     "output_type": "stream",
     "text": [
      "3.141592653589793238462643383279\n",
      "32\n"
     ]
    }
   ],
   "source": [
    "filename = 'pi_digits.txt'\n",
    "\n",
    "with open(filename) as file_object:\n",
    "    lines = file_object.readlines()\n",
    "\n",
    "pi_string = ''\n",
    "for line in lines:\n",
    "    pi_string += line.strip()\n",
    "\n",
    "print(pi_string)\n",
    "print(len(pi_string))"
   ]
  },
  {
   "cell_type": "markdown",
   "id": "52f8e995-506e-458e-a5ac-55b884cd101f",
   "metadata": {},
   "source": [
    "10.1.6 包含一百万位的大型文件"
   ]
  },
  {
   "cell_type": "code",
   "execution_count": null,
   "id": "255cec66-a6e1-4963-bcb1-27e3ed39966d",
   "metadata": {},
   "outputs": [],
   "source": [
    "filename = 'pi_million_digits.txt'\n",
    "\n",
    "with open(filename) as file_object:\n",
    "    lines = file_object.readlines()\n",
    "\n",
    "pi_string = ''\n",
    "for line in lines:\n",
    "    pi_string += line.strip()\n",
    "\n",
    "print(f\"{pi_string[:52]}...\")\n",
    "print(len(pi_string))"
   ]
  },
  {
   "cell_type": "markdown",
   "id": "33f50a7e-b46f-4c25-80ac-6b752e2f2b3a",
   "metadata": {},
   "source": [
    "10.1.7 圆周率中包含你的生日吗"
   ]
  },
  {
   "cell_type": "code",
   "execution_count": null,
   "id": "b0251e27-df7b-40b9-9cda-410bc3e07a68",
   "metadata": {},
   "outputs": [],
   "source": [
    "filename = 'pi_million_digits.txt'\n",
    "\n",
    "with open(filename) as file_object:\n",
    "    lines = file_object.readlines()\n",
    "\n",
    "pi_string = ''\n",
    "for line in lines:\n",
    "    pi_string += line.strip()\n",
    "\n",
    "birthday = input(\"Enter your birthday, in the form mmddyy: \")\n",
    "if birthday in pi_string:\n",
    "    print(\"Your birthday appears in the first million digits of pi!\")\n",
    "else:\n",
    "    print(\"Your birthday does not appear in the first million digits of pi.\")"
   ]
  },
  {
   "cell_type": "code",
   "execution_count": null,
   "id": "0d37a325-1504-442f-8c5b-09484ea36e5f",
   "metadata": {},
   "outputs": [],
   "source": []
  },
  {
   "cell_type": "code",
   "execution_count": null,
   "id": "9a74a357-7bb6-4d0a-bd54-c06b9ca7fc38",
   "metadata": {},
   "outputs": [],
   "source": [
    "#练习10.1：Python学习笔记\n",
    "from pathlib import Path\n",
    "\n",
    "#读取整个文件\n",
    "path = Path('learn_py.txt')\n",
    "contents = path.read_text()\n",
    "contents = contents.rstrip()\n",
    "print(contents)\n",
    "\n",
    "#逐行遍历\n",
    "lines = contents.splitlines()\n",
    "for line in lines:\n",
    "    print(line)"
   ]
  },
  {
   "cell_type": "code",
   "execution_count": null,
   "id": "e0513fd7-2c4c-4b49-a4d0-302df11ee2a2",
   "metadata": {},
   "outputs": [],
   "source": [
    "#练习10.2：C语言学习笔记\n",
    "from pathlib import Path\n",
    "\n",
    "path = Path('learn_py.txt')\n",
    "contents = path.read_text()\n",
    "\n",
    "for line in contents.splitlines():\n",
    "    line=line.replace('Python','Glax')\n",
    "    print(line)"
   ]
  },
  {
   "cell_type": "code",
   "execution_count": 2,
   "id": "d98bd527-6bbf-445a-b65f-07374ed1e361",
   "metadata": {},
   "outputs": [
    {
     "name": "stdout",
     "output_type": "stream",
     "text": [
      "3.1415926535\n",
      "   8979323846\n",
      "   2643383279\n"
     ]
    }
   ],
   "source": [
    "#练习10.3 简化代码\n",
    "from pathlib import Path \n",
    "path = Path('pi_digits.txt') \n",
    "contents = path.read_text()\n",
    "for line in contents.splitlines(): \n",
    "    print(line)"
   ]
  },
  {
   "cell_type": "code",
   "execution_count": null,
   "id": "49da1fac-a0ce-4947-a7fd-892076101c8c",
   "metadata": {},
   "outputs": [],
   "source": []
  },
  {
   "cell_type": "markdown",
   "id": "44cb4c8f-c88a-42e3-a3c7-33b21502d4a4",
   "metadata": {},
   "source": [
    "10.2 写入文件"
   ]
  },
  {
   "cell_type": "markdown",
   "id": "7e333fcc-3209-40ad-83ae-74f325c60cea",
   "metadata": {},
   "source": [
    "10.2.1 写入空文件"
   ]
  },
  {
   "cell_type": "code",
   "execution_count": null,
   "id": "e94567bd-2af8-405c-9433-c80b0f8537fb",
   "metadata": {},
   "outputs": [],
   "source": [
    "filename = 'programming.txt'\n",
    "\n",
    "with open(filename,'w') as file_object:\n",
    "    file_object.write(\"I love programming.\")"
   ]
  },
  {
   "cell_type": "markdown",
   "id": "ce557347-1931-4519-94c1-bfef1fb4cfae",
   "metadata": {},
   "source": [
    "10.2.2 写入多行"
   ]
  },
  {
   "cell_type": "code",
   "execution_count": null,
   "id": "48f068f7-b94a-41c0-96cc-d85ad45dbd22",
   "metadata": {},
   "outputs": [],
   "source": [
    "filename = 'programming.txt'\n",
    "\n",
    "with open(filename,'w') as file_object:\n",
    "    file_object.write(\"I love programming.\\n\")\n",
    "    file_object.write(\"I love creating new games.\\n\")"
   ]
  },
  {
   "cell_type": "markdown",
   "id": "85286a81-ecad-4a59-b36e-6fc112f9e87a",
   "metadata": {},
   "source": [
    "10.2.3 附加到文件"
   ]
  },
  {
   "cell_type": "code",
   "execution_count": null,
   "id": "3fb4cf32-de1c-4728-993d-818476cc6047",
   "metadata": {},
   "outputs": [],
   "source": [
    "filename = 'programming.txt'\n",
    "\n",
    "with open(filename,'a') as file_object:\n",
    "    file_object.write(\"I also love finding meaning in large datasets.\\n\")\n",
    "    file_object.write(\"I love creating apps that can run in a browser.\\n\")"
   ]
  },
  {
   "cell_type": "code",
   "execution_count": null,
   "id": "1e18ade6-ef3d-4804-a764-3b5ef9b0a308",
   "metadata": {},
   "outputs": [],
   "source": [
    "#练习10.4\n",
    "from pathlib import Path\n",
    "\n",
    "path = Path('guest.txt') \n",
    "\n",
    "name = input(\"What's your name? \") \n",
    "path.write_text(name)"
   ]
  },
  {
   "cell_type": "code",
   "execution_count": null,
   "id": "748ab214-73b7-4698-b616-232b963cea5b",
   "metadata": {},
   "outputs": [],
   "source": [
    "#练习10.5 访客簿\n",
    "from pathlib import Path\n",
    "\n",
    "path = Path('guest_book.txt') \n",
    "\n",
    "prompt = \"\\nHi, what's your name? \" \n",
    "prompt += \"\\nEnter 'quit' if you're the last guest. \" \n",
    "guest_names = []\n",
    " \n",
    "while True: \n",
    "    name = input(prompt) \n",
    "    if name == 'quit': \n",
    "        break\n",
    "        \n",
    "    print(f\"Thanks {name}, we'll add you to the guest book.\") \n",
    "    guest_names.append(name)\n",
    "    \n",
    "# 创建一个字符串，它包含所有的名字，且在每个名字后面都换行 \n",
    "file_string = '' \n",
    "for name in guest_names: \n",
    "    file_string += f\"{name}\\n\" \n",
    "path.write_text(file_string)"
   ]
  },
  {
   "cell_type": "markdown",
   "id": "15c642c3-0443-47b0-9fe6-26d82fffecc9",
   "metadata": {},
   "source": [
    "10.3 异常"
   ]
  },
  {
   "cell_type": "markdown",
   "id": "1c898f9e-dc88-43f2-b484-9ade2936c2f2",
   "metadata": {},
   "source": [
    "10.3.1 处理ZeroDivisionError异常"
   ]
  },
  {
   "cell_type": "markdown",
   "id": "bac0ec5b-347f-486e-b70a-368b6bd7974c",
   "metadata": {},
   "source": [
    "10.3.2 使用try-except代码块"
   ]
  },
  {
   "cell_type": "code",
   "execution_count": 1,
   "id": "4fae9c9c-3d8d-4350-86b8-f94fa576d02e",
   "metadata": {},
   "outputs": [
    {
     "name": "stdout",
     "output_type": "stream",
     "text": [
      "You can't divide by zero!\n"
     ]
    }
   ],
   "source": [
    "try:\n",
    "    print(5/0)\n",
    "except ZeroDivisionError:\n",
    "    print(\"You can't divide by zero!\")"
   ]
  },
  {
   "cell_type": "markdown",
   "id": "77300945-ac0d-4d35-9fb4-0271247660a6",
   "metadata": {},
   "source": [
    "10.3.3 使用异常避免崩溃"
   ]
  },
  {
   "cell_type": "code",
   "execution_count": 3,
   "id": "98cfe469-0cd0-45f3-9786-f5e90822fc95",
   "metadata": {},
   "outputs": [
    {
     "name": "stdout",
     "output_type": "stream",
     "text": [
      "Give me two numbers, and I'll divide them.\n",
      "Enter 'q' to quit.\n"
     ]
    },
    {
     "name": "stdin",
     "output_type": "stream",
     "text": [
      "\n",
      "First number:  q\n"
     ]
    }
   ],
   "source": [
    "print(\"Give me two numbers, and I'll divide them.\")\n",
    "print(\"Enter 'q' to quit.\")\n",
    "\n",
    "while True:\n",
    "    first_number = input(\"\\nFirst number: \")\n",
    "    if first_number == 'q':\n",
    "        break\n",
    "    second_number = input(\"\\nSecond number: \")\n",
    "    if second_number == 'q':\n",
    "        break\n",
    "    answer = int(first_number) / int(second_number)\n",
    "    print(answer)"
   ]
  },
  {
   "cell_type": "code",
   "execution_count": 4,
   "id": "99656805-6ea1-47df-ad67-0855d3147b65",
   "metadata": {},
   "outputs": [],
   "source": [
    "#除数为 0 会崩溃"
   ]
  },
  {
   "cell_type": "markdown",
   "id": "5225e968-9eb8-42f1-8e55-9865d673640d",
   "metadata": {},
   "source": [
    "10.3.4 else代码块"
   ]
  },
  {
   "cell_type": "code",
   "execution_count": 5,
   "id": "a6394227-ce33-411a-b1f8-2d1a5b76e2ed",
   "metadata": {},
   "outputs": [
    {
     "name": "stdout",
     "output_type": "stream",
     "text": [
      "Give me two numbers, and I'll divide them.\n",
      "Enter 'q' to quit.\n"
     ]
    },
    {
     "name": "stdin",
     "output_type": "stream",
     "text": [
      "\n",
      "First number:  1\n",
      "\n",
      "Second number:  0\n"
     ]
    },
    {
     "name": "stdout",
     "output_type": "stream",
     "text": [
      "The second number is zero.\n"
     ]
    },
    {
     "name": "stdin",
     "output_type": "stream",
     "text": [
      "\n",
      "First number:  q\n"
     ]
    }
   ],
   "source": [
    "print(\"Give me two numbers, and I'll divide them.\")\n",
    "print(\"Enter 'q' to quit.\")\n",
    "\n",
    "while True:\n",
    "    first_number = input(\"\\nFirst number: \")\n",
    "    if first_number == 'q':\n",
    "        break\n",
    "    second_number = input(\"\\nSecond number: \")\n",
    "    if second_number == 'q':\n",
    "        break\n",
    "    try:\n",
    "        answer = int(first_number) / int(second_number)\n",
    "        print(answer)\n",
    "    except ZeroDivisionError:\n",
    "        print(\"The second number is zero.\")\n",
    "    else:\n",
    "        print(\"There is something wrong.\")"
   ]
  },
  {
   "cell_type": "code",
   "execution_count": null,
   "id": "0ad04da8-5d42-47ad-a0d8-55d258b903e8",
   "metadata": {},
   "outputs": [],
   "source": []
  },
  {
   "cell_type": "markdown",
   "id": "4d5199ec-3422-4f41-b1a2-c1dc16955985",
   "metadata": {},
   "source": [
    "10.3.5 处理FileNotFoundError异常"
   ]
  },
  {
   "cell_type": "code",
   "execution_count": 7,
   "id": "bed20d7b-b365-431c-a0fe-05cd79b60731",
   "metadata": {},
   "outputs": [
    {
     "name": "stdout",
     "output_type": "stream",
     "text": [
      "Sorry, the file alice.txt does not exist.\n"
     ]
    }
   ],
   "source": [
    "filename = 'alice.txt'\n",
    "\n",
    "try:\n",
    "    with open(filename,encoding='utf-8') as f:\n",
    "        contents = f.read()\n",
    "except FileNotFoundError:\n",
    "    print(f\"Sorry, the file {filename} does not exist.\")"
   ]
  },
  {
   "cell_type": "markdown",
   "id": "45e9eef1-ddd3-42eb-87d7-c66af4c1cb1f",
   "metadata": {},
   "source": [
    "10.3.6 分析文本"
   ]
  },
  {
   "cell_type": "code",
   "execution_count": null,
   "id": "8ed37c48-8c1e-4cca-9342-8e81548900b5",
   "metadata": {},
   "outputs": [],
   "source": [
    "filename = 'alice.txt'\n",
    "\n",
    "try:\n",
    "    with open(filename,encoding='utf-8') as f:\n",
    "        contents = f.read()\n",
    "except FileNotFoundError:\n",
    "    print(f\"Sorry, the file {filename} does not exist.\")\n",
    "else:\n",
    "    #计算该文件大致包含多少个单词。\n",
    "    words = contents.split()\n",
    "    num_words = len(words)\n",
    "    print(f\"The file {filename} has about {num_words} words.\")"
   ]
  },
  {
   "cell_type": "markdown",
   "id": "ef08586d-2e72-48ef-9661-977f061ca696",
   "metadata": {},
   "source": [
    "10.3.7 使用多个文件"
   ]
  },
  {
   "cell_type": "code",
   "execution_count": null,
   "id": "93abc9aa-8366-4a4c-a4c6-aa695508d059",
   "metadata": {},
   "outputs": [],
   "source": [
    "def count_words(filename):\n",
    "    \"\"\"计算一个文件大致包含多少个单词。\"\"\"\n",
    "    try:\n",
    "        with open(filename,encoding='utf-8') as f:\n",
    "            contents = f.read()\n",
    "    except FileNotFoundError:\n",
    "        print(f\"Sorry, the file {filename} does not exist.\")\n",
    "    else:\n",
    "        words = contents.split()\n",
    "        num_words = len(words)\n",
    "        print(f\"The file {filename} has about {num_words} words.\")\n",
    "\n",
    "filename = 'alice.txt'\n",
    "count_words(file"
   ]
  },
  {
   "cell_type": "code",
   "execution_count": null,
   "id": "588f84f3-04dd-4155-a238-2c2a59efb1f9",
   "metadata": {},
   "outputs": [],
   "source": [
    "#多个文件，前面代码一致\n",
    "\n",
    "filenames = ['alice.txt','siddhartha.txt','moby_dick.txt','little_women.txt']\n",
    "for filename in filenames:\n",
    "    count_words(filename)"
   ]
  },
  {
   "cell_type": "markdown",
   "id": "b4fb42da-6a46-4e65-9ae6-aa12e530f63f",
   "metadata": {},
   "source": [
    "10.3.8 静默失败"
   ]
  },
  {
   "cell_type": "code",
   "execution_count": null,
   "id": "6c90d62a-7929-453e-8895-3c1c5e0c3bc0",
   "metadata": {},
   "outputs": [],
   "source": [
    "def count_words(filename):\n",
    "    \"\"\"计算一个文件大致包含多少个单词。\"\"\"\n",
    "    try:\n",
    "        with open(filename,encoding='utf-8') as f:\n",
    "            contents = f.read()\n",
    "    except FileNotFoundError:\n",
    "        pass\n",
    "        #直接跳过，无查找失败的迹象\n",
    "    else:\n",
    "        words = contents.split()\n",
    "        num_words = len(words)\n",
    "        print(f\"The file {filename} has about {num_words} words.\")\n",
    "\n",
    "filenames = ['alice.txt','siddhartha.txt','moby_dick.txt','little_women.txt']\n",
    "for filename in filenames:\n",
    "    count_words(filename)"
   ]
  },
  {
   "cell_type": "markdown",
   "id": "0d6a6c75-3778-4040-a2e6-2b2fa1ddd823",
   "metadata": {},
   "source": [
    "10.3.9 决定报告哪些错误"
   ]
  },
  {
   "cell_type": "code",
   "execution_count": 4,
   "id": "f3d0781d-c16d-419a-8a5d-e78ff76b5d94",
   "metadata": {},
   "outputs": [
    {
     "name": "stdin",
     "output_type": "stream",
     "text": [
      "Give me a number:  0\n",
      "Give me another number:  \n"
     ]
    },
    {
     "name": "stdout",
     "output_type": "stream",
     "text": [
      "Sorry, I really needed a number.\n"
     ]
    }
   ],
   "source": [
    "#练习10.6 加法运算\n",
    "try: \n",
    "    x = input(\"Give me a number: \") \n",
    "    x = int(x) \n",
    "\n",
    "    y = input(\"Give me another number: \") \n",
    "    y = int(y) \n",
    "except ValueError: \n",
    "    print(\"Sorry, I really needed a number.\") \n",
    "else: \n",
    "    sum = x + y \n",
    "    print(f\"The sum of {x} and {y} is {sum}.\")"
   ]
  },
  {
   "cell_type": "code",
   "execution_count": 5,
   "id": "857fd463-2d6c-4d8c-a210-f64938aaaee3",
   "metadata": {},
   "outputs": [
    {
     "name": "stdout",
     "output_type": "stream",
     "text": [
      "Enter 'q' at any time to quit.\n",
      "\n"
     ]
    },
    {
     "name": "stdin",
     "output_type": "stream",
     "text": [
      "\n",
      "Give me a number:  1\n",
      "Give me another number:  2\n"
     ]
    },
    {
     "name": "stdout",
     "output_type": "stream",
     "text": [
      "The sum of 1 and 2 is 3.\n"
     ]
    },
    {
     "name": "stdin",
     "output_type": "stream",
     "text": [
      "\n",
      "Give me a number:   \n"
     ]
    },
    {
     "name": "stdout",
     "output_type": "stream",
     "text": [
      "Sorry, I really needed a number.\n"
     ]
    },
    {
     "name": "stdin",
     "output_type": "stream",
     "text": [
      "\n",
      "Give me a number:  q\n"
     ]
    }
   ],
   "source": [
    "#练习10.7 加法计算器\n",
    "print(\"Enter 'q' at any time to quit.\\n\") \n",
    " \n",
    "while True: \n",
    "    try: \n",
    "        x = input(\"\\nGive me a number: \") \n",
    "        if x == 'q': \n",
    "            break \n",
    "\n",
    "        x = int(x) \n",
    " \n",
    "        y = input(\"Give me another number: \") \n",
    "        if y == 'q': \n",
    "            break \n",
    " \n",
    "        y = int(y) \n",
    " \n",
    "    except ValueError: \n",
    "        print(\"Sorry, I really needed a number.\") \n",
    " \n",
    "    else: \n",
    "        sum = x + y \n",
    "        print(f\"The sum of {x} and {y} is {sum}.\")"
   ]
  },
  {
   "cell_type": "code",
   "execution_count": 6,
   "id": "1c201b53-e708-423a-8c8b-1af486abe41a",
   "metadata": {},
   "outputs": [
    {
     "name": "stdout",
     "output_type": "stream",
     "text": [
      "\n",
      "Reading file: cats.txt\n",
      "  Sorry, I can't find that file.\n",
      "\n",
      "Reading file: dogs.txt\n",
      "  Sorry, I can't find that file.\n"
     ]
    }
   ],
   "source": [
    "#练习10.8 猫和狗\n",
    "from pathlib import Path \n",
    " \n",
    "filenames = ['cats.txt', 'dogs.txt'] \n",
    " \n",
    "for filename in filenames: \n",
    "    print(f\"\\nReading file: {filename}\") \n",
    " \n",
    "    path = Path(filename) \n",
    "    try: \n",
    "        contents = path.read_text() \n",
    "    except FileNotFoundError: \n",
    "        print(\"  Sorry, I can't find that file.\") \n",
    "    else: \n",
    "        print(contents)"
   ]
  },
  {
   "cell_type": "code",
   "execution_count": null,
   "id": "35894ded-b5e4-482f-ab8f-5cfecc9a74f0",
   "metadata": {},
   "outputs": [],
   "source": [
    "#练习10.9 静默的猫和狗\n",
    "from pathlib import Path \n",
    " \n",
    "filenames = ['cats.txt', 'dogs.txt'] \n",
    " \n",
    "for filename in filenames: \n",
    "    path = Path(filename) \n",
    "    try: \n",
    "        contents = path.read_text() \n",
    "    except FileNotFoundError: \n",
    "        pass \n",
    "    else: \n",
    "        print(f\"\\nReading file: {filename}\") \n",
    "        print(contents)"
   ]
  },
  {
   "cell_type": "code",
   "execution_count": 7,
   "id": "29e26ad3-f7ba-4c62-af2d-705cb66f985e",
   "metadata": {},
   "outputs": [],
   "source": [
    "#练习10.10 常见单词\n",
    "from pathlib import Path\n",
    "\n",
    "def count_common_words(filename, word): \n",
    "    \"\"\"计算指定的单词在图书中出现了多少次\"\"\" \n",
    "\n",
    "    #这里计算得到的结果并不准确,比实际出现的次数要多 \n",
    "    path = Path(filename) \n",
    "    try: \n",
    "        contents = path.read_text() \n",
    "    except FileNotFoundError: \n",
    "        pass \n",
    "    else: \n",
    "        word_count = contents.lower().count(word) \n",
    "        msg = f\"'{word}' appears in {filename} about {word_count} times.\" \n",
    "        print(msg)\n",
    "        \n",
    "filename = 'alice.txt' \n",
    "count_common_words(filename, 'the')"
   ]
  },
  {
   "cell_type": "code",
   "execution_count": null,
   "id": "bdbfd289-82a7-4778-a069-185f63d42f0e",
   "metadata": {},
   "outputs": [],
   "source": []
  },
  {
   "cell_type": "markdown",
   "id": "baec3392-9aaa-492a-9e94-a266b705f4a9",
   "metadata": {},
   "source": [
    "10.4 存储数据"
   ]
  },
  {
   "cell_type": "markdown",
   "id": "9bda828c-3355-4195-8db9-258467babc91",
   "metadata": {},
   "source": [
    "10.4.1 使用 json.dump（）和 json.load（）"
   ]
  },
  {
   "cell_type": "code",
   "execution_count": null,
   "id": "e717e69d-5abf-415f-8a86-70e3ca6ccd4c",
   "metadata": {},
   "outputs": [],
   "source": [
    "import json\n",
    "\n",
    "numbers = [2,3,5,7,11,13]\n",
    "\n",
    "filename = 'numbers.json'\n",
    "with open(filename,'w') as f:\n",
    "    json.dump(numbers,f)\n",
    "\n",
    "#存储到文件'numbers.json'中"
   ]
  },
  {
   "cell_type": "code",
   "execution_count": null,
   "id": "ad08a786-4612-42ad-86b0-cef101b3d990",
   "metadata": {},
   "outputs": [],
   "source": [
    "from pathlib import Path\n",
    "import json\n",
    "numbers = [2, 3, 5, 7, 11, 13]\n",
    "\n",
    "path = Path('numbers.json')\n",
    "contents = json.dumps(numbers)\n",
    "path.write_text(contents)"
   ]
  },
  {
   "cell_type": "code",
   "execution_count": null,
   "id": "3b7e69de-a125-4a13-892d-8b3616a0f386",
   "metadata": {},
   "outputs": [],
   "source": [
    "from pathlib import Path\n",
    "import json\n",
    "\n",
    "path = Path('numbers.json')\n",
    "contents = path.read_text()\n",
    "numbers = json.loads(contents)\n",
    "\n",
    "print(numbers)"
   ]
  },
  {
   "cell_type": "code",
   "execution_count": null,
   "id": "091d259b-b48f-408e-a090-7598c7e1a9b0",
   "metadata": {},
   "outputs": [],
   "source": []
  },
  {
   "cell_type": "markdown",
   "id": "18aaf5fc-90b5-4636-b968-903fbdd417af",
   "metadata": {},
   "source": [
    "10.4.2 保存和读取用户生成的数据"
   ]
  },
  {
   "cell_type": "code",
   "execution_count": 8,
   "id": "2d2908b5-4c63-4b88-bc07-a28c66d2db5f",
   "metadata": {},
   "outputs": [
    {
     "name": "stdin",
     "output_type": "stream",
     "text": [
      "What is your name?   \n"
     ]
    },
    {
     "name": "stdout",
     "output_type": "stream",
     "text": [
      "We'll remember you when you come back,  !\n"
     ]
    }
   ],
   "source": [
    "from pathlib import Path\n",
    "import json\n",
    "username = input(\"What is your name? \")\n",
    "\n",
    "path = Path('username.json')\n",
    "contents = json.dumps(username)\n",
    "path.write_text(contents)\n",
    "\n",
    "print(f\"We'll remember you when you come back, {username}!\")"
   ]
  },
  {
   "cell_type": "code",
   "execution_count": 9,
   "id": "a6d8e061-d2e0-42f6-88b0-eb75c0992fa7",
   "metadata": {},
   "outputs": [
    {
     "name": "stdout",
     "output_type": "stream",
     "text": [
      "Welcome back,  !\n"
     ]
    }
   ],
   "source": [
    "from pathlib import Path\n",
    "import json\n",
    "\n",
    "path = Path('username.json')\n",
    "if path.exists():\n",
    "    contents = path.read_text()\n",
    "    username = json.loads(contents)\n",
    "    print(f\"Welcome back, {username}!\")\n",
    "else:\n",
    "    username = input(\"What is your name? \")\n",
    "    contents = json.dumps(username)\n",
    "    path.write_text(contents)\n",
    "    print(f\"We'll remember you when you come back, {username}!\")"
   ]
  },
  {
   "cell_type": "code",
   "execution_count": null,
   "id": "6ca338bc-9f19-4419-ad15-154404e382d5",
   "metadata": {},
   "outputs": [],
   "source": []
  },
  {
   "cell_type": "markdown",
   "id": "c333e2e8-1f19-4a46-8132-18901c721cc5",
   "metadata": {},
   "source": [
    "10.4.3 重构"
   ]
  },
  {
   "cell_type": "code",
   "execution_count": 10,
   "id": "a3266971-757f-48ba-9aee-f13482be6610",
   "metadata": {},
   "outputs": [
    {
     "name": "stdout",
     "output_type": "stream",
     "text": [
      "Welcome back,  !\n"
     ]
    }
   ],
   "source": [
    "from pathlib import Path\n",
    "import json\n",
    "\n",
    "def greet_user():\n",
    "    \"\"\"问候用户，并指出其名字\"\"\"\n",
    "    path = Path('username.json')\n",
    "    if path.exists():\n",
    "        contents = path.read_text()\n",
    "        username = json.loads(contents)\n",
    "        print(f\"Welcome back, {username}!\")\n",
    "    else:\n",
    "        username = input(\"What is your name? \")\n",
    "        contents = json.dumps(username)\n",
    "        path.write_text(contents)\n",
    "        print(f\"We'll remember you when you come back, {username}!\")\n",
    "\n",
    "greet_user()                                                                                           "
   ]
  },
  {
   "cell_type": "code",
   "execution_count": 11,
   "id": "8d698ae4-476f-44e3-b330-37ce373bd992",
   "metadata": {},
   "outputs": [
    {
     "name": "stdout",
     "output_type": "stream",
     "text": [
      "Welcome back,  !\n"
     ]
    }
   ],
   "source": [
    "# 将代码划分为一系列完成具体工作的函数来进行改造，这样的过程称之为重构。\n",
    "from pathlib import Path\n",
    "import json\n",
    "\n",
    "def get_stored_username(path):\n",
    "    \"\"\"如果储存了用户名，就获取它\"\"\"\n",
    "    if path.exists():\n",
    "        contents = path.read_text()\n",
    "        username = json.loads(contents)\n",
    "        return username\n",
    "    else:\n",
    "        return None\n",
    "\n",
    "def greet_user():\n",
    "    \"\"\"问候用户，并指出其名字\"\"\"\n",
    "    path = Path('username.json')\n",
    "    username = get_stored_username(path)\n",
    "    if username:\n",
    "        print(f\"Welcome back, {username}!\")\n",
    "    else:\n",
    "        username = input(\"What is your name? \")\n",
    "        contents = json.dumps(username)\n",
    "        path.write_text(contents)\n",
    "        print(f\"We'll remember you when you come back, {username}!\")\n",
    "\n",
    "greet_user()"
   ]
  },
  {
   "cell_type": "code",
   "execution_count": 12,
   "id": "2b8d52ec-f3a5-459c-bc45-c9c511dbe11f",
   "metadata": {},
   "outputs": [
    {
     "name": "stdout",
     "output_type": "stream",
     "text": [
      "Welcome back,  !\n"
     ]
    }
   ],
   "source": [
    "from pathlib import Path\n",
    "import json\n",
    "\n",
    "\n",
    "def get_stored_username(path):\n",
    "    \"\"\"如果储存了用户名，就获取它\"\"\"\n",
    "    if path.exists():\n",
    "        contents = path.read_text()\n",
    "        username = json.loads(contents)\n",
    "        return username\n",
    "    else:\n",
    "        return None\n",
    "\n",
    "def get_new_username(path):\n",
    "    \"\"\"提示用户输入用户名\"\"\"\n",
    "    username = input(\"What is your name? \")\n",
    "    contents = json.dumps(username)\n",
    "    path.write_text(contents)\n",
    "    return username\n",
    "\n",
    "def greet_user():\n",
    "    \"\"\"问候用户，并指出其名字\"\"\"\n",
    "    path = Path('username.json')\n",
    "    username = get_stored_username(path)\n",
    "    if username:\n",
    "        print(f\"Welcome back, {username}!\")\n",
    "    else:\n",
    "        username = get_new_username(path)\n",
    "        print(f\"We'll remember you when you come back, {username}!\")\n",
    "\n",
    "greet_user()"
   ]
  },
  {
   "cell_type": "code",
   "execution_count": 13,
   "id": "9742d65f-82f8-4aa8-be29-e8f9bbe03590",
   "metadata": {},
   "outputs": [
    {
     "name": "stdin",
     "output_type": "stream",
     "text": [
      "What's your favorite number?  6\n"
     ]
    },
    {
     "name": "stdout",
     "output_type": "stream",
     "text": [
      "Thanks! I'll remember that number.\n"
     ]
    }
   ],
   "source": [
    "#练习10.11 喜欢的数\n",
    "from pathlib import Path \n",
    "import json \n",
    " \n",
    "number = input(\"What's your favorite number? \") \n",
    " \n",
    "path = Path('favorite_number.json') \n",
    "contents = json.dumps(number) \n",
    "path.write_text(contents) \n",
    " \n",
    "print(\"Thanks! I'll remember that number.\")"
   ]
  },
  {
   "cell_type": "code",
   "execution_count": 14,
   "id": "6e29934d-852c-4292-bf1a-d36710f1c2e0",
   "metadata": {},
   "outputs": [
    {
     "name": "stdout",
     "output_type": "stream",
     "text": [
      "I know your favorite number! It's 6.\n"
     ]
    }
   ],
   "source": [
    "from pathlib import Path \n",
    "import json \n",
    "\n",
    "path = Path('favorite_number.json') \n",
    "contents = path.read_text() \n",
    "number = json.loads(contents) \n",
    "print(f\"I know your favorite number! It's {number}.\")"
   ]
  },
  {
   "cell_type": "code",
   "execution_count": 15,
   "id": "93fc9ca1-c81f-43e2-8e74-deca872c4665",
   "metadata": {},
   "outputs": [
    {
     "name": "stdout",
     "output_type": "stream",
     "text": [
      "I know your favorite number! It's 6.\n"
     ]
    }
   ],
   "source": [
    "#练习10.12 记住喜欢的数\n",
    "from pathlib import Path \n",
    "import json \n",
    "\n",
    "path = Path('favorite_number.json') \n",
    "try: \n",
    "    contents = path.read_text() \n",
    "except FileNotFoundError: \n",
    "    number = input(\"What's your favorite number? \") \n",
    "    contents = json.dumps(number) \n",
    "    path.write_text(contents) \n",
    "    print(\"Thanks, I'll remember that.\") \n",
    "else: \n",
    "    number = json.loads(contents) \n",
    "    print(f\"I know your favorite number! It's {number}.\")"
   ]
  },
  {
   "cell_type": "code",
   "execution_count": 16,
   "id": "e6113731-c476-48d5-b0e9-75b8521127ef",
   "metadata": {},
   "outputs": [
    {
     "name": "stdin",
     "output_type": "stream",
     "text": [
      "What is your name?   \n",
      "What's your favorite game?  Arknights\n",
      "What's your favorite animal?  dog\n"
     ]
    },
    {
     "name": "stdout",
     "output_type": "stream",
     "text": [
      "We'll remember you when you return,  !\n"
     ]
    }
   ],
   "source": [
    "#练习10.13 用户字典\n",
    "from pathlib import Path \n",
    "import json \n",
    " \n",
    "def get_stored_user_info(path): \n",
    "    \"\"\"获取存储的用户信息（如果有）\"\"\" \n",
    "    if path.exists(): \n",
    "        contents = path.read_text() \n",
    "        user_dict = json.loads(contents) \n",
    "        return user_dict \n",
    "    else: \n",
    "        return None \n",
    " \n",
    "def get_new_user_info(path): \n",
    "    \"\"\"从新用户那里获取信息\"\"\" \n",
    "    username = input(\"What is your name? \") \n",
    "    game = input(\"What's your favorite game? \") \n",
    "    animal = input(\"What's your favorite animal? \") \n",
    " \n",
    "    user_dict = { \n",
    "        'username': username, \n",
    "        'game': game, \n",
    "        'animal': animal, \n",
    "    } \n",
    "\n",
    "    contents = json.dumps(user_dict) \n",
    "    path.write_text(contents) \n",
    "    return user_dict \n",
    " \n",
    "def greet_user(): \n",
    "    \"\"\"根据用户的新老情况发出不同的问候，并在用户为老用户时显示其信息\"\"\" \n",
    "    path = Path('user_info.json') \n",
    "    user_dict = get_stored_user_info(path) \n",
    "    if user_dict: \n",
    "        print(f\"Welcome back, {user_dict['username']}!\") \n",
    "        print(f\"You like {user_dict['game']}, right? \") \n",
    "        print(f\"Look, a {user_dict['animal']} !\") \n",
    "    else: \n",
    "        user_dict = get_new_user_info(path) \n",
    "        msg = f\"We'll remember you when you return, {user_dict['username']}!\" \n",
    "        print(msg) \n",
    " \n",
    "greet_user()"
   ]
  },
  {
   "cell_type": "code",
   "execution_count": 17,
   "id": "6dbcdc46-d0bf-41a2-95c4-a22efed83eb4",
   "metadata": {},
   "outputs": [
    {
     "name": "stdin",
     "output_type": "stream",
     "text": [
      "Are you  ? (y/n)  y\n"
     ]
    },
    {
     "name": "stdout",
     "output_type": "stream",
     "text": [
      "Welcome back,  !\n"
     ]
    }
   ],
   "source": [
    "#验证用户\n",
    "from pathlib import Path\n",
    "import json \n",
    " \n",
    "def get_stored_username(path): \n",
    "    \"\"\"获取存储的用户名（如果存储了）\"\"\" \n",
    "    if path.exists(): \n",
    "        contents = path.read_text() \n",
    "        username = json.loads(contents) \n",
    "        return username \n",
    "    else: \n",
    "        return None \n",
    " \n",
    "def get_new_username(path): \n",
    "    \"\"\"提示用户输入用户名\"\"\" \n",
    "    username = input(\"What is your name? \") \n",
    "    contents = json.dumps(username) \n",
    "    path.write_text(contents) \n",
    "    return username \n",
    " \n",
    "def greet_user(): \n",
    "    \"\"\"基于用户名问候用户\"\"\" \n",
    "    path = Path('username.json') \n",
    "    username = get_stored_username(path) \n",
    "    if username: \n",
    "        correct = input(f\"Are you {username}? (y/n) \") \n",
    "        if correct == 'y': \n",
    "            print(f\"Welcome back, {username}!\") \n",
    "        else: \n",
    "            username = get_new_username(path) \n",
    "            print(f\"We'll remember you when you come back, {username}!\")     \n",
    "    else: \n",
    "        username = get_new_username(path) \n",
    "        print(f\"We'll remember you when you come back, {username}!\") \n",
    " \n",
    "greet_user()"
   ]
  },
  {
   "cell_type": "code",
   "execution_count": null,
   "id": "fb0ca4e3-5f70-4edc-9e26-0c4a3e1320b0",
   "metadata": {},
   "outputs": [],
   "source": []
  }
 ],
 "metadata": {
  "kernelspec": {
   "display_name": "Python 3 (ipykernel)",
   "language": "python",
   "name": "python3"
  },
  "language_info": {
   "codemirror_mode": {
    "name": "ipython",
    "version": 3
   },
   "file_extension": ".py",
   "mimetype": "text/x-python",
   "name": "python",
   "nbconvert_exporter": "python",
   "pygments_lexer": "ipython3",
   "version": "3.11.7"
  }
 },
 "nbformat": 4,
 "nbformat_minor": 5
}
