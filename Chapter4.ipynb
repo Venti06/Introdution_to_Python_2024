{
 "cells": [
  {
   "cell_type": "markdown",
   "id": "fdc4ec66-c745-4270-b427-a83011b3b844",
   "metadata": {},
   "source": [
    "第四章 操作列表"
   ]
  },
  {
   "cell_type": "markdown",
   "id": "721ab13b-d14c-459d-b611-7892bee2f462",
   "metadata": {},
   "source": []
  },
  {
   "cell_type": "markdown",
   "id": "c0ad1c23-7aa3-4bbf-ba59-13f6581208e1",
   "metadata": {},
   "source": [
    "4.1 循环"
   ]
  },
  {
   "cell_type": "code",
   "execution_count": 3,
   "id": "65af1fec-caff-403f-81c2-a00a50bd2002",
   "metadata": {},
   "outputs": [
    {
     "name": "stdout",
     "output_type": "stream",
     "text": [
      "alice\n",
      "david\n",
      "carolina\n"
     ]
    }
   ],
   "source": [
    "#for关键字定义一个循环体，print前缩进四个空格\n",
    "magicians=['alice','david','carolina']\n",
    "for magician in magicians:\n",
    "    print(magician)"
   ]
  },
  {
   "cell_type": "code",
   "execution_count": 6,
   "id": "8bfdb904-420b-401a-812d-84f17bc7c720",
   "metadata": {},
   "outputs": [
    {
     "name": "stdout",
     "output_type": "stream",
     "text": [
      "alice\n",
      "Alice,that was a great trick!\n",
      "I can't wait to see more,Alice.\n",
      "\n",
      "david\n",
      "David,that was a great trick!\n",
      "I can't wait to see more,David.\n",
      "\n",
      "carolina\n",
      "Carolina,that was a great trick!\n",
      "I can't wait to see more,Carolina.\n",
      "\n",
      "Thank you,everyone.That was a great magic show!\n"
     ]
    }
   ],
   "source": [
    "magicians=['alice','david','carolina']\n",
    "for magician in magicians:\n",
    "    print(magician)\n",
    "    print(f\"{(magician.title())},that was a great trick!\")\n",
    "    print(f\"I can't wait to see more,{magician.title()}.\\n\")\n",
    "\n",
    "print(\"Thank you,everyone.That was a great magic show!\")"
   ]
  },
  {
   "cell_type": "markdown",
   "id": "537191f0-ba77-4159-8522-0a83984e3ac8",
   "metadata": {},
   "source": []
  },
  {
   "cell_type": "markdown",
   "id": "51a754bf-d3d4-4dd7-9473-6e01c94b851c",
   "metadata": {},
   "source": [
    "4.2 避免缩进错误"
   ]
  },
  {
   "cell_type": "markdown",
   "id": "e3ba8b09-be1e-450b-8ea0-3900dc4573ae",
   "metadata": {},
   "source": []
  },
  {
   "cell_type": "markdown",
   "id": "777d0175-c6fb-4a84-8795-82139c37c143",
   "metadata": {},
   "source": [
    "4.3 创建数值列表"
   ]
  },
  {
   "cell_type": "code",
   "execution_count": 9,
   "id": "db9ef863-4469-4d10-9166-386610b09862",
   "metadata": {},
   "outputs": [
    {
     "name": "stdout",
     "output_type": "stream",
     "text": [
      "0\n",
      "1\n",
      "2\n",
      "3\n",
      "4\n",
      "5\n"
     ]
    }
   ],
   "source": [
    "for value in range(6):\n",
    "    print(value)"
   ]
  },
  {
   "cell_type": "code",
   "execution_count": 7,
   "id": "cde883ea-454b-4f29-a2e8-e58b76c0f7bc",
   "metadata": {},
   "outputs": [
    {
     "name": "stdout",
     "output_type": "stream",
     "text": [
      "1\n",
      "2\n",
      "3\n",
      "4\n",
      "5\n"
     ]
    }
   ],
   "source": [
    "start=1\n",
    "end=5\n",
    "for value in range(start,end+1):\n",
    "    print(value)"
   ]
  },
  {
   "cell_type": "code",
   "execution_count": 10,
   "id": "02f616df-a32d-4cc9-8f7f-e6db54fb46d8",
   "metadata": {},
   "outputs": [
    {
     "name": "stdout",
     "output_type": "stream",
     "text": [
      "[1]\n",
      "[1, 4]\n",
      "[1, 4, 9]\n",
      "[1, 4, 9, 16]\n",
      "[1, 4, 9, 16, 25]\n",
      "[1, 4, 9, 16, 25, 36]\n",
      "[1, 4, 9, 16, 25, 36, 49]\n",
      "[1, 4, 9, 16, 25, 36, 49, 64]\n",
      "[1, 4, 9, 16, 25, 36, 49, 64, 81]\n",
      "[1, 4, 9, 16, 25, 36, 49, 64, 81, 100]\n"
     ]
    }
   ],
   "source": [
    "squares=[]\n",
    "for value in range(1,11):\n",
    "    squares.append(value**2)\n",
    "    print(squares)"
   ]
  },
  {
   "cell_type": "code",
   "execution_count": 11,
   "id": "c5d4970c-68a4-483d-957e-9e914c0183d4",
   "metadata": {},
   "outputs": [
    {
     "name": "stdout",
     "output_type": "stream",
     "text": [
      "[1, 4, 9, 16, 25, 36, 49, 64, 81, 100]\n"
     ]
    }
   ],
   "source": [
    "squares=[]\n",
    "for value in range(1,11):\n",
    "    squares.append(value**2)\n",
    "print(squares)"
   ]
  },
  {
   "cell_type": "code",
   "execution_count": 13,
   "id": "dcb4442c-b24c-41e0-bb2e-5c29f38237a8",
   "metadata": {},
   "outputs": [
    {
     "name": "stdout",
     "output_type": "stream",
     "text": [
      "[1, 2, 3, 4, 5, 6, 7, 8, 9, 10]\n",
      "[3, 4, 5, 6, 7, 8, 9, 10, 11, 12]\n",
      "[1, 4, 9, 16, 25, 36, 49, 64, 81, 100]\n"
     ]
    }
   ],
   "source": [
    "squares=[value for value in range(1,11)]\n",
    "print(squares)\n",
    "squares=[value+2 for value in range(1,11)]\n",
    "print(squares)\n",
    "squares=[value**2 for value in range(1,11)]\n",
    "print(squares)"
   ]
  },
  {
   "cell_type": "code",
   "execution_count": 17,
   "id": "ef4829e1-819a-411c-8f9a-b84ca8b62bd7",
   "metadata": {},
   "outputs": [
    {
     "name": "stdout",
     "output_type": "stream",
     "text": [
      "[1, 4, 9, 16, 25, 36, 49, 64, 81, 100]\n",
      "1\n",
      "100\n",
      "385\n"
     ]
    }
   ],
   "source": [
    "digits=squares\n",
    "print(digits)\n",
    "print(min(digits))\n",
    "print(max(digits))\n",
    "print(sum(digits))"
   ]
  },
  {
   "cell_type": "markdown",
   "id": "7d73e2b3-5b3d-48e3-af28-d0cc24b7889b",
   "metadata": {},
   "source": []
  },
  {
   "cell_type": "markdown",
   "id": "b02c21ea-ee02-42cf-b1e3-f30e76dc0993",
   "metadata": {},
   "source": [
    "4.4 切片"
   ]
  },
  {
   "cell_type": "code",
   "execution_count": 18,
   "id": "a16aefcf-759b-4c6c-a666-bc1d633c88d2",
   "metadata": {},
   "outputs": [
    {
     "name": "stdout",
     "output_type": "stream",
     "text": [
      "['michael']\n"
     ]
    }
   ],
   "source": [
    "players=['charles','martina','michael','florence']\n",
    "print(players[-2:-1])"
   ]
  },
  {
   "cell_type": "code",
   "execution_count": 21,
   "id": "02287dc2-4817-4f07-b82f-a57bfde3191d",
   "metadata": {},
   "outputs": [
    {
     "name": "stdout",
     "output_type": "stream",
     "text": [
      "Here are the first three players on my team:\n",
      "Michael\n"
     ]
    }
   ],
   "source": [
    "players=['charles','martina','michael','florence']\n",
    "print(\"Here are the first three players on my team:\")\n",
    "for player in players[2:3]:\n",
    "    print(player.title())"
   ]
  },
  {
   "cell_type": "code",
   "execution_count": 16,
   "id": "5296e3de-b1bb-4020-8970-0fc07494f358",
   "metadata": {},
   "outputs": [
    {
     "name": "stdout",
     "output_type": "stream",
     "text": [
      "My favorite foods are:\n",
      "['pizza', 'falafel', 'carrot cake', 'connoli']\n",
      "\n",
      "My friend's favorite foods are:\n",
      "['pizza', 'falafel', 'carrot cake', 'ice cream']\n"
     ]
    }
   ],
   "source": [
    "#[:]为切片，不加则输出my foods与friend foods一致\n",
    "my_foods=['pizza','falafel','carrot cake']\n",
    "friend_foods=my_foods[:]\n",
    "my_foods.append('connoli')\n",
    "friend_foods.append('ice cream')\n",
    "print(\"My favorite foods are:\")\n",
    "print(my_foods)\n",
    "print(\"\\nMy friend's favorite foods are:\")\n",
    "print(friend_foods)"
   ]
  },
  {
   "cell_type": "markdown",
   "id": "0ec3129e-fbb2-4e8d-946b-4fa4b7859327",
   "metadata": {},
   "source": []
  },
  {
   "cell_type": "markdown",
   "id": "abe65336-e9d0-4126-8ecd-8ce6e919c166",
   "metadata": {},
   "source": [
    "4.5 元组"
   ]
  },
  {
   "cell_type": "code",
   "execution_count": 20,
   "id": "94942a93-5585-48dc-994e-55610ba65002",
   "metadata": {},
   "outputs": [
    {
     "name": "stdout",
     "output_type": "stream",
     "text": [
      "200\n"
     ]
    }
   ],
   "source": [
    "dimensions=(200)\n",
    "print(dimensions)\n",
    "#print(dimensions[0])\n",
    "#print(dimensions[1])"
   ]
  },
  {
   "cell_type": "code",
   "execution_count": null,
   "id": "66594c6d-b2b5-4a70-a6dc-1d80cbc700ce",
   "metadata": {},
   "outputs": [],
   "source": []
  },
  {
   "cell_type": "code",
   "execution_count": null,
   "id": "8a50c04e-0edc-4f9b-9de9-e37bfec77ab9",
   "metadata": {},
   "outputs": [],
   "source": []
  },
  {
   "cell_type": "code",
   "execution_count": null,
   "id": "6dd1f49f-94e5-4d77-8fa7-1e5dfee066ba",
   "metadata": {},
   "outputs": [],
   "source": []
  },
  {
   "cell_type": "code",
   "execution_count": null,
   "id": "3c32d7b0-7b76-4934-a15a-3da316023c2d",
   "metadata": {},
   "outputs": [],
   "source": []
  },
  {
   "cell_type": "code",
   "execution_count": null,
   "id": "a2e83816-0b4d-4a81-befc-86c4b32965c2",
   "metadata": {},
   "outputs": [],
   "source": []
  },
  {
   "cell_type": "code",
   "execution_count": null,
   "id": "13faebd8-b817-490f-8fc1-3873b7f0b1ee",
   "metadata": {},
   "outputs": [],
   "source": []
  },
  {
   "cell_type": "code",
   "execution_count": null,
   "id": "99af91a6-1d13-4c08-a4b5-1cdac0020029",
   "metadata": {},
   "outputs": [],
   "source": []
  },
  {
   "cell_type": "code",
   "execution_count": null,
   "id": "d5f9ab11-cef9-4182-a9a7-899ff3b3eaab",
   "metadata": {},
   "outputs": [],
   "source": []
  },
  {
   "cell_type": "code",
   "execution_count": null,
   "id": "be1640ac-1551-4494-9d89-52957bcf6db3",
   "metadata": {},
   "outputs": [],
   "source": []
  },
  {
   "cell_type": "code",
   "execution_count": null,
   "id": "56d6b7d0-9739-476f-bc5a-bb74b692dc16",
   "metadata": {},
   "outputs": [],
   "source": []
  }
 ],
 "metadata": {
  "kernelspec": {
   "display_name": "Python 3 (ipykernel)",
   "language": "python",
   "name": "python3"
  },
  "language_info": {
   "codemirror_mode": {
    "name": "ipython",
    "version": 3
   },
   "file_extension": ".py",
   "mimetype": "text/x-python",
   "name": "python",
   "nbconvert_exporter": "python",
   "pygments_lexer": "ipython3",
   "version": "3.11.7"
  }
 },
 "nbformat": 4,
 "nbformat_minor": 5
}
