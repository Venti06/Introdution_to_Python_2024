{
 "cells": [
  {
   "cell_type": "markdown",
   "id": "8594a5f7-9265-48b3-990a-8df667403668",
   "metadata": {},
   "source": [
    "第五章 if语句"
   ]
  },
  {
   "cell_type": "markdown",
   "id": "42ffa529-5586-4c80-841b-a45120e32377",
   "metadata": {},
   "source": []
  },
  {
   "cell_type": "markdown",
   "id": "d0b5563e-a21d-4055-9196-6c992b3b15ed",
   "metadata": {},
   "source": [
    "5.1"
   ]
  },
  {
   "cell_type": "code",
   "execution_count": 6,
   "id": "754f15f9-80db-4e39-aa45-a1b1f6d4bc21",
   "metadata": {},
   "outputs": [
    {
     "name": "stdout",
     "output_type": "stream",
     "text": [
      "Audi\n",
      "BMW\n",
      "Subaru\n",
      "Toyota\n"
     ]
    }
   ],
   "source": [
    "cars = ['audi','bmw','subaru','toyota']\n",
    "for car in cars:\n",
    "    if car == 'bmw':\n",
    "        print(car.upper())\n",
    "    else:\n",
    "        print(car.title())"
   ]
  },
  {
   "cell_type": "markdown",
   "id": "0e1de704-4d0a-418a-9a4f-7e5795e65fde",
   "metadata": {},
   "source": []
  },
  {
   "cell_type": "markdown",
   "id": "2312ab20-a81a-4fb9-b23f-89bfc1ffb6c7",
   "metadata": {},
   "source": [
    "5.2 条件测试"
   ]
  },
  {
   "cell_type": "code",
   "execution_count": null,
   "id": "8b7005c4-68bc-4ab7-b512-a9428692cb4a",
   "metadata": {},
   "outputs": [],
   "source": [
    "==\n",
    "!=\n",
    "and &\n",
    "or |\n",
    "not !\n",
    "in"
   ]
  },
  {
   "cell_type": "markdown",
   "id": "da034a15-f624-40be-925d-625a96a99070",
   "metadata": {},
   "source": [
    "相等"
   ]
  },
  {
   "cell_type": "code",
   "execution_count": 3,
   "id": "579fb353-09c1-48e5-a81d-c7c190002c78",
   "metadata": {},
   "outputs": [
    {
     "name": "stdout",
     "output_type": "stream",
     "text": [
      "False\n",
      "True\n"
     ]
    }
   ],
   "source": [
    "#条件测试表达式：一个值为 True 或 False 的表达式\n",
    "#使用相等运算符（==）来判断两侧是否相等\n",
    "car='Audi'\n",
    "print(car=='audi')\n",
    "print(car.lower()=='audi')"
   ]
  },
  {
   "cell_type": "code",
   "execution_count": 4,
   "id": "eb8797d6-88a6-459f-93f5-6e2e8bd29630",
   "metadata": {},
   "outputs": [
    {
     "data": {
      "text/plain": [
       "True"
      ]
     },
     "execution_count": 4,
     "metadata": {},
     "output_type": "execute_result"
    }
   ],
   "source": [
    "True == 1"
   ]
  },
  {
   "cell_type": "code",
   "execution_count": 5,
   "id": "1e3d0771-50ea-478e-bdec-06036ad66659",
   "metadata": {},
   "outputs": [
    {
     "data": {
      "text/plain": [
       "True"
      ]
     },
     "execution_count": 5,
     "metadata": {},
     "output_type": "execute_result"
    }
   ],
   "source": [
    "False == 0"
   ]
  },
  {
   "cell_type": "markdown",
   "id": "e06bac7e-5fbc-4c50-a17f-6e49117437b0",
   "metadata": {},
   "source": [
    "不等"
   ]
  },
  {
   "cell_type": "code",
   "execution_count": 7,
   "id": "03dd06e3-9bc2-4312-8662-cba625fcb99b",
   "metadata": {},
   "outputs": [
    {
     "name": "stdout",
     "output_type": "stream",
     "text": [
      "True\n",
      "False\n"
     ]
    }
   ],
   "source": [
    "#使用不等运算符（！=）来判断两侧是否相等\n",
    "car = 'Audi'\n",
    "print(car != 'audi')\n",
    "print(car.lower() != 'audi')"
   ]
  },
  {
   "cell_type": "markdown",
   "id": "e1d5a6c4-d93f-4101-b115-cd959a55358a",
   "metadata": {},
   "source": [
    "数值比较"
   ]
  },
  {
   "cell_type": "code",
   "execution_count": 30,
   "id": "09be4d8e-9a2c-47a1-906f-129abb41f709",
   "metadata": {},
   "outputs": [
    {
     "data": {
      "text/plain": [
       "True"
      ]
     },
     "execution_count": 30,
     "metadata": {},
     "output_type": "execute_result"
    }
   ],
   "source": [
    "#使用关系运算符（小于、小于等于、大于、大于等于）来比较数值\n",
    ">>> age = 19\n",
    ">>> age < 21"
   ]
  },
  {
   "cell_type": "code",
   "execution_count": 31,
   "id": "a2b4db3f-4db2-4f20-ae0b-87ca6fd4d23b",
   "metadata": {},
   "outputs": [
    {
     "data": {
      "text/plain": [
       "True"
      ]
     },
     "execution_count": 31,
     "metadata": {},
     "output_type": "execute_result"
    }
   ],
   "source": [
    ">>> age <= 21"
   ]
  },
  {
   "cell_type": "code",
   "execution_count": 32,
   "id": "61bc0071-1f49-4e15-878a-d175ad49e28c",
   "metadata": {},
   "outputs": [
    {
     "data": {
      "text/plain": [
       "False"
      ]
     },
     "execution_count": 32,
     "metadata": {},
     "output_type": "execute_result"
    }
   ],
   "source": [
    ">>> age > 21"
   ]
  },
  {
   "cell_type": "code",
   "execution_count": 33,
   "id": "2c418c46-7283-47a7-907f-df9e98487bce",
   "metadata": {},
   "outputs": [
    {
     "data": {
      "text/plain": [
       "False"
      ]
     },
     "execution_count": 33,
     "metadata": {},
     "output_type": "execute_result"
    }
   ],
   "source": [
    ">>> age >= 21"
   ]
  },
  {
   "cell_type": "markdown",
   "id": "1198ad46-f7ad-4bcd-88d4-468af9e63844",
   "metadata": {},
   "source": [
    "布尔运算"
   ]
  },
  {
   "cell_type": "code",
   "execution_count": 28,
   "id": "cbdf91e3-6ab1-4cd0-9b9b-5c7ebd153707",
   "metadata": {},
   "outputs": [
    {
     "data": {
      "text/plain": [
       "False"
      ]
     },
     "execution_count": 28,
     "metadata": {},
     "output_type": "execute_result"
    }
   ],
   "source": [
    "#and、or关键字：用于布尔运算，分别表示和、或\n",
    ">>> age_0 = 22\n",
    ">>> age_1 = 18\n",
    ">>> age_0 >= 21 and age_1 >= 21"
   ]
  },
  {
   "cell_type": "code",
   "execution_count": 29,
   "id": "42326590-849d-4b17-889d-7074fff0ce7c",
   "metadata": {},
   "outputs": [
    {
     "data": {
      "text/plain": [
       "True"
      ]
     },
     "execution_count": 29,
     "metadata": {},
     "output_type": "execute_result"
    }
   ],
   "source": [
    ">>> age_0 >= 21 or age_1 >= 22"
   ]
  },
  {
   "cell_type": "code",
   "execution_count": null,
   "id": "cb5dc632-ed88-4b6f-9e75-36c9f6e49013",
   "metadata": {},
   "outputs": [],
   "source": []
  },
  {
   "cell_type": "markdown",
   "id": "e55b59ce-bdf2-4aa3-ac26-c54de4f0f417",
   "metadata": {},
   "source": []
  },
  {
   "cell_type": "code",
   "execution_count": 10,
   "id": "b8515430-ff08-4948-bea0-e0e36b189587",
   "metadata": {},
   "outputs": [
    {
     "data": {
      "text/plain": [
       "True"
      ]
     },
     "execution_count": 10,
     "metadata": {},
     "output_type": "execute_result"
    }
   ],
   "source": [
    "True and True"
   ]
  },
  {
   "cell_type": "code",
   "execution_count": 14,
   "id": "6ec0b61f-1d37-4ddd-8c28-d35a2e9d7386",
   "metadata": {},
   "outputs": [
    {
     "data": {
      "text/plain": [
       "True"
      ]
     },
     "execution_count": 14,
     "metadata": {},
     "output_type": "execute_result"
    }
   ],
   "source": [
    "True & True"
   ]
  },
  {
   "cell_type": "code",
   "execution_count": 11,
   "id": "fd3b53c3-9133-4bab-acdc-6ff5be78f017",
   "metadata": {},
   "outputs": [
    {
     "data": {
      "text/plain": [
       "2"
      ]
     },
     "execution_count": 11,
     "metadata": {},
     "output_type": "execute_result"
    }
   ],
   "source": [
    "True + True"
   ]
  },
  {
   "cell_type": "code",
   "execution_count": 12,
   "id": "6a27f2f5-696e-4beb-a168-e8f8babe3339",
   "metadata": {},
   "outputs": [
    {
     "data": {
      "text/plain": [
       "False"
      ]
     },
     "execution_count": 12,
     "metadata": {},
     "output_type": "execute_result"
    }
   ],
   "source": [
    "True and False"
   ]
  },
  {
   "cell_type": "code",
   "execution_count": 13,
   "id": "9c948a6d-7016-4a04-adac-fba86abdf6e6",
   "metadata": {},
   "outputs": [
    {
     "data": {
      "text/plain": [
       "True"
      ]
     },
     "execution_count": 13,
     "metadata": {},
     "output_type": "execute_result"
    }
   ],
   "source": [
    "True or False"
   ]
  },
  {
   "cell_type": "code",
   "execution_count": 15,
   "id": "90bdbb3a-4410-4a8c-b69c-c9337c87d1bc",
   "metadata": {},
   "outputs": [
    {
     "data": {
      "text/plain": [
       "True"
      ]
     },
     "execution_count": 15,
     "metadata": {},
     "output_type": "execute_result"
    }
   ],
   "source": [
    "True | False"
   ]
  },
  {
   "cell_type": "markdown",
   "id": "cfd3434b-899b-4aa6-8844-43cf886b4da0",
   "metadata": {},
   "source": []
  },
  {
   "cell_type": "code",
   "execution_count": 17,
   "id": "1133546b-48c5-46e0-ba4b-1740a53ec779",
   "metadata": {},
   "outputs": [
    {
     "name": "stdout",
     "output_type": "stream",
     "text": [
      "True\n",
      "False\n",
      "\n",
      "False\n",
      "True\n"
     ]
    }
   ],
   "source": [
    "requested_toppings = ['mushrooms','onions']\n",
    "print('mushrooms' in requested_toppings)\n",
    "print('pepperoni' in requested_toppings)\n",
    "print()\n",
    "print('mushrooms' not in requested_toppings)\n",
    "print('pepperoni' not in requested_toppings)"
   ]
  },
  {
   "cell_type": "code",
   "execution_count": 1,
   "id": "0026e009-88b0-4713-b117-cd424ec199b9",
   "metadata": {},
   "outputs": [
    {
     "name": "stdout",
     "output_type": "stream",
     "text": [
      "Marie,you can post a response if you wish.\n"
     ]
    }
   ],
   "source": [
    "banned_users = ['andrew','carolina','david']\n",
    "user = 'marie'\n",
    "\n",
    "if user not in banned_users:\n",
    "    print(f\"{user.title()},you can post a response if you wish.\")"
   ]
  },
  {
   "cell_type": "markdown",
   "id": "17765229-1bc7-442c-b32b-d8e909c22a43",
   "metadata": {},
   "source": []
  },
  {
   "cell_type": "markdown",
   "id": "2b66cf72-ae2d-4eea-af8a-0ba5b93d9ad1",
   "metadata": {},
   "source": [
    "布尔表达式：条件测试的别名，结果不是True就是False\n",
    "布尔值变量：存储布尔表达式结果的变量"
   ]
  },
  {
   "cell_type": "code",
   "execution_count": 23,
   "id": "ce323a0a-22a5-46fc-9706-8eb867ad8cfb",
   "metadata": {},
   "outputs": [],
   "source": [
    "#not优先级高\n",
    "screen_active = True\n",
    "game_paused = False\n",
    "game_active = screen_active and not game_paused"
   ]
  },
  {
   "cell_type": "code",
   "execution_count": 19,
   "id": "31308e15-3083-4f2e-8a35-d8e3fa0581ca",
   "metadata": {},
   "outputs": [
    {
     "data": {
      "text/plain": [
       "True"
      ]
     },
     "execution_count": 19,
     "metadata": {},
     "output_type": "execute_result"
    }
   ],
   "source": [
    "True and not False\n",
    "True and (not False)"
   ]
  },
  {
   "cell_type": "code",
   "execution_count": null,
   "id": "23873705-8361-421d-8afa-859a8571666a",
   "metadata": {},
   "outputs": [],
   "source": []
  },
  {
   "cell_type": "code",
   "execution_count": 1,
   "id": "f77d1091-3094-4aa3-bb82-a3538203c1da",
   "metadata": {},
   "outputs": [
    {
     "name": "stdout",
     "output_type": "stream",
     "text": [
      "Is coat=='black'? I predit True.\n",
      "True\n",
      "Is coat=='white'.I predit False.\n",
      "False\n"
     ]
    }
   ],
   "source": [
    "#练习5.1条件测试\n",
    "coat='black'\n",
    "print(\"Is coat=='black'? I predit True.\")\n",
    "print(coat=='black')\n",
    "print(\"Is coat=='white'.I predit False.\")\n",
    "print(coat=='white')"
   ]
  },
  {
   "cell_type": "code",
   "execution_count": 2,
   "id": "807716c2-3027-4425-a37f-1fb530b6bfcb",
   "metadata": {},
   "outputs": [
    {
     "name": "stdout",
     "output_type": "stream",
     "text": [
      "True\n",
      "False\n",
      "True\n",
      "False\n"
     ]
    }
   ],
   "source": [
    "#练习5.2 更多条件测试\n",
    "answer='Yes'\n",
    "print(answer=='Yes')\n",
    "print(answer=='No')\n",
    "print(answer.lower()=='yes')\n",
    "print(answer=='yes')"
   ]
  },
  {
   "cell_type": "code",
   "execution_count": 3,
   "id": "f5eb1a6a-2a2f-4a8e-9e61-2b9fafcacdb1",
   "metadata": {},
   "outputs": [
    {
     "name": "stdout",
     "output_type": "stream",
     "text": [
      "True\n",
      "True\n",
      "True\n",
      "False\n",
      "True\n",
      "True\n",
      "False\n"
     ]
    }
   ],
   "source": [
    "cost=20\n",
    "print(cost==20)\n",
    "print(cost<25)\n",
    "print(cost<=20)\n",
    "print(cost>22)\n",
    "print(cost>=18)\n",
    "print(cost>18 and cost<25)\n",
    "print(cost<18 or cost>25)"
   ]
  },
  {
   "cell_type": "code",
   "execution_count": 4,
   "id": "fc1985e3-6bed-4b89-8c23-ba03eae3cd56",
   "metadata": {},
   "outputs": [
    {
     "name": "stdout",
     "output_type": "stream",
     "text": [
      "True\n",
      "False\n",
      "False\n"
     ]
    }
   ],
   "source": [
    "foods=['cake','bread','rice']\n",
    "print('rice' in foods)\n",
    "print('noodles' in foods)\n",
    "print('rice' not in foods)"
   ]
  },
  {
   "cell_type": "code",
   "execution_count": null,
   "id": "54a2d8ee-2665-4554-b95c-9900086fc6c8",
   "metadata": {},
   "outputs": [],
   "source": []
  },
  {
   "cell_type": "markdown",
   "id": "5c380703-2cab-4928-b571-3de3998d557e",
   "metadata": {},
   "source": [
    "5.3 IF语句"
   ]
  },
  {
   "cell_type": "code",
   "execution_count": 20,
   "id": "e8e3fc19-8463-41ab-b8f5-3495adfe11c0",
   "metadata": {},
   "outputs": [
    {
     "name": "stdout",
     "output_type": "stream",
     "text": [
      "Sorry,you are too young to vote.\n",
      "Please register to vote as soon as you turn 18!\n"
     ]
    }
   ],
   "source": [
    "#else可有零个或一个\n",
    "age = 17\n",
    "if age >= 18:\n",
    "    print(\"You are old enough to vote!\")\n",
    "    print(\"Have you registered to vote yet?\")\n",
    "else:\n",
    "    print(\"Sorry,you are too young to vote.\")\n",
    "    print(\"Please register to vote as soon as you turn 18!\")"
   ]
  },
  {
   "cell_type": "code",
   "execution_count": 21,
   "id": "f33dcc2c-0359-4f1f-b4be-ec4d5cf418ce",
   "metadata": {},
   "outputs": [
    {
     "name": "stdout",
     "output_type": "stream",
     "text": [
      "Your admission cost is $25.\n"
     ]
    }
   ],
   "source": [
    "#elif可有零个或多个，当IF的条件为假时，依次检查处理\n",
    "age = 17\n",
    "if age < 4:\n",
    "    print(\"Your admission cost is $0.\")\n",
    "elif age < 18:\n",
    "    print(\"Your admission cost is $25.\")\n",
    "elif age < 35:\n",
    "    print(\"Your admission cost is $25.\")\n",
    "elif age < 55:\n",
    "    print(\"Your admission cost is $25.\")\n",
    "else:\n",
    "    print(\"Your admission cost is $40.\")"
   ]
  },
  {
   "cell_type": "code",
   "execution_count": 24,
   "id": "b5b77748-2360-42dc-bb46-192982708cd2",
   "metadata": {},
   "outputs": [
    {
     "name": "stdout",
     "output_type": "stream",
     "text": [
      "Adding mushrooms.\n",
      "Adding extra cheese.\n",
      "\n",
      "Finished making your pizza!\n"
     ]
    }
   ],
   "source": [
    "requested_toppings = ['mushrooms','extra cheese']\n",
    "if 'mushrooms' in requested_toppings:\n",
    "    print(\"Adding mushrooms.\")\n",
    "if 'pepperoni' in requested_toppings:\n",
    "    print(\"Adding pepperoni.\")\n",
    "if 'extra cheese' in requested_toppings:\n",
    "    print(\"Adding extra cheese.\")\n",
    "print(\"\\nFinished making your pizza!\")"
   ]
  },
  {
   "cell_type": "code",
   "execution_count": 25,
   "id": "ed3647e4-d263-44da-bf36-be1e508346bb",
   "metadata": {},
   "outputs": [
    {
     "name": "stdout",
     "output_type": "stream",
     "text": [
      "Adding mushrooms.\n",
      "\n",
      "Finished making your pizza!\n"
     ]
    }
   ],
   "source": [
    "requested_toppings = ['mushrooms','extra cheese']\n",
    "if 'mushrooms' in requested_toppings:\n",
    "    print(\"Adding mushrooms.\")\n",
    "elif 'pepperoni' in requested_toppings:\n",
    "    #else:\"mushrooms\" not in requested_toppings\n",
    "    #if:\"pepperoni\" in requested_toppings\n",
    "    print(\"Adding pepperoni.\")\n",
    "elif 'extra cheese' in requested_toppings:\n",
    "    print(\"Adding extra cheese.\")\n",
    "print(\"\\nFinished making your pizza!\")"
   ]
  },
  {
   "cell_type": "code",
   "execution_count": null,
   "id": "7f161a08-8558-465d-9f91-ae769f3fbe26",
   "metadata": {},
   "outputs": [],
   "source": []
  },
  {
   "cell_type": "code",
   "execution_count": 7,
   "id": "ddf02252-5611-4744-af3a-e34c9e455cab",
   "metadata": {},
   "outputs": [
    {
     "name": "stdout",
     "output_type": "stream",
     "text": [
      "You earned 5 points!\n"
     ]
    }
   ],
   "source": [
    "#练习5.3外星人颜色1\n",
    "alien_color='green'\n",
    "if alien_color=='green':\n",
    "    print(\"You earned 5 points!\")\n",
    "    \n",
    "alien_color='red'\n",
    "if alien_color=='green':\n",
    "    print(\"You have earned 5 points!\")"
   ]
  },
  {
   "cell_type": "code",
   "execution_count": 8,
   "id": "88bf26e7-a761-42a7-b00a-a7a852e61ec5",
   "metadata": {},
   "outputs": [
    {
     "name": "stdout",
     "output_type": "stream",
     "text": [
      "You earned 5 points!\n"
     ]
    }
   ],
   "source": [
    "#练习5.4 外星人2\n",
    "alien_color='green'\n",
    "if alien_color=='green':\n",
    "    print(\"You earned 5 points!\")\n",
    "else:\n",
    "    print(\"You earned 10 points!\")"
   ]
  },
  {
   "cell_type": "code",
   "execution_count": 9,
   "id": "344155b7-6e86-4a6c-a078-547366e8a5f2",
   "metadata": {},
   "outputs": [
    {
     "name": "stdout",
     "output_type": "stream",
     "text": [
      "You earned 10 points!\n"
     ]
    }
   ],
   "source": [
    "alien_color='red'\n",
    "if alien_color=='green':\n",
    "    print(\"You earned 5 points!\")\n",
    "else:\n",
    "    print(\"You earned 10 points!\")"
   ]
  },
  {
   "cell_type": "code",
   "execution_count": 10,
   "id": "0a526f4c-0cab-4609-8e43-729d2a28d88b",
   "metadata": {},
   "outputs": [
    {
     "name": "stdout",
     "output_type": "stream",
     "text": [
      "You earned 15 points!\n"
     ]
    }
   ],
   "source": [
    "#练习5.5外星人颜色3\n",
    "alien_color='red'\n",
    "if alien_color=='green':\n",
    "    print(\"You earned 5 points!\")\n",
    "elif alien_color=='yellow':\n",
    "    print(\"You earned 10 points!\")\n",
    "else:\n",
    "    print(\"You earned 15 points!\")"
   ]
  },
  {
   "cell_type": "code",
   "execution_count": 11,
   "id": "b5f60dc5-566c-4e89-b8c2-3771f6774443",
   "metadata": {},
   "outputs": [
    {
     "name": "stdout",
     "output_type": "stream",
     "text": [
      "You earned 5 points!\n"
     ]
    }
   ],
   "source": [
    "alien_color='green'\n",
    "if alien_color=='green':\n",
    "    print(\"You earned 5 points!\")\n",
    "elif alien_color=='yellow':\n",
    "    print(\"You earned 10 points!\")\n",
    "else:\n",
    "    print(\"You earned 15 points!\")"
   ]
  },
  {
   "cell_type": "code",
   "execution_count": 12,
   "id": "0a7ab3b0-9c25-4f03-8140-7e302195611f",
   "metadata": {},
   "outputs": [
    {
     "name": "stdout",
     "output_type": "stream",
     "text": [
      "You earned 10 points!\n"
     ]
    }
   ],
   "source": [
    "alien_color='yellow'\n",
    "if alien_color=='green':\n",
    "    print(\"You earned 5 points!\")\n",
    "elif alien_color=='yellow':\n",
    "    print(\"You earned 10 points!\")\n",
    "else:\n",
    "    print(\"You earned 15 points!\")"
   ]
  },
  {
   "cell_type": "code",
   "execution_count": 13,
   "id": "d36a8ce6-614f-4ad2-88e3-9fd56a6ee159",
   "metadata": {},
   "outputs": [
    {
     "name": "stdout",
     "output_type": "stream",
     "text": [
      "This person is an adult.\n"
     ]
    }
   ],
   "source": [
    "#练习5.6人生的不同阶段\n",
    "age=20\n",
    "if age<2:\n",
    "    print(\"This person is a baby.\")\n",
    "elif age<4:\n",
    "    print(\"This person is a toddler.\")\n",
    "elif age<13:\n",
    "    print(\"This person is a child.\")\n",
    "elif age<18:\n",
    "    print(\"This person is a teenager.\")\n",
    "elif age<65:\n",
    "    print(\"This person is an adult.\")\n",
    "else:\n",
    "    print(\"This person is an elder.\")"
   ]
  },
  {
   "cell_type": "code",
   "execution_count": 14,
   "id": "ab08cf02-5584-47a7-bc9c-e1c2e43487a0",
   "metadata": {},
   "outputs": [
    {
     "name": "stdout",
     "output_type": "stream",
     "text": [
      "You really like oranges!\n",
      "You really like grapes!\n",
      "You really like apples!\n"
     ]
    }
   ],
   "source": [
    "#练习5.7喜欢的水果\n",
    "favorite_fruits=['oranges','grapes','apples']\n",
    "if 'oranges' in favorite_fruits:\n",
    "    print(\"You really like oranges!\")\n",
    "if 'bananas' in favorite_fruits:\n",
    "    print(\"You really like bananas!\")\n",
    "if 'grapes' in favorite_fruits:\n",
    "    print(\"You really like grapes!\")\n",
    "if 'apples' in favorite_fruits:\n",
    "    print(\"You really like apples!\")\n",
    "if 'strawberries' in favorite_fruits:\n",
    "    print(\"You really like strawberries!\")"
   ]
  },
  {
   "cell_type": "code",
   "execution_count": null,
   "id": "88f2b6b2-b004-45cb-8799-5314deb4e218",
   "metadata": {},
   "outputs": [],
   "source": []
  },
  {
   "cell_type": "markdown",
   "id": "6d058c7e-f534-4140-bf5e-95aaf041bf38",
   "metadata": {},
   "source": [
    "5.4 使用if语句处理列表"
   ]
  },
  {
   "cell_type": "markdown",
   "id": "dbd0ddbb-bb59-4d69-9a2d-5f829c1b6a46",
   "metadata": {},
   "source": [
    "5.4.1检查特殊元素"
   ]
  },
  {
   "cell_type": "code",
   "execution_count": 5,
   "id": "0e54c91d-b054-474b-90d1-4def6f0992d1",
   "metadata": {},
   "outputs": [
    {
     "name": "stdout",
     "output_type": "stream",
     "text": [
      "Adding mushrooms.\n",
      "Adding green peppers.\n",
      "Adding extra cheese.\n",
      "\n",
      "Finished making your pizza!\n"
     ]
    }
   ],
   "source": [
    "requested_toppings=['mushrooms','green peppers','extra cheese']\n",
    "for requested_topping in requested_toppings:\n",
    "    print(f\"Adding {requested_topping}.\")\n",
    "print(\"\\nFinished making your pizza!\")"
   ]
  },
  {
   "cell_type": "code",
   "execution_count": 6,
   "id": "ad94d8d5-bfbe-4197-9c5d-5b5ad477d465",
   "metadata": {},
   "outputs": [
    {
     "name": "stdout",
     "output_type": "stream",
     "text": [
      "Adding mushrooms.\n",
      "Sorry, we are out of green peppers right now.\n",
      "Adding extra cheese.\n",
      "\n",
      "Finished making your pizza!\n"
     ]
    }
   ],
   "source": [
    "requested_toppings=['mushrooms','green peppers','extra cheese']\n",
    "for requested_topping in requested_toppings:\n",
    "    if requested_topping=='green peppers':\n",
    "        print(\"Sorry, we are out of green peppers right now.\")\n",
    "    else:\n",
    "        print(f\"Adding {requested_topping}.\")\n",
    "print(\"\\nFinished making your pizza!\")"
   ]
  },
  {
   "cell_type": "markdown",
   "id": "18fec82f-c477-413c-8de5-e9b1bc76f4df",
   "metadata": {},
   "source": [
    "5.4.2 确定列表非空"
   ]
  },
  {
   "cell_type": "code",
   "execution_count": 26,
   "id": "76391c90-fe75-453d-995b-38c69ff2898b",
   "metadata": {},
   "outputs": [
    {
     "name": "stdout",
     "output_type": "stream",
     "text": [
      "Are you sure you want a plain pizza?\n"
     ]
    }
   ],
   "source": [
    "#我们可以将列表名用作条件表达式，这个表达式只有当列表至少包含一个元素时才为 True\n",
    "#将数值0、空值 None、空字符串\"\"、空元组()、空字典{}用作条件表达式，都会返回 False\n",
    "requested_toppings = []\n",
    "if requested_toppings:\n",
    "    for requested_topping in requested_toppings:\n",
    "        print(f\"Adding {requested_topping}.\")\n",
    "    print(\"\\nFinished making your pizza!\")\n",
    "else:\n",
    "    print(\"Are you sure you want a plain pizza?\")"
   ]
  },
  {
   "cell_type": "code",
   "execution_count": 2,
   "id": "aafe9413-82bb-4d91-af98-2a863dcb2525",
   "metadata": {},
   "outputs": [
    {
     "name": "stdout",
     "output_type": "stream",
     "text": [
      "Adding mushrooms.\n",
      "Sorry,we don't have french fries.\n",
      "Adding extra cheese.\n",
      "\n",
      "Finished making your pizza!\n"
     ]
    }
   ],
   "source": [
    "available_toppings = ['mushrooms','olives','green peppers','pepperoni','pineapple','extra cheese']\n",
    "requested_toppings = ['mushrooms','french fries','extra cheese']\n",
    "for requested_topping in requested_toppings:\n",
    "    if requested_topping in available_toppings:\n",
    "        print(f\"Adding {requested_topping}.\")\n",
    "    else:\n",
    "        print(f\"Sorry,we don't have {requested_topping}.\")\n",
    "\n",
    "print(\"\\nFinished making your pizza!\")"
   ]
  },
  {
   "cell_type": "code",
   "execution_count": null,
   "id": "dc4bc2d0-8ef7-43a2-911c-193214152a74",
   "metadata": {},
   "outputs": [],
   "source": []
  },
  {
   "cell_type": "code",
   "execution_count": 15,
   "id": "20831598-3b2f-4ef2-aab1-b174e8a518ca",
   "metadata": {},
   "outputs": [
    {
     "name": "stdout",
     "output_type": "stream",
     "text": [
      "Hello jack, thank you for logging in again.\n",
      "Hello nancy, thank you for logging in again.\n",
      "Hello admin, would you like to see a status report?\n",
      "Hello raven, thank you for logging in again.\n",
      "Hello laura, thank you for logging in again.\n"
     ]
    }
   ],
   "source": [
    "#练习5.8 以特殊方式跟管理员打电话\n",
    "usernames=['jack','nancy','admin','raven','laura']\n",
    "for username in usernames:\n",
    "    if username=='admin':\n",
    "        print(f\"Hello {username}, would you like to see a status report?\")\n",
    "    else:\n",
    "        print(f\"Hello {username}, thank you for logging in again.\")"
   ]
  },
  {
   "cell_type": "code",
   "execution_count": 16,
   "id": "f6ead02a-3a80-47e9-a2f8-c1f3e395a0b5",
   "metadata": {},
   "outputs": [
    {
     "name": "stdout",
     "output_type": "stream",
     "text": [
      "We need more users!\n"
     ]
    }
   ],
   "source": [
    "#练习5.9处理没有用户的情形\n",
    "usernames=[]\n",
    "if usernames:\n",
    "    for username in usernames:\n",
    "        if username=='admin':\n",
    "            print(f\"Hello {username}, would you like to see a status report?\")\n",
    "        else:\n",
    "            print(f\"Hello {username}, thank you for logging in again.\")\n",
    "else:\n",
    "    print(\"We need more users!\")"
   ]
  },
  {
   "cell_type": "code",
   "execution_count": 17,
   "id": "337d7664-5bf2-4ad8-b036-23c66071f757",
   "metadata": {},
   "outputs": [
    {
     "name": "stdout",
     "output_type": "stream",
     "text": [
      "The name 'Sam' is available.\n",
      "Sorry Harry, this name has been used.\n",
      "Sorry DAVID, this name has been used.\n",
      "The name 'anna' is available.\n",
      "The name 'Willy' is available.\n"
     ]
    }
   ],
   "source": [
    "#练习5.10 检查用户名\n",
    "current_users=['david','harry','admin','Harl','fanny']\n",
    "new_users=['Sam','Harry','DAVID','anna','Willy']\n",
    "current_users_lower=[user.lower() for user in current_users]\n",
    "for new_user in new_users:\n",
    "    if new_user.lower() in current_users:\n",
    "        print(f\"Sorry {new_user}, this name has been used.\")\n",
    "    else:\n",
    "        print(f\"The name '{new_user}' is available.\")"
   ]
  },
  {
   "cell_type": "code",
   "execution_count": 18,
   "id": "7983a0b5-2b4d-40a9-ab4c-5ad395c6ba6b",
   "metadata": {},
   "outputs": [
    {
     "name": "stdout",
     "output_type": "stream",
     "text": [
      "1st\n",
      "2rd\n",
      "3rd\n",
      "4th\n",
      "5th\n",
      "6th\n",
      "7th\n",
      "8th\n",
      "9th\n"
     ]
    }
   ],
   "source": [
    "#练习5.11序数\n",
    "numbers=list(range(1,10))\n",
    "for number in numbers:\n",
    "    if number==1:\n",
    "        print(\"1st\")\n",
    "    elif number==2:\n",
    "        print(\"2rd\")\n",
    "    elif number==3:\n",
    "        print(\"3rd\")\n",
    "    else:\n",
    "        print(f\"{number}th\")"
   ]
  },
  {
   "cell_type": "code",
   "execution_count": null,
   "id": "1422e818-adfb-4492-bfff-72978d724c15",
   "metadata": {},
   "outputs": [],
   "source": []
  },
  {
   "cell_type": "markdown",
   "id": "d9ef4008-ad4b-49bf-ac87-53d2eef831cf",
   "metadata": {},
   "source": [
    "5.5 设置if语句的格式"
   ]
  },
  {
   "cell_type": "code",
   "execution_count": 19,
   "id": "ca06139f-049c-4e2a-8341-2bcea988b7c6",
   "metadata": {},
   "outputs": [
    {
     "name": "stdout",
     "output_type": "stream",
     "text": [
      "Welcome.\n"
     ]
    }
   ],
   "source": [
    "##建议在比较运算符的两边都加空格：\n",
    "age=22\n",
    "if age > 20:\n",
    "    print(\"Welcome.\")"
   ]
  }
 ],
 "metadata": {
  "kernelspec": {
   "display_name": "Python 3 (ipykernel)",
   "language": "python",
   "name": "python3"
  },
  "language_info": {
   "codemirror_mode": {
    "name": "ipython",
    "version": 3
   },
   "file_extension": ".py",
   "mimetype": "text/x-python",
   "name": "python",
   "nbconvert_exporter": "python",
   "pygments_lexer": "ipython3",
   "version": "3.11.7"
  }
 },
 "nbformat": 4,
 "nbformat_minor": 5
}
