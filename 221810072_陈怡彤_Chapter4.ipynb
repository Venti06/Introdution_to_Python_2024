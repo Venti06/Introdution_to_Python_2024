{
 "cells": [
  {
   "cell_type": "markdown",
   "id": "fdc4ec66-c745-4270-b427-a83011b3b844",
   "metadata": {},
   "source": [
    "第四章 操作列表"
   ]
  },
  {
   "cell_type": "markdown",
   "id": "721ab13b-d14c-459d-b611-7892bee2f462",
   "metadata": {},
   "source": []
  },
  {
   "cell_type": "markdown",
   "id": "c0ad1c23-7aa3-4bbf-ba59-13f6581208e1",
   "metadata": {},
   "source": [
    "4.1 循环"
   ]
  },
  {
   "cell_type": "code",
   "execution_count": 3,
   "id": "65af1fec-caff-403f-81c2-a00a50bd2002",
   "metadata": {},
   "outputs": [
    {
     "name": "stdout",
     "output_type": "stream",
     "text": [
      "alice\n",
      "david\n",
      "carolina\n"
     ]
    }
   ],
   "source": [
    "#for关键字定义一个循环体，print前缩进四个空格\n",
    "magicians=['alice','david','carolina']\n",
    "for magician in magicians:\n",
    "    print(magician)"
   ]
  },
  {
   "cell_type": "code",
   "execution_count": 6,
   "id": "8bfdb904-420b-401a-812d-84f17bc7c720",
   "metadata": {},
   "outputs": [
    {
     "name": "stdout",
     "output_type": "stream",
     "text": [
      "alice\n",
      "Alice,that was a great trick!\n",
      "I can't wait to see more,Alice.\n",
      "\n",
      "david\n",
      "David,that was a great trick!\n",
      "I can't wait to see more,David.\n",
      "\n",
      "carolina\n",
      "Carolina,that was a great trick!\n",
      "I can't wait to see more,Carolina.\n",
      "\n",
      "Thank you,everyone.That was a great magic show!\n"
     ]
    }
   ],
   "source": [
    "magicians=['alice','david','carolina']\n",
    "for magician in magicians:\n",
    "    print(magician)\n",
    "    print(f\"{(magician.title())},that was a great trick!\")\n",
    "    print(f\"I can't wait to see more,{magician.title()}.\\n\")\n",
    "\n",
    "print(\"Thank you,everyone.That was a great magic show!\")"
   ]
  },
  {
   "cell_type": "markdown",
   "id": "537191f0-ba77-4159-8522-0a83984e3ac8",
   "metadata": {},
   "source": []
  },
  {
   "cell_type": "markdown",
   "id": "51a754bf-d3d4-4dd7-9473-6e01c94b851c",
   "metadata": {},
   "source": [
    "4.2 避免缩进错误"
   ]
  },
  {
   "cell_type": "markdown",
   "id": "e3ba8b09-be1e-450b-8ea0-3900dc4573ae",
   "metadata": {},
   "source": []
  },
  {
   "cell_type": "code",
   "execution_count": 1,
   "id": "0d24bb7e-2a25-4dad-b1a8-b0f47646ab74",
   "metadata": {},
   "outputs": [
    {
     "name": "stdout",
     "output_type": "stream",
     "text": [
      "pepperoni\n",
      "margherita\n",
      "hawaiian\n",
      "I like pepperoni pizza.\n",
      "I like margherita pizza.\n",
      "I like hawaiian pizza.\n",
      "\n",
      "I really love pizza!\n"
     ]
    }
   ],
   "source": [
    "#练习4.1比萨\n",
    "pizzas=['pepperoni','margherita','hawaiian']\n",
    "for pizza in pizzas:\n",
    "    print(pizza)\n",
    "for pizza in pizzas:\n",
    "    print(f\"I like {pizza} pizza.\")\n",
    "print(\"\\nI really love pizza!\")"
   ]
  },
  {
   "cell_type": "code",
   "execution_count": 2,
   "id": "5f9d0602-3098-4701-bf92-bb0fb3dfa8f5",
   "metadata": {},
   "outputs": [
    {
     "name": "stdout",
     "output_type": "stream",
     "text": [
      "A cat would make a great pet.\n",
      "A dog would make a great pet.\n",
      "A rabbit would make a great pet.\n",
      "Any of these animals would make a great pet.\n"
     ]
    }
   ],
   "source": [
    "#练习4.2动物\n",
    "animals=['cat','dog','rabbit']\n",
    "for animal in animals:\n",
    "    print(f\"A {animal} would make a great pet.\")\n",
    "print(\"Any of these animals would make a great pet.\")"
   ]
  },
  {
   "cell_type": "code",
   "execution_count": null,
   "id": "9911d5c6-54bd-4f4e-a69f-be94e02df42a",
   "metadata": {},
   "outputs": [],
   "source": []
  },
  {
   "cell_type": "markdown",
   "id": "777d0175-c6fb-4a84-8795-82139c37c143",
   "metadata": {},
   "source": [
    "4.3 创建数值列表"
   ]
  },
  {
   "cell_type": "code",
   "execution_count": 9,
   "id": "db9ef863-4469-4d10-9166-386610b09862",
   "metadata": {},
   "outputs": [
    {
     "name": "stdout",
     "output_type": "stream",
     "text": [
      "0\n",
      "1\n",
      "2\n",
      "3\n",
      "4\n",
      "5\n"
     ]
    }
   ],
   "source": [
    "for value in range(6):\n",
    "    print(value)"
   ]
  },
  {
   "cell_type": "code",
   "execution_count": 7,
   "id": "cde883ea-454b-4f29-a2e8-e58b76c0f7bc",
   "metadata": {},
   "outputs": [
    {
     "name": "stdout",
     "output_type": "stream",
     "text": [
      "1\n",
      "2\n",
      "3\n",
      "4\n",
      "5\n"
     ]
    }
   ],
   "source": [
    "start=1\n",
    "end=5\n",
    "for value in range(start,end+1):\n",
    "    print(value)"
   ]
  },
  {
   "cell_type": "code",
   "execution_count": 10,
   "id": "02f616df-a32d-4cc9-8f7f-e6db54fb46d8",
   "metadata": {},
   "outputs": [
    {
     "name": "stdout",
     "output_type": "stream",
     "text": [
      "[1]\n",
      "[1, 4]\n",
      "[1, 4, 9]\n",
      "[1, 4, 9, 16]\n",
      "[1, 4, 9, 16, 25]\n",
      "[1, 4, 9, 16, 25, 36]\n",
      "[1, 4, 9, 16, 25, 36, 49]\n",
      "[1, 4, 9, 16, 25, 36, 49, 64]\n",
      "[1, 4, 9, 16, 25, 36, 49, 64, 81]\n",
      "[1, 4, 9, 16, 25, 36, 49, 64, 81, 100]\n"
     ]
    }
   ],
   "source": [
    "squares=[]\n",
    "for value in range(1,11):\n",
    "    squares.append(value**2)\n",
    "    print(squares)"
   ]
  },
  {
   "cell_type": "code",
   "execution_count": 11,
   "id": "c5d4970c-68a4-483d-957e-9e914c0183d4",
   "metadata": {},
   "outputs": [
    {
     "name": "stdout",
     "output_type": "stream",
     "text": [
      "[1, 4, 9, 16, 25, 36, 49, 64, 81, 100]\n"
     ]
    }
   ],
   "source": [
    "squares=[]\n",
    "for value in range(1,11):\n",
    "    squares.append(value**2)\n",
    "print(squares)"
   ]
  },
  {
   "cell_type": "code",
   "execution_count": 13,
   "id": "dcb4442c-b24c-41e0-bb2e-5c29f38237a8",
   "metadata": {},
   "outputs": [
    {
     "name": "stdout",
     "output_type": "stream",
     "text": [
      "[1, 2, 3, 4, 5, 6, 7, 8, 9, 10]\n",
      "[3, 4, 5, 6, 7, 8, 9, 10, 11, 12]\n",
      "[1, 4, 9, 16, 25, 36, 49, 64, 81, 100]\n"
     ]
    }
   ],
   "source": [
    "squares=[value for value in range(1,11)]\n",
    "print(squares)\n",
    "squares=[value+2 for value in range(1,11)]\n",
    "print(squares)\n",
    "squares=[value**2 for value in range(1,11)]\n",
    "print(squares)"
   ]
  },
  {
   "cell_type": "code",
   "execution_count": 17,
   "id": "ef4829e1-819a-411c-8f9a-b84ca8b62bd7",
   "metadata": {},
   "outputs": [
    {
     "name": "stdout",
     "output_type": "stream",
     "text": [
      "[1, 4, 9, 16, 25, 36, 49, 64, 81, 100]\n",
      "1\n",
      "100\n",
      "385\n"
     ]
    }
   ],
   "source": [
    "digits=squares\n",
    "print(digits)\n",
    "print(min(digits))\n",
    "print(max(digits))\n",
    "print(sum(digits))"
   ]
  },
  {
   "cell_type": "code",
   "execution_count": null,
   "id": "a02773df-661b-454a-b2a8-46b33bb8a120",
   "metadata": {},
   "outputs": [],
   "source": []
  },
  {
   "cell_type": "code",
   "execution_count": 3,
   "id": "def77110-5819-4569-8558-d1abcd60c9fe",
   "metadata": {},
   "outputs": [
    {
     "name": "stdout",
     "output_type": "stream",
     "text": [
      "1\n",
      "2\n",
      "3\n",
      "4\n",
      "5\n",
      "6\n",
      "7\n",
      "8\n",
      "9\n",
      "10\n",
      "11\n",
      "12\n",
      "13\n",
      "14\n",
      "15\n",
      "16\n",
      "17\n",
      "18\n",
      "19\n",
      "20\n"
     ]
    }
   ],
   "source": [
    "#练习4.3\n",
    "numbers=list(range(1,21))\n",
    "for number in numbers:\n",
    "    print(number)"
   ]
  },
  {
   "cell_type": "code",
   "execution_count": 4,
   "id": "db9d86c2-5b67-4ca0-9ef0-c58390303c93",
   "metadata": {},
   "outputs": [
    {
     "name": "stdout",
     "output_type": "stream",
     "text": [
      "1\n",
      "1000000\n",
      "500000500000\n"
     ]
    }
   ],
   "source": [
    "#练习4.5\n",
    "numbers=list(range(1,1_000_001))\n",
    "print(min(numbers))\n",
    "print(max(numbers))\n",
    "print(sum(numbers))"
   ]
  },
  {
   "cell_type": "code",
   "execution_count": 5,
   "id": "aaf314ff-38bc-4b2b-b7c7-31448bf01c74",
   "metadata": {},
   "outputs": [
    {
     "name": "stdout",
     "output_type": "stream",
     "text": [
      "1\n",
      "3\n",
      "5\n",
      "7\n",
      "9\n",
      "11\n",
      "13\n",
      "15\n",
      "17\n",
      "19\n"
     ]
    }
   ],
   "source": [
    "#练习4.6\n",
    "odd_numbers=list(range(1,20,2))\n",
    "for number in odd_numbers:\n",
    "    print(number)"
   ]
  },
  {
   "cell_type": "code",
   "execution_count": 6,
   "id": "ea405891-1d53-4562-9688-2933eb1966ad",
   "metadata": {},
   "outputs": [
    {
     "name": "stdout",
     "output_type": "stream",
     "text": [
      "3\n",
      "6\n",
      "9\n",
      "12\n",
      "15\n",
      "18\n",
      "21\n",
      "24\n",
      "27\n",
      "30\n"
     ]
    }
   ],
   "source": [
    "#练习4.7\n",
    "three_numbers=list(range(3,31,3))\n",
    "for number in three_numbers:\n",
    "    print(number)"
   ]
  },
  {
   "cell_type": "code",
   "execution_count": 7,
   "id": "168ab354-51d9-459c-a647-14154ac92090",
   "metadata": {},
   "outputs": [
    {
     "name": "stdout",
     "output_type": "stream",
     "text": [
      "1\n",
      "8\n",
      "27\n",
      "64\n",
      "125\n",
      "216\n",
      "343\n",
      "512\n",
      "729\n",
      "1000\n"
     ]
    }
   ],
   "source": [
    "#练习4.8 立方\n",
    "cubes=[]\n",
    "for number in range(1,11):\n",
    "    cube=number**3\n",
    "    cubes.append(cube)\n",
    "for cube in cubes:\n",
    "    print(cube)"
   ]
  },
  {
   "cell_type": "code",
   "execution_count": 8,
   "id": "af132bbf-2b19-474a-93cf-a3402ef3777c",
   "metadata": {},
   "outputs": [
    {
     "name": "stdout",
     "output_type": "stream",
     "text": [
      "1\n",
      "8\n",
      "27\n",
      "64\n",
      "125\n",
      "216\n",
      "343\n",
      "512\n",
      "729\n",
      "1000\n"
     ]
    }
   ],
   "source": [
    "#练习4.9 立方推导式\n",
    "cubes=[number**3 for number in range(1,11)]\n",
    "for cube in cubes:\n",
    "    print(cube)"
   ]
  },
  {
   "cell_type": "code",
   "execution_count": null,
   "id": "4b5ff21f-f3e3-450d-88bc-5d92f6846e84",
   "metadata": {},
   "outputs": [],
   "source": []
  },
  {
   "cell_type": "markdown",
   "id": "b02c21ea-ee02-42cf-b1e3-f30e76dc0993",
   "metadata": {},
   "source": [
    "4.4 切片"
   ]
  },
  {
   "cell_type": "code",
   "execution_count": 18,
   "id": "a16aefcf-759b-4c6c-a666-bc1d633c88d2",
   "metadata": {},
   "outputs": [
    {
     "name": "stdout",
     "output_type": "stream",
     "text": [
      "['michael']\n"
     ]
    }
   ],
   "source": [
    "players=['charles','martina','michael','florence']\n",
    "print(players[-2:-1])"
   ]
  },
  {
   "cell_type": "code",
   "execution_count": 21,
   "id": "02287dc2-4817-4f07-b82f-a57bfde3191d",
   "metadata": {},
   "outputs": [
    {
     "name": "stdout",
     "output_type": "stream",
     "text": [
      "Here are the first three players on my team:\n",
      "Michael\n"
     ]
    }
   ],
   "source": [
    "players=['charles','martina','michael','florence']\n",
    "print(\"Here are the first three players on my team:\")\n",
    "for player in players[2:3]:\n",
    "    print(player.title())"
   ]
  },
  {
   "cell_type": "code",
   "execution_count": 16,
   "id": "5296e3de-b1bb-4020-8970-0fc07494f358",
   "metadata": {},
   "outputs": [
    {
     "name": "stdout",
     "output_type": "stream",
     "text": [
      "My favorite foods are:\n",
      "['pizza', 'falafel', 'carrot cake', 'connoli']\n",
      "\n",
      "My friend's favorite foods are:\n",
      "['pizza', 'falafel', 'carrot cake', 'ice cream']\n"
     ]
    }
   ],
   "source": [
    "#[:]为切片，不加则输出my foods与friend foods一致\n",
    "my_foods=['pizza','falafel','carrot cake']\n",
    "friend_foods=my_foods[:]\n",
    "my_foods.append('connoli')\n",
    "friend_foods.append('ice cream')\n",
    "print(\"My favorite foods are:\")\n",
    "print(my_foods)\n",
    "print(\"\\nMy friend's favorite foods are:\")\n",
    "print(friend_foods)"
   ]
  },
  {
   "cell_type": "code",
   "execution_count": null,
   "id": "9bdd7175-658c-4532-8ba1-cc4875c6dc92",
   "metadata": {},
   "outputs": [],
   "source": []
  },
  {
   "cell_type": "code",
   "execution_count": 9,
   "id": "25327245-8142-4934-bd73-00e9ce5d1bff",
   "metadata": {},
   "outputs": [
    {
     "name": "stdout",
     "output_type": "stream",
     "text": [
      "The fist three items in the list are:\n",
      "['charles', 'martina', 'michael']\n",
      "\n",
      "The items from the middle of the list are:\n",
      "['martina', 'michael', 'florence']\n",
      "\n",
      "The last items in th list are:\n",
      "['michael', 'florence', 'eli']\n"
     ]
    }
   ],
   "source": [
    "#练习4.10切片\n",
    "players=['charles','martina','michael','florence','eli']\n",
    "print(\"The fist three items in the list are:\")\n",
    "print(players[0:3])\n",
    "print(\"\\nThe items from the middle of the list are:\")\n",
    "print(players[1:4])\n",
    "print(\"\\nThe last items in th list are:\")\n",
    "print(players[-3:])"
   ]
  },
  {
   "cell_type": "code",
   "execution_count": 10,
   "id": "3d3c6156-d462-46ac-832c-88ce717c4f8a",
   "metadata": {},
   "outputs": [
    {
     "name": "stdout",
     "output_type": "stream",
     "text": [
      "\n",
      "My favorite pizzas are:\n",
      "pepperoni\n",
      "margherita\n",
      "hawaiian\n",
      "bacon\n",
      "\n",
      "My friend's favorite pizzas are:\n",
      "pepperoni\n",
      "margherita\n",
      "hawaiian\n",
      "supreme\n"
     ]
    }
   ],
   "source": [
    "#练习4.11 你的比萨，我的比萨\n",
    "pizzas=['pepperoni','margherita','hawaiian']\n",
    "friend_pizzas=pizzas[:]\n",
    "pizzas.append(\"bacon\")\n",
    "friend_pizzas.append(\"supreme\")\n",
    "print(\"\\nMy favorite pizzas are:\")\n",
    "for pizza in pizzas:\n",
    "    print(pizza)\n",
    "print(\"\\nMy friend's favorite pizzas are:\")\n",
    "for friend_pizza in friend_pizzas:\n",
    "    print(friend_pizza)"
   ]
  },
  {
   "cell_type": "code",
   "execution_count": 11,
   "id": "a6377e45-85fb-4117-b08b-a9dd8599d28d",
   "metadata": {},
   "outputs": [
    {
     "name": "stdout",
     "output_type": "stream",
     "text": [
      "My favorite foods are:\n",
      "pizza\n",
      "falafel\n",
      "carrot cake\n",
      "cannoli\n",
      "\n",
      "My friends's favorite foods are:\n",
      "pizza\n",
      "falafel\n",
      "carrot cake\n",
      "ice cream\n"
     ]
    }
   ],
   "source": [
    "#练习4.12使用多个循环\n",
    "my_foods=['pizza','falafel','carrot cake']\n",
    "## Deep Copy\n",
    "friend_foods=my_foods[:]\n",
    "my_foods.append('cannoli')\n",
    "friend_foods.append('ice cream')\n",
    "\n",
    "print(\"My favorite foods are:\")\n",
    "for my_food in my_foods:\n",
    "    print(my_food)\n",
    "print(\"\\nMy friends's favorite foods are:\")\n",
    "for friend_food in friend_foods:\n",
    "    print(friend_food)"
   ]
  },
  {
   "cell_type": "code",
   "execution_count": null,
   "id": "a28541bb-09df-4156-8654-62379f8a82dd",
   "metadata": {},
   "outputs": [],
   "source": []
  },
  {
   "cell_type": "markdown",
   "id": "abe65336-e9d0-4126-8ecd-8ce6e919c166",
   "metadata": {},
   "source": [
    "4.5 元组"
   ]
  },
  {
   "cell_type": "code",
   "execution_count": 20,
   "id": "94942a93-5585-48dc-994e-55610ba65002",
   "metadata": {},
   "outputs": [
    {
     "name": "stdout",
     "output_type": "stream",
     "text": [
      "200\n"
     ]
    }
   ],
   "source": [
    "dimensions=(200)\n",
    "print(dimensions)\n",
    "#print(dimensions[0])\n",
    "#print(dimensions[1])"
   ]
  },
  {
   "cell_type": "code",
   "execution_count": 13,
   "id": "83090b56-e2d5-432d-98d0-f5851bcf5766",
   "metadata": {},
   "outputs": [
    {
     "name": "stdout",
     "output_type": "stream",
     "text": [
      "200\n",
      "50\n"
     ]
    }
   ],
   "source": [
    "#遍历元组中的所有值\n",
    "dimensions=(200,50)\n",
    "for dimension in dimensions:\n",
    "    print(dimension)"
   ]
  },
  {
   "cell_type": "code",
   "execution_count": 14,
   "id": "0fcd7734-f2e6-4d0a-bd64-12bbac0e9292",
   "metadata": {},
   "outputs": [
    {
     "name": "stdout",
     "output_type": "stream",
     "text": [
      "Original dimensions:\n",
      "200\n",
      "50\n",
      "\n",
      "Modified dimensions:\n",
      "400\n",
      "100\n"
     ]
    }
   ],
   "source": [
    "#修改元组变量\n",
    "dimensions=(200,50)\n",
    "print(\"Original dimensions:\")\n",
    "for dimension in dimensions:\n",
    "    print(dimension)\n",
    "#不能直接修改其中的元素，但可以通过重新赋值的方法重新定义元组\n",
    "dimensions=(400,100)\n",
    "print(\"\\nModified dimensions:\")\n",
    "for dimension in dimensions:\n",
    "    print(dimension)"
   ]
  },
  {
   "cell_type": "code",
   "execution_count": null,
   "id": "66594c6d-b2b5-4a70-a6dc-1d80cbc700ce",
   "metadata": {},
   "outputs": [],
   "source": []
  },
  {
   "cell_type": "code",
   "execution_count": 12,
   "id": "8a50c04e-0edc-4f9b-9de9-e37bfec77ab9",
   "metadata": {},
   "outputs": [
    {
     "name": "stdout",
     "output_type": "stream",
     "text": [
      "You can choose from these:\n",
      "hamburger\n",
      "sandwich\n",
      "salad\n",
      "berry cake\n",
      "hot dog\n"
     ]
    }
   ],
   "source": [
    "##4.13自助餐\n",
    "foods=('hamburger','sandwich','salad','berry cake','hot dog')\n",
    "print(\"You can choose from these:\")\n",
    "for food in foods:\n",
    "    print(food)"
   ]
  },
  {
   "cell_type": "code",
   "execution_count": null,
   "id": "3442b7fd-8ed1-4585-ab56-ec987a3bd179",
   "metadata": {},
   "outputs": [],
   "source": [
    "foods=('hamburger','sandwich','salad','berry cake','hot dog')\n",
    "print(\"You can choose from these:\")\n",
    "for food in foods:\n",
    "    print(food)\n",
    "foods[0]='ice cream'"
   ]
  },
  {
   "cell_type": "code",
   "execution_count": 15,
   "id": "6dd1f49f-94e5-4d77-8fa7-1e5dfee066ba",
   "metadata": {},
   "outputs": [
    {
     "name": "stdout",
     "output_type": "stream",
     "text": [
      "You can choose from these:\n",
      "hamburger\n",
      "sandwich\n",
      "salad\n",
      "berry cake\n",
      "hot dog\n",
      "\n",
      "New menu:\n",
      "hamburger\n",
      "sandwich\n",
      "salad\n",
      "cherry pancake\n",
      "popcorn chicken\n"
     ]
    }
   ],
   "source": [
    "foods=('hamburger','sandwich','salad','berry cake','hot dog')\n",
    "print(\"You can choose from these:\")\n",
    "for food in foods:\n",
    "    print(food)\n",
    "foods=('hamburger','sandwich','salad','cherry pancake','popcorn chicken')\n",
    "print(\"\\nNew menu:\")\n",
    "for food in foods:\n",
    "    print(food)"
   ]
  },
  {
   "cell_type": "code",
   "execution_count": null,
   "id": "5d52c7f4-5456-4964-a384-9da48def8480",
   "metadata": {},
   "outputs": [],
   "source": []
  },
  {
   "cell_type": "code",
   "execution_count": null,
   "id": "3c32d7b0-7b76-4934-a15a-3da316023c2d",
   "metadata": {},
   "outputs": [],
   "source": []
  },
  {
   "cell_type": "code",
   "execution_count": null,
   "id": "a2e83816-0b4d-4a81-befc-86c4b32965c2",
   "metadata": {},
   "outputs": [],
   "source": []
  }
 ],
 "metadata": {
  "kernelspec": {
   "display_name": "Python 3 (ipykernel)",
   "language": "python",
   "name": "python3"
  },
  "language_info": {
   "codemirror_mode": {
    "name": "ipython",
    "version": 3
   },
   "file_extension": ".py",
   "mimetype": "text/x-python",
   "name": "python",
   "nbconvert_exporter": "python",
   "pygments_lexer": "ipython3",
   "version": "3.11.7"
  }
 },
 "nbformat": 4,
 "nbformat_minor": 5
}
