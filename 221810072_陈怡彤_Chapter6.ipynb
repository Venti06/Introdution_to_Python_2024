{
 "cells": [
  {
   "cell_type": "markdown",
   "id": "3edf7346-f8a6-4e75-998c-d0ae8aaeda3a",
   "metadata": {},
   "source": [
    "第六章 字典"
   ]
  },
  {
   "cell_type": "code",
   "execution_count": null,
   "id": "50f4e03a-c0b5-4988-b1d9-3f89405d59a8",
   "metadata": {},
   "outputs": [],
   "source": []
  },
  {
   "cell_type": "markdown",
   "id": "affac982-f42e-476f-b264-49816c167a99",
   "metadata": {},
   "source": [
    "6.1 一个简单的字典"
   ]
  },
  {
   "cell_type": "code",
   "execution_count": 2,
   "id": "6ec492b0-932c-4a04-9dda-6283902c7872",
   "metadata": {},
   "outputs": [
    {
     "name": "stdout",
     "output_type": "stream",
     "text": [
      "green\n"
     ]
    }
   ],
   "source": [
    "alien_0 = {\n",
    "    'color':'green',\n",
    "    'points':5\n",
    "}\n",
    "print(alien_0['color'])"
   ]
  },
  {
   "cell_type": "markdown",
   "id": "60688f89-55b0-46ec-9881-9acb79e19e59",
   "metadata": {},
   "source": [
    "6.2 使用字典"
   ]
  },
  {
   "cell_type": "markdown",
   "id": "3de37667-2cc0-444c-b07c-8f3cb714a61e",
   "metadata": {},
   "source": [
    "字典是一系列键值对，使用花括号标识\n",
    "使用键（key）来访问与之关联的值（value）\n",
    "键在字典中是唯一的，键和值之间用冒号分割"
   ]
  },
  {
   "cell_type": "markdown",
   "id": "9209ad33-e64c-476c-bc6f-2b758118fe04",
   "metadata": {},
   "source": [
    "6.2.1 访问字典中的值"
   ]
  },
  {
   "cell_type": "code",
   "execution_count": 1,
   "id": "7851b8c1-23eb-40b8-bcf3-59015c98e7e3",
   "metadata": {},
   "outputs": [
    {
     "name": "stdout",
     "output_type": "stream",
     "text": [
      "You just earned 5 points!\n"
     ]
    }
   ],
   "source": [
    "alien_0={'color':'green','point':5}\n",
    "new_points=alien_0['point']\n",
    "print(f\"You just earned {new_points} points!\")"
   ]
  },
  {
   "cell_type": "code",
   "execution_count": null,
   "id": "c0739f8d-c9f9-470a-a513-f9cc0ceadd00",
   "metadata": {},
   "outputs": [],
   "source": [
    "6.2.2 添加键值对"
   ]
  },
  {
   "cell_type": "code",
   "execution_count": 2,
   "id": "d20c2df3-8d18-4797-8e92-149edeea996e",
   "metadata": {},
   "outputs": [
    {
     "name": "stdout",
     "output_type": "stream",
     "text": [
      "{'color': 'green', 'point': 5}\n",
      "{'color': 'green', 'point': 5, 'x_position': 0, 'y_position': 25}\n"
     ]
    }
   ],
   "source": [
    "alien_0={'color':'green','point':5}\n",
    "print(alien_0)\n",
    "alien_0['x_position']=0\n",
    "alien_0['y_position']=25\n",
    "print(alien_0)"
   ]
  },
  {
   "cell_type": "markdown",
   "id": "405a9282-d5fc-4b1c-b1cb-827ba94ddf05",
   "metadata": {},
   "source": [
    "6.2.3 从创建一个空字典开始"
   ]
  },
  {
   "cell_type": "code",
   "execution_count": 3,
   "id": "95dfcf8e-6f13-441c-b39e-89cadce74f99",
   "metadata": {},
   "outputs": [
    {
     "name": "stdout",
     "output_type": "stream",
     "text": [
      "{'color': 'green', 'points': 5}\n"
     ]
    }
   ],
   "source": [
    "#定义空字典：可以用一对空花括号来定义一个空字典，键值对可以分行添加\n",
    "alien_0 = {}\n",
    "alien_0['color'] = 'green'\n",
    "alien_0['points'] = 5\n",
    "print(alien_0)"
   ]
  },
  {
   "cell_type": "code",
   "execution_count": 4,
   "id": "c5820dc4-8b0f-4f71-ab3a-27327925d3c2",
   "metadata": {},
   "outputs": [
    {
     "name": "stdout",
     "output_type": "stream",
     "text": [
      "['green', 5]\n"
     ]
    }
   ],
   "source": [
    "alien_0 = [0,0]\n",
    "alien_0[0] = 'green'\n",
    "alien_0[1] = 5\n",
    "print(alien_0)"
   ]
  },
  {
   "cell_type": "markdown",
   "id": "33817464-a6a3-43d7-bee1-f21175f383b9",
   "metadata": {},
   "source": [
    "6.2.4 修改字典中的值"
   ]
  },
  {
   "cell_type": "code",
   "execution_count": 3,
   "id": "61af7b18-fca0-47db-94ce-8a02e772c800",
   "metadata": {},
   "outputs": [
    {
     "name": "stdout",
     "output_type": "stream",
     "text": [
      "The alien is green.\n",
      "The alien is now yellow.\n"
     ]
    }
   ],
   "source": [
    "alien_0={'color':'green'}\n",
    "print(f\"The alien is {alien_0['color']}.\")\n",
    "alien_0['color']='yellow'\n",
    "print(f\"The alien is now {alien_0['color']}.\")"
   ]
  },
  {
   "cell_type": "code",
   "execution_count": 4,
   "id": "50f7df48-62c5-4ce1-8739-b7e8fa458bfb",
   "metadata": {},
   "outputs": [
    {
     "name": "stdout",
     "output_type": "stream",
     "text": [
      "Original position:0\n",
      "New position: 2\n"
     ]
    }
   ],
   "source": [
    "alien_0={'x_position':0,'y_position':25,'speed':'medium'}\n",
    "print(f\"Original position:{alien_0['x_position']}\")\n",
    "##向右移动外星人\n",
    "##根据当前速度确定将外星人向右移动多远\n",
    "if alien_0['speed']=='slow':\n",
    "    x_increment = 1\n",
    "elif alien_0['speed']=='medium':\n",
    "    x_increment = 2\n",
    "else:\n",
    "    ##这个外星人的移动速度为快\n",
    "    x_increment = 3\n",
    "##新位置为旧位置加上移动距离\n",
    "alien_0['x_position']=alien_0['x_position']+x_increment\n",
    "print(f\"New position: {alien_0['x_position']}\")"
   ]
  },
  {
   "cell_type": "markdown",
   "id": "6664af2b-afce-4bc1-bfe8-44d6b75a8ae0",
   "metadata": {},
   "source": [
    "6.2.5 删除键值对"
   ]
  },
  {
   "cell_type": "code",
   "execution_count": 5,
   "id": "ea8e2f83-8552-4341-99c1-0ace54bbec4e",
   "metadata": {},
   "outputs": [
    {
     "name": "stdout",
     "output_type": "stream",
     "text": [
      "{'color': 'green', 'points': 5}\n",
      "{'color': 'green'}\n"
     ]
    }
   ],
   "source": [
    "alien_0 = {'color':'green','points':5}\n",
    "print(alien_0)\n",
    "del alien_0['points']\n",
    "print(alien_0)"
   ]
  },
  {
   "cell_type": "code",
   "execution_count": null,
   "id": "052e165c-2365-4375-aef6-cab7c37a3085",
   "metadata": {},
   "outputs": [],
   "source": []
  },
  {
   "cell_type": "code",
   "execution_count": 8,
   "id": "bc0040ae-5031-4b2a-98d4-7eefa68f79d9",
   "metadata": {},
   "outputs": [
    {
     "name": "stdout",
     "output_type": "stream",
     "text": [
      "None\n"
     ]
    }
   ],
   "source": [
    "#使用 GET（）来访问值\n",
    "alien_0 = {'color':'green','speed':'slow'}\n",
    "point_value = alien_0.get('point')\n",
    "print(point_value)"
   ]
  },
  {
   "cell_type": "code",
   "execution_count": 10,
   "id": "795cdb1b-c94f-4748-8f6b-de9bad514f87",
   "metadata": {},
   "outputs": [
    {
     "name": "stdout",
     "output_type": "stream",
     "text": [
      "The key is not available.\n"
     ]
    }
   ],
   "source": [
    "#d.get(key,[default]):根据键获取值，default实参是可选的\n",
    "alien_0 = {'color':'green','speed':'slow'}\n",
    "point_value = alien_0.get('point',\"The key is not available.\")\n",
    "print(point_value)"
   ]
  },
  {
   "cell_type": "code",
   "execution_count": 23,
   "id": "e4ff1301-fa9b-41ea-8bd4-64d3cdedd033",
   "metadata": {},
   "outputs": [
    {
     "name": "stdout",
     "output_type": "stream",
     "text": [
      "jen python\n",
      "edward rust\n"
     ]
    }
   ],
   "source": [
    "favorites = {'jen':'python','edward':'rust'}\n",
    "for name,language in favorites.items():\n",
    "    print(name,language)"
   ]
  },
  {
   "cell_type": "code",
   "execution_count": 11,
   "id": "c5ab7656-a2a3-4f24-92ed-d0d6588eda52",
   "metadata": {},
   "outputs": [
    {
     "name": "stdout",
     "output_type": "stream",
     "text": [
      "('jen', 'python')\n",
      "('edward', 'rust')\n"
     ]
    }
   ],
   "source": [
    "favorites = {'jen':'python','edward':'rust'}\n",
    "for element in favorites.items():\n",
    "    print(element)"
   ]
  },
  {
   "cell_type": "code",
   "execution_count": 17,
   "id": "a35b2569-831f-44a1-ad1e-9d250fc3b4ce",
   "metadata": {},
   "outputs": [
    {
     "name": "stdout",
     "output_type": "stream",
     "text": [
      "jen\n",
      "jen loves Python.\n",
      "edward\n",
      "edward loves Rust.\n"
     ]
    }
   ],
   "source": [
    "favorites = {'jen':'python','edward':'rust'}\n",
    "for name in favorites.keys():\n",
    "    print(name)\n",
    "    language = favorites[name].title()\n",
    "    print(f\"{name} loves {language}.\")"
   ]
  },
  {
   "cell_type": "code",
   "execution_count": 24,
   "id": "07cb3071-e127-48b8-8750-c80cf2b195f5",
   "metadata": {},
   "outputs": [
    {
     "name": "stdout",
     "output_type": "stream",
     "text": [
      "jen loves python.\n",
      "edward loves rust.\n"
     ]
    }
   ],
   "source": [
    "favorites = {'jen':'python','edward':'rust'}\n",
    "for key,value in favorites.items():\n",
    "    print(f\"{key} loves {value}.\")"
   ]
  },
  {
   "cell_type": "code",
   "execution_count": null,
   "id": "302469e2-dd3a-47b5-9da0-2f3c1e3f0f2e",
   "metadata": {},
   "outputs": [],
   "source": []
  },
  {
   "cell_type": "code",
   "execution_count": 6,
   "id": "fc7490c5-7ae9-4170-9dfc-126ec232234b",
   "metadata": {},
   "outputs": [
    {
     "name": "stdout",
     "output_type": "stream",
     "text": [
      "{'fisrt_name': 'Harry', 'last_name': 'Potter', 'age': 17, 'city': 'London'}\n"
     ]
    }
   ],
   "source": [
    "#练习6.1 人\n",
    "message={\n",
    "    'fisrt_name':'Harry',\n",
    "    'last_name':'Potter',\n",
    "    'age':17,\n",
    "    'city':'London',\n",
    "}\n",
    "print(message)"
   ]
  },
  {
   "cell_type": "code",
   "execution_count": 7,
   "id": "9bad7052-e596-43b3-8785-efef0879374b",
   "metadata": {},
   "outputs": [
    {
     "name": "stdout",
     "output_type": "stream",
     "text": [
      "Anna's favorite number is 7.\n",
      "Bob's favorite number is 12.\n",
      "Sally's favorite number is 25.\n",
      "Harry's favorite number is 99.\n",
      "David's favorite number is 100.\n"
     ]
    }
   ],
   "source": [
    "#练习6.2 喜欢的数1\n",
    "numbers={\n",
    "    'Anna':7,\n",
    "    'Bob':12,\n",
    "    'Sally':25,\n",
    "    'Harry':99,\n",
    "    'David':100\n",
    "}\n",
    "print(f\"Anna's favorite number is {numbers['Anna']}.\")\n",
    "print(f\"Bob's favorite number is {numbers['Bob']}.\")\n",
    "print(f\"Sally's favorite number is {numbers['Sally']}.\")\n",
    "print(f\"Harry's favorite number is {numbers['Harry']}.\")\n",
    "print(f\"David's favorite number is {numbers['David']}.\")"
   ]
  },
  {
   "cell_type": "code",
   "execution_count": 8,
   "id": "8118a24f-98d8-42e6-b7ef-e721429d6e08",
   "metadata": {},
   "outputs": [
    {
     "name": "stdout",
     "output_type": "stream",
     "text": [
      "\n",
      "Value: 与变量相关联的信息\n",
      "\n",
      "String: 一系列字符串\n",
      "\n",
      "Float: 带小数点的数\n",
      "\n",
      "List: 由一系列安特定顺序排列的元素组成\n",
      "\n",
      "Tuple: 不可变的列表\n"
     ]
    }
   ],
   "source": [
    "#练习6.3 词汇表1\n",
    "编程术语={\n",
    "    'value':'与变量相关联的信息',\n",
    "    'string':'一系列字符串',\n",
    "    'float':'带小数点的数',\n",
    "    'list':'由一系列安特定顺序排列的元素组成',\n",
    "    'slice':'列表中的部分元素',\n",
    "    'tuple':'不可变的列表',\n",
    "}\n",
    "print(f\"\\nValue: {编程术语['value']}\")\n",
    "print(f\"\\nString: {编程术语['string']}\")\n",
    "print(f\"\\nFloat: {编程术语['float']}\")\n",
    "print(f\"\\nList: {编程术语['list']}\")\n",
    "print(f\"\\nTuple: {编程术语['tuple']}\")"
   ]
  },
  {
   "cell_type": "code",
   "execution_count": null,
   "id": "78d32ffc-0b55-4ad4-ab7a-2c297388836c",
   "metadata": {},
   "outputs": [],
   "source": []
  },
  {
   "cell_type": "markdown",
   "id": "c0f94989-2b78-4986-bb5f-c42087dee53b",
   "metadata": {},
   "source": [
    "6.3 遍历字典"
   ]
  },
  {
   "cell_type": "markdown",
   "id": "772b6919-6912-4141-881a-275d7819482a",
   "metadata": {},
   "source": [
    "6.3.1遍历所有的键值对"
   ]
  },
  {
   "cell_type": "code",
   "execution_count": 9,
   "id": "66faa19d-f2b1-4f49-bc91-25a1e6666cc8",
   "metadata": {},
   "outputs": [
    {
     "name": "stdout",
     "output_type": "stream",
     "text": [
      "\n",
      "Keys:username\n",
      "Value:efermi\n",
      "\n",
      "Keys:first\n",
      "Value:enrico\n",
      "\n",
      "Keys:last\n",
      "Value:firmi\n"
     ]
    }
   ],
   "source": [
    "user_0={\n",
    "    'username':'efermi',\n",
    "    'first':'enrico',\n",
    "    'last':'firmi',\n",
    "    }\n",
    "for key, value in user_0.items():\n",
    "    print(f\"\\nKeys:{key}\")\n",
    "    print(f\"Value:{value}\")\n",
    "##声明两个变量分别用于存储键和值即可\n"
   ]
  },
  {
   "cell_type": "code",
   "execution_count": 10,
   "id": "f04d7da9-4906-4957-a1b3-8b28b49362ec",
   "metadata": {},
   "outputs": [
    {
     "name": "stdout",
     "output_type": "stream",
     "text": [
      "Gen's favorite language is Python.\n",
      "Sarah's favorite language is C.\n",
      "Edward's favorite language is Rust.\n",
      "Phil's favorite language is Python.\n"
     ]
    }
   ],
   "source": [
    "favorite_languages={\n",
    "    'gen':'python',\n",
    "    'sarah':'c',\n",
    "    'edward':'rust',\n",
    "    'phil':'python',\n",
    "}\n",
    "for name,language in favorite_languages.items():\n",
    "    print(f\"{name.title()}'s favorite language is {language.title()}.\")"
   ]
  },
  {
   "cell_type": "markdown",
   "id": "82d38351-ff27-41e6-ae31-041ef4cadea0",
   "metadata": {},
   "source": [
    "6.3.2遍历字典中的所有键"
   ]
  },
  {
   "cell_type": "code",
   "execution_count": 11,
   "id": "fbd3e098-60a1-442a-ad7a-eedb9b816f42",
   "metadata": {},
   "outputs": [
    {
     "name": "stdout",
     "output_type": "stream",
     "text": [
      "Gen\n",
      "Sarah\n",
      "Edward\n",
      "Phil\n"
     ]
    }
   ],
   "source": [
    "favorite_languages={\n",
    "    'gen':'python',\n",
    "    'sarah':'c',\n",
    "    'edward':'rust',\n",
    "    'phil':'python',\n",
    "}\n",
    "for name in favorite_languages.keys():\n",
    "    print(name.title())"
   ]
  },
  {
   "cell_type": "code",
   "execution_count": 12,
   "id": "4dc6f7c0-99eb-4bfc-80ea-5679be8d8414",
   "metadata": {},
   "outputs": [
    {
     "name": "stdout",
     "output_type": "stream",
     "text": [
      "Gen\n",
      "Sarah\n",
      "Edward\n",
      "Phil\n"
     ]
    }
   ],
   "source": [
    "for name in favorite_languages:\n",
    "    print(name.title())"
   ]
  },
  {
   "cell_type": "code",
   "execution_count": 13,
   "id": "c1ca9c8a-f214-49c6-8a74-7ee596462824",
   "metadata": {},
   "outputs": [
    {
     "name": "stdout",
     "output_type": "stream",
     "text": [
      "Hi,Gen.\n",
      "Hi,Sarah.\n",
      "\tSarah, I see you love C!\n",
      "Hi,Edward.\n",
      "Hi,Phil.\n",
      "\tPhil, I see you love Python!\n"
     ]
    }
   ],
   "source": [
    "favorite_languages={\n",
    "    'gen':'python',\n",
    "    'sarah':'c',\n",
    "    'edward':'rust',\n",
    "    'phil':'python',\n",
    "}\n",
    "friends=['phil','sarah']\n",
    "for name in favorite_languages.keys():\n",
    "    print(f\"Hi,{name.title()}.\")\n",
    "    if name in friends:\n",
    "        language=favorite_languages[name].title()\n",
    "        print(f\"\\t{name.title()}, I see you love {language}!\")"
   ]
  },
  {
   "cell_type": "code",
   "execution_count": 14,
   "id": "8afc72d4-4b57-4b62-824c-d8f3d75be4c5",
   "metadata": {},
   "outputs": [
    {
     "name": "stdout",
     "output_type": "stream",
     "text": [
      "Erin, please take our poll!\n"
     ]
    }
   ],
   "source": [
    "favorite_languages={\n",
    "    'gen':'python',\n",
    "    'sarah':'c',\n",
    "    'edward':'rust',\n",
    "    'phil':'python',\n",
    "}\n",
    "if 'erin' not in favorite_languages.keys():\n",
    "    print(\"Erin, please take our poll!\")"
   ]
  },
  {
   "cell_type": "markdown",
   "id": "d25a7703-8cee-4d37-8773-f9985dcfd439",
   "metadata": {},
   "source": [
    "6.3.3按特定的顺序遍历字典中的所有键"
   ]
  },
  {
   "cell_type": "code",
   "execution_count": 15,
   "id": "ded13cef-bc9a-4a55-b435-96698ef4ede4",
   "metadata": {},
   "outputs": [
    {
     "name": "stdout",
     "output_type": "stream",
     "text": [
      "Edward, thank you for taking the poll.\n",
      "Gen, thank you for taking the poll.\n",
      "Phil, thank you for taking the poll.\n",
      "Sarah, thank you for taking the poll.\n"
     ]
    }
   ],
   "source": [
    "favorite_languages={\n",
    "    'gen':'python',\n",
    "    'sarah':'c',\n",
    "    'edward':'rust',\n",
    "    'phil':'python',\n",
    "}\n",
    "for name in sorted(favorite_languages.keys()):\n",
    "    print(f\"{name.title()}, thank you for taking the poll.\")"
   ]
  },
  {
   "cell_type": "markdown",
   "id": "f46a854e-7d11-43c7-9586-3e41b4f1cce1",
   "metadata": {},
   "source": [
    "6.3.4遍历字典中的所有值"
   ]
  },
  {
   "cell_type": "code",
   "execution_count": 16,
   "id": "839608d0-4084-4e1b-96cb-b95f67fa188a",
   "metadata": {},
   "outputs": [
    {
     "name": "stdout",
     "output_type": "stream",
     "text": [
      "Python\n",
      "C\n",
      "Rust\n",
      "Python\n"
     ]
    }
   ],
   "source": [
    "favorite_languages={\n",
    "    'gen':'python',\n",
    "    'sarah':'c',\n",
    "    'edward':'rust',\n",
    "    'phil':'python',\n",
    "}\n",
    "for language in favorite_languages.values():\n",
    "    print(language.title())"
   ]
  },
  {
   "cell_type": "code",
   "execution_count": 17,
   "id": "df1a4eac-127e-4023-a387-755c3267dd1e",
   "metadata": {},
   "outputs": [
    {
     "name": "stdout",
     "output_type": "stream",
     "text": [
      "The following languages have been mentioned.\n",
      "Rust\n",
      "Python\n",
      "C\n"
     ]
    }
   ],
   "source": [
    "favorite_languages={\n",
    "    'gen':'python',\n",
    "    'sarah':'c',\n",
    "    'edward':'rust',\n",
    "    'phil':'python',\n",
    "}\n",
    "print(\"The following languages have been mentioned.\")\n",
    "for language in set(favorite_languages.values()):\n",
    "    print(language.title())\n",
    "##用set()来剔除重复的元素"
   ]
  },
  {
   "cell_type": "code",
   "execution_count": null,
   "id": "39628f8f-a60b-487d-a27e-0bb4f545b433",
   "metadata": {},
   "outputs": [],
   "source": []
  },
  {
   "cell_type": "code",
   "execution_count": 18,
   "id": "9eb0f092-ca6a-4242-a691-9093454935da",
   "metadata": {},
   "outputs": [
    {
     "name": "stdout",
     "output_type": "stream",
     "text": [
      "\n",
      "Value:与变量相关联的信息\n",
      "\n",
      "String:一系列字符串\n",
      "\n",
      "Float:带小数点的数\n",
      "\n",
      "List:由一系列安特定顺序排列的元素组成\n",
      "\n",
      "Slice:列表中的部分元素\n",
      "\n",
      "Tuple:不可变的列表\n"
     ]
    }
   ],
   "source": [
    "#练习6.4 词汇表2\n",
    "编程术语={\n",
    "    'value':'与变量相关联的信息',\n",
    "    'string':'一系列字符串',\n",
    "    'float':'带小数点的数',\n",
    "    'list':'由一系列安特定顺序排列的元素组成',\n",
    "    'slice':'列表中的部分元素',\n",
    "    'tuple':'不可变的列表',\n",
    "}\n",
    "\n",
    "for word,definition in 编程术语.items():\n",
    "    print(f\"\\n{word.title()}:{definition}\")"
   ]
  },
  {
   "cell_type": "code",
   "execution_count": 19,
   "id": "00dda739-6739-4adb-bf68-64d7cae4c8fb",
   "metadata": {},
   "outputs": [
    {
     "name": "stdout",
     "output_type": "stream",
     "text": [
      "The Nile runs through Egypt.\n",
      "The Yangzi River runs through China.\n",
      "The Mississippi runs through America.\n",
      "\n",
      "The rivers include:\n",
      "Nile\n",
      "Yangzi River\n",
      "Mississippi\n",
      "\n",
      "The countries include:\n",
      "Egypt\n",
      "China\n",
      "America\n"
     ]
    }
   ],
   "source": [
    "#练习6.5 河流\n",
    "rivers = {\n",
    "    'nile':'egypt',\n",
    "    'yangzi river':'china',\n",
    "    'mississippi':'america',\n",
    "}\n",
    "\n",
    "for river, country in rivers.items():\n",
    "    print(f\"The {river.title()} runs through {country.title()}.\")\n",
    "print(\"\\nThe rivers include:\")\n",
    "for river in rivers.keys():\n",
    "    print(f\"{river.title()}\")\n",
    "\n",
    "print(\"\\nThe countries include:\")\n",
    "for country in rivers.values():\n",
    "    print(f\"{country.title()}\")"
   ]
  },
  {
   "cell_type": "code",
   "execution_count": 20,
   "id": "e2fb66d5-41bd-4f65-9573-3188cc2154fe",
   "metadata": {},
   "outputs": [
    {
     "name": "stdout",
     "output_type": "stream",
     "text": [
      "Gen's favorite language is Python.\n",
      "Sarah's favorite language is C.\n",
      "Edward's favorite language is Rust.\n",
      "Phil's favorite language is Python.\n",
      "David, can you tell us what's your favorite programming language?\n",
      "Thank you for participating in the survey, Edward!\n",
      "Kitty, can you tell us what's your favorite programming language?\n",
      "Fancy, can you tell us what's your favorite programming language?\n",
      "Bill, can you tell us what's your favorite programming language?\n"
     ]
    }
   ],
   "source": [
    "#练习6.6 调整\n",
    "favorite_languages={\n",
    "    'gen':'python',\n",
    "    'sarah':'c',\n",
    "    'edward':'rust',\n",
    "    'phil':'python',\n",
    "}\n",
    "for name,language in favorite_languages.items():\n",
    "    print(f\"{name.title()}'s favorite language is {language.title()}.\")\n",
    "\n",
    "members = ['david','edward','kitty','fancy','bill']\n",
    "for member in members:\n",
    "    if member in favorite_languages:\n",
    "        print(f\"Thank you for participating in the survey, {member.title()}!\")\n",
    "    else:\n",
    "        print(f\"{member.title()}, can you tell us what's your favorite programming language?\")"
   ]
  },
  {
   "cell_type": "code",
   "execution_count": null,
   "id": "e39128e2-dfd5-45d6-81f6-6bbd5ec7b4ad",
   "metadata": {},
   "outputs": [],
   "source": []
  },
  {
   "cell_type": "markdown",
   "id": "c8b0e912-a2b9-4828-be08-bd657db7fbe3",
   "metadata": {},
   "source": [
    "6.4 嵌套"
   ]
  },
  {
   "cell_type": "markdown",
   "id": "065ac7ca-042c-4574-920b-73112a6c83c4",
   "metadata": {},
   "source": [
    "6.4.1字典列表"
   ]
  },
  {
   "cell_type": "code",
   "execution_count": 21,
   "id": "93d8e9f9-30fb-4f14-8ba2-e2a91207c999",
   "metadata": {},
   "outputs": [
    {
     "name": "stdout",
     "output_type": "stream",
     "text": [
      "{'color': 'green', 'points': 5}\n",
      "{'color': 'yellow', 'points': 10}\n",
      "{'color': 'red', 'points': 15}\n"
     ]
    }
   ],
   "source": [
    "alien_0 = {'color': 'green', 'points': 5}\n",
    "alien_1 = {'color': 'yellow', 'points': 10}\n",
    "alien_2 = {'color': 'red', 'points': 15}\n",
    "\n",
    "aliens = [alien_0, alien_1, alien_2]\n",
    "\n",
    "for alien in aliens:\n",
    "    print(alien)"
   ]
  },
  {
   "cell_type": "code",
   "execution_count": 22,
   "id": "af36150b-21f0-44f9-9d54-4afa98dfda31",
   "metadata": {},
   "outputs": [
    {
     "name": "stdout",
     "output_type": "stream",
     "text": [
      "{'color': 'green', 'points': 5, 'speed': 'slow'}\n",
      "{'color': 'green', 'points': 5, 'speed': 'slow'}\n",
      "{'color': 'green', 'points': 5, 'speed': 'slow'}\n",
      "{'color': 'green', 'points': 5, 'speed': 'slow'}\n",
      "{'color': 'green', 'points': 5, 'speed': 'slow'}\n",
      "...\n",
      "Total number of aliens: 30\n"
     ]
    }
   ],
   "source": [
    "##创建一个用于储存外星人的空列表\n",
    "aliens = []\n",
    "\n",
    "##创建30个绿色的外星人\n",
    "for alien_number in range(30):\n",
    "    new_alien = {'color': 'green', 'points': 5, 'speed': 'slow'}\n",
    "    aliens.append(new_alien)\n",
    "\n",
    "##显示前5个外星人\n",
    "for alien in aliens[:5]:\n",
    "    print(alien)\n",
    "print(\"...\")\n",
    "\n",
    "#显示创建了多少个外星人\n",
    "print(f\"Total number of aliens: {len(aliens)}\")"
   ]
  },
  {
   "cell_type": "code",
   "execution_count": 23,
   "id": "5a806bb9-6fb3-4593-8976-594bde290548",
   "metadata": {},
   "outputs": [
    {
     "name": "stdout",
     "output_type": "stream",
     "text": [
      "{'color': 'yellow', 'points': 10, 'speed': 'medium'}\n",
      "{'color': 'yellow', 'points': 10, 'speed': 'medium'}\n",
      "{'color': 'yellow', 'points': 10, 'speed': 'medium'}\n",
      "{'color': 'green', 'points': 5, 'speed': 'slow'}\n",
      "{'color': 'green', 'points': 5, 'speed': 'slow'}\n",
      "...\n",
      "Total number of aliens: 30\n"
     ]
    }
   ],
   "source": [
    "##创建一个用于储存外星人的空列表\n",
    "aliens = []\n",
    "\n",
    "##创建30个绿色的外星人\n",
    "for alien_number in range(30):\n",
    "    new_alien = {'color': 'green', 'points': 5, 'speed': 'slow'}\n",
    "    aliens.append(new_alien)\n",
    "\n",
    "for alien in aliens[:3]:\n",
    "    if alien['color'] == 'green':\n",
    "        alien['color'] = 'yellow'\n",
    "        alien['speed'] = 'medium'\n",
    "        alien['points'] = 10\n",
    "        \n",
    "##显示前5个外星人\n",
    "for alien in aliens[:5]:\n",
    "    print(alien)\n",
    "print(\"...\")\n",
    "        \n",
    "#显示创建了多少个外星人\n",
    "print(f\"Total number of aliens: {len(aliens)}\")"
   ]
  },
  {
   "cell_type": "markdown",
   "id": "6d377fc0-f2d9-46c7-97cd-c7d0a98a2e82",
   "metadata": {},
   "source": [
    "6.4.2 在字典中存储列表"
   ]
  },
  {
   "cell_type": "code",
   "execution_count": 24,
   "id": "4e7a8275-56a8-4295-b5be-13c680b62aec",
   "metadata": {},
   "outputs": [
    {
     "name": "stdout",
     "output_type": "stream",
     "text": [
      "You ordered a thick-crust pizza with the following toppings:\n",
      "\tmushrooms\n",
      "\textra cheese\n"
     ]
    }
   ],
   "source": [
    "##存储顾客所点比萨的信息\n",
    "pizza = {\n",
    "    'crust': 'thick',\n",
    "    'toppings': ['mushrooms', 'extra cheese'],\n",
    "    }\n",
    "\n",
    "##概述顾客点的比萨\n",
    "print(f\"You ordered a {pizza['crust']}-crust pizza \"\n",
    "    \"with the following toppings:\")\n",
    "\n",
    "for topping in pizza['toppings']:\n",
    "    print(f\"\\t{topping}\")"
   ]
  },
  {
   "cell_type": "code",
   "execution_count": 25,
   "id": "3090adc4-df98-4e99-af38-38192a4973a1",
   "metadata": {},
   "outputs": [
    {
     "name": "stdout",
     "output_type": "stream",
     "text": [
      "\n",
      "Jen's favorite languages are:\n",
      "\tPython\n",
      "\tRust\n",
      "\n",
      "Sarah's favorite languages are:\n",
      "\tC\n",
      "\n",
      "Edward's favorite languages are:\n",
      "\tRust\n",
      "\tGo\n",
      "\n",
      "Phil's favorite languages are:\n",
      "\tPython\n",
      "\tHaskell\n"
     ]
    }
   ],
   "source": [
    "favorite_languages = {\n",
    "      'jen': ['python', 'rust'],\n",
    "      'sarah': ['c'],\n",
    "      'edward': ['rust', 'go'],\n",
    "      'phil': ['python', 'haskell'],\n",
    "      }\n",
    "\n",
    "for name, languages in favorite_languages.items():\n",
    "    print(f\"\\n{name.title()}'s favorite languages are:\")\n",
    "    for language in languages:\n",
    "        print(f\"\\t{language.title()}\")"
   ]
  },
  {
   "cell_type": "code",
   "execution_count": null,
   "id": "705c7aba-6d07-4e5f-aa6b-c98d1b9fd8d5",
   "metadata": {},
   "outputs": [],
   "source": [
    "#列表和字典的嵌套层级不应太多，否则很可能有更简单的结局方案"
   ]
  },
  {
   "cell_type": "markdown",
   "id": "39e0b0e8-2c9e-4ecc-b1e6-6655510a6a1c",
   "metadata": {},
   "source": [
    "6.4.3嵌套：在字典中存储字典"
   ]
  },
  {
   "cell_type": "code",
   "execution_count": 19,
   "id": "b7acbf1d-2e26-4455-98a7-19813bd148f7",
   "metadata": {},
   "outputs": [],
   "source": [
    "users = {\n",
    "    'aeinstein':{\n",
    "        'first':'albert',\n",
    "        'last':'einstein',\n",
    "        'location':'princeton',\n",
    "    },\n",
    "    'mcurie':{\n",
    "        'first':'marie',\n",
    "        'last':'curie',\n",
    "        'location':'paris',\n",
    "    },\n",
    "}"
   ]
  },
  {
   "cell_type": "markdown",
   "id": "40da127d-f14d-404f-a413-f3dc23bb6a2f",
   "metadata": {},
   "source": []
  },
  {
   "cell_type": "code",
   "execution_count": 22,
   "id": "fc2e0877-82c0-4ac2-a8a3-ab7f8555f4e7",
   "metadata": {},
   "outputs": [
    {
     "name": "stdout",
     "output_type": "stream",
     "text": [
      "\n",
      "Username:aeinstein\n",
      "\tFull name:Albert Einstein\n",
      "\tLocation:Princeton\n",
      "\n",
      "Username:mcurie\n",
      "\tFull name:Marie Curie\n",
      "\tLocation:Paris\n"
     ]
    }
   ],
   "source": [
    "for username,user_info in users.items():\n",
    "    print(f\"\\nUsername:{username}\")\n",
    "    full_name = f\"{user_info['first']} {user_info['last']}\"\n",
    "    location = user_info['location']\n",
    "    print(f\"\\tFull name:{full_name.title()}\")\n",
    "    print(f\"\\tLocation:{location.title()}\")"
   ]
  },
  {
   "cell_type": "code",
   "execution_count": null,
   "id": "5195d0c5-4588-48d3-b8bb-722301159613",
   "metadata": {},
   "outputs": [],
   "source": []
  },
  {
   "cell_type": "code",
   "execution_count": 26,
   "id": "5ff1c8e6-3342-4886-9678-43ebad2fe958",
   "metadata": {},
   "outputs": [
    {
     "name": "stdout",
     "output_type": "stream",
     "text": [
      "Harry Potter, from London, is 17 years old.\n",
      "Laura Austin, from Manchester, is 20 years old.\n",
      "Jie Zhang, from Shanghai, is 30 years old.\n"
     ]
    }
   ],
   "source": [
    "#6.7人们\n",
    "people = []\n",
    "\n",
    "message={\n",
    "    'first_name':'Harry',\n",
    "    'last_name':'Potter',\n",
    "    'age':17,\n",
    "    'city':'London',\n",
    "}\n",
    "people.append(message)\n",
    "\n",
    "message={\n",
    "    'first_name':'Laura',\n",
    "    'last_name':'Austin',\n",
    "    'age':20,\n",
    "    'city':'Manchester',\n",
    "}\n",
    "people.append(message)\n",
    "\n",
    "message={\n",
    "    'first_name':'Jie',\n",
    "    'last_name':'Zhang',\n",
    "    'age':30,\n",
    "    'city':'Shanghai',\n",
    "}\n",
    "people.append(message)\n",
    "\n",
    "for message in people:\n",
    "    name = f\"{message['first_name'].title()} {message['last_name'].title()}\"\n",
    "    age = message['age']\n",
    "    city = message['city'].title()\n",
    "    print(f\"{name}, from {city}, is {age} years old.\")"
   ]
  },
  {
   "cell_type": "code",
   "execution_count": 27,
   "id": "6445ff85-2108-4520-a188-949a2a59ba54",
   "metadata": {},
   "outputs": [
    {
     "name": "stdout",
     "output_type": "stream",
     "text": [
      "\n",
      "Here is the information about Willie:\n",
      "type:dog\n",
      "name:willie\n",
      "owner:mike\n",
      "\n",
      "Here is the information about Kitty:\n",
      "type:cat\n",
      "name:kitty\n",
      "owner:nancy\n",
      "\n",
      "Here is the information about Tiny:\n",
      "type:mouse\n",
      "name:tiny\n",
      "owner:harry\n"
     ]
    }
   ],
   "source": [
    "#6.8 宠物\n",
    "pets = []\n",
    "pet = {\n",
    "    'type':'dog',\n",
    "    'name':'willie',\n",
    "    'owner':'mike'\n",
    "}\n",
    "pets.append(pet)\n",
    "\n",
    "pet = {\n",
    "    'type':'cat',\n",
    "    'name':'kitty',\n",
    "    'owner':'nancy'\n",
    "}\n",
    "pets.append(pet)\n",
    "\n",
    "pet = {\n",
    "    'type':'mouse',\n",
    "    'name':'tiny',\n",
    "    'owner':'harry'\n",
    "}\n",
    "pets.append(pet)\n",
    "\n",
    "for pet in pets:\n",
    "    print(f\"\\nHere is the information about {pet['name'].title()}:\")\n",
    "    for key, value in pet.items():\n",
    "        print(f\"{key}:{value}\")"
   ]
  },
  {
   "cell_type": "code",
   "execution_count": 28,
   "id": "cb9021a6-c158-4c2c-889d-c545b4871627",
   "metadata": {},
   "outputs": [
    {
     "name": "stdout",
     "output_type": "stream",
     "text": [
      "\n",
      "Anna likes these places:\n",
      "--Shanghai\n",
      "--Nanjing\n",
      "--Hangzhou\n",
      "\n",
      "Eric likes these places:\n",
      "--Shanghai\n",
      "--Beijing\n",
      "--Xianggang\n",
      "\n",
      "Landy likes these places:\n",
      "--Suzhou\n",
      "--Yangzhou\n",
      "--Huangshan\n"
     ]
    }
   ],
   "source": [
    "#6.9 喜欢的城市\n",
    "favorite_places = {\n",
    "    'anna':['shanghai','nanjing','hangzhou'],\n",
    "    'eric':['shanghai','beijing','xianggang'],\n",
    "    'landy':['suzhou','yangzhou','huangshan'],\n",
    "}\n",
    "for name,places in favorite_places.items():\n",
    "    print(f\"\\n{name.title()} likes these places:\")\n",
    "    for place in places:\n",
    "        print(f\"--{place.title()}\")"
   ]
  },
  {
   "cell_type": "code",
   "execution_count": 29,
   "id": "149fb60d-dd59-4aab-aad1-de18ca4953fd",
   "metadata": {},
   "outputs": [
    {
     "name": "stdout",
     "output_type": "stream",
     "text": [
      "Anna's likes these numbers: \n",
      "7\n",
      "18\n",
      "Bob's likes these numbers: \n",
      "12\n",
      "21\n",
      "Sally's likes these numbers: \n",
      "25\n",
      "49\n"
     ]
    }
   ],
   "source": [
    "#6.10喜欢的数2\n",
    "favorite_numbers={\n",
    "    'Anna':[7,18],\n",
    "    'Bob':[12,21],\n",
    "    'Sally':[25,49]\n",
    "}\n",
    "for name, numbers in favorite_numbers.items():\n",
    "    print(f\"{name.title()}'s likes these numbers: \")\n",
    "    for number in numbers:\n",
    "        print(f\"{number}\")"
   ]
  },
  {
   "cell_type": "code",
   "execution_count": 30,
   "id": "da1ce71b-a945-40de-b095-95cc8f398fa2",
   "metadata": {},
   "outputs": [
    {
     "name": "stdout",
     "output_type": "stream",
     "text": [
      "\n",
      "New York is in United States.\n",
      "Its population is about 8500000.\n",
      "It is the largest city in the United States.\n",
      "\n",
      "London is in United Kingdom.\n",
      "Its population is about 9300000.\n",
      "It is the capital of the Uk.\n",
      "\n",
      "Paris is in France.\n",
      "Its population is about 2100000.\n",
      "It is known for its art, fashion, cuisine and romantic atmosphere.\n"
     ]
    }
   ],
   "source": [
    "#6.11城市\n",
    "cities = {\n",
    "    'new york':{\n",
    "        'country':'united states',\n",
    "        'population':8500000,\n",
    "        'fact':'the largest city in the United States'\n",
    "        },\n",
    "    'london':{\n",
    "        'country':'united kingdom',\n",
    "        'population':9300000,\n",
    "        'fact':'the capital of the Uk'\n",
    "        },\n",
    "    'paris':{\n",
    "        'country':'France',\n",
    "        'population':2100000,\n",
    "        'fact':'known for its art, fashion, cuisine and romantic atmosphere'\n",
    "        }\n",
    "}\n",
    "for city, information in cities.items():\n",
    "    country = information['country'].title()\n",
    "    population = information['population']\n",
    "    fact = information['fact']\n",
    "    print(f\"\\n{city.title()} is in {country}.\")\n",
    "    print(f\"Its population is about {population}.\")\n",
    "    print(f\"It is {fact}.\")"
   ]
  }
 ],
 "metadata": {
  "kernelspec": {
   "display_name": "Python 3 (ipykernel)",
   "language": "python",
   "name": "python3"
  },
  "language_info": {
   "codemirror_mode": {
    "name": "ipython",
    "version": 3
   },
   "file_extension": ".py",
   "mimetype": "text/x-python",
   "name": "python",
   "nbconvert_exporter": "python",
   "pygments_lexer": "ipython3",
   "version": "3.11.7"
  }
 },
 "nbformat": 4,
 "nbformat_minor": 5
}
