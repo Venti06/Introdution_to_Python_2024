{
 "cells": [
  {
   "cell_type": "markdown",
   "id": "13377afe-75b5-4a09-9503-4186dc9f2380",
   "metadata": {},
   "source": [
    "第八章 函数"
   ]
  },
  {
   "cell_type": "code",
   "execution_count": null,
   "id": "a819cf8a-9299-4023-a1e2-01cee10cf89d",
   "metadata": {},
   "outputs": [],
   "source": []
  },
  {
   "cell_type": "markdown",
   "id": "3e767bee-0a2a-4799-8929-9c12ed430285",
   "metadata": {},
   "source": [
    "8.1 定义函数"
   ]
  },
  {
   "cell_type": "code",
   "execution_count": 2,
   "id": "df2555c9-c55d-4e0a-97b8-ac52969ae70a",
   "metadata": {},
   "outputs": [
    {
     "name": "stdout",
     "output_type": "stream",
     "text": [
      "Hello!\n"
     ]
    }
   ],
   "source": [
    "#函数：带名字的代码块，用于完成具体的工作\n",
    "def greet_user():\n",
    "    \"\"\"显示简单的问候语\"\"\"\n",
    "    print(f\"Hello!\")\n",
    "\n",
    "greet_user()"
   ]
  },
  {
   "cell_type": "code",
   "execution_count": 3,
   "id": "659ed554-7d35-48e3-b874-7555f5e72ea5",
   "metadata": {},
   "outputs": [
    {
     "name": "stdout",
     "output_type": "stream",
     "text": [
      "Hello，Jesse!\n"
     ]
    }
   ],
   "source": [
    "def greet_user(username):\n",
    "    \"\"\"显示简单的问候语\"\"\"\n",
    "    print(f\"Hello，{username.title()}!\")\n",
    "    \n",
    "greet_user('jesse')\n",
    "#形参（parameter）：username，即函数完成工作所需的信息\n",
    "#实参（argument）：‘jesse’，即在调用函数时传递的信息"
   ]
  },
  {
   "cell_type": "markdown",
   "id": "233b813c-ce7a-47f2-9b4c-58346bc9818d",
   "metadata": {},
   "source": []
  },
  {
   "cell_type": "code",
   "execution_count": 1,
   "id": "69acfe5a-24aa-4296-8313-306d812fcbba",
   "metadata": {},
   "outputs": [
    {
     "name": "stdout",
     "output_type": "stream",
     "text": [
      "The topic of this chapter is Function.\n"
     ]
    }
   ],
   "source": [
    "#练习8.1\n",
    "def display_message(topic):\n",
    "    print(f\"The topic of this chapter is {topic.title()}.\")\n",
    "display_message('function')"
   ]
  },
  {
   "cell_type": "code",
   "execution_count": 2,
   "id": "e6d3f796-4b96-4cc9-a51a-0856a7e29bb8",
   "metadata": {},
   "outputs": [
    {
     "name": "stdout",
     "output_type": "stream",
     "text": [
      "One of my favorite books is Alice in Wonderland.\n"
     ]
    }
   ],
   "source": [
    "#练习8.2\n",
    "def favorite_book(title):\n",
    "    print(f\"One of my favorite books is {title}.\")\n",
    "favorite_book('Alice in Wonderland')"
   ]
  },
  {
   "cell_type": "code",
   "execution_count": null,
   "id": "e82da9ea-7f0e-4765-adb1-1b0e04a736b2",
   "metadata": {},
   "outputs": [],
   "source": []
  },
  {
   "cell_type": "markdown",
   "id": "26d80850-2c07-4925-9ee7-8b9aab0f055c",
   "metadata": {
    "scrolled": true
   },
   "source": [
    "8.2 传递实参"
   ]
  },
  {
   "cell_type": "markdown",
   "id": "86133f5b-daae-45e2-a072-d3306fbfdb81",
   "metadata": {},
   "source": [
    "8.2.1 位置实参"
   ]
  },
  {
   "cell_type": "code",
   "execution_count": 22,
   "id": "183ef2ba-8dfa-4715-9eb8-c826286b0fb1",
   "metadata": {},
   "outputs": [
    {
     "name": "stdout",
     "output_type": "stream",
     "text": [
      "\n",
      "I have a hamster.\n",
      "My hamster's name is Harry.\n"
     ]
    }
   ],
   "source": [
    "def describe_pet(animal_type,pet_name):\n",
    "    \"\"\"显示宠物的信息。\"\"\"\n",
    "    print(f\"\\nI have a {animal_type}.\")\n",
    "    print(f\"My {animal_type}'s name is {pet_name.title()}.\")\n",
    "\n",
    "describe_pet('hamster','harry')"
   ]
  },
  {
   "cell_type": "code",
   "execution_count": 24,
   "id": "db6e716d-727a-454c-8a6a-876177a65f4c",
   "metadata": {},
   "outputs": [
    {
     "name": "stdout",
     "output_type": "stream",
     "text": [
      "\n",
      "I have a hamster.\n",
      "My hamster's name is Harry.\n",
      "\n",
      "I have a dog.\n",
      "My dog's name is Willie.\n"
     ]
    }
   ],
   "source": [
    "#多次调用函数\n",
    "def describe_pet(animal_type,pet_name):\n",
    "    \"\"\"显示宠物的信息。\"\"\"\n",
    "    print(f\"\\nI have a {animal_type}.\")\n",
    "    print(f\"My {animal_type}'s name is {pet_name.title()}.\")\n",
    "\n",
    "describe_pet('hamster','harry')\n",
    "describe_pet('dog','willie')\n",
    "#位置实参的顺序很重要"
   ]
  },
  {
   "cell_type": "markdown",
   "id": "516a0c3f-8f6f-4353-bfc7-543c2a36c2a9",
   "metadata": {},
   "source": [
    "8.2.2 关键词实参"
   ]
  },
  {
   "cell_type": "code",
   "execution_count": 26,
   "id": "3ebf205a-cd3b-400e-b6c0-3de299d62b23",
   "metadata": {},
   "outputs": [
    {
     "name": "stdout",
     "output_type": "stream",
     "text": [
      "\n",
      "I have a hamster.\n",
      "My hamster's name is Harry.\n"
     ]
    }
   ],
   "source": [
    "def describe_pet(animal_type,pet_name):\n",
    "    \"\"\"显示宠物的信息。\"\"\"\n",
    "    print(f\"\\nI have a {animal_type}.\")\n",
    "    print(f\"My {animal_type}'s name is {pet_name.title()}.\")\n",
    "\n",
    "describe_pet(animal_type='hamster',pet_name='harry')\n",
    "#实参的顺序无关紧要，但务必准确指定函数定义中的形参名"
   ]
  },
  {
   "cell_type": "markdown",
   "id": "e3cae72d-bbeb-4e90-b7e6-0022d15a524c",
   "metadata": {},
   "source": [
    "8.2.3 默认值"
   ]
  },
  {
   "cell_type": "code",
   "execution_count": 28,
   "id": "cce93ba1-4d8e-4135-86bd-c00e3b3748e0",
   "metadata": {},
   "outputs": [
    {
     "name": "stdout",
     "output_type": "stream",
     "text": [
      "\n",
      "I have a dog.\n",
      "My dog's name is Willie.\n",
      "\n",
      "I have a hamster.\n",
      "My hamster's name is Harry.\n"
     ]
    }
   ],
   "source": [
    "def describe_pet(pet_name,animal_type='dog',):\n",
    "    \"\"\"显示宠物的信息。\"\"\"\n",
    "    print(f\"\\nI have a {animal_type}.\")\n",
    "    print(f\"My {animal_type}'s name is {pet_name.title()}.\")\n",
    "\n",
    "describe_pet(pet_name='willie')\n",
    "describe_pet(animal_type='hamster',pet_name='harry')"
   ]
  },
  {
   "cell_type": "markdown",
   "id": "1df65b7e-7a8c-4eb9-97d9-68675f223a4a",
   "metadata": {},
   "source": [
    "8.2.4 等效的函数调用"
   ]
  },
  {
   "cell_type": "code",
   "execution_count": null,
   "id": "92e696cc-27bf-4171-a760-d51b4da60651",
   "metadata": {},
   "outputs": [],
   "source": [
    "def describe_pet(pet_name,animal_type='dog',):\n",
    "下面对这个函数的所有调用都可行\n",
    "#一条名为Willie的小狗\n",
    "describe_pet('willie')\n",
    "describe_pet(pet_name='willie')\n",
    "#一只名为Harry的仓鼠\n",
    "describe_pet('hamster','harry')\n",
    "describe_pet(pet_name='harry'，animal_type='hamster')\n",
    "describe_pet(animal_type='hamster',pet_name='harry')"
   ]
  },
  {
   "cell_type": "markdown",
   "id": "bb412d07-1565-4f67-a071-940d92192307",
   "metadata": {},
   "source": [
    "8.2.5 避免实参错误"
   ]
  },
  {
   "cell_type": "code",
   "execution_count": null,
   "id": "276cb74d-439e-4703-a269-7ceb71bc95dc",
   "metadata": {},
   "outputs": [],
   "source": [
    "#关键词实参必须在位置实参之后（申明及调用时）\n",
    "#实参必须匹配"
   ]
  },
  {
   "cell_type": "code",
   "execution_count": null,
   "id": "386a0a56-cccd-482a-b21e-a0e23a3969a6",
   "metadata": {},
   "outputs": [],
   "source": []
  },
  {
   "cell_type": "code",
   "execution_count": 3,
   "id": "5a012b65-aa18-46b9-a4a2-4f6e06c44c09",
   "metadata": {},
   "outputs": [
    {
     "name": "stdout",
     "output_type": "stream",
     "text": [
      "A large T-shirt is to be made.\n",
      "The message on it will be: \"Hello World.\"\n",
      "A small T-shirt is to be made.\n",
      "The message on it will be: \"I LOVE YOU!\"\n"
     ]
    }
   ],
   "source": [
    "#练习8.3\n",
    "def make_shirt(size,message):\n",
    "    \"\"\"说明衬衫的尺码和印的文字\"\"\"\n",
    "    print(f\"A {size} T-shirt is to be made.\")\n",
    "    print(f'The message on it will be: \"{message}\"')\n",
    "make_shirt('large','Hello World.')\n",
    "make_shirt(message='I LOVE YOU!',size='small')"
   ]
  },
  {
   "cell_type": "code",
   "execution_count": 4,
   "id": "442da86f-2505-4b2f-ae0c-f75fa29f1d92",
   "metadata": {},
   "outputs": [
    {
     "name": "stdout",
     "output_type": "stream",
     "text": [
      "A large T-shirt is to be made.\n",
      "The message on it will be: \"I love Python!\"\n",
      "A medium T-shirt is to be made.\n",
      "The message on it will be: \"I love Python!\"\n",
      "A small T-shirt is to be made.\n",
      "The message on it will be: \"I LOVE YOU!\"\n"
     ]
    }
   ],
   "source": [
    "#练习8.4\n",
    "def make_shirt(size,message='I love Python!'):\n",
    "    \"\"\"说明衬衫的尺码和印的文字\"\"\"\n",
    "    print(f\"A {size} T-shirt is to be made.\")\n",
    "    print(f'The message on it will be: \"{message}\"')\n",
    "make_shirt('large')\n",
    "make_shirt('medium')\n",
    "make_shirt(message='I LOVE YOU!',size='small')"
   ]
  },
  {
   "cell_type": "code",
   "execution_count": 5,
   "id": "3f39a28c-72db-4abc-a9dc-cfa5378fbdbe",
   "metadata": {},
   "outputs": [
    {
     "name": "stdout",
     "output_type": "stream",
     "text": [
      "Shanghai is in China.\n"
     ]
    }
   ],
   "source": [
    "#练习8.5\n",
    "def describe_city(city,country):\n",
    "    print(f\"{city.title()} is in {country.title()}.\")\n",
    "describe_city('shanghai','china')"
   ]
  },
  {
   "cell_type": "code",
   "execution_count": 6,
   "id": "1bf199a3-d29e-4f97-92d8-55c5d28d9229",
   "metadata": {},
   "outputs": [
    {
     "name": "stdout",
     "output_type": "stream",
     "text": [
      "Shanghai is in China.\n",
      "Nanjing is in China.\n",
      "London is in England.\n"
     ]
    }
   ],
   "source": [
    "#练习8.5\n",
    "def describe_city(city,country='china'):\n",
    "    print(f\"{city.title()} is in {country.title()}.\")\n",
    "describe_city('shanghai','china')\n",
    "describe_city('nanjing')\n",
    "describe_city('london','england')"
   ]
  },
  {
   "cell_type": "code",
   "execution_count": null,
   "id": "3093d212-1656-44c6-9b24-9b7d583d515b",
   "metadata": {},
   "outputs": [],
   "source": []
  },
  {
   "cell_type": "markdown",
   "id": "9776111c-75d1-4fba-9ea2-dfa846ea6a4b",
   "metadata": {},
   "source": [
    "8.3 返回值"
   ]
  },
  {
   "cell_type": "markdown",
   "id": "740d3bde-f31e-4c96-b17b-706944dc14f9",
   "metadata": {},
   "source": [
    "8.3.1 返回简单值"
   ]
  },
  {
   "cell_type": "code",
   "execution_count": 2,
   "id": "12fb2321-77f8-4bbd-9dd5-1ca755c566e8",
   "metadata": {},
   "outputs": [
    {
     "name": "stdout",
     "output_type": "stream",
     "text": [
      "Jimi Hendrix\n"
     ]
    }
   ],
   "source": [
    "def get_formatted_name(first_name,last_name):\n",
    "    \"\"\"返回整洁的姓名。\"\"\"\n",
    "    full_name = f\"{first_name} {last_name}\"\n",
    "    return full_name.title()\n",
    "\n",
    "musician = get_formatted_name('jimi','hendrix')\n",
    "print(musician)"
   ]
  },
  {
   "cell_type": "markdown",
   "id": "e7cd7404-c92c-4cea-8c73-bca885507998",
   "metadata": {},
   "source": [
    "8.3.2 让实参变成可选的"
   ]
  },
  {
   "cell_type": "code",
   "execution_count": 1,
   "id": "e5f2fb74-7efe-4f42-8eca-39c3cb320644",
   "metadata": {},
   "outputs": [
    {
     "name": "stdout",
     "output_type": "stream",
     "text": [
      "Jimi Lee Hendrix\n"
     ]
    }
   ],
   "source": [
    "def get_formatted_name(first_name,middle_name,last_name):\n",
    "    \"\"\"返回整洁的姓名。\"\"\"\n",
    "    full_name = f\"{first_name} {middle_name} {last_name}\"\n",
    "    return full_name.title()\n",
    "\n",
    "musician = get_formatted_name('jimi','lee','hendrix')\n",
    "print(musician)"
   ]
  },
  {
   "cell_type": "code",
   "execution_count": 3,
   "id": "e82d0d2f-fee0-4a92-9a2a-1b2d19242de7",
   "metadata": {},
   "outputs": [
    {
     "name": "stdout",
     "output_type": "stream",
     "text": [
      "Jimi Hendrix\n",
      "John Lee Hooker\n"
     ]
    }
   ],
   "source": [
    "def get_formatted_name(first_name,last_name,middle_name=''):\n",
    "    \"\"\"返回整洁的姓名。\"\"\"\n",
    "    if middle_name:\n",
    "        full_name = f\"{first_name} {middle_name} {last_name}\"\n",
    "    else:\n",
    "        full_name = f\"{first_name} {last_name}\"\n",
    "    return full_name.title()\n",
    "\n",
    "musician = get_formatted_name('jimi','hendrix')\n",
    "print(musician)\n",
    "\n",
    "musician = get_formatted_name('john','hooker','lee')\n",
    "print(musician)"
   ]
  },
  {
   "cell_type": "markdown",
   "id": "65799819-cdf7-4f36-af16-c529d1beec25",
   "metadata": {},
   "source": [
    "8.3.3 返回字典"
   ]
  },
  {
   "cell_type": "code",
   "execution_count": 5,
   "id": "e77bc93f-55ad-4e9b-9978-4c9b091bd835",
   "metadata": {},
   "outputs": [
    {
     "name": "stdout",
     "output_type": "stream",
     "text": [
      "{'frist': 'jimi', 'last': 'hendrix'}\n"
     ]
    }
   ],
   "source": [
    "def build_person(first_name,last_name):\n",
    "    \"\"\"返回一个字典，其中包含有关一个人的信息。\"\"\"\n",
    "    person = {'frist':first_name,'last':last_name}\n",
    "    return person\n",
    "\n",
    "musician = build_person('jimi','hendrix')\n",
    "print(musician)"
   ]
  },
  {
   "cell_type": "code",
   "execution_count": 6,
   "id": "14583ffd-4eab-4e2a-947c-6997f34ed8ad",
   "metadata": {},
   "outputs": [
    {
     "name": "stdout",
     "output_type": "stream",
     "text": [
      "{'frist': 'jimi', 'last': 'hendrix', 'age': 27}\n"
     ]
    }
   ],
   "source": [
    "def build_person(first_name,last_name,age=None):\n",
    "    \"\"\"返回一个字典，其中包含有关一个人的信息。\"\"\"\n",
    "    person = {'frist':first_name,'last':last_name}\n",
    "    if age:\n",
    "        person['age'] = age\n",
    "    return person\n",
    "\n",
    "musician = build_person('jimi','hendrix',age=27)\n",
    "print(musician)"
   ]
  },
  {
   "cell_type": "markdown",
   "id": "24b0ead4-0833-43f6-a705-d1a2ffc73d77",
   "metadata": {},
   "source": [
    "8.3.4 结合使用函数和while循环"
   ]
  },
  {
   "cell_type": "code",
   "execution_count": null,
   "id": "0d548cc2-c92e-4e56-a128-2dfe0b52815d",
   "metadata": {},
   "outputs": [
    {
     "name": "stdout",
     "output_type": "stream",
     "text": [
      "\n",
      "Please tell me your name:\n"
     ]
    }
   ],
   "source": [
    "def get_formatted_name(first_name,last_name):\n",
    "    \"\"\"返回整洁的姓名。\"\"\"\n",
    "    full_name = f\"{first_name} {last_name}\"\n",
    "    return full_name.title()\n",
    "\n",
    "#这是一个无限循环\n",
    "while True:\n",
    "    print(\"\\nPlease tell me your name:\")\n",
    "    f_name = input(\"First name:\")\n",
    "    l_name = input(\"Last name:\")\n",
    "    \n",
    "    formatted_name = get_formatted_name(f_name,l_name)\n",
    "    print(f\"\\nHello,{formatted_name}!\")"
   ]
  },
  {
   "cell_type": "code",
   "execution_count": null,
   "id": "e2a1aa2c-d124-4228-bca2-d5f6d8a89ce1",
   "metadata": {},
   "outputs": [],
   "source": [
    "def get_formatted_name(first_name,last_name):\n",
    "    \"\"\"返回整洁的姓名。\"\"\"\n",
    "    full_name = f\"{first_name} {last_name}\"\n",
    "    return full_name.title()\n",
    "\n",
    "#这是一个无限循环\n",
    "while True:\n",
    "    print(\"\\nPlease tell me your name:\")\n",
    "    print(\"(enter 'q' at any time to quit)\")\n",
    "    \n",
    "    f_name = input(\"First name:\")\n",
    "    if f_name == 'q':\n",
    "        break\n",
    "        \n",
    "    l_name = input(\"Last name:\")\n",
    "    if f_name == 'q':\n",
    "        break\n",
    "        \n",
    "    formatted_name = get_formatted_name(f_name,l_name)\n",
    "    print(f\"\\nHello,{formatted_name}!\")"
   ]
  },
  {
   "cell_type": "code",
   "execution_count": null,
   "id": "9969400f-89aa-429a-81e4-91b559fa8c9c",
   "metadata": {},
   "outputs": [],
   "source": []
  },
  {
   "cell_type": "code",
   "execution_count": 7,
   "id": "ba433f72-a700-4101-87e0-e2986a4a34a0",
   "metadata": {},
   "outputs": [
    {
     "name": "stdout",
     "output_type": "stream",
     "text": [
      "Santiago,Chile\n",
      "Shanghai,China\n",
      "London,United Kingdom\n"
     ]
    }
   ],
   "source": [
    "#练习8.6 城市名\n",
    "def city_country(city, country):\n",
    "    return f\"{city.title()},{country.title()}\"\n",
    "\n",
    "city = city_country('santiago','chile')\n",
    "print(city)\n",
    "\n",
    "city = city_country('shanghai','china')\n",
    "print(city)\n",
    "\n",
    "city = city_country('london','united kingdom')\n",
    "print(city)"
   ]
  },
  {
   "cell_type": "code",
   "execution_count": 8,
   "id": "0d10d423-82a9-4772-bc91-103c841121c1",
   "metadata": {},
   "outputs": [
    {
     "name": "stdout",
     "output_type": "stream",
     "text": [
      "{'singer': 'Jack', 'album_name': 'The Sun'}\n",
      "{'singer': 'Lucy', 'album_name': 'Enjoy The Moonlight'}\n",
      "{'singer': 'Billy', 'album_name': 'Have Fun!!!'}\n"
     ]
    }
   ],
   "source": [
    "#练习8.7 专辑\n",
    "def make_album(singer, album_name):\n",
    "    albums = {\n",
    "        'singer':singer.title(),\n",
    "        'album_name':album_name.title(),\n",
    "    }\n",
    "    return albums\n",
    "album = make_album('jack','the sun')\n",
    "print(album)\n",
    "\n",
    "album = make_album('lucy','enjoy the moonlight')\n",
    "print(album)\n",
    "\n",
    "album = make_album('billy','have fun!!!')\n",
    "print(album)"
   ]
  },
  {
   "cell_type": "code",
   "execution_count": 9,
   "id": "3639c658-a6c8-42e5-9e30-0f02693025d0",
   "metadata": {},
   "outputs": [
    {
     "name": "stdout",
     "output_type": "stream",
     "text": [
      "Enter 'quit' if you want to stop.\n"
     ]
    },
    {
     "name": "stdin",
     "output_type": "stream",
     "text": [
      "\n",
      "What's the title of the album? quit\n"
     ]
    }
   ],
   "source": [
    "def make_album(singer, album_title):\n",
    "    albums = {\n",
    "        'singer':singer.title(),\n",
    "        'album_name':album_title.title(),\n",
    "    }\n",
    "    return albums\n",
    "\n",
    "title_prompt = \"\\nWhat's the title of the album?\"\n",
    "singer_prompt = \"Who is the singer?\"\n",
    "\n",
    "print(\"Enter 'quit' if you want to stop.\")\n",
    "while True:\n",
    "    album_title = input(title_prompt)\n",
    "    if album_title == 'quit':\n",
    "        break\n",
    "    singer = input(singer_prompt)\n",
    "    if singer == 'quit':\n",
    "        break\n",
    "    album =make_album(singer, album_title)\n",
    "    print(album)"
   ]
  },
  {
   "cell_type": "code",
   "execution_count": null,
   "id": "d2fb6b30-e576-4c21-a0a4-012c028f28e5",
   "metadata": {},
   "outputs": [],
   "source": []
  },
  {
   "cell_type": "markdown",
   "id": "ef677c92-c8ed-44a2-80de-1750aee3b556",
   "metadata": {},
   "source": [
    "8.4 传递列表"
   ]
  },
  {
   "cell_type": "code",
   "execution_count": null,
   "id": "dd0997d2-55cb-43a5-985b-052b141be3a4",
   "metadata": {},
   "outputs": [],
   "source": [
    "def greet_users(names):\n",
    "    \"\"\"向列表中的每位用户发出简单的问候。\"\"\"\n",
    "    for name in names:\n",
    "        msg = f\"Hello,{name.title()}!\"\n",
    "        print(msg)\n",
    "\n",
    "usernames = ['hannah','ty','margot']\n",
    "greet_users(usernames)"
   ]
  },
  {
   "cell_type": "markdown",
   "id": "4351257e-6c7e-40fd-bbd9-10aa75ca9788",
   "metadata": {},
   "source": [
    "8.4.1 在函数中修改列表"
   ]
  },
  {
   "cell_type": "code",
   "execution_count": null,
   "id": "c57f8525-92ec-4eed-a149-e5b305031141",
   "metadata": {},
   "outputs": [],
   "source": [
    "#首先创建一个列表,其中包含一些要打印的设计\n",
    "unprinted_designs = ['phone case', 'robot pendant', 'dodecahedron']\n",
    "completed_models = []\n",
    "\n",
    "#模拟打印每个设计,直到没有未打印的设计为止。\n",
    "#打印每个设计后,都将其移到列表completed_models中。\n",
    "while unprinted_designs:\n",
    "    current_design = unprinted_designs.pop()\n",
    "    print(f\"Printing model: {current_design}\")\n",
    "    completed_models.append(current_design)\n",
    "    \n",
    "#显示打印好的所有模型。\n",
    "print(\"\\nThe following models have been printed:\")\n",
    "for completed_model in completed_models:\n",
    "    print(completed_model)"
   ]
  },
  {
   "cell_type": "code",
   "execution_count": null,
   "id": "7cd726d7-e671-44c9-af99-6928ff2bd740",
   "metadata": {},
   "outputs": [],
   "source": [
    "def print_models(unprinted_designs, completed models):\n",
    "    \"\"\"\n",
    "    模拟打印每个设计，直到没有未打印的设计为止。\n",
    "    打印每个设计后，都将其移到列表completed_models中。\n",
    "    \"\"\"\n",
    "    while unprinted_designs:\n",
    "        current_design = unprinted_designs.pop()\n",
    "        print(f\"Printing model: {current_design}\")\n",
    "        completed_models.append(current_design)\n",
    "        \n",
    "def show_completed_models(completed_models):\n",
    "    \"\"\"显示打印好的所有模型。\"\"\"\n",
    "    print(\"\\nThe following models have been printed:\")\n",
    "    for completed_model in completed_models:\n",
    "        print(completed_model)\n",
    "\n",
    "unprinted_designs = ['phone case','robot pendant','dodecahedron'] \n",
    "completed_models = []\n",
    "\n",
    "print_models(unprinted_designs, completed_models)\n",
    "show_completed_models(completed_models)"
   ]
  },
  {
   "cell_type": "markdown",
   "id": "48397136-4534-4b7b-9e7b-0ac0521c7f95",
   "metadata": {},
   "source": [
    "8.4.2 禁止函数修改列表"
   ]
  },
  {
   "cell_type": "code",
   "execution_count": null,
   "id": "7358509c-fc88-4595-919d-d5af97254e6d",
   "metadata": {},
   "outputs": [],
   "source": [
    "function_name(list_name[:])"
   ]
  },
  {
   "cell_type": "code",
   "execution_count": null,
   "id": "789a06a4-7826-44af-8937-6cdc5bb18160",
   "metadata": {},
   "outputs": [],
   "source": [
    "print_models(unprinted_designs[:], completed_models)"
   ]
  },
  {
   "cell_type": "code",
   "execution_count": null,
   "id": "06d648f0-c918-487f-988b-152cfeed20d8",
   "metadata": {},
   "outputs": [],
   "source": []
  },
  {
   "cell_type": "code",
   "execution_count": 10,
   "id": "d65aa15e-1cad-4649-8817-9934b5d17f43",
   "metadata": {},
   "outputs": [
    {
     "name": "stdout",
     "output_type": "stream",
     "text": [
      "hello\n",
      "nice to see you\n",
      "you look good\n"
     ]
    }
   ],
   "source": [
    "#练习8.9消息\n",
    "def show_messages(messages):\n",
    "    for message in messages:\n",
    "        print(message)\n",
    "messages = ['hello','nice to see you','you look good']\n",
    "show_messages(messages)"
   ]
  },
  {
   "cell_type": "code",
   "execution_count": 11,
   "id": "9a8d5c89-0d6e-4a72-8fa9-a55d6f63194a",
   "metadata": {},
   "outputs": [
    {
     "name": "stdout",
     "output_type": "stream",
     "text": [
      "hello\n",
      "nice to see you!\n",
      "you look good^^\n",
      "\n",
      "Sending messages:\n",
      "you look good^^\n",
      "nice to see you!\n",
      "hello\n",
      "\n",
      "\n",
      "[]\n",
      "['you look good^^', 'nice to see you!', 'hello']\n"
     ]
    }
   ],
   "source": [
    "#练习8.10发送消息\n",
    "def show_messages(messages):\n",
    "    for message in messages:\n",
    "        print(message)\n",
    "\n",
    "def send_messages(messages,sent_messages):\n",
    "    print(\"\\nSending messages:\")\n",
    "    while messages:\n",
    "        current_message = messages.pop()\n",
    "        print(current_message)\n",
    "        sent_messages.append(current_message)\n",
    "#打印show_messages的消息\n",
    "messages = ['hello','nice to see you!','you look good^^']\n",
    "show_messages(messages)\n",
    "#messages里的消息被移到了sent_messages当中\n",
    "sent_messages = []\n",
    "send_messages(messages, sent_messages)\n",
    "print(\"\\n\")\n",
    "print(messages)\n",
    "print(sent_messages)"
   ]
  },
  {
   "cell_type": "code",
   "execution_count": 12,
   "id": "09257dde-a3ac-4bc9-838e-efa8692d3cb8",
   "metadata": {},
   "outputs": [
    {
     "name": "stdout",
     "output_type": "stream",
     "text": [
      "hello\n",
      "nice to see you!\n",
      "you look good^^\n",
      "\n",
      "Sending messages:\n",
      "you look good^^\n",
      "nice to see you!\n",
      "hello\n",
      "\n",
      "\n",
      "['hello', 'nice to see you!', 'you look good^^']\n",
      "['you look good^^', 'nice to see you!', 'hello']\n"
     ]
    }
   ],
   "source": [
    "#练习8.11 消息归档\n",
    "def show_messages(messages):\n",
    "    for message in messages:\n",
    "        print(message)\n",
    "\n",
    "def send_messages(messages,sent_messages):\n",
    "    print(\"\\nSending messages:\")\n",
    "    while messages:\n",
    "        current_message = messages.pop()\n",
    "        print(current_message)\n",
    "        sent_messages.append(current_message)\n",
    "#打印show_messages的消息\n",
    "messages = ['hello','nice to see you!','you look good^^']\n",
    "show_messages(messages)\n",
    "#messages副本的消息移动到sent_messages里，本身没变\n",
    "sent_messages = []\n",
    "send_messages(messages[:], sent_messages)\n",
    "print(\"\\n\")\n",
    "print(messages)\n",
    "print(sent_messages)"
   ]
  },
  {
   "cell_type": "code",
   "execution_count": null,
   "id": "b469c86f-c222-4ef2-858d-b8d633f5ba98",
   "metadata": {},
   "outputs": [],
   "source": []
  },
  {
   "cell_type": "markdown",
   "id": "766aeed3-e56c-46c7-8350-b532e06b6ee2",
   "metadata": {},
   "source": [
    "8.5传递任意数量的实参"
   ]
  },
  {
   "cell_type": "code",
   "execution_count": 22,
   "id": "f396331d-f123-4c09-9285-fd2e6ad42aac",
   "metadata": {},
   "outputs": [
    {
     "name": "stdout",
     "output_type": "stream",
     "text": [
      "('pepperoni',)\n",
      "('mushrooms', 'green peppers', 'extra cheese')\n"
     ]
    }
   ],
   "source": [
    "#一个形参*toppings可以接受多个实参\n",
    "def make_pizza(*toppings):\n",
    "    \"\"\"打印顾客点的所有配料\"\"\"\n",
    "    print(toppings)\n",
    "\n",
    "make_pizza('pepperoni')\n",
    "make_pizza('mushrooms', 'green peppers', 'extra cheese')\n",
    "#形参名*toppings的星号让python创建一个叫toppings的元组，该元组包括函数收到的所有值。且会将实参（哪怕只有一个）封装到一个元组之中。"
   ]
  },
  {
   "cell_type": "code",
   "execution_count": 23,
   "id": "5373a5fe-acd1-49eb-a0a2-e71b019379c4",
   "metadata": {},
   "outputs": [
    {
     "name": "stdout",
     "output_type": "stream",
     "text": [
      "\n",
      "Making a pizza with the following toppings:\n",
      "- pepperoni\n",
      "\n",
      "Making a pizza with the following toppings:\n",
      "- mushrooms\n",
      "- green peppers\n",
      "- extra cheese\n"
     ]
    }
   ],
   "source": [
    "#将直接的print换成循环，也可妥善处理\n",
    "def make_pizza( *toppings):\n",
    "    \"\"\"概述要制作的比萨\"\"\"\n",
    "    print(f\"\\nMaking a pizza with the following toppings:\")\n",
    "    for topping in toppings:\n",
    "        print(f\"- {topping}\")\n",
    "\n",
    "make_pizza('pepperoni')\n",
    "make_pizza('mushrooms', 'green peppers', 'extra cheese')"
   ]
  },
  {
   "cell_type": "markdown",
   "id": "31e251dc-0de7-4daf-affc-21f49c357beb",
   "metadata": {},
   "source": [
    "8.5.1 结合使用位置实参和任意数量实参"
   ]
  },
  {
   "cell_type": "code",
   "execution_count": 24,
   "id": "3d1f4b6c-2515-4044-8f90-4e4a9b210ff7",
   "metadata": {},
   "outputs": [
    {
     "name": "stdout",
     "output_type": "stream",
     "text": [
      "\n",
      "Making a 16-inch pizza with the following toppings:\n",
      "- pepperoni\n",
      "\n",
      "Making a 12-inch pizza with the following toppings:\n",
      "- mushrooms\n",
      "- green peppers\n",
      "- extra cheese\n"
     ]
    }
   ],
   "source": [
    "#必须将可以处理任意数量实参的形参放在最后\n",
    "def make_pizza(size, *toppings):\n",
    "    \"\"\"打印顾客点的所有配料\"\"\"\n",
    "    print(f\"\\nMaking a {size}-inch pizza with the following toppings:\")\n",
    "    for topping in toppings:\n",
    "        print(f\"- {topping}\")\n",
    "\n",
    "make_pizza(16, 'pepperoni')\n",
    "make_pizza(12, 'mushrooms', 'green peppers', 'extra cheese')"
   ]
  },
  {
   "cell_type": "markdown",
   "id": "c6a6e226-b315-4f51-892b-2ba119202b90",
   "metadata": {},
   "source": [
    "8.5.2 使用任意数量的关键字实参"
   ]
  },
  {
   "cell_type": "code",
   "execution_count": 25,
   "id": "075bd54b-44e5-4eb9-aae1-34621193b011",
   "metadata": {},
   "outputs": [
    {
     "name": "stdout",
     "output_type": "stream",
     "text": [
      "{'location': 'princeton', 'field': 'physics', 'first_name': 'albert', 'last_name': 'einstein'}\n"
     ]
    }
   ],
   "source": [
    "#两个星号让python创建一个名为user_info的字典，字典包含函数收到的其他所有名值对。\n",
    "def build_profile(first, last, **user_info):\n",
    "    \"\"\"创建一个字典，其中包含我们知道的有关用户的一切\"\"\"\n",
    "    user_info['first_name'] = first\n",
    "    user_info['last_name'] = last\n",
    "    return user_info\n",
    "\n",
    "user_profile = build_profile('albert', 'einstein',\n",
    "                             location='princeton',\n",
    "                             field='physics')\n",
    "print(user_profile)"
   ]
  },
  {
   "cell_type": "code",
   "execution_count": null,
   "id": "83b7e979-fcd2-4a5c-bffd-f64d15fb6c53",
   "metadata": {},
   "outputs": [],
   "source": []
  },
  {
   "cell_type": "code",
   "execution_count": 26,
   "id": "0e5c19f6-a481-444f-bd35-dc27b2d0fb5e",
   "metadata": {},
   "outputs": [
    {
     "name": "stdout",
     "output_type": "stream",
     "text": [
      "\n",
      "The sandwich includes:\n",
      "bacon\n",
      "tomato\n",
      "fried eggs\n",
      "Here is your sandwich!\n",
      "\n",
      "The sandwich includes:\n",
      "chicken\n",
      "cheese\n",
      "roasted vegetables\n",
      "Here is your sandwich!\n",
      "\n",
      "The sandwich includes:\n",
      "roast beef\n",
      "onion\n",
      "pesto\n",
      "Here is your sandwich!\n"
     ]
    }
   ],
   "source": [
    "#练习8.12 三明治\n",
    "def sandwich(*items):\n",
    "    print(\"\\nThe sandwich includes:\")\n",
    "    for item in items:\n",
    "        print(item)\n",
    "    print(\"Here is your sandwich!\")\n",
    "sandwich('bacon','tomato','fried eggs')\n",
    "sandwich('chicken','cheese','roasted vegetables')\n",
    "sandwich('roast beef','onion','pesto')"
   ]
  },
  {
   "cell_type": "code",
   "execution_count": 27,
   "id": "9a6cd377-3845-44d8-9300-2de77ffd04d1",
   "metadata": {},
   "outputs": [
    {
     "name": "stdout",
     "output_type": "stream",
     "text": [
      "{'location': 'nanjing', 'campus': 'nanjing univesity', 'age': 20, 'first_name': 'beibei', 'last_name': 'zhou'}\n"
     ]
    }
   ],
   "source": [
    "#练习8.13 用户简介\n",
    "def build_profile(first, last, **user_info):\n",
    "    \"\"\"创建一个字典，其中包含我们知道的有关用户的一切\"\"\"\n",
    "    user_info['first_name'] = first\n",
    "    user_info['last_name'] = last\n",
    "    return user_info\n",
    "\n",
    "user_profile = build_profile('beibei', 'zhou',\n",
    "                             location='nanjing',\n",
    "                             campus='nanjing univesity',\n",
    "                            age=20)\n",
    "print(user_profile)"
   ]
  },
  {
   "cell_type": "code",
   "execution_count": 28,
   "id": "fe27a9dd-88d6-469d-8b77-e3ddad6e6b37",
   "metadata": {},
   "outputs": [
    {
     "name": "stdout",
     "output_type": "stream",
     "text": [
      "{'color': 'blue', 'tow_package': True, 'manufacturer': 'Subaru', 'model': 'Outback'}\n"
     ]
    }
   ],
   "source": [
    "#练习8.14 汽车\n",
    "def make_car(manufacturer, model, **info):\n",
    "    info['manufacturer'] = manufacturer.title()\n",
    "    info['model'] = model.title()\n",
    "    return info\n",
    "\n",
    "car = make_car('subaru','outback',\n",
    "               color='blue',\n",
    "               tow_package=True)\n",
    "print(car)"
   ]
  },
  {
   "cell_type": "code",
   "execution_count": null,
   "id": "234143be-d889-46b7-94be-97acd131b91a",
   "metadata": {},
   "outputs": [],
   "source": []
  },
  {
   "cell_type": "markdown",
   "id": "dec06f55-eb06-4572-a6a6-6a5b33afa55c",
   "metadata": {},
   "source": [
    "8.6 将函数存储在模块中"
   ]
  },
  {
   "cell_type": "markdown",
   "id": "7c155a56-449a-4e78-824b-0a652916fdd1",
   "metadata": {},
   "source": [
    "8.6.1 导入整个模块"
   ]
  },
  {
   "cell_type": "code",
   "execution_count": null,
   "id": "afcbe3a8-4ffc-48c6-ba79-7fcdc83965ca",
   "metadata": {},
   "outputs": [],
   "source": [
    "#模块是扩展名为.py的文件，包含要导入程序的代码。\n",
    "import pizza\n",
    "pizza.make_pizza(16,'pepperoni')\n",
    "pizza.make_pizza(12, 'mushrooms', 'green peppers', 'extra cheese')"
   ]
  },
  {
   "cell_type": "markdown",
   "id": "ce50a93c-5b3e-48e2-8d4b-2a4e9b9f7b64",
   "metadata": {},
   "source": [
    "8.6.2 导入特定的函数"
   ]
  },
  {
   "cell_type": "code",
   "execution_count": null,
   "id": "ba85d628-777f-4757-994c-902fa956fd47",
   "metadata": {},
   "outputs": [],
   "source": [
    "#还可以只导入模块中的特定函数\n",
    "from pizza import make_pizza\n",
    "\n",
    "make_pizza(16,'pepperoni')\n",
    "make_pizza(12, 'mushrooms', 'green peppers', 'extra cheese')"
   ]
  },
  {
   "cell_type": "markdown",
   "id": "eee7e06e-b027-42c4-8980-4a795e6fed04",
   "metadata": {},
   "source": [
    "8.6.3 使用as给函数指定别名"
   ]
  },
  {
   "cell_type": "code",
   "execution_count": null,
   "id": "a21e74a6-37f5-421f-aa94-93020901edbc",
   "metadata": {},
   "outputs": [],
   "source": [
    "from pizza import make_pizza as mp\n",
    "\n",
    "mp(16,'pepperoni')\n",
    "mp(12, 'mushrooms', 'green peppers', 'extra cheese')"
   ]
  },
  {
   "cell_type": "markdown",
   "id": "5f95292b-e652-4af4-a261-9b31a204cf67",
   "metadata": {},
   "source": [
    "8.6.4 使用as给模块指定别名"
   ]
  },
  {
   "cell_type": "code",
   "execution_count": null,
   "id": "f47f49f0-c611-45f8-9337-f43e909dd828",
   "metadata": {},
   "outputs": [],
   "source": [
    "import pizza as p\n",
    "\n",
    "p.make_pizza(16,'pepperoni')\n",
    "p.make_pizza(12, 'mushrooms', 'green peppers', 'extra cheese')"
   ]
  },
  {
   "cell_type": "markdown",
   "id": "7c7f2f24-90bb-4590-acec-08e1da731424",
   "metadata": {},
   "source": [
    "8.6.5 导入模块中的所有函数"
   ]
  },
  {
   "cell_type": "code",
   "execution_count": null,
   "id": "96e729cb-e9f8-4896-b870-3c2cf4f1bfb8",
   "metadata": {},
   "outputs": [],
   "source": [
    "from pizza import *\n",
    "from pizza import make_pizza\n",
    "\n",
    "make_pizza(16,'pepperoni')\n",
    "make_pizza(12, 'mushrooms', 'green peppers', 'extra cheese')"
   ]
  },
  {
   "cell_type": "code",
   "execution_count": null,
   "id": "2f899815-3a04-44a2-a33f-cdd75ffe3561",
   "metadata": {},
   "outputs": [],
   "source": []
  },
  {
   "cell_type": "markdown",
   "id": "9d85ff8f-9dfe-4fbe-9f3f-591aaddaa922",
   "metadata": {},
   "source": [
    "8.7 函数编写指南"
   ]
  },
  {
   "cell_type": "code",
   "execution_count": 31,
   "id": "95d549f7-f298-4c84-ae3e-7d633d53e0f8",
   "metadata": {},
   "outputs": [],
   "source": [
    "#简要阐述函数功能的注释紧跟在函数定义之后，并采用文档字符串的格式。\n",
    "#在给形参设置默认值时，等号两边不要有空格\n",
    "#def function_name(parameter_0,parameter_1='default value')\n",
    "#函数调用中的关键字实参也是如此\n",
    "#代码行的长度不要超过79个字符\n",
    "#所有的import语句都应放在文件开头"
   ]
  },
  {
   "cell_type": "code",
   "execution_count": null,
   "id": "c176d2af-1fa6-4087-ac4f-384458292ab0",
   "metadata": {},
   "outputs": [],
   "source": [
    "unconfirmed_users = ['alice','brian','candace']\n",
    "confirmed_users = []\n",
    "\n",
    "while "
   ]
  },
  {
   "cell_type": "code",
   "execution_count": null,
   "id": "687a375b-82f0-4a31-881b-77d37d58bb9d",
   "metadata": {},
   "outputs": [],
   "source": []
  },
  {
   "cell_type": "code",
   "execution_count": null,
   "id": "12ec8149-9664-4f34-8bac-aad4bd1ad68b",
   "metadata": {},
   "outputs": [],
   "source": [
    "#练习8.15 打印模型\n",
    "import printing_functions as pf\n",
    "unprinted_designs = ['phone case', 'robot pendant', 'dodecahedron']\n",
    "completed_models = []\n",
    "\n",
    "pf.print_models(unprinted_designs, completed_models)\n",
    "pf.show_completed_models(completed_models)"
   ]
  }
 ],
 "metadata": {
  "kernelspec": {
   "display_name": "Python 3 (ipykernel)",
   "language": "python",
   "name": "python3"
  },
  "language_info": {
   "codemirror_mode": {
    "name": "ipython",
    "version": 3
   },
   "file_extension": ".py",
   "mimetype": "text/x-python",
   "name": "python",
   "nbconvert_exporter": "python",
   "pygments_lexer": "ipython3",
   "version": "3.11.7"
  }
 },
 "nbformat": 4,
 "nbformat_minor": 5
}
