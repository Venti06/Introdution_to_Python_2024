{
 "cells": [
  {
   "cell_type": "markdown",
   "id": "3edf7346-f8a6-4e75-998c-d0ae8aaeda3a",
   "metadata": {},
   "source": [
    "第六章 字典"
   ]
  },
  {
   "cell_type": "code",
   "execution_count": null,
   "id": "50f4e03a-c0b5-4988-b1d9-3f89405d59a8",
   "metadata": {},
   "outputs": [],
   "source": []
  },
  {
   "cell_type": "code",
   "execution_count": 2,
   "id": "6ec492b0-932c-4a04-9dda-6283902c7872",
   "metadata": {},
   "outputs": [
    {
     "name": "stdout",
     "output_type": "stream",
     "text": [
      "green\n"
     ]
    }
   ],
   "source": [
    "alien_0 = {\n",
    "    'color':'green',\n",
    "    'points':5\n",
    "}\n",
    "print(alien_0['color'])"
   ]
  },
  {
   "cell_type": "markdown",
   "id": "3de37667-2cc0-444c-b07c-8f3cb714a61e",
   "metadata": {},
   "source": [
    "字典是一系列键值对，使用花括号标识\n",
    "使用键（key）来访问与之关联的值（value）\n",
    "键在字典中是唯一的，键和值之间用冒号分割"
   ]
  },
  {
   "cell_type": "code",
   "execution_count": 3,
   "id": "95dfcf8e-6f13-441c-b39e-89cadce74f99",
   "metadata": {},
   "outputs": [
    {
     "name": "stdout",
     "output_type": "stream",
     "text": [
      "{'color': 'green', 'points': 5}\n"
     ]
    }
   ],
   "source": [
    "#定义空字典：可以用一对空花括号来定义一个空字典，键值对可以分行添加\n",
    "alien_0 = {}\n",
    "alien_0['color'] = 'green'\n",
    "alien_0['points'] = 5\n",
    "print(alien_0)"
   ]
  },
  {
   "cell_type": "code",
   "execution_count": 4,
   "id": "c5820dc4-8b0f-4f71-ab3a-27327925d3c2",
   "metadata": {},
   "outputs": [
    {
     "name": "stdout",
     "output_type": "stream",
     "text": [
      "['green', 5]\n"
     ]
    }
   ],
   "source": [
    "alien_0 = [0,0]\n",
    "alien_0[0] = 'green'\n",
    "alien_0[1] = 5\n",
    "print(alien_0)"
   ]
  },
  {
   "cell_type": "code",
   "execution_count": null,
   "id": "61af7b18-fca0-47db-94ce-8a02e772c800",
   "metadata": {},
   "outputs": [],
   "source": []
  },
  {
   "cell_type": "code",
   "execution_count": null,
   "id": "f6ec4e6c-05ed-4bce-80fd-a309b6ec6c42",
   "metadata": {},
   "outputs": [],
   "source": [
    "#修改键值对"
   ]
  },
  {
   "cell_type": "code",
   "execution_count": 5,
   "id": "ea8e2f83-8552-4341-99c1-0ace54bbec4e",
   "metadata": {},
   "outputs": [
    {
     "name": "stdout",
     "output_type": "stream",
     "text": [
      "{'color': 'green', 'points': 5}\n",
      "{'color': 'green'}\n"
     ]
    }
   ],
   "source": [
    "#删除键值对\n",
    "alien_0 = {'color':'green','points':5}\n",
    "print(alien_0)\n",
    "del alien_0['points']\n",
    "print(alien_0)"
   ]
  },
  {
   "cell_type": "code",
   "execution_count": null,
   "id": "052e165c-2365-4375-aef6-cab7c37a3085",
   "metadata": {},
   "outputs": [],
   "source": []
  },
  {
   "cell_type": "code",
   "execution_count": 8,
   "id": "bc0040ae-5031-4b2a-98d4-7eefa68f79d9",
   "metadata": {},
   "outputs": [
    {
     "name": "stdout",
     "output_type": "stream",
     "text": [
      "None\n"
     ]
    }
   ],
   "source": [
    "#使用 GET（）来访问值\n",
    "alien_0 = {'color':'green','speed':'slow'}\n",
    "point_value = alien_0.get('point')\n",
    "print(point_value)"
   ]
  },
  {
   "cell_type": "code",
   "execution_count": 10,
   "id": "795cdb1b-c94f-4748-8f6b-de9bad514f87",
   "metadata": {},
   "outputs": [
    {
     "name": "stdout",
     "output_type": "stream",
     "text": [
      "The key is not available.\n"
     ]
    }
   ],
   "source": [
    "#d.get(key,[default]):根据键获取值，default实参是可选的\n",
    "alien_0 = {'color':'green','speed':'slow'}\n",
    "point_value = alien_0.get('point',\"The key is not available.\")\n",
    "print(point_value)"
   ]
  },
  {
   "cell_type": "code",
   "execution_count": 23,
   "id": "e4ff1301-fa9b-41ea-8bd4-64d3cdedd033",
   "metadata": {},
   "outputs": [
    {
     "name": "stdout",
     "output_type": "stream",
     "text": [
      "jen python\n",
      "edward rust\n"
     ]
    }
   ],
   "source": [
    "favorites = {'jen':'python','edward':'rust'}\n",
    "for name,language in favorites.items():\n",
    "    print(name,language)"
   ]
  },
  {
   "cell_type": "code",
   "execution_count": 11,
   "id": "c5ab7656-a2a3-4f24-92ed-d0d6588eda52",
   "metadata": {},
   "outputs": [
    {
     "name": "stdout",
     "output_type": "stream",
     "text": [
      "('jen', 'python')\n",
      "('edward', 'rust')\n"
     ]
    }
   ],
   "source": [
    "favorites = {'jen':'python','edward':'rust'}\n",
    "for element in favorites.items():\n",
    "    print(element)"
   ]
  },
  {
   "cell_type": "code",
   "execution_count": 17,
   "id": "a35b2569-831f-44a1-ad1e-9d250fc3b4ce",
   "metadata": {},
   "outputs": [
    {
     "name": "stdout",
     "output_type": "stream",
     "text": [
      "jen\n",
      "jen loves Python.\n",
      "edward\n",
      "edward loves Rust.\n"
     ]
    }
   ],
   "source": [
    "favorites = {'jen':'python','edward':'rust'}\n",
    "for name in favorites.keys():\n",
    "    print(name)\n",
    "    language = favorites[name].title()\n",
    "    print(f\"{name} loves {language}.\")"
   ]
  },
  {
   "cell_type": "code",
   "execution_count": 24,
   "id": "07cb3071-e127-48b8-8750-c80cf2b195f5",
   "metadata": {},
   "outputs": [
    {
     "name": "stdout",
     "output_type": "stream",
     "text": [
      "jen loves python.\n",
      "edward loves rust.\n"
     ]
    }
   ],
   "source": [
    "favorites = {'jen':'python','edward':'rust'}\n",
    "for key,value in favorites.items():\n",
    "    print(f\"{key} loves {value}.\")"
   ]
  },
  {
   "cell_type": "code",
   "execution_count": null,
   "id": "302469e2-dd3a-47b5-9da0-2f3c1e3f0f2e",
   "metadata": {},
   "outputs": [],
   "source": []
  },
  {
   "cell_type": "code",
   "execution_count": null,
   "id": "fc7490c5-7ae9-4170-9dfc-126ec232234b",
   "metadata": {},
   "outputs": [],
   "source": []
  },
  {
   "cell_type": "markdown",
   "id": "39e0b0e8-2c9e-4ecc-b1e6-6655510a6a1c",
   "metadata": {},
   "source": [
    "6.4.3嵌套：在字典中存储字典"
   ]
  },
  {
   "cell_type": "code",
   "execution_count": 19,
   "id": "b7acbf1d-2e26-4455-98a7-19813bd148f7",
   "metadata": {},
   "outputs": [],
   "source": [
    "users = {\n",
    "    'aeinstein':{\n",
    "        'first':'albert',\n",
    "        'last':'einstein',\n",
    "        'location':'princeton',\n",
    "    },\n",
    "    'mcurie':{\n",
    "        'first':'marie',\n",
    "        'last':'curie',\n",
    "        'location':'paris',\n",
    "    },\n",
    "}"
   ]
  },
  {
   "cell_type": "markdown",
   "id": "40da127d-f14d-404f-a413-f3dc23bb6a2f",
   "metadata": {},
   "source": []
  },
  {
   "cell_type": "code",
   "execution_count": 22,
   "id": "fc2e0877-82c0-4ac2-a8a3-ab7f8555f4e7",
   "metadata": {},
   "outputs": [
    {
     "name": "stdout",
     "output_type": "stream",
     "text": [
      "\n",
      "Username:aeinstein\n",
      "\tFull name:Albert Einstein\n",
      "\tLocation:Princeton\n",
      "\n",
      "Username:mcurie\n",
      "\tFull name:Marie Curie\n",
      "\tLocation:Paris\n"
     ]
    }
   ],
   "source": [
    "for username,user_info in users.items():\n",
    "    print(f\"\\nUsername:{username}\")\n",
    "    full_name = f\"{user_info['first']} {user_info['last']}\"\n",
    "    location = user_info['location']\n",
    "    print(f\"\\tFull name:{full_name.title()}\")\n",
    "    print(f\"\\tLocation:{location.title()}\")"
   ]
  }
 ],
 "metadata": {
  "kernelspec": {
   "display_name": "Python 3 (ipykernel)",
   "language": "python",
   "name": "python3"
  },
  "language_info": {
   "codemirror_mode": {
    "name": "ipython",
    "version": 3
   },
   "file_extension": ".py",
   "mimetype": "text/x-python",
   "name": "python",
   "nbconvert_exporter": "python",
   "pygments_lexer": "ipython3",
   "version": "3.11.7"
  }
 },
 "nbformat": 4,
 "nbformat_minor": 5
}
