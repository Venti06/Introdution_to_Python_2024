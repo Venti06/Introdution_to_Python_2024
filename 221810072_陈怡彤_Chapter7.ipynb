{
 "cells": [
  {
   "cell_type": "markdown",
   "id": "afd080c5-be42-453a-940b-29348c0b5df1",
   "metadata": {},
   "source": [
    "第七章 用户输入和while循环"
   ]
  },
  {
   "cell_type": "markdown",
   "id": "12fa769b-53ff-4f2d-a954-3b52021c4704",
   "metadata": {},
   "source": []
  },
  {
   "cell_type": "markdown",
   "id": "e5c0641d-dca3-4bad-8ae8-7b2f2efcdf5c",
   "metadata": {},
   "source": [
    "7.1 函数input（）的工作原理"
   ]
  },
  {
   "cell_type": "code",
   "execution_count": 1,
   "id": "329f8a26-5396-46bb-a648-203fa440ea06",
   "metadata": {},
   "outputs": [
    {
     "name": "stdin",
     "output_type": "stream",
     "text": [
      "Tell me something,and I will repeat it back to you: Hello everyone!\n"
     ]
    },
    {
     "name": "stdout",
     "output_type": "stream",
     "text": [
      "Hello everyone!\n"
     ]
    }
   ],
   "source": [
    "message = input(\"Tell me something,and I will repeat it back to you:\")\n",
    "print(message)"
   ]
  },
  {
   "cell_type": "markdown",
   "id": "4d7da1db-4f22-4efb-a90e-38d40d914aee",
   "metadata": {},
   "source": [
    "7.1.1 编写清晰的程序"
   ]
  },
  {
   "cell_type": "code",
   "execution_count": 2,
   "id": "0161c7d1-05bb-4271-a611-5e62cdca9eec",
   "metadata": {},
   "outputs": [
    {
     "name": "stdin",
     "output_type": "stream",
     "text": [
      "Please enter your name: Eric\n"
     ]
    },
    {
     "name": "stdout",
     "output_type": "stream",
     "text": [
      "\n",
      "Hello,Eric!\n"
     ]
    }
   ],
   "source": [
    "name = input(\"Please enter your name:\")\n",
    "print(f\"\\nHello,{name}!\")"
   ]
  },
  {
   "cell_type": "code",
   "execution_count": 3,
   "id": "380d02bf-16af-47f5-a1c9-9445f1c1442f",
   "metadata": {},
   "outputs": [
    {
     "name": "stdin",
     "output_type": "stream",
     "text": [
      "If you tell us who you are,we can personalize the messages you see.\n",
      "What is your first name? Eric\n"
     ]
    },
    {
     "name": "stdout",
     "output_type": "stream",
     "text": [
      "\n",
      "Hello,Eric!\n"
     ]
    }
   ],
   "source": [
    "prompt = \"If you tell us who you are,we can personalize the messages you see.\"\n",
    "prompt += \"\\nWhat is your first name?\"\n",
    "\n",
    "name = input(prompt)\n",
    "print(f\"\\nHello,{name}!\")"
   ]
  },
  {
   "cell_type": "markdown",
   "id": "46c0d8a9-3c67-499a-a9fa-57f279e78530",
   "metadata": {},
   "source": [
    "7.1.2 使用int（）来获取数值输入"
   ]
  },
  {
   "cell_type": "code",
   "execution_count": 8,
   "id": "e242a9db-e42e-4ba0-9397-c63455c3fec9",
   "metadata": {},
   "outputs": [
    {
     "name": "stdin",
     "output_type": "stream",
     "text": [
      "How old are you? 21\n"
     ]
    },
    {
     "name": "stdout",
     "output_type": "stream",
     "text": [
      "21\n"
     ]
    }
   ],
   "source": [
    "age = input(\"How old are you?\")\n",
    "print(age)"
   ]
  },
  {
   "cell_type": "code",
   "execution_count": 9,
   "id": "e6944af6-bd1f-4a61-899c-f1373fb86c28",
   "metadata": {},
   "outputs": [
    {
     "name": "stdin",
     "output_type": "stream",
     "text": [
      "How old are you? 21\n"
     ]
    },
    {
     "data": {
      "text/plain": [
       "True"
      ]
     },
     "execution_count": 9,
     "metadata": {},
     "output_type": "execute_result"
    }
   ],
   "source": [
    "#int()让Python将输入视为数值\n",
    "age = input(\"How old are you?\")\n",
    "age = int(age)\n",
    "age >= 18"
   ]
  },
  {
   "cell_type": "code",
   "execution_count": 1,
   "id": "38702af5-d6f3-4617-9416-87524363d8d2",
   "metadata": {},
   "outputs": [
    {
     "name": "stdin",
     "output_type": "stream",
     "text": [
      "How tall are you,in inches? 71\n"
     ]
    },
    {
     "name": "stdout",
     "output_type": "stream",
     "text": [
      "\n",
      "You're tall enough to ride!\n"
     ]
    }
   ],
   "source": [
    "height = input(\"How tall are you,in inches?\")\n",
    "height = int(height)\n",
    "\n",
    "if height >= 48:\n",
    "    print(\"\\nYou're tall enough to ride!\")\n",
    "else:\n",
    "    print(\"\\nYou'll be able to ride when you're a little older.\")"
   ]
  },
  {
   "cell_type": "markdown",
   "id": "c0ea4f39-9c39-40ca-8158-7975b6c3102d",
   "metadata": {},
   "source": [
    "7.1.3 求模运算符"
   ]
  },
  {
   "cell_type": "code",
   "execution_count": 2,
   "id": "949fce66-7251-4baf-a07c-0b276c29b867",
   "metadata": {},
   "outputs": [
    {
     "data": {
      "text/plain": [
       "1"
      ]
     },
     "execution_count": 2,
     "metadata": {},
     "output_type": "execute_result"
    }
   ],
   "source": [
    "#求模运算符（%）将两个数相除返回余数\n",
    "4 % 3"
   ]
  },
  {
   "cell_type": "code",
   "execution_count": 3,
   "id": "762b79a4-5f88-40c0-963a-4e1cbd24f7cd",
   "metadata": {},
   "outputs": [
    {
     "data": {
      "text/plain": [
       "2"
      ]
     },
     "execution_count": 3,
     "metadata": {},
     "output_type": "execute_result"
    }
   ],
   "source": [
    "5 % 3"
   ]
  },
  {
   "cell_type": "code",
   "execution_count": 4,
   "id": "9258fdcb-240e-4c08-8bd0-41aaa1eaab0d",
   "metadata": {},
   "outputs": [
    {
     "data": {
      "text/plain": [
       "0"
      ]
     },
     "execution_count": 4,
     "metadata": {},
     "output_type": "execute_result"
    }
   ],
   "source": [
    "6 % 3"
   ]
  },
  {
   "cell_type": "code",
   "execution_count": 5,
   "id": "67138768-1531-4ad8-b76f-021274804fe6",
   "metadata": {},
   "outputs": [
    {
     "data": {
      "text/plain": [
       "1"
      ]
     },
     "execution_count": 5,
     "metadata": {},
     "output_type": "execute_result"
    }
   ],
   "source": [
    "7 % 3"
   ]
  },
  {
   "cell_type": "code",
   "execution_count": 6,
   "id": "df22feb0-bb07-4b39-93e0-6769bab953c1",
   "metadata": {},
   "outputs": [
    {
     "name": "stdin",
     "output_type": "stream",
     "text": [
      "Enter a number, and I'll tell you if it's even or odd: 42\n"
     ]
    },
    {
     "name": "stdout",
     "output_type": "stream",
     "text": [
      "\n",
      "The number is even.\n"
     ]
    }
   ],
   "source": [
    "number = input(\"Enter a number, and I'll tell you if it's even or odd:\")\n",
    "number = int(number)\n",
    "\n",
    "if number % 2 == 0:\n",
    "    print(f\"\\nThe number is even.\")\n",
    "else:\n",
    "    print(f\"\\nThe number is odd.\")"
   ]
  },
  {
   "cell_type": "markdown",
   "id": "ca24cd1d-2f1e-4e93-bca3-cb71f54a2679",
   "metadata": {},
   "source": []
  },
  {
   "cell_type": "code",
   "execution_count": 1,
   "id": "35179ab0-1230-486c-9860-65565dc1d5f5",
   "metadata": {},
   "outputs": [
    {
     "name": "stdin",
     "output_type": "stream",
     "text": [
      "What kind of car would you like? Audi\n"
     ]
    },
    {
     "name": "stdout",
     "output_type": "stream",
     "text": [
      "Let me see if I can find you a Audi.\n"
     ]
    }
   ],
   "source": [
    "#7.1汽车租赁\n",
    "car = input(\"What kind of car would you like?\")\n",
    "print(f\"Let me see if I can find you a {car.title()}.\")"
   ]
  },
  {
   "cell_type": "code",
   "execution_count": 2,
   "id": "5710982b-3169-44fd-ae1e-5b599df36fa3",
   "metadata": {},
   "outputs": [
    {
     "name": "stdin",
     "output_type": "stream",
     "text": [
      "How many people do you come for dinner? 3\n"
     ]
    },
    {
     "name": "stdout",
     "output_type": "stream",
     "text": [
      "OK!Your table is ordered.\n"
     ]
    }
   ],
   "source": [
    "#7.2餐馆订座位\n",
    "number = input(\"How many people do you come for dinner?\")\n",
    "number = int(number)\n",
    "if number > 8:\n",
    "    print(\"Sorry, we don't have enough seats.\")\n",
    "else:\n",
    "    print(\"OK!Your table is ordered.\")"
   ]
  },
  {
   "cell_type": "code",
   "execution_count": 3,
   "id": "20c76023-4458-4c3b-90d6-61f81b1a4382",
   "metadata": {},
   "outputs": [
    {
     "name": "stdin",
     "output_type": "stream",
     "text": [
      "Please input a number: 6\n"
     ]
    },
    {
     "name": "stdout",
     "output_type": "stream",
     "text": [
      "6 is not a multiple of 10.\n"
     ]
    }
   ],
   "source": [
    "#7.3  10的整数倍\n",
    "number = input(\"Please input a number:\")\n",
    "number = int(number)\n",
    "if number %10 ==0:\n",
    "    print(f\"{number} is a multiple of 10.\")\n",
    "else:\n",
    "    print(f\"{number} is not a multiple of 10.\")"
   ]
  },
  {
   "cell_type": "code",
   "execution_count": null,
   "id": "b9c76394-ca1a-4cd5-bf3d-b12103d31847",
   "metadata": {},
   "outputs": [],
   "source": []
  },
  {
   "cell_type": "markdown",
   "id": "d2d9a0bc-2370-48e9-9849-4075cbd060dd",
   "metadata": {},
   "source": [
    "7.2 while循环简介"
   ]
  },
  {
   "cell_type": "markdown",
   "id": "b4b515cd-e214-4401-ba87-fe050d8a6ff7",
   "metadata": {},
   "source": [
    "7.2.1 使用while循环"
   ]
  },
  {
   "cell_type": "code",
   "execution_count": 2,
   "id": "9f07a03d-7822-4302-98bf-0a3fbfd7e563",
   "metadata": {},
   "outputs": [
    {
     "name": "stdout",
     "output_type": "stream",
     "text": [
      "1\n",
      "2\n",
      "3\n",
      "4\n",
      "5\n"
     ]
    }
   ],
   "source": [
    "current_number = 1\n",
    "while current_number <= 5:\n",
    "    print(current_number)\n",
    "    current_number += 1"
   ]
  },
  {
   "cell_type": "markdown",
   "id": "495b5dec-d494-4e04-aa1d-acd414de75e0",
   "metadata": {},
   "source": [
    "7.2.2 让用户选择何时退出"
   ]
  },
  {
   "cell_type": "code",
   "execution_count": 3,
   "id": "b0466075-0b71-43f2-83cd-5537e58bce8b",
   "metadata": {},
   "outputs": [
    {
     "name": "stdin",
     "output_type": "stream",
     "text": [
      "\n",
      "Tell me something, and I will repeat it back to you:\n",
      "Enter 'quit' to end the program. Hello everyone!\n"
     ]
    },
    {
     "name": "stdout",
     "output_type": "stream",
     "text": [
      "Hello everyone!\n"
     ]
    },
    {
     "name": "stdin",
     "output_type": "stream",
     "text": [
      "\n",
      "Tell me something, and I will repeat it back to you:\n",
      "Enter 'quit' to end the program. Hello again.\n"
     ]
    },
    {
     "name": "stdout",
     "output_type": "stream",
     "text": [
      "Hello again.\n"
     ]
    },
    {
     "name": "stdin",
     "output_type": "stream",
     "text": [
      "\n",
      "Tell me something, and I will repeat it back to you:\n",
      "Enter 'quit' to end the program. quit\n"
     ]
    },
    {
     "name": "stdout",
     "output_type": "stream",
     "text": [
      "quit\n"
     ]
    }
   ],
   "source": [
    "prompt = \"\\nTell me something, and I will repeat it back to you:\"\n",
    "prompt += \"\\nEnter 'quit' to end the program.\"\n",
    "message = \"\"\n",
    "while message != 'quit':\n",
    "    message = input(prompt)\n",
    "    print(message)"
   ]
  },
  {
   "cell_type": "code",
   "execution_count": 11,
   "id": "332cadae-cc7e-4279-b291-6bbcc0ed000e",
   "metadata": {},
   "outputs": [
    {
     "name": "stdin",
     "output_type": "stream",
     "text": [
      "\n",
      "Tell me something, and I will repeat it back to you:\n",
      "Enter 'quit' to end the program. quit\n"
     ]
    }
   ],
   "source": [
    "prompt = \"\\nTell me something, and I will repeat it back to you:\"\n",
    "prompt += \"\\nEnter 'quit' to end the program.\"\n",
    "\n",
    "message = \"\"\n",
    "while message != 'quit':\n",
    "    message = input(prompt)\n",
    "    if message != 'quit':\n",
    "        print(message)"
   ]
  },
  {
   "cell_type": "markdown",
   "id": "7688179e-e5b8-418e-b024-d3cbb96b1ea7",
   "metadata": {},
   "source": [
    "7.2.3 使用标志"
   ]
  },
  {
   "cell_type": "code",
   "execution_count": null,
   "id": "9ca04f14-ad7b-4c4c-b253-77ca1a9ef2d4",
   "metadata": {},
   "outputs": [],
   "source": [
    "#标志flag\n",
    "prompt = \"\\nTell me something, and I will repeat it back to you:\"\n",
    "prompt += \"\\nEnter 'quit' to end the program.\"\n",
    "\n",
    "active = True\n",
    "while active:\n",
    "    message = input(prompt)\n",
    "\n",
    "    if message == 'quit':\n",
    "        active = False\n",
    "    else:\n",
    "        print(message)"
   ]
  },
  {
   "cell_type": "markdown",
   "id": "86cbdf30-5b62-4fb4-bef8-6b5bf22d1fcf",
   "metadata": {},
   "source": [
    "7.2.4 使用break退出循环"
   ]
  },
  {
   "cell_type": "code",
   "execution_count": 1,
   "id": "e3c8ed3a-06d8-4a71-bc61-609ad139c47f",
   "metadata": {},
   "outputs": [
    {
     "name": "stdin",
     "output_type": "stream",
     "text": [
      "\n",
      "Please enter the name of a city you have visited:\n",
      "Enter 'quit' when you are finished. New York\n"
     ]
    },
    {
     "name": "stdout",
     "output_type": "stream",
     "text": [
      "I'd love to go to New York!\n"
     ]
    },
    {
     "name": "stdin",
     "output_type": "stream",
     "text": [
      "\n",
      "Please enter the name of a city you have visited:\n",
      "Enter 'quit' when you are finished. San Francisco\n"
     ]
    },
    {
     "name": "stdout",
     "output_type": "stream",
     "text": [
      "I'd love to go to San Francisco!\n"
     ]
    },
    {
     "name": "stdin",
     "output_type": "stream",
     "text": [
      "\n",
      "Please enter the name of a city you have visited:\n",
      "Enter 'quit' when you are finished. quit\n"
     ]
    }
   ],
   "source": [
    "prompt = \"\\nPlease enter the name of a city you have visited:\"\n",
    "prompt += \"\\nEnter 'quit' when you are finished.\"\n",
    "\n",
    "while True:\n",
    "    city = input(prompt)\n",
    "    \n",
    "    if city == 'quit':\n",
    "        break\n",
    "    else:\n",
    "        print(f\"I'd love to go to {city.title()}!\")"
   ]
  },
  {
   "cell_type": "markdown",
   "id": "0e525864-6b6e-4d38-9463-5215a65b4af3",
   "metadata": {},
   "source": [
    "7.2.5 在循环中使用continue"
   ]
  },
  {
   "cell_type": "code",
   "execution_count": 3,
   "id": "d53ff609-158e-43b3-89ee-c086eac58cef",
   "metadata": {},
   "outputs": [
    {
     "name": "stdout",
     "output_type": "stream",
     "text": [
      "1\n",
      "3\n",
      "5\n",
      "7\n",
      "9\n"
     ]
    }
   ],
   "source": [
    "current_number = 0\n",
    "while current_number < 10:\n",
    "    current_number += 1\n",
    "    if current_number %2 == 0:\n",
    "        continue\n",
    "\n",
    "    print(current_number)"
   ]
  },
  {
   "cell_type": "markdown",
   "id": "efc1d64f-5b7f-4065-ad5c-5253f9819496",
   "metadata": {},
   "source": [
    "7.2.6 避免无限循环"
   ]
  },
  {
   "cell_type": "code",
   "execution_count": null,
   "id": "a9932e26-738d-41bd-ba4c-230daf8dd8dc",
   "metadata": {},
   "outputs": [],
   "source": [
    "#Ctrl+C"
   ]
  },
  {
   "cell_type": "markdown",
   "id": "f428c8c8-d8c0-4f5e-b46a-9547066dbc6d",
   "metadata": {},
   "source": []
  },
  {
   "cell_type": "code",
   "execution_count": 4,
   "id": "99fda204-6fd9-4ec8-8044-263007dbc382",
   "metadata": {},
   "outputs": [
    {
     "name": "stdin",
     "output_type": "stream",
     "text": [
      "\n",
      "What topping would you like on your pizza?\n",
      "Enter 'quit' when you are finished. quit\n"
     ]
    }
   ],
   "source": [
    "#7.4比萨配料\n",
    "prompt = \"\\nWhat topping would you like on your pizza?\"\n",
    "prompt += \"\\nEnter 'quit' when you are finished.\"\n",
    "\n",
    "while True:\n",
    "    topping = input(prompt)\n",
    "    if topping != 'quit':\n",
    "        print(f\"I'll add {topping} to your pizza.\")\n",
    "    else:\n",
    "        break"
   ]
  },
  {
   "cell_type": "code",
   "execution_count": 5,
   "id": "0ce28a22-3140-4aa5-a4f8-3100273d734c",
   "metadata": {},
   "outputs": [
    {
     "name": "stdin",
     "output_type": "stream",
     "text": [
      "\n",
      "How old are you\n",
      "Enter 'quit' when you are finished. quit\n"
     ]
    }
   ],
   "source": [
    "#7.5电影票\n",
    "prompt = \"\\nHow old are you\"\n",
    "prompt +=\"\\nEnter 'quit' when you are finished.\"\n",
    "while True:\n",
    "    age = input(prompt)\n",
    "    if age =='quit':\n",
    "        break\n",
    "    age = int(age)\n",
    "    if age < 3:\n",
    "        print(\"You can get in for free.\")\n",
    "    elif age < 12:\n",
    "        print(\"You need to pay $10.\")\n",
    "    else:\n",
    "        print(\"You need to pay $15.\")"
   ]
  },
  {
   "cell_type": "code",
   "execution_count": 6,
   "id": "ca26d021-bb01-437b-bf37-223ef5fae488",
   "metadata": {},
   "outputs": [
    {
     "name": "stdin",
     "output_type": "stream",
     "text": [
      "\n",
      "How old are you?\n",
      "Enter 'quit' when you are finished. 20\n"
     ]
    },
    {
     "name": "stdout",
     "output_type": "stream",
     "text": [
      "You need to pay $15.\n"
     ]
    },
    {
     "name": "stdin",
     "output_type": "stream",
     "text": [
      "\n",
      "How old are you?\n",
      "Enter 'quit' when you are finished. quit\n"
     ]
    }
   ],
   "source": [
    "#7.6三种出路\n",
    "prompt = \"\\nHow old are you?\"\n",
    "prompt +=\"\\nEnter 'quit' when you are finished.\"\n",
    "active = True\n",
    "while active:\n",
    "    age = input(prompt)\n",
    "    if age =='quit':\n",
    "        active = False\n",
    "    else:\n",
    "        age = int(age)\n",
    "        if age < 3:\n",
    "            print(\"You can get in for free.\")\n",
    "        elif age < 12:\n",
    "            print(\"You need to pay $10.\")\n",
    "        else:\n",
    "            print(\"You need to pay $15.\")"
   ]
  },
  {
   "cell_type": "code",
   "execution_count": null,
   "id": "f3165a66-0e2e-4082-b4d9-bb67e58ad6b5",
   "metadata": {},
   "outputs": [],
   "source": []
  },
  {
   "cell_type": "markdown",
   "id": "3e3e1eda-9c9c-473b-ac20-5cd8a4a07dd4",
   "metadata": {},
   "source": [
    "7.3 使用while循环处理列表和字典"
   ]
  },
  {
   "cell_type": "markdown",
   "id": "663ad86f-584a-49ff-a9ae-abb9dc67de9b",
   "metadata": {},
   "source": [
    "7.3.1 在列表之间移动元素"
   ]
  },
  {
   "cell_type": "code",
   "execution_count": 5,
   "id": "78f83d77-35c3-4846-8751-e63cb69e6d5f",
   "metadata": {},
   "outputs": [
    {
     "name": "stdout",
     "output_type": "stream",
     "text": [
      "Verifying user:Candace\n",
      "Verifying user:Brian\n",
      "Verifying user:Alice\n",
      "\n",
      "The following users have been confirmed:\n",
      "Candace\n",
      "Brian\n",
      "Alice\n"
     ]
    }
   ],
   "source": [
    "#首先，创建一个待验证用户列表\n",
    "#   和一个用于存储已验证用户的空列表\n",
    "unconfirmed_users = ['alice','brian','candace']\n",
    "confirmed_users = []\n",
    "\n",
    "#验证每个用户，直到没有未验证用户为止\n",
    "#   将每个经过验证的用户都移到已验证用户列表中\n",
    "while unconfirmed_users:\n",
    "    current_user = unconfirmed_users.pop()\n",
    "\n",
    "    print(f\"Verifying user:{current_user.title()}\")\n",
    "    confirmed_users.append(current_user)\n",
    "\n",
    "#显示所有已验证的用户\n",
    "print(\"\\nThe following users have been confirmed:\")\n",
    "for confirmed_user in confirmed_users:\n",
    "    print(confirmed_user.title())"
   ]
  },
  {
   "cell_type": "markdown",
   "id": "30abe2ea-c484-458b-890f-ac1161f35d07",
   "metadata": {},
   "source": [
    "7.3.2 删除为特定值的所有列表元素"
   ]
  },
  {
   "cell_type": "markdown",
   "id": "f7198195-196c-4755-ac5a-4ac91877cb41",
   "metadata": {},
   "source": [
    "7.3.3 使用用户输入来填充字典"
   ]
  },
  {
   "cell_type": "code",
   "execution_count": null,
   "id": "1741b6b8-7c81-4118-a740-b722cfc95d78",
   "metadata": {},
   "outputs": [],
   "source": []
  },
  {
   "cell_type": "code",
   "execution_count": 7,
   "id": "5a8fd76c-5ee1-477d-8aa0-ffc5e5a8909e",
   "metadata": {},
   "outputs": [
    {
     "name": "stdout",
     "output_type": "stream",
     "text": [
      "I made your egg salad sandwich.\n",
      "I made your ham and cheese sandwich.\n",
      "I made your turkey sandwich.\n",
      "I made your veggie sandwich.\n",
      "I made your tuna sandwich.\n",
      "\n",
      "\n",
      "I made a egg salad sandwich.\n",
      "I made a ham and cheese sandwich.\n",
      "I made a turkey sandwich.\n",
      "I made a veggie sandwich.\n",
      "I made a tuna sandwich.\n"
     ]
    }
   ],
   "source": [
    "#练习7.8 熟食店\n",
    "sandwich_orders = ['tuna','veggie','turkey','ham and cheese','egg salad']\n",
    "finished_sandwiches = []\n",
    "while sandwich_orders:\n",
    "    made = sandwich_orders.pop()\n",
    "    print(f\"I made your {made} sandwich.\")\n",
    "    finished_sandwiches.append(made)\n",
    "print(\"\\n\")\n",
    "for sandwich in finished_sandwiches:\n",
    "    print(f\"I made a {sandwich} sandwich.\")"
   ]
  },
  {
   "cell_type": "code",
   "execution_count": 8,
   "id": "37698983-55da-4f20-8d70-0c82df253baa",
   "metadata": {},
   "outputs": [
    {
     "name": "stdout",
     "output_type": "stream",
     "text": [
      "I'm sorry, today's pastrami sandwiches have been sold out.\n",
      "\n",
      "\n",
      "I made your egg salad sandwich.\n",
      "I made your ham and cheese sandwich.\n",
      "I made your turkey sandwich.\n",
      "I made your veggie sandwich.\n",
      "I made your tuna sandwich.\n",
      "\n",
      "\n",
      "I made a egg salad sandwich.\n",
      "I made a ham and cheese sandwich.\n",
      "I made a turkey sandwich.\n",
      "I made a veggie sandwich.\n",
      "I made a tuna sandwich.\n"
     ]
    }
   ],
   "source": [
    "#练习7.9 五香烟熏牛肉卖完了\n",
    "sandwich_orders = ['tuna','veggie','pastrami','turkey','pastrami','ham and cheese','egg salad','pastrami']\n",
    "finished_sandwiches = []\n",
    "print(\"I'm sorry, today's pastrami sandwiches have been sold out.\")\n",
    "while 'pastrami' in sandwich_orders:\n",
    "    sandwich_orders.remove('pastrami')\n",
    "\n",
    "print(\"\\n\")\n",
    "while sandwich_orders:\n",
    "    made = sandwich_orders.pop()\n",
    "    print(f\"I made your {made} sandwich.\")\n",
    "    finished_sandwiches.append(made)\n",
    "print(\"\\n\")\n",
    "for sandwich in finished_sandwiches:\n",
    "    print(f\"I made a {sandwich} sandwich.\")"
   ]
  },
  {
   "cell_type": "code",
   "execution_count": 9,
   "id": "9234c15f-a5f8-44ff-9e92-4b008ad2194a",
   "metadata": {},
   "outputs": [
    {
     "name": "stdin",
     "output_type": "stream",
     "text": [
      "\n",
      "What's your name? Venti\n",
      "If you could visit one place in the world, where would it be? China\n",
      "Would you like to let another person respond?(yes/no) no\n"
     ]
    },
    {
     "name": "stdout",
     "output_type": "stream",
     "text": [
      "Results:\n",
      "\n",
      "Venti would like to visit China.\n"
     ]
    }
   ],
   "source": [
    "#练习7.10 梦想中的独家圣地\n",
    "active = True\n",
    "\n",
    "prompt1 = \"\\nWhat's your name?\"\n",
    "prompt2 = \"If you could visit one place in the world, where would it be?\"\n",
    "\n",
    "responses ={}\n",
    "while active:\n",
    "    name = input(prompt1)\n",
    "    place = input(prompt2)\n",
    "    responses[name] = place\n",
    "\n",
    "    repeat=input(\"Would you like to let another person respond?(yes/no)\")\n",
    "    if repeat=='no':\n",
    "        active=False\n",
    "\n",
    "print(\"Results:\")\n",
    "for name,place in responses.items():\n",
    "    print(f\"\\n{name.title()} would like to visit {place.title()}.\")"
   ]
  }
 ],
 "metadata": {
  "kernelspec": {
   "display_name": "Python 3 (ipykernel)",
   "language": "python",
   "name": "python3"
  },
  "language_info": {
   "codemirror_mode": {
    "name": "ipython",
    "version": 3
   },
   "file_extension": ".py",
   "mimetype": "text/x-python",
   "name": "python",
   "nbconvert_exporter": "python",
   "pygments_lexer": "ipython3",
   "version": "3.11.7"
  }
 },
 "nbformat": 4,
 "nbformat_minor": 5
}
