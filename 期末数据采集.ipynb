{
 "cells": [
  {
   "cell_type": "code",
   "execution_count": 2,
   "id": "6df6d4cd-667a-44fc-8455-d5b84e324544",
   "metadata": {},
   "outputs": [
    {
     "name": "stdout",
     "output_type": "stream",
     "text": [
      "Requirement already satisfied: requests in c:\\users\\86180\\anaconda3\\lib\\site-packages (2.31.0)Note: you may need to restart the kernel to use updated packages.\n",
      "\n",
      "Requirement already satisfied: charset-normalizer<4,>=2 in c:\\users\\86180\\anaconda3\\lib\\site-packages (from requests) (2.0.4)\n",
      "Requirement already satisfied: idna<4,>=2.5 in c:\\users\\86180\\anaconda3\\lib\\site-packages (from requests) (3.4)\n",
      "Requirement already satisfied: urllib3<3,>=1.21.1 in c:\\users\\86180\\anaconda3\\lib\\site-packages (from requests) (2.0.7)\n",
      "Requirement already satisfied: certifi>=2017.4.17 in c:\\users\\86180\\anaconda3\\lib\\site-packages (from requests) (2024.2.2)\n"
     ]
    }
   ],
   "source": [
    "pip install requests"
   ]
  },
  {
   "cell_type": "code",
   "execution_count": 3,
   "id": "816b21b3-c213-470d-832c-607972fb27cc",
   "metadata": {},
   "outputs": [],
   "source": [
    "url = 'https://restapi.amap.com/v3/weather/weatherInfo'\n",
    "payload = {'city': '320100','key': 'd00466594a7f2bfff37c0fbc3951ef0b','extensions': 'all','output': 'JSON'}"
   ]
  },
  {
   "cell_type": "code",
   "execution_count": 4,
   "id": "1988b01e-fe9e-4711-83ad-0e2621657224",
   "metadata": {},
   "outputs": [
    {
     "name": "stdout",
     "output_type": "stream",
     "text": [
      "200\n",
      "{\"status\":\"1\",\"count\":\"1\",\"info\":\"OK\",\"infocode\":\"10000\",\"forecasts\":[{\"city\":\"南京市\",\"adcode\":\"320100\",\"province\":\"江苏\",\"reporttime\":\"2024-08-13 21:01:42\",\"casts\":[{\"date\":\"2024-08-13\",\"week\":\"2\",\"dayweather\":\"中雨-大雨\",\"nightweather\":\"雷阵雨\",\"daytemp\":\"34\",\"nighttemp\":\"26\",\"daywind\":\"东北\",\"nightwind\":\"东北\",\"daypower\":\"4\",\"nightpower\":\"4\",\"daytemp_float\":\"34.0\",\"nighttemp_float\":\"26.0\"},{\"date\":\"2024-08-14\",\"week\":\"3\",\"dayweather\":\"雷阵雨\",\"nightweather\":\"多云\",\"daytemp\":\"33\",\"nighttemp\":\"26\",\"daywind\":\"东\",\"nightwind\":\"东\",\"daypower\":\"1-3\",\"nightpower\":\"1-3\",\"daytemp_float\":\"33.0\",\"nighttemp_float\":\"26.0\"},{\"date\":\"2024-08-15\",\"week\":\"4\",\"dayweather\":\"多云\",\"nightweather\":\"多云\",\"daytemp\":\"33\",\"nighttemp\":\"25\",\"daywind\":\"东北\",\"nightwind\":\"东北\",\"daypower\":\"1-3\",\"nightpower\":\"1-3\",\"daytemp_float\":\"33.0\",\"nighttemp_float\":\"25.0\"},{\"date\":\"2024-08-16\",\"week\":\"5\",\"dayweather\":\"多云\",\"nightweather\":\"多云\",\"daytemp\":\"34\",\"nighttemp\":\"27\",\"daywind\":\"东\",\"nightwind\":\"东\",\"daypower\":\"1-3\",\"nightpower\":\"1-3\",\"daytemp_float\":\"34.0\",\"nighttemp_float\":\"27.0\"}]}]}\n"
     ]
    }
   ],
   "source": [
    "import requests\n",
    "r = requests.get(url, params=payload)\n",
    "print(r.status_code)\n",
    "print(r.text)"
   ]
  },
  {
   "cell_type": "code",
   "execution_count": 6,
   "id": "67d10f42-2d9f-4547-a4e5-4d0dd109e524",
   "metadata": {},
   "outputs": [
    {
     "name": "stdout",
     "output_type": "stream",
     "text": [
      "{'status': '1', 'count': '1', 'info': 'OK', 'infocode': '10000', 'forecasts': [{'city': '南京市', 'adcode': '320100', 'province': '江苏', 'reporttime': '2024-08-13 21:01:42', 'casts': [{'date': '2024-08-13', 'week': '2', 'dayweather': '中雨-大雨', 'nightweather': '雷阵雨', 'daytemp': '34', 'nighttemp': '26', 'daywind': '东北', 'nightwind': '东北', 'daypower': '4', 'nightpower': '4', 'daytemp_float': '34.0', 'nighttemp_float': '26.0'}, {'date': '2024-08-14', 'week': '3', 'dayweather': '雷阵雨', 'nightweather': '多云', 'daytemp': '33', 'nighttemp': '26', 'daywind': '东', 'nightwind': '东', 'daypower': '1-3', 'nightpower': '1-3', 'daytemp_float': '33.0', 'nighttemp_float': '26.0'}, {'date': '2024-08-15', 'week': '4', 'dayweather': '多云', 'nightweather': '多云', 'daytemp': '33', 'nighttemp': '25', 'daywind': '东北', 'nightwind': '东北', 'daypower': '1-3', 'nightpower': '1-3', 'daytemp_float': '33.0', 'nighttemp_float': '25.0'}, {'date': '2024-08-16', 'week': '5', 'dayweather': '多云', 'nightweather': '多云', 'daytemp': '34', 'nighttemp': '27', 'daywind': '东', 'nightwind': '东', 'daypower': '1-3', 'nightpower': '1-3', 'daytemp_float': '34.0', 'nighttemp_float': '27.0'}]}]}\n"
     ]
    }
   ],
   "source": [
    "import json\n",
    "content_json = json.loads(r.text)\n",
    "print(content_json)"
   ]
  },
  {
   "cell_type": "code",
   "execution_count": 7,
   "id": "37e88f18-c1d7-4374-bfb1-b85494689cb2",
   "metadata": {},
   "outputs": [
    {
     "name": "stdout",
     "output_type": "stream",
     "text": [
      "         date week dayweather nightweather daytemp nighttemp daywind  \\\n",
      "0  2024-08-13    2      中雨-大雨          雷阵雨      34        26      东北   \n",
      "1  2024-08-14    3        雷阵雨           多云      33        26       东   \n",
      "2  2024-08-15    4         多云           多云      33        25      东北   \n",
      "3  2024-08-16    5         多云           多云      34        27       东   \n",
      "\n",
      "  nightwind daypower nightpower daytemp_float nighttemp_float  \n",
      "0        东北        4          4          34.0            26.0  \n",
      "1         东      1-3        1-3          33.0            26.0  \n",
      "2        东北      1-3        1-3          33.0            25.0  \n",
      "3         东      1-3        1-3          34.0            27.0  \n"
     ]
    }
   ],
   "source": [
    "import pandas as pd\n",
    "df = pd.DataFrame(content_json['forecasts'][0]['casts'])\n",
    "print(df)"
   ]
  },
  {
   "cell_type": "code",
   "execution_count": 9,
   "id": "00aa15ee-6d47-4259-b0ac-78f2869209f0",
   "metadata": {},
   "outputs": [],
   "source": [
    "import os\n",
    "file_name = '{}.csv'.format(content_json['forecasts'][0]['city'])\n",
    "df.to_csv(file_name, index=False)"
   ]
  },
  {
   "cell_type": "code",
   "execution_count": 10,
   "id": "e8028cb8-33e6-4a66-8ec6-acfac82d6364",
   "metadata": {},
   "outputs": [],
   "source": [
    "url = 'https://restapi.amap.com/v3/weather/weatherInfo'\n",
    "payload = {'city': '320200','key': 'd00466594a7f2bfff37c0fbc3951ef0b','extensions': 'all','output': 'JSON'}"
   ]
  },
  {
   "cell_type": "code",
   "execution_count": 11,
   "id": "0e72f9cd-67a9-411f-8602-e6753bd16536",
   "metadata": {},
   "outputs": [
    {
     "name": "stdout",
     "output_type": "stream",
     "text": [
      "200\n",
      "{\"status\":\"1\",\"count\":\"1\",\"info\":\"OK\",\"infocode\":\"10000\",\"forecasts\":[{\"city\":\"无锡市\",\"adcode\":\"320200\",\"province\":\"江苏\",\"reporttime\":\"2024-08-13 22:01:47\",\"casts\":[{\"date\":\"2024-08-13\",\"week\":\"2\",\"dayweather\":\"中雨\",\"nightweather\":\"阴\",\"daytemp\":\"35\",\"nighttemp\":\"27\",\"daywind\":\"东\",\"nightwind\":\"东\",\"daypower\":\"1-3\",\"nightpower\":\"1-3\",\"daytemp_float\":\"35.0\",\"nighttemp_float\":\"27.0\"},{\"date\":\"2024-08-14\",\"week\":\"3\",\"dayweather\":\"阴\",\"nightweather\":\"晴\",\"daytemp\":\"34\",\"nighttemp\":\"27\",\"daywind\":\"东\",\"nightwind\":\"东\",\"daypower\":\"1-3\",\"nightpower\":\"1-3\",\"daytemp_float\":\"34.0\",\"nighttemp_float\":\"27.0\"},{\"date\":\"2024-08-15\",\"week\":\"4\",\"dayweather\":\"多云\",\"nightweather\":\"晴\",\"daytemp\":\"34\",\"nighttemp\":\"26\",\"daywind\":\"东北\",\"nightwind\":\"东北\",\"daypower\":\"1-3\",\"nightpower\":\"1-3\",\"daytemp_float\":\"34.0\",\"nighttemp_float\":\"26.0\"},{\"date\":\"2024-08-16\",\"week\":\"5\",\"dayweather\":\"晴\",\"nightweather\":\"晴\",\"daytemp\":\"35\",\"nighttemp\":\"26\",\"daywind\":\"东\",\"nightwind\":\"东\",\"daypower\":\"1-3\",\"nightpower\":\"1-3\",\"daytemp_float\":\"35.0\",\"nighttemp_float\":\"26.0\"}]}]}\n"
     ]
    }
   ],
   "source": [
    "import requests\n",
    "r = requests.get(url, params=payload)\n",
    "print(r.status_code)\n",
    "print(r.text)"
   ]
  },
  {
   "cell_type": "code",
   "execution_count": 12,
   "id": "b268c327-1c4a-464e-af08-141ac61d57c5",
   "metadata": {},
   "outputs": [
    {
     "name": "stdout",
     "output_type": "stream",
     "text": [
      "{'status': '1', 'count': '1', 'info': 'OK', 'infocode': '10000', 'forecasts': [{'city': '无锡市', 'adcode': '320200', 'province': '江苏', 'reporttime': '2024-08-13 22:01:47', 'casts': [{'date': '2024-08-13', 'week': '2', 'dayweather': '中雨', 'nightweather': '阴', 'daytemp': '35', 'nighttemp': '27', 'daywind': '东', 'nightwind': '东', 'daypower': '1-3', 'nightpower': '1-3', 'daytemp_float': '35.0', 'nighttemp_float': '27.0'}, {'date': '2024-08-14', 'week': '3', 'dayweather': '阴', 'nightweather': '晴', 'daytemp': '34', 'nighttemp': '27', 'daywind': '东', 'nightwind': '东', 'daypower': '1-3', 'nightpower': '1-3', 'daytemp_float': '34.0', 'nighttemp_float': '27.0'}, {'date': '2024-08-15', 'week': '4', 'dayweather': '多云', 'nightweather': '晴', 'daytemp': '34', 'nighttemp': '26', 'daywind': '东北', 'nightwind': '东北', 'daypower': '1-3', 'nightpower': '1-3', 'daytemp_float': '34.0', 'nighttemp_float': '26.0'}, {'date': '2024-08-16', 'week': '5', 'dayweather': '晴', 'nightweather': '晴', 'daytemp': '35', 'nighttemp': '26', 'daywind': '东', 'nightwind': '东', 'daypower': '1-3', 'nightpower': '1-3', 'daytemp_float': '35.0', 'nighttemp_float': '26.0'}]}]}\n"
     ]
    }
   ],
   "source": [
    "import json\n",
    "content_json = json.loads(r.text)\n",
    "print(content_json)"
   ]
  },
  {
   "cell_type": "code",
   "execution_count": 13,
   "id": "94672140-b270-43fd-8df0-2b89a152f2fb",
   "metadata": {},
   "outputs": [
    {
     "name": "stdout",
     "output_type": "stream",
     "text": [
      "         date week dayweather nightweather daytemp nighttemp daywind  \\\n",
      "0  2024-08-13    2         中雨            阴      35        27       东   \n",
      "1  2024-08-14    3          阴            晴      34        27       东   \n",
      "2  2024-08-15    4         多云            晴      34        26      东北   \n",
      "3  2024-08-16    5          晴            晴      35        26       东   \n",
      "\n",
      "  nightwind daypower nightpower daytemp_float nighttemp_float  \n",
      "0         东      1-3        1-3          35.0            27.0  \n",
      "1         东      1-3        1-3          34.0            27.0  \n",
      "2        东北      1-3        1-3          34.0            26.0  \n",
      "3         东      1-3        1-3          35.0            26.0  \n"
     ]
    }
   ],
   "source": [
    "import pandas as pd\n",
    "df = pd.DataFrame(content_json['forecasts'][0]['casts'])\n",
    "print(df)"
   ]
  },
  {
   "cell_type": "code",
   "execution_count": 14,
   "id": "9536a9a3-943b-4782-bda7-39bab49332c6",
   "metadata": {},
   "outputs": [],
   "source": [
    "import os\n",
    "file_name = '{}.csv'.format(content_json['forecasts'][0]['city'])\n",
    "df.to_csv(file_name, index=False)"
   ]
  },
  {
   "cell_type": "code",
   "execution_count": 16,
   "id": "31d609b2-3bea-4060-9564-fee39f490385",
   "metadata": {},
   "outputs": [
    {
     "name": "stdout",
     "output_type": "stream",
     "text": [
      "200\n",
      "{\"status\":\"1\",\"count\":\"1\",\"info\":\"OK\",\"infocode\":\"10000\",\"forecasts\":[{\"city\":\"徐州市\",\"adcode\":\"320300\",\"province\":\"江苏\",\"reporttime\":\"2024-08-13 22:01:45\",\"casts\":[{\"date\":\"2024-08-13\",\"week\":\"2\",\"dayweather\":\"多云\",\"nightweather\":\"中雨\",\"daytemp\":\"34\",\"nighttemp\":\"25\",\"daywind\":\"北\",\"nightwind\":\"北\",\"daypower\":\"1-3\",\"nightpower\":\"1-3\",\"daytemp_float\":\"34.0\",\"nighttemp_float\":\"25.0\"},{\"date\":\"2024-08-14\",\"week\":\"3\",\"dayweather\":\"大雨\",\"nightweather\":\"晴\",\"daytemp\":\"30\",\"nighttemp\":\"25\",\"daywind\":\"东北\",\"nightwind\":\"东北\",\"daypower\":\"1-3\",\"nightpower\":\"1-3\",\"daytemp_float\":\"30.0\",\"nighttemp_float\":\"25.0\"},{\"date\":\"2024-08-15\",\"week\":\"4\",\"dayweather\":\"晴\",\"nightweather\":\"晴\",\"daytemp\":\"33\",\"nighttemp\":\"26\",\"daywind\":\"东北\",\"nightwind\":\"东北\",\"daypower\":\"1-3\",\"nightpower\":\"1-3\",\"daytemp_float\":\"33.0\",\"nighttemp_float\":\"26.0\"},{\"date\":\"2024-08-16\",\"week\":\"5\",\"dayweather\":\"晴\",\"nightweather\":\"晴\",\"daytemp\":\"32\",\"nighttemp\":\"26\",\"daywind\":\"东\",\"nightwind\":\"东\",\"daypower\":\"1-3\",\"nightpower\":\"1-3\",\"daytemp_float\":\"32.0\",\"nighttemp_float\":\"26.0\"}]}]}\n",
      "{'status': '1', 'count': '1', 'info': 'OK', 'infocode': '10000', 'forecasts': [{'city': '徐州市', 'adcode': '320300', 'province': '江苏', 'reporttime': '2024-08-13 22:01:45', 'casts': [{'date': '2024-08-13', 'week': '2', 'dayweather': '多云', 'nightweather': '中雨', 'daytemp': '34', 'nighttemp': '25', 'daywind': '北', 'nightwind': '北', 'daypower': '1-3', 'nightpower': '1-3', 'daytemp_float': '34.0', 'nighttemp_float': '25.0'}, {'date': '2024-08-14', 'week': '3', 'dayweather': '大雨', 'nightweather': '晴', 'daytemp': '30', 'nighttemp': '25', 'daywind': '东北', 'nightwind': '东北', 'daypower': '1-3', 'nightpower': '1-3', 'daytemp_float': '30.0', 'nighttemp_float': '25.0'}, {'date': '2024-08-15', 'week': '4', 'dayweather': '晴', 'nightweather': '晴', 'daytemp': '33', 'nighttemp': '26', 'daywind': '东北', 'nightwind': '东北', 'daypower': '1-3', 'nightpower': '1-3', 'daytemp_float': '33.0', 'nighttemp_float': '26.0'}, {'date': '2024-08-16', 'week': '5', 'dayweather': '晴', 'nightweather': '晴', 'daytemp': '32', 'nighttemp': '26', 'daywind': '东', 'nightwind': '东', 'daypower': '1-3', 'nightpower': '1-3', 'daytemp_float': '32.0', 'nighttemp_float': '26.0'}]}]}\n",
      "         date week dayweather nightweather daytemp nighttemp daywind  \\\n",
      "0  2024-08-13    2         多云           中雨      34        25       北   \n",
      "1  2024-08-14    3         大雨            晴      30        25      东北   \n",
      "2  2024-08-15    4          晴            晴      33        26      东北   \n",
      "3  2024-08-16    5          晴            晴      32        26       东   \n",
      "\n",
      "  nightwind daypower nightpower daytemp_float nighttemp_float  \n",
      "0         北      1-3        1-3          34.0            25.0  \n",
      "1        东北      1-3        1-3          30.0            25.0  \n",
      "2        东北      1-3        1-3          33.0            26.0  \n",
      "3         东      1-3        1-3          32.0            26.0  \n"
     ]
    }
   ],
   "source": [
    "url = 'https://restapi.amap.com/v3/weather/weatherInfo'\n",
    "payload = {'city': '320300','key': 'd00466594a7f2bfff37c0fbc3951ef0b','extensions': 'all','output': 'JSON'}\n",
    "\n",
    "import requests\n",
    "r = requests.get(url, params=payload)\n",
    "print(r.status_code)\n",
    "print(r.text)\n",
    "\n",
    "import json\n",
    "content_json = json.loads(r.text)\n",
    "print(content_json)\n",
    "\n",
    "import pandas as pd\n",
    "df = pd.DataFrame(content_json['forecasts'][0]['casts'])\n",
    "print(df)\n",
    "\n",
    "import os\n",
    "file_name = '{}.csv'.format(content_json['forecasts'][0]['city'])\n",
    "df.to_csv(file_name, index=False)"
   ]
  },
  {
   "cell_type": "code",
   "execution_count": 17,
   "id": "a4070bb7-ce67-44d2-9346-3c3d80b8536f",
   "metadata": {},
   "outputs": [
    {
     "name": "stdout",
     "output_type": "stream",
     "text": [
      "200\n",
      "{\"status\":\"1\",\"count\":\"1\",\"info\":\"OK\",\"infocode\":\"10000\",\"forecasts\":[{\"city\":\"常州市\",\"adcode\":\"320400\",\"province\":\"江苏\",\"reporttime\":\"2024-08-13 22:01:47\",\"casts\":[{\"date\":\"2024-08-13\",\"week\":\"2\",\"dayweather\":\"中雨\",\"nightweather\":\"阴\",\"daytemp\":\"34\",\"nighttemp\":\"27\",\"daywind\":\"东北\",\"nightwind\":\"东北\",\"daypower\":\"1-3\",\"nightpower\":\"1-3\",\"daytemp_float\":\"34.0\",\"nighttemp_float\":\"27.0\"},{\"date\":\"2024-08-14\",\"week\":\"3\",\"dayweather\":\"多云\",\"nightweather\":\"晴\",\"daytemp\":\"34\",\"nighttemp\":\"26\",\"daywind\":\"东\",\"nightwind\":\"东\",\"daypower\":\"1-3\",\"nightpower\":\"1-3\",\"daytemp_float\":\"34.0\",\"nighttemp_float\":\"26.0\"},{\"date\":\"2024-08-15\",\"week\":\"4\",\"dayweather\":\"多云\",\"nightweather\":\"晴\",\"daytemp\":\"33\",\"nighttemp\":\"26\",\"daywind\":\"东北\",\"nightwind\":\"东北\",\"daypower\":\"1-3\",\"nightpower\":\"1-3\",\"daytemp_float\":\"33.0\",\"nighttemp_float\":\"26.0\"},{\"date\":\"2024-08-16\",\"week\":\"5\",\"dayweather\":\"晴\",\"nightweather\":\"晴\",\"daytemp\":\"34\",\"nighttemp\":\"27\",\"daywind\":\"东北\",\"nightwind\":\"东北\",\"daypower\":\"1-3\",\"nightpower\":\"1-3\",\"daytemp_float\":\"34.0\",\"nighttemp_float\":\"27.0\"}]}]}\n",
      "{'status': '1', 'count': '1', 'info': 'OK', 'infocode': '10000', 'forecasts': [{'city': '常州市', 'adcode': '320400', 'province': '江苏', 'reporttime': '2024-08-13 22:01:47', 'casts': [{'date': '2024-08-13', 'week': '2', 'dayweather': '中雨', 'nightweather': '阴', 'daytemp': '34', 'nighttemp': '27', 'daywind': '东北', 'nightwind': '东北', 'daypower': '1-3', 'nightpower': '1-3', 'daytemp_float': '34.0', 'nighttemp_float': '27.0'}, {'date': '2024-08-14', 'week': '3', 'dayweather': '多云', 'nightweather': '晴', 'daytemp': '34', 'nighttemp': '26', 'daywind': '东', 'nightwind': '东', 'daypower': '1-3', 'nightpower': '1-3', 'daytemp_float': '34.0', 'nighttemp_float': '26.0'}, {'date': '2024-08-15', 'week': '4', 'dayweather': '多云', 'nightweather': '晴', 'daytemp': '33', 'nighttemp': '26', 'daywind': '东北', 'nightwind': '东北', 'daypower': '1-3', 'nightpower': '1-3', 'daytemp_float': '33.0', 'nighttemp_float': '26.0'}, {'date': '2024-08-16', 'week': '5', 'dayweather': '晴', 'nightweather': '晴', 'daytemp': '34', 'nighttemp': '27', 'daywind': '东北', 'nightwind': '东北', 'daypower': '1-3', 'nightpower': '1-3', 'daytemp_float': '34.0', 'nighttemp_float': '27.0'}]}]}\n",
      "         date week dayweather nightweather daytemp nighttemp daywind  \\\n",
      "0  2024-08-13    2         中雨            阴      34        27      东北   \n",
      "1  2024-08-14    3         多云            晴      34        26       东   \n",
      "2  2024-08-15    4         多云            晴      33        26      东北   \n",
      "3  2024-08-16    5          晴            晴      34        27      东北   \n",
      "\n",
      "  nightwind daypower nightpower daytemp_float nighttemp_float  \n",
      "0        东北      1-3        1-3          34.0            27.0  \n",
      "1         东      1-3        1-3          34.0            26.0  \n",
      "2        东北      1-3        1-3          33.0            26.0  \n",
      "3        东北      1-3        1-3          34.0            27.0  \n"
     ]
    }
   ],
   "source": [
    "url = 'https://restapi.amap.com/v3/weather/weatherInfo'\n",
    "payload = {'city': '320400','key': 'd00466594a7f2bfff37c0fbc3951ef0b','extensions': 'all','output': 'JSON'}\n",
    "\n",
    "import requests\n",
    "r = requests.get(url, params=payload)\n",
    "print(r.status_code)\n",
    "print(r.text)\n",
    "\n",
    "import json\n",
    "content_json = json.loads(r.text)\n",
    "print(content_json)\n",
    "\n",
    "import pandas as pd\n",
    "df = pd.DataFrame(content_json['forecasts'][0]['casts'])\n",
    "print(df)\n",
    "\n",
    "import os\n",
    "file_name = '{}.csv'.format(content_json['forecasts'][0]['city'])\n",
    "df.to_csv(file_name, index=False)"
   ]
  },
  {
   "cell_type": "code",
   "execution_count": 18,
   "id": "582259d7-a1e5-47db-8297-dfd6d3b07e1c",
   "metadata": {},
   "outputs": [
    {
     "name": "stdout",
     "output_type": "stream",
     "text": [
      "200\n",
      "{\"status\":\"1\",\"count\":\"1\",\"info\":\"OK\",\"infocode\":\"10000\",\"forecasts\":[{\"city\":\"苏州市\",\"adcode\":\"320500\",\"province\":\"江苏\",\"reporttime\":\"2024-08-13 22:01:43\",\"casts\":[{\"date\":\"2024-08-13\",\"week\":\"2\",\"dayweather\":\"多云\",\"nightweather\":\"阴\",\"daytemp\":\"34\",\"nighttemp\":\"27\",\"daywind\":\"西北\",\"nightwind\":\"西北\",\"daypower\":\"1-3\",\"nightpower\":\"1-3\",\"daytemp_float\":\"34.0\",\"nighttemp_float\":\"27.0\"},{\"date\":\"2024-08-14\",\"week\":\"3\",\"dayweather\":\"多云\",\"nightweather\":\"多云\",\"daytemp\":\"35\",\"nighttemp\":\"27\",\"daywind\":\"东\",\"nightwind\":\"东\",\"daypower\":\"1-3\",\"nightpower\":\"1-3\",\"daytemp_float\":\"35.0\",\"nighttemp_float\":\"27.0\"},{\"date\":\"2024-08-15\",\"week\":\"4\",\"dayweather\":\"多云\",\"nightweather\":\"多云\",\"daytemp\":\"33\",\"nighttemp\":\"27\",\"daywind\":\"东北\",\"nightwind\":\"东北\",\"daypower\":\"1-3\",\"nightpower\":\"1-3\",\"daytemp_float\":\"33.0\",\"nighttemp_float\":\"27.0\"},{\"date\":\"2024-08-16\",\"week\":\"5\",\"dayweather\":\"多云\",\"nightweather\":\"晴\",\"daytemp\":\"34\",\"nighttemp\":\"27\",\"daywind\":\"东\",\"nightwind\":\"东\",\"daypower\":\"1-3\",\"nightpower\":\"1-3\",\"daytemp_float\":\"34.0\",\"nighttemp_float\":\"27.0\"}]}]}\n",
      "{'status': '1', 'count': '1', 'info': 'OK', 'infocode': '10000', 'forecasts': [{'city': '苏州市', 'adcode': '320500', 'province': '江苏', 'reporttime': '2024-08-13 22:01:43', 'casts': [{'date': '2024-08-13', 'week': '2', 'dayweather': '多云', 'nightweather': '阴', 'daytemp': '34', 'nighttemp': '27', 'daywind': '西北', 'nightwind': '西北', 'daypower': '1-3', 'nightpower': '1-3', 'daytemp_float': '34.0', 'nighttemp_float': '27.0'}, {'date': '2024-08-14', 'week': '3', 'dayweather': '多云', 'nightweather': '多云', 'daytemp': '35', 'nighttemp': '27', 'daywind': '东', 'nightwind': '东', 'daypower': '1-3', 'nightpower': '1-3', 'daytemp_float': '35.0', 'nighttemp_float': '27.0'}, {'date': '2024-08-15', 'week': '4', 'dayweather': '多云', 'nightweather': '多云', 'daytemp': '33', 'nighttemp': '27', 'daywind': '东北', 'nightwind': '东北', 'daypower': '1-3', 'nightpower': '1-3', 'daytemp_float': '33.0', 'nighttemp_float': '27.0'}, {'date': '2024-08-16', 'week': '5', 'dayweather': '多云', 'nightweather': '晴', 'daytemp': '34', 'nighttemp': '27', 'daywind': '东', 'nightwind': '东', 'daypower': '1-3', 'nightpower': '1-3', 'daytemp_float': '34.0', 'nighttemp_float': '27.0'}]}]}\n",
      "         date week dayweather nightweather daytemp nighttemp daywind  \\\n",
      "0  2024-08-13    2         多云            阴      34        27      西北   \n",
      "1  2024-08-14    3         多云           多云      35        27       东   \n",
      "2  2024-08-15    4         多云           多云      33        27      东北   \n",
      "3  2024-08-16    5         多云            晴      34        27       东   \n",
      "\n",
      "  nightwind daypower nightpower daytemp_float nighttemp_float  \n",
      "0        西北      1-3        1-3          34.0            27.0  \n",
      "1         东      1-3        1-3          35.0            27.0  \n",
      "2        东北      1-3        1-3          33.0            27.0  \n",
      "3         东      1-3        1-3          34.0            27.0  \n"
     ]
    }
   ],
   "source": [
    "url = 'https://restapi.amap.com/v3/weather/weatherInfo'\n",
    "payload = {'city': '320500','key': 'd00466594a7f2bfff37c0fbc3951ef0b','extensions': 'all','output': 'JSON'}\n",
    "\n",
    "import requests\n",
    "r = requests.get(url, params=payload)\n",
    "print(r.status_code)\n",
    "print(r.text)\n",
    "\n",
    "import json\n",
    "content_json = json.loads(r.text)\n",
    "print(content_json)\n",
    "\n",
    "import pandas as pd\n",
    "df = pd.DataFrame(content_json['forecasts'][0]['casts'])\n",
    "print(df)\n",
    "\n",
    "import os\n",
    "file_name = '{}.csv'.format(content_json['forecasts'][0]['city'])\n",
    "df.to_csv(file_name, index=False)"
   ]
  },
  {
   "cell_type": "code",
   "execution_count": 19,
   "id": "5d4711d4-2073-42b2-ab05-e541c063b5e0",
   "metadata": {},
   "outputs": [
    {
     "name": "stdout",
     "output_type": "stream",
     "text": [
      "200\n",
      "{\"status\":\"1\",\"count\":\"1\",\"info\":\"OK\",\"infocode\":\"10000\",\"forecasts\":[{\"city\":\"南通市\",\"adcode\":\"320600\",\"province\":\"江苏\",\"reporttime\":\"2024-08-13 22:01:42\",\"casts\":[{\"date\":\"2024-08-13\",\"week\":\"2\",\"dayweather\":\"多云\",\"nightweather\":\"多云\",\"daytemp\":\"34\",\"nighttemp\":\"25\",\"daywind\":\"东南\",\"nightwind\":\"东南\",\"daypower\":\"1-3\",\"nightpower\":\"1-3\",\"daytemp_float\":\"34.0\",\"nighttemp_float\":\"25.0\"},{\"date\":\"2024-08-14\",\"week\":\"3\",\"dayweather\":\"多云\",\"nightweather\":\"多云\",\"daytemp\":\"33\",\"nighttemp\":\"25\",\"daywind\":\"东\",\"nightwind\":\"东\",\"daypower\":\"1-3\",\"nightpower\":\"1-3\",\"daytemp_float\":\"33.0\",\"nighttemp_float\":\"25.0\"},{\"date\":\"2024-08-15\",\"week\":\"4\",\"dayweather\":\"多云\",\"nightweather\":\"晴\",\"daytemp\":\"32\",\"nighttemp\":\"25\",\"daywind\":\"东北\",\"nightwind\":\"东北\",\"daypower\":\"1-3\",\"nightpower\":\"1-3\",\"daytemp_float\":\"32.0\",\"nighttemp_float\":\"25.0\"},{\"date\":\"2024-08-16\",\"week\":\"5\",\"dayweather\":\"多云\",\"nightweather\":\"多云\",\"daytemp\":\"33\",\"nighttemp\":\"24\",\"daywind\":\"东\",\"nightwind\":\"东\",\"daypower\":\"1-3\",\"nightpower\":\"1-3\",\"daytemp_float\":\"33.0\",\"nighttemp_float\":\"24.0\"}]}]}\n",
      "{'status': '1', 'count': '1', 'info': 'OK', 'infocode': '10000', 'forecasts': [{'city': '南通市', 'adcode': '320600', 'province': '江苏', 'reporttime': '2024-08-13 22:01:42', 'casts': [{'date': '2024-08-13', 'week': '2', 'dayweather': '多云', 'nightweather': '多云', 'daytemp': '34', 'nighttemp': '25', 'daywind': '东南', 'nightwind': '东南', 'daypower': '1-3', 'nightpower': '1-3', 'daytemp_float': '34.0', 'nighttemp_float': '25.0'}, {'date': '2024-08-14', 'week': '3', 'dayweather': '多云', 'nightweather': '多云', 'daytemp': '33', 'nighttemp': '25', 'daywind': '东', 'nightwind': '东', 'daypower': '1-3', 'nightpower': '1-3', 'daytemp_float': '33.0', 'nighttemp_float': '25.0'}, {'date': '2024-08-15', 'week': '4', 'dayweather': '多云', 'nightweather': '晴', 'daytemp': '32', 'nighttemp': '25', 'daywind': '东北', 'nightwind': '东北', 'daypower': '1-3', 'nightpower': '1-3', 'daytemp_float': '32.0', 'nighttemp_float': '25.0'}, {'date': '2024-08-16', 'week': '5', 'dayweather': '多云', 'nightweather': '多云', 'daytemp': '33', 'nighttemp': '24', 'daywind': '东', 'nightwind': '东', 'daypower': '1-3', 'nightpower': '1-3', 'daytemp_float': '33.0', 'nighttemp_float': '24.0'}]}]}\n",
      "         date week dayweather nightweather daytemp nighttemp daywind  \\\n",
      "0  2024-08-13    2         多云           多云      34        25      东南   \n",
      "1  2024-08-14    3         多云           多云      33        25       东   \n",
      "2  2024-08-15    4         多云            晴      32        25      东北   \n",
      "3  2024-08-16    5         多云           多云      33        24       东   \n",
      "\n",
      "  nightwind daypower nightpower daytemp_float nighttemp_float  \n",
      "0        东南      1-3        1-3          34.0            25.0  \n",
      "1         东      1-3        1-3          33.0            25.0  \n",
      "2        东北      1-3        1-3          32.0            25.0  \n",
      "3         东      1-3        1-3          33.0            24.0  \n"
     ]
    }
   ],
   "source": [
    "url = 'https://restapi.amap.com/v3/weather/weatherInfo'\n",
    "payload = {'city': '320600','key': 'd00466594a7f2bfff37c0fbc3951ef0b','extensions': 'all','output': 'JSON'}\n",
    "\n",
    "import requests\n",
    "r = requests.get(url, params=payload)\n",
    "print(r.status_code)\n",
    "print(r.text)\n",
    "\n",
    "import json\n",
    "content_json = json.loads(r.text)\n",
    "print(content_json)\n",
    "\n",
    "import pandas as pd\n",
    "df = pd.DataFrame(content_json['forecasts'][0]['casts'])\n",
    "print(df)\n",
    "\n",
    "import os\n",
    "file_name = '{}.csv'.format(content_json['forecasts'][0]['city'])\n",
    "df.to_csv(file_name, index=False)"
   ]
  },
  {
   "cell_type": "code",
   "execution_count": 20,
   "id": "78d0f199-b0bf-4ffe-ab0f-60abdf8491f1",
   "metadata": {},
   "outputs": [
    {
     "name": "stdout",
     "output_type": "stream",
     "text": [
      "200\n",
      "{\"status\":\"1\",\"count\":\"1\",\"info\":\"OK\",\"infocode\":\"10000\",\"forecasts\":[{\"city\":\"连云港市\",\"adcode\":\"320700\",\"province\":\"江苏\",\"reporttime\":\"2024-08-13 22:01:42\",\"casts\":[{\"date\":\"2024-08-13\",\"week\":\"2\",\"dayweather\":\"多云\",\"nightweather\":\"多云\",\"daytemp\":\"34\",\"nighttemp\":\"27\",\"daywind\":\"东\",\"nightwind\":\"东\",\"daypower\":\"1-3\",\"nightpower\":\"1-3\",\"daytemp_float\":\"34.0\",\"nighttemp_float\":\"27.0\"},{\"date\":\"2024-08-14\",\"week\":\"3\",\"dayweather\":\"小雨\",\"nightweather\":\"多云\",\"daytemp\":\"31\",\"nighttemp\":\"25\",\"daywind\":\"东北\",\"nightwind\":\"东北\",\"daypower\":\"1-3\",\"nightpower\":\"1-3\",\"daytemp_float\":\"31.0\",\"nighttemp_float\":\"25.0\"},{\"date\":\"2024-08-15\",\"week\":\"4\",\"dayweather\":\"晴\",\"nightweather\":\"晴\",\"daytemp\":\"31\",\"nighttemp\":\"25\",\"daywind\":\"东北\",\"nightwind\":\"东北\",\"daypower\":\"1-3\",\"nightpower\":\"1-3\",\"daytemp_float\":\"31.0\",\"nighttemp_float\":\"25.0\"},{\"date\":\"2024-08-16\",\"week\":\"5\",\"dayweather\":\"多云\",\"nightweather\":\"晴\",\"daytemp\":\"30\",\"nighttemp\":\"25\",\"daywind\":\"东北\",\"nightwind\":\"东北\",\"daypower\":\"1-3\",\"nightpower\":\"1-3\",\"daytemp_float\":\"30.0\",\"nighttemp_float\":\"25.0\"}]}]}\n",
      "{'status': '1', 'count': '1', 'info': 'OK', 'infocode': '10000', 'forecasts': [{'city': '连云港市', 'adcode': '320700', 'province': '江苏', 'reporttime': '2024-08-13 22:01:42', 'casts': [{'date': '2024-08-13', 'week': '2', 'dayweather': '多云', 'nightweather': '多云', 'daytemp': '34', 'nighttemp': '27', 'daywind': '东', 'nightwind': '东', 'daypower': '1-3', 'nightpower': '1-3', 'daytemp_float': '34.0', 'nighttemp_float': '27.0'}, {'date': '2024-08-14', 'week': '3', 'dayweather': '小雨', 'nightweather': '多云', 'daytemp': '31', 'nighttemp': '25', 'daywind': '东北', 'nightwind': '东北', 'daypower': '1-3', 'nightpower': '1-3', 'daytemp_float': '31.0', 'nighttemp_float': '25.0'}, {'date': '2024-08-15', 'week': '4', 'dayweather': '晴', 'nightweather': '晴', 'daytemp': '31', 'nighttemp': '25', 'daywind': '东北', 'nightwind': '东北', 'daypower': '1-3', 'nightpower': '1-3', 'daytemp_float': '31.0', 'nighttemp_float': '25.0'}, {'date': '2024-08-16', 'week': '5', 'dayweather': '多云', 'nightweather': '晴', 'daytemp': '30', 'nighttemp': '25', 'daywind': '东北', 'nightwind': '东北', 'daypower': '1-3', 'nightpower': '1-3', 'daytemp_float': '30.0', 'nighttemp_float': '25.0'}]}]}\n",
      "         date week dayweather nightweather daytemp nighttemp daywind  \\\n",
      "0  2024-08-13    2         多云           多云      34        27       东   \n",
      "1  2024-08-14    3         小雨           多云      31        25      东北   \n",
      "2  2024-08-15    4          晴            晴      31        25      东北   \n",
      "3  2024-08-16    5         多云            晴      30        25      东北   \n",
      "\n",
      "  nightwind daypower nightpower daytemp_float nighttemp_float  \n",
      "0         东      1-3        1-3          34.0            27.0  \n",
      "1        东北      1-3        1-3          31.0            25.0  \n",
      "2        东北      1-3        1-3          31.0            25.0  \n",
      "3        东北      1-3        1-3          30.0            25.0  \n"
     ]
    }
   ],
   "source": [
    "url = 'https://restapi.amap.com/v3/weather/weatherInfo'\n",
    "payload = {'city': '320700','key': 'd00466594a7f2bfff37c0fbc3951ef0b','extensions': 'all','output': 'JSON'}\n",
    "\n",
    "import requests\n",
    "r = requests.get(url, params=payload)\n",
    "print(r.status_code)\n",
    "print(r.text)\n",
    "\n",
    "import json\n",
    "content_json = json.loads(r.text)\n",
    "print(content_json)\n",
    "\n",
    "import pandas as pd\n",
    "df = pd.DataFrame(content_json['forecasts'][0]['casts'])\n",
    "print(df)\n",
    "\n",
    "import os\n",
    "file_name = '{}.csv'.format(content_json['forecasts'][0]['city'])\n",
    "df.to_csv(file_name, index=False)"
   ]
  },
  {
   "cell_type": "code",
   "execution_count": 21,
   "id": "aed3f69e-75c6-4d50-85d0-1901a397b811",
   "metadata": {},
   "outputs": [
    {
     "name": "stdout",
     "output_type": "stream",
     "text": [
      "200\n",
      "{\"status\":\"1\",\"count\":\"1\",\"info\":\"OK\",\"infocode\":\"10000\",\"forecasts\":[{\"city\":\"淮安市\",\"adcode\":\"320800\",\"province\":\"江苏\",\"reporttime\":\"2024-08-13 22:01:46\",\"casts\":[{\"date\":\"2024-08-13\",\"week\":\"2\",\"dayweather\":\"大雨\",\"nightweather\":\"小雨\",\"daytemp\":\"35\",\"nighttemp\":\"26\",\"daywind\":\"东\",\"nightwind\":\"东\",\"daypower\":\"1-3\",\"nightpower\":\"1-3\",\"daytemp_float\":\"35.0\",\"nighttemp_float\":\"26.0\"},{\"date\":\"2024-08-14\",\"week\":\"3\",\"dayweather\":\"多云\",\"nightweather\":\"晴\",\"daytemp\":\"33\",\"nighttemp\":\"25\",\"daywind\":\"东\",\"nightwind\":\"东\",\"daypower\":\"1-3\",\"nightpower\":\"1-3\",\"daytemp_float\":\"33.0\",\"nighttemp_float\":\"25.0\"},{\"date\":\"2024-08-15\",\"week\":\"4\",\"dayweather\":\"多云\",\"nightweather\":\"晴\",\"daytemp\":\"33\",\"nighttemp\":\"26\",\"daywind\":\"东\",\"nightwind\":\"东\",\"daypower\":\"1-3\",\"nightpower\":\"1-3\",\"daytemp_float\":\"33.0\",\"nighttemp_float\":\"26.0\"},{\"date\":\"2024-08-16\",\"week\":\"5\",\"dayweather\":\"多云\",\"nightweather\":\"晴\",\"daytemp\":\"33\",\"nighttemp\":\"26\",\"daywind\":\"东\",\"nightwind\":\"东\",\"daypower\":\"1-3\",\"nightpower\":\"1-3\",\"daytemp_float\":\"33.0\",\"nighttemp_float\":\"26.0\"}]}]}\n",
      "{'status': '1', 'count': '1', 'info': 'OK', 'infocode': '10000', 'forecasts': [{'city': '淮安市', 'adcode': '320800', 'province': '江苏', 'reporttime': '2024-08-13 22:01:46', 'casts': [{'date': '2024-08-13', 'week': '2', 'dayweather': '大雨', 'nightweather': '小雨', 'daytemp': '35', 'nighttemp': '26', 'daywind': '东', 'nightwind': '东', 'daypower': '1-3', 'nightpower': '1-3', 'daytemp_float': '35.0', 'nighttemp_float': '26.0'}, {'date': '2024-08-14', 'week': '3', 'dayweather': '多云', 'nightweather': '晴', 'daytemp': '33', 'nighttemp': '25', 'daywind': '东', 'nightwind': '东', 'daypower': '1-3', 'nightpower': '1-3', 'daytemp_float': '33.0', 'nighttemp_float': '25.0'}, {'date': '2024-08-15', 'week': '4', 'dayweather': '多云', 'nightweather': '晴', 'daytemp': '33', 'nighttemp': '26', 'daywind': '东', 'nightwind': '东', 'daypower': '1-3', 'nightpower': '1-3', 'daytemp_float': '33.0', 'nighttemp_float': '26.0'}, {'date': '2024-08-16', 'week': '5', 'dayweather': '多云', 'nightweather': '晴', 'daytemp': '33', 'nighttemp': '26', 'daywind': '东', 'nightwind': '东', 'daypower': '1-3', 'nightpower': '1-3', 'daytemp_float': '33.0', 'nighttemp_float': '26.0'}]}]}\n",
      "         date week dayweather nightweather daytemp nighttemp daywind  \\\n",
      "0  2024-08-13    2         大雨           小雨      35        26       东   \n",
      "1  2024-08-14    3         多云            晴      33        25       东   \n",
      "2  2024-08-15    4         多云            晴      33        26       东   \n",
      "3  2024-08-16    5         多云            晴      33        26       东   \n",
      "\n",
      "  nightwind daypower nightpower daytemp_float nighttemp_float  \n",
      "0         东      1-3        1-3          35.0            26.0  \n",
      "1         东      1-3        1-3          33.0            25.0  \n",
      "2         东      1-3        1-3          33.0            26.0  \n",
      "3         东      1-3        1-3          33.0            26.0  \n"
     ]
    }
   ],
   "source": [
    "url = 'https://restapi.amap.com/v3/weather/weatherInfo'\n",
    "payload = {'city': '320800','key': 'd00466594a7f2bfff37c0fbc3951ef0b','extensions': 'all','output': 'JSON'}\n",
    "\n",
    "import requests\n",
    "r = requests.get(url, params=payload)\n",
    "print(r.status_code)\n",
    "print(r.text)\n",
    "\n",
    "import json\n",
    "content_json = json.loads(r.text)\n",
    "print(content_json)\n",
    "\n",
    "import pandas as pd\n",
    "df = pd.DataFrame(content_json['forecasts'][0]['casts'])\n",
    "print(df)\n",
    "\n",
    "import os\n",
    "file_name = '{}.csv'.format(content_json['forecasts'][0]['city'])\n",
    "df.to_csv(file_name, index=False)"
   ]
  },
  {
   "cell_type": "code",
   "execution_count": 22,
   "id": "1438123e-8594-4e6c-af6c-811c8569875d",
   "metadata": {},
   "outputs": [
    {
     "name": "stdout",
     "output_type": "stream",
     "text": [
      "200\n",
      "{\"status\":\"1\",\"count\":\"1\",\"info\":\"OK\",\"infocode\":\"10000\",\"forecasts\":[{\"city\":\"盐城市\",\"adcode\":\"320900\",\"province\":\"江苏\",\"reporttime\":\"2024-08-13 22:01:45\",\"casts\":[{\"date\":\"2024-08-13\",\"week\":\"2\",\"dayweather\":\"中雨\",\"nightweather\":\"多云\",\"daytemp\":\"34\",\"nighttemp\":\"25\",\"daywind\":\"东\",\"nightwind\":\"东\",\"daypower\":\"1-3\",\"nightpower\":\"1-3\",\"daytemp_float\":\"34.0\",\"nighttemp_float\":\"25.0\"},{\"date\":\"2024-08-14\",\"week\":\"3\",\"dayweather\":\"阴\",\"nightweather\":\"晴\",\"daytemp\":\"32\",\"nighttemp\":\"25\",\"daywind\":\"东\",\"nightwind\":\"东\",\"daypower\":\"1-3\",\"nightpower\":\"1-3\",\"daytemp_float\":\"32.0\",\"nighttemp_float\":\"25.0\"},{\"date\":\"2024-08-15\",\"week\":\"4\",\"dayweather\":\"多云\",\"nightweather\":\"晴\",\"daytemp\":\"32\",\"nighttemp\":\"25\",\"daywind\":\"东北\",\"nightwind\":\"东北\",\"daypower\":\"1-3\",\"nightpower\":\"1-3\",\"daytemp_float\":\"32.0\",\"nighttemp_float\":\"25.0\"},{\"date\":\"2024-08-16\",\"week\":\"5\",\"dayweather\":\"多云\",\"nightweather\":\"晴\",\"daytemp\":\"32\",\"nighttemp\":\"26\",\"daywind\":\"东\",\"nightwind\":\"东\",\"daypower\":\"1-3\",\"nightpower\":\"1-3\",\"daytemp_float\":\"32.0\",\"nighttemp_float\":\"26.0\"}]}]}\n",
      "{'status': '1', 'count': '1', 'info': 'OK', 'infocode': '10000', 'forecasts': [{'city': '盐城市', 'adcode': '320900', 'province': '江苏', 'reporttime': '2024-08-13 22:01:45', 'casts': [{'date': '2024-08-13', 'week': '2', 'dayweather': '中雨', 'nightweather': '多云', 'daytemp': '34', 'nighttemp': '25', 'daywind': '东', 'nightwind': '东', 'daypower': '1-3', 'nightpower': '1-3', 'daytemp_float': '34.0', 'nighttemp_float': '25.0'}, {'date': '2024-08-14', 'week': '3', 'dayweather': '阴', 'nightweather': '晴', 'daytemp': '32', 'nighttemp': '25', 'daywind': '东', 'nightwind': '东', 'daypower': '1-3', 'nightpower': '1-3', 'daytemp_float': '32.0', 'nighttemp_float': '25.0'}, {'date': '2024-08-15', 'week': '4', 'dayweather': '多云', 'nightweather': '晴', 'daytemp': '32', 'nighttemp': '25', 'daywind': '东北', 'nightwind': '东北', 'daypower': '1-3', 'nightpower': '1-3', 'daytemp_float': '32.0', 'nighttemp_float': '25.0'}, {'date': '2024-08-16', 'week': '5', 'dayweather': '多云', 'nightweather': '晴', 'daytemp': '32', 'nighttemp': '26', 'daywind': '东', 'nightwind': '东', 'daypower': '1-3', 'nightpower': '1-3', 'daytemp_float': '32.0', 'nighttemp_float': '26.0'}]}]}\n",
      "         date week dayweather nightweather daytemp nighttemp daywind  \\\n",
      "0  2024-08-13    2         中雨           多云      34        25       东   \n",
      "1  2024-08-14    3          阴            晴      32        25       东   \n",
      "2  2024-08-15    4         多云            晴      32        25      东北   \n",
      "3  2024-08-16    5         多云            晴      32        26       东   \n",
      "\n",
      "  nightwind daypower nightpower daytemp_float nighttemp_float  \n",
      "0         东      1-3        1-3          34.0            25.0  \n",
      "1         东      1-3        1-3          32.0            25.0  \n",
      "2        东北      1-3        1-3          32.0            25.0  \n",
      "3         东      1-3        1-3          32.0            26.0  \n"
     ]
    }
   ],
   "source": [
    "url = 'https://restapi.amap.com/v3/weather/weatherInfo'\n",
    "payload = {'city': '320900','key': 'd00466594a7f2bfff37c0fbc3951ef0b','extensions': 'all','output': 'JSON'}\n",
    "\n",
    "import requests\n",
    "r = requests.get(url, params=payload)\n",
    "print(r.status_code)\n",
    "print(r.text)\n",
    "\n",
    "import json\n",
    "content_json = json.loads(r.text)\n",
    "print(content_json)\n",
    "\n",
    "import pandas as pd\n",
    "df = pd.DataFrame(content_json['forecasts'][0]['casts'])\n",
    "print(df)\n",
    "\n",
    "import os\n",
    "file_name = '{}.csv'.format(content_json['forecasts'][0]['city'])\n",
    "df.to_csv(file_name, index=False)"
   ]
  },
  {
   "cell_type": "code",
   "execution_count": 23,
   "id": "b77cab8b-8411-4f8b-98e2-e1a8d94d88b6",
   "metadata": {},
   "outputs": [
    {
     "name": "stdout",
     "output_type": "stream",
     "text": [
      "200\n",
      "{\"status\":\"1\",\"count\":\"1\",\"info\":\"OK\",\"infocode\":\"10000\",\"forecasts\":[{\"city\":\"扬州市\",\"adcode\":\"321000\",\"province\":\"江苏\",\"reporttime\":\"2024-08-13 22:01:47\",\"casts\":[{\"date\":\"2024-08-13\",\"week\":\"2\",\"dayweather\":\"中雨\",\"nightweather\":\"小雨\",\"daytemp\":\"35\",\"nighttemp\":\"26\",\"daywind\":\"东北\",\"nightwind\":\"东北\",\"daypower\":\"1-3\",\"nightpower\":\"1-3\",\"daytemp_float\":\"35.0\",\"nighttemp_float\":\"26.0\"},{\"date\":\"2024-08-14\",\"week\":\"3\",\"dayweather\":\"小雨\",\"nightweather\":\"晴\",\"daytemp\":\"33\",\"nighttemp\":\"26\",\"daywind\":\"东北\",\"nightwind\":\"东北\",\"daypower\":\"1-3\",\"nightpower\":\"1-3\",\"daytemp_float\":\"33.0\",\"nighttemp_float\":\"26.0\"},{\"date\":\"2024-08-15\",\"week\":\"4\",\"dayweather\":\"小雨\",\"nightweather\":\"晴\",\"daytemp\":\"32\",\"nighttemp\":\"26\",\"daywind\":\"东北\",\"nightwind\":\"东北\",\"daypower\":\"1-3\",\"nightpower\":\"1-3\",\"daytemp_float\":\"32.0\",\"nighttemp_float\":\"26.0\"},{\"date\":\"2024-08-16\",\"week\":\"5\",\"dayweather\":\"晴\",\"nightweather\":\"晴\",\"daytemp\":\"33\",\"nighttemp\":\"27\",\"daywind\":\"东\",\"nightwind\":\"东\",\"daypower\":\"1-3\",\"nightpower\":\"1-3\",\"daytemp_float\":\"33.0\",\"nighttemp_float\":\"27.0\"}]}]}\n",
      "{'status': '1', 'count': '1', 'info': 'OK', 'infocode': '10000', 'forecasts': [{'city': '扬州市', 'adcode': '321000', 'province': '江苏', 'reporttime': '2024-08-13 22:01:47', 'casts': [{'date': '2024-08-13', 'week': '2', 'dayweather': '中雨', 'nightweather': '小雨', 'daytemp': '35', 'nighttemp': '26', 'daywind': '东北', 'nightwind': '东北', 'daypower': '1-3', 'nightpower': '1-3', 'daytemp_float': '35.0', 'nighttemp_float': '26.0'}, {'date': '2024-08-14', 'week': '3', 'dayweather': '小雨', 'nightweather': '晴', 'daytemp': '33', 'nighttemp': '26', 'daywind': '东北', 'nightwind': '东北', 'daypower': '1-3', 'nightpower': '1-3', 'daytemp_float': '33.0', 'nighttemp_float': '26.0'}, {'date': '2024-08-15', 'week': '4', 'dayweather': '小雨', 'nightweather': '晴', 'daytemp': '32', 'nighttemp': '26', 'daywind': '东北', 'nightwind': '东北', 'daypower': '1-3', 'nightpower': '1-3', 'daytemp_float': '32.0', 'nighttemp_float': '26.0'}, {'date': '2024-08-16', 'week': '5', 'dayweather': '晴', 'nightweather': '晴', 'daytemp': '33', 'nighttemp': '27', 'daywind': '东', 'nightwind': '东', 'daypower': '1-3', 'nightpower': '1-3', 'daytemp_float': '33.0', 'nighttemp_float': '27.0'}]}]}\n",
      "         date week dayweather nightweather daytemp nighttemp daywind  \\\n",
      "0  2024-08-13    2         中雨           小雨      35        26      东北   \n",
      "1  2024-08-14    3         小雨            晴      33        26      东北   \n",
      "2  2024-08-15    4         小雨            晴      32        26      东北   \n",
      "3  2024-08-16    5          晴            晴      33        27       东   \n",
      "\n",
      "  nightwind daypower nightpower daytemp_float nighttemp_float  \n",
      "0        东北      1-3        1-3          35.0            26.0  \n",
      "1        东北      1-3        1-3          33.0            26.0  \n",
      "2        东北      1-3        1-3          32.0            26.0  \n",
      "3         东      1-3        1-3          33.0            27.0  \n"
     ]
    }
   ],
   "source": [
    "url = 'https://restapi.amap.com/v3/weather/weatherInfo'\n",
    "payload = {'city': '321000','key': 'd00466594a7f2bfff37c0fbc3951ef0b','extensions': 'all','output': 'JSON'}\n",
    "\n",
    "import requests\n",
    "r = requests.get(url, params=payload)\n",
    "print(r.status_code)\n",
    "print(r.text)\n",
    "\n",
    "import json\n",
    "content_json = json.loads(r.text)\n",
    "print(content_json)\n",
    "\n",
    "import pandas as pd\n",
    "df = pd.DataFrame(content_json['forecasts'][0]['casts'])\n",
    "print(df)\n",
    "\n",
    "import os\n",
    "file_name = '{}.csv'.format(content_json['forecasts'][0]['city'])\n",
    "df.to_csv(file_name, index=False)"
   ]
  },
  {
   "cell_type": "code",
   "execution_count": 24,
   "id": "f51b714f-9148-4c4d-a1f4-afa58794a21b",
   "metadata": {},
   "outputs": [
    {
     "name": "stdout",
     "output_type": "stream",
     "text": [
      "200\n",
      "{\"status\":\"1\",\"count\":\"1\",\"info\":\"OK\",\"infocode\":\"10000\",\"forecasts\":[{\"city\":\"镇江市\",\"adcode\":\"321100\",\"province\":\"江苏\",\"reporttime\":\"2024-08-13 22:01:44\",\"casts\":[{\"date\":\"2024-08-13\",\"week\":\"2\",\"dayweather\":\"大雨\",\"nightweather\":\"阴\",\"daytemp\":\"35\",\"nighttemp\":\"25\",\"daywind\":\"东北\",\"nightwind\":\"东北\",\"daypower\":\"1-3\",\"nightpower\":\"1-3\",\"daytemp_float\":\"35.0\",\"nighttemp_float\":\"25.0\"},{\"date\":\"2024-08-14\",\"week\":\"3\",\"dayweather\":\"阴\",\"nightweather\":\"晴\",\"daytemp\":\"33\",\"nighttemp\":\"25\",\"daywind\":\"东北\",\"nightwind\":\"东北\",\"daypower\":\"1-3\",\"nightpower\":\"1-3\",\"daytemp_float\":\"33.0\",\"nighttemp_float\":\"25.0\"},{\"date\":\"2024-08-15\",\"week\":\"4\",\"dayweather\":\"小雨\",\"nightweather\":\"晴\",\"daytemp\":\"32\",\"nighttemp\":\"25\",\"daywind\":\"东北\",\"nightwind\":\"东北\",\"daypower\":\"1-3\",\"nightpower\":\"1-3\",\"daytemp_float\":\"32.0\",\"nighttemp_float\":\"25.0\"},{\"date\":\"2024-08-16\",\"week\":\"5\",\"dayweather\":\"晴\",\"nightweather\":\"晴\",\"daytemp\":\"33\",\"nighttemp\":\"25\",\"daywind\":\"东\",\"nightwind\":\"东\",\"daypower\":\"1-3\",\"nightpower\":\"1-3\",\"daytemp_float\":\"33.0\",\"nighttemp_float\":\"25.0\"}]}]}\n",
      "{'status': '1', 'count': '1', 'info': 'OK', 'infocode': '10000', 'forecasts': [{'city': '镇江市', 'adcode': '321100', 'province': '江苏', 'reporttime': '2024-08-13 22:01:44', 'casts': [{'date': '2024-08-13', 'week': '2', 'dayweather': '大雨', 'nightweather': '阴', 'daytemp': '35', 'nighttemp': '25', 'daywind': '东北', 'nightwind': '东北', 'daypower': '1-3', 'nightpower': '1-3', 'daytemp_float': '35.0', 'nighttemp_float': '25.0'}, {'date': '2024-08-14', 'week': '3', 'dayweather': '阴', 'nightweather': '晴', 'daytemp': '33', 'nighttemp': '25', 'daywind': '东北', 'nightwind': '东北', 'daypower': '1-3', 'nightpower': '1-3', 'daytemp_float': '33.0', 'nighttemp_float': '25.0'}, {'date': '2024-08-15', 'week': '4', 'dayweather': '小雨', 'nightweather': '晴', 'daytemp': '32', 'nighttemp': '25', 'daywind': '东北', 'nightwind': '东北', 'daypower': '1-3', 'nightpower': '1-3', 'daytemp_float': '32.0', 'nighttemp_float': '25.0'}, {'date': '2024-08-16', 'week': '5', 'dayweather': '晴', 'nightweather': '晴', 'daytemp': '33', 'nighttemp': '25', 'daywind': '东', 'nightwind': '东', 'daypower': '1-3', 'nightpower': '1-3', 'daytemp_float': '33.0', 'nighttemp_float': '25.0'}]}]}\n",
      "         date week dayweather nightweather daytemp nighttemp daywind  \\\n",
      "0  2024-08-13    2         大雨            阴      35        25      东北   \n",
      "1  2024-08-14    3          阴            晴      33        25      东北   \n",
      "2  2024-08-15    4         小雨            晴      32        25      东北   \n",
      "3  2024-08-16    5          晴            晴      33        25       东   \n",
      "\n",
      "  nightwind daypower nightpower daytemp_float nighttemp_float  \n",
      "0        东北      1-3        1-3          35.0            25.0  \n",
      "1        东北      1-3        1-3          33.0            25.0  \n",
      "2        东北      1-3        1-3          32.0            25.0  \n",
      "3         东      1-3        1-3          33.0            25.0  \n"
     ]
    }
   ],
   "source": [
    "url = 'https://restapi.amap.com/v3/weather/weatherInfo'\n",
    "payload = {'city': '321100','key': 'd00466594a7f2bfff37c0fbc3951ef0b','extensions': 'all','output': 'JSON'}\n",
    "\n",
    "import requests\n",
    "r = requests.get(url, params=payload)\n",
    "print(r.status_code)\n",
    "print(r.text)\n",
    "\n",
    "import json\n",
    "content_json = json.loads(r.text)\n",
    "print(content_json)\n",
    "\n",
    "import pandas as pd\n",
    "df = pd.DataFrame(content_json['forecasts'][0]['casts'])\n",
    "print(df)\n",
    "\n",
    "import os\n",
    "file_name = '{}.csv'.format(content_json['forecasts'][0]['city'])\n",
    "df.to_csv(file_name, index=False)"
   ]
  },
  {
   "cell_type": "code",
   "execution_count": 25,
   "id": "a7acfef0-e91b-4128-bb1b-e5fddc852b0e",
   "metadata": {},
   "outputs": [
    {
     "name": "stdout",
     "output_type": "stream",
     "text": [
      "200\n",
      "{\"status\":\"1\",\"count\":\"1\",\"info\":\"OK\",\"infocode\":\"10000\",\"forecasts\":[{\"city\":\"泰州市\",\"adcode\":\"321200\",\"province\":\"江苏\",\"reporttime\":\"2024-08-13 22:01:44\",\"casts\":[{\"date\":\"2024-08-13\",\"week\":\"2\",\"dayweather\":\"大雨\",\"nightweather\":\"阴\",\"daytemp\":\"33\",\"nighttemp\":\"26\",\"daywind\":\"东\",\"nightwind\":\"东\",\"daypower\":\"1-3\",\"nightpower\":\"1-3\",\"daytemp_float\":\"33.0\",\"nighttemp_float\":\"26.0\"},{\"date\":\"2024-08-14\",\"week\":\"3\",\"dayweather\":\"阴\",\"nightweather\":\"晴\",\"daytemp\":\"34\",\"nighttemp\":\"25\",\"daywind\":\"东\",\"nightwind\":\"东\",\"daypower\":\"1-3\",\"nightpower\":\"1-3\",\"daytemp_float\":\"34.0\",\"nighttemp_float\":\"25.0\"},{\"date\":\"2024-08-15\",\"week\":\"4\",\"dayweather\":\"小雨\",\"nightweather\":\"晴\",\"daytemp\":\"31\",\"nighttemp\":\"25\",\"daywind\":\"东北\",\"nightwind\":\"东北\",\"daypower\":\"1-3\",\"nightpower\":\"1-3\",\"daytemp_float\":\"31.0\",\"nighttemp_float\":\"25.0\"},{\"date\":\"2024-08-16\",\"week\":\"5\",\"dayweather\":\"晴\",\"nightweather\":\"晴\",\"daytemp\":\"33\",\"nighttemp\":\"25\",\"daywind\":\"东北\",\"nightwind\":\"东北\",\"daypower\":\"1-3\",\"nightpower\":\"1-3\",\"daytemp_float\":\"33.0\",\"nighttemp_float\":\"25.0\"}]}]}\n",
      "{'status': '1', 'count': '1', 'info': 'OK', 'infocode': '10000', 'forecasts': [{'city': '泰州市', 'adcode': '321200', 'province': '江苏', 'reporttime': '2024-08-13 22:01:44', 'casts': [{'date': '2024-08-13', 'week': '2', 'dayweather': '大雨', 'nightweather': '阴', 'daytemp': '33', 'nighttemp': '26', 'daywind': '东', 'nightwind': '东', 'daypower': '1-3', 'nightpower': '1-3', 'daytemp_float': '33.0', 'nighttemp_float': '26.0'}, {'date': '2024-08-14', 'week': '3', 'dayweather': '阴', 'nightweather': '晴', 'daytemp': '34', 'nighttemp': '25', 'daywind': '东', 'nightwind': '东', 'daypower': '1-3', 'nightpower': '1-3', 'daytemp_float': '34.0', 'nighttemp_float': '25.0'}, {'date': '2024-08-15', 'week': '4', 'dayweather': '小雨', 'nightweather': '晴', 'daytemp': '31', 'nighttemp': '25', 'daywind': '东北', 'nightwind': '东北', 'daypower': '1-3', 'nightpower': '1-3', 'daytemp_float': '31.0', 'nighttemp_float': '25.0'}, {'date': '2024-08-16', 'week': '5', 'dayweather': '晴', 'nightweather': '晴', 'daytemp': '33', 'nighttemp': '25', 'daywind': '东北', 'nightwind': '东北', 'daypower': '1-3', 'nightpower': '1-3', 'daytemp_float': '33.0', 'nighttemp_float': '25.0'}]}]}\n",
      "         date week dayweather nightweather daytemp nighttemp daywind  \\\n",
      "0  2024-08-13    2         大雨            阴      33        26       东   \n",
      "1  2024-08-14    3          阴            晴      34        25       东   \n",
      "2  2024-08-15    4         小雨            晴      31        25      东北   \n",
      "3  2024-08-16    5          晴            晴      33        25      东北   \n",
      "\n",
      "  nightwind daypower nightpower daytemp_float nighttemp_float  \n",
      "0         东      1-3        1-3          33.0            26.0  \n",
      "1         东      1-3        1-3          34.0            25.0  \n",
      "2        东北      1-3        1-3          31.0            25.0  \n",
      "3        东北      1-3        1-3          33.0            25.0  \n"
     ]
    }
   ],
   "source": [
    "url = 'https://restapi.amap.com/v3/weather/weatherInfo'\n",
    "payload = {'city': '321200','key': 'd00466594a7f2bfff37c0fbc3951ef0b','extensions': 'all','output': 'JSON'}\n",
    "\n",
    "import requests\n",
    "r = requests.get(url, params=payload)\n",
    "print(r.status_code)\n",
    "print(r.text)\n",
    "\n",
    "import json\n",
    "content_json = json.loads(r.text)\n",
    "print(content_json)\n",
    "\n",
    "import pandas as pd\n",
    "df = pd.DataFrame(content_json['forecasts'][0]['casts'])\n",
    "print(df)\n",
    "\n",
    "import os\n",
    "file_name = '{}.csv'.format(content_json['forecasts'][0]['city'])\n",
    "df.to_csv(file_name, index=False)"
   ]
  },
  {
   "cell_type": "code",
   "execution_count": 26,
   "id": "2a6953fa-1a66-4166-96c6-9b2a03974c62",
   "metadata": {},
   "outputs": [
    {
     "name": "stdout",
     "output_type": "stream",
     "text": [
      "200\n",
      "{\"status\":\"1\",\"count\":\"1\",\"info\":\"OK\",\"infocode\":\"10000\",\"forecasts\":[{\"city\":\"宿迁市\",\"adcode\":\"321300\",\"province\":\"江苏\",\"reporttime\":\"2024-08-13 22:01:46\",\"casts\":[{\"date\":\"2024-08-13\",\"week\":\"2\",\"dayweather\":\"多云\",\"nightweather\":\"大雨\",\"daytemp\":\"34\",\"nighttemp\":\"25\",\"daywind\":\"东\",\"nightwind\":\"东\",\"daypower\":\"1-3\",\"nightpower\":\"1-3\",\"daytemp_float\":\"34.0\",\"nighttemp_float\":\"25.0\"},{\"date\":\"2024-08-14\",\"week\":\"3\",\"dayweather\":\"中雨\",\"nightweather\":\"多云\",\"daytemp\":\"32\",\"nighttemp\":\"26\",\"daywind\":\"东北\",\"nightwind\":\"东北\",\"daypower\":\"1-3\",\"nightpower\":\"1-3\",\"daytemp_float\":\"32.0\",\"nighttemp_float\":\"26.0\"},{\"date\":\"2024-08-15\",\"week\":\"4\",\"dayweather\":\"晴\",\"nightweather\":\"晴\",\"daytemp\":\"33\",\"nighttemp\":\"25\",\"daywind\":\"东北\",\"nightwind\":\"东北\",\"daypower\":\"1-3\",\"nightpower\":\"1-3\",\"daytemp_float\":\"33.0\",\"nighttemp_float\":\"25.0\"},{\"date\":\"2024-08-16\",\"week\":\"5\",\"dayweather\":\"晴\",\"nightweather\":\"晴\",\"daytemp\":\"32\",\"nighttemp\":\"26\",\"daywind\":\"东\",\"nightwind\":\"东\",\"daypower\":\"1-3\",\"nightpower\":\"1-3\",\"daytemp_float\":\"32.0\",\"nighttemp_float\":\"26.0\"}]}]}\n",
      "{'status': '1', 'count': '1', 'info': 'OK', 'infocode': '10000', 'forecasts': [{'city': '宿迁市', 'adcode': '321300', 'province': '江苏', 'reporttime': '2024-08-13 22:01:46', 'casts': [{'date': '2024-08-13', 'week': '2', 'dayweather': '多云', 'nightweather': '大雨', 'daytemp': '34', 'nighttemp': '25', 'daywind': '东', 'nightwind': '东', 'daypower': '1-3', 'nightpower': '1-3', 'daytemp_float': '34.0', 'nighttemp_float': '25.0'}, {'date': '2024-08-14', 'week': '3', 'dayweather': '中雨', 'nightweather': '多云', 'daytemp': '32', 'nighttemp': '26', 'daywind': '东北', 'nightwind': '东北', 'daypower': '1-3', 'nightpower': '1-3', 'daytemp_float': '32.0', 'nighttemp_float': '26.0'}, {'date': '2024-08-15', 'week': '4', 'dayweather': '晴', 'nightweather': '晴', 'daytemp': '33', 'nighttemp': '25', 'daywind': '东北', 'nightwind': '东北', 'daypower': '1-3', 'nightpower': '1-3', 'daytemp_float': '33.0', 'nighttemp_float': '25.0'}, {'date': '2024-08-16', 'week': '5', 'dayweather': '晴', 'nightweather': '晴', 'daytemp': '32', 'nighttemp': '26', 'daywind': '东', 'nightwind': '东', 'daypower': '1-3', 'nightpower': '1-3', 'daytemp_float': '32.0', 'nighttemp_float': '26.0'}]}]}\n",
      "         date week dayweather nightweather daytemp nighttemp daywind  \\\n",
      "0  2024-08-13    2         多云           大雨      34        25       东   \n",
      "1  2024-08-14    3         中雨           多云      32        26      东北   \n",
      "2  2024-08-15    4          晴            晴      33        25      东北   \n",
      "3  2024-08-16    5          晴            晴      32        26       东   \n",
      "\n",
      "  nightwind daypower nightpower daytemp_float nighttemp_float  \n",
      "0         东      1-3        1-3          34.0            25.0  \n",
      "1        东北      1-3        1-3          32.0            26.0  \n",
      "2        东北      1-3        1-3          33.0            25.0  \n",
      "3         东      1-3        1-3          32.0            26.0  \n"
     ]
    }
   ],
   "source": [
    "url = 'https://restapi.amap.com/v3/weather/weatherInfo'\n",
    "payload = {'city': '321300','key': 'd00466594a7f2bfff37c0fbc3951ef0b','extensions': 'all','output': 'JSON'}\n",
    "\n",
    "import requests\n",
    "r = requests.get(url, params=payload)\n",
    "print(r.status_code)\n",
    "print(r.text)\n",
    "\n",
    "import json\n",
    "content_json = json.loads(r.text)\n",
    "print(content_json)\n",
    "\n",
    "import pandas as pd\n",
    "df = pd.DataFrame(content_json['forecasts'][0]['casts'])\n",
    "print(df)\n",
    "\n",
    "import os\n",
    "file_name = '{}.csv'.format(content_json['forecasts'][0]['city'])\n",
    "df.to_csv(file_name, index=False)"
   ]
  },
  {
   "cell_type": "code",
   "execution_count": null,
   "id": "dad25c81-d64e-4d01-bbb8-e7ba9af823a5",
   "metadata": {},
   "outputs": [],
   "source": []
  }
 ],
 "metadata": {
  "kernelspec": {
   "display_name": "Python 3 (ipykernel)",
   "language": "python",
   "name": "python3"
  },
  "language_info": {
   "codemirror_mode": {
    "name": "ipython",
    "version": 3
   },
   "file_extension": ".py",
   "mimetype": "text/x-python",
   "name": "python",
   "nbconvert_exporter": "python",
   "pygments_lexer": "ipython3",
   "version": "3.11.7"
  }
 },
 "nbformat": 4,
 "nbformat_minor": 5
}
