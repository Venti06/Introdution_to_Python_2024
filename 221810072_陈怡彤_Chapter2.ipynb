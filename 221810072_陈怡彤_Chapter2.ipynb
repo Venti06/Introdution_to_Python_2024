{
 "cells": [
  {
   "cell_type": "markdown",
   "id": "2d0cddae-26ca-4ace-9b41-3076a5d5a754",
   "metadata": {},
   "source": [
    "第二章 变量和简单数据类型"
   ]
  },
  {
   "cell_type": "code",
   "execution_count": null,
   "id": "70d93c28-a421-4e3f-a30f-fbdb92403c6f",
   "metadata": {},
   "outputs": [],
   "source": [
    "print(\"Hello Python world\")"
   ]
  },
  {
   "cell_type": "markdown",
   "id": "8aa096c7-1487-41e2-b50f-4843247bc809",
   "metadata": {},
   "source": [
    "2.2 变量"
   ]
  },
  {
   "cell_type": "code",
   "execution_count": 3,
   "id": "e6c9ef43-ec8b-40bf-9c53-abe4cf696b0a",
   "metadata": {},
   "outputs": [
    {
     "name": "stdout",
     "output_type": "stream",
     "text": [
      "Hello Python world!\n"
     ]
    }
   ],
   "source": [
    "message=\"Hello Python world!\"\n",
    "print(message)"
   ]
  },
  {
   "cell_type": "code",
   "execution_count": 4,
   "id": "bcb28103-ebb8-478e-8771-5cc1514f341e",
   "metadata": {},
   "outputs": [
    {
     "name": "stdout",
     "output_type": "stream",
     "text": [
      "Hello Python world!\n",
      "Hello Python Crash Course world!\n"
     ]
    }
   ],
   "source": [
    "message=\"Hello Python world!\"\n",
    "print(message)\n",
    "message=\"Hello Python Crash Course world!\"\n",
    "print(message)"
   ]
  },
  {
   "cell_type": "code",
   "execution_count": 2,
   "id": "b1132e69-27a2-47c2-9bb4-d30d462acf72",
   "metadata": {},
   "outputs": [
    {
     "name": "stdout",
     "output_type": "stream",
     "text": [
      "Hello Python world!\n"
     ]
    }
   ],
   "source": [
    "mesage=\"Hello Python world!\"\n",
    "print(mesage)"
   ]
  },
  {
   "cell_type": "markdown",
   "id": "44195439-8744-44a7-baa0-d1afa24c4b94",
   "metadata": {},
   "source": []
  },
  {
   "cell_type": "code",
   "execution_count": 1,
   "id": "02cdd98a-c9c4-4131-97b6-cacf80756016",
   "metadata": {},
   "outputs": [
    {
     "name": "stdout",
     "output_type": "stream",
     "text": [
      "I like sunny days.\n"
     ]
    }
   ],
   "source": [
    "#练习2.1\n",
    "message=\"I like sunny days.\"\n",
    "print(message)"
   ]
  },
  {
   "cell_type": "code",
   "execution_count": 2,
   "id": "9d22c630-3983-4387-9585-7c753735b2d4",
   "metadata": {},
   "outputs": [
    {
     "name": "stdout",
     "output_type": "stream",
     "text": [
      "I like sunny days.\n",
      "I like jogging in sunny days.\n"
     ]
    }
   ],
   "source": [
    "#练习2.2\n",
    "message=\"I like sunny days.\"\n",
    "print(message)\n",
    "message=\"I like jogging in sunny days.\"\n",
    "print(message)"
   ]
  },
  {
   "cell_type": "code",
   "execution_count": null,
   "id": "d054a164-f862-4bb6-978b-06bb9b4703ba",
   "metadata": {},
   "outputs": [],
   "source": []
  },
  {
   "cell_type": "markdown",
   "id": "196ba655-03d1-49fb-b06d-0ca076a7d973",
   "metadata": {},
   "source": [
    "2.3 字符串"
   ]
  },
  {
   "cell_type": "markdown",
   "id": "f9687242-7591-4519-8841-e4819048b7a8",
   "metadata": {},
   "source": [
    "2.3.1使用方法修改字符串的大小写"
   ]
  },
  {
   "cell_type": "code",
   "execution_count": 1,
   "id": "9f10c011-c451-4e1d-affe-4da887945d25",
   "metadata": {},
   "outputs": [
    {
     "name": "stdout",
     "output_type": "stream",
     "text": [
      "Ada Lovelace\n"
     ]
    }
   ],
   "source": [
    "name=\"ada lovelace\"\n",
    "print(name.title())"
   ]
  },
  {
   "cell_type": "code",
   "execution_count": 3,
   "id": "53d69c9f-d4d4-4d7e-9fd7-26d91e139df9",
   "metadata": {},
   "outputs": [
    {
     "name": "stdout",
     "output_type": "stream",
     "text": [
      "ADA LOVELACE\n",
      "ada lovelace\n"
     ]
    }
   ],
   "source": [
    "name=\"ada lovelace\"\n",
    "print(name.upper())\n",
    "print(name.lower())"
   ]
  },
  {
   "cell_type": "markdown",
   "id": "61bcee72-cc7d-42c3-826e-7d73ef2a1a7a",
   "metadata": {},
   "source": [
    "2.3.2在字符串中使用变量"
   ]
  },
  {
   "cell_type": "code",
   "execution_count": 4,
   "id": "7369e10d-5b44-43ca-9c48-044de0117a88",
   "metadata": {},
   "outputs": [
    {
     "name": "stdout",
     "output_type": "stream",
     "text": [
      "ada lovelace\n"
     ]
    }
   ],
   "source": [
    "first_name=\"ada\"\n",
    "last_name=\"lovelace\"\n",
    "full_name=f\"{first_name} {last_name}\"\n",
    "print(full_name)"
   ]
  },
  {
   "cell_type": "code",
   "execution_count": 5,
   "id": "4db948bb-463e-4adf-85b0-dfd2e77c7978",
   "metadata": {},
   "outputs": [
    {
     "name": "stdout",
     "output_type": "stream",
     "text": [
      "Hello, Ada Lovelace!\n"
     ]
    }
   ],
   "source": [
    "first_name=\"ada\"\n",
    "last_name=\"lovelace\"\n",
    "full_name=f\"{first_name} {last_name}\"\n",
    "print(f\"Hello, {full_name.title()}!\")"
   ]
  },
  {
   "cell_type": "code",
   "execution_count": 6,
   "id": "ce8dec5e-aeb6-4a9c-b984-2e115fd25f25",
   "metadata": {},
   "outputs": [
    {
     "name": "stdout",
     "output_type": "stream",
     "text": [
      "Hello, Ada Lovelace!\n"
     ]
    }
   ],
   "source": [
    "first_name=\"ada\"\n",
    "last_name=\"lovelace\"\n",
    "full_name=f\"{first_name} {last_name}\"\n",
    "message=f\"Hello, {full_name.title()}!\"\n",
    "print(message)"
   ]
  },
  {
   "cell_type": "markdown",
   "id": "ef6e0bbc-084e-4ce7-858f-9cdc9c28c9a6",
   "metadata": {},
   "source": []
  },
  {
   "cell_type": "markdown",
   "id": "54ba410a-5324-4a56-a283-59ab1c421e1f",
   "metadata": {},
   "source": [
    "2.3.3使用制表符或换行符来添加空白"
   ]
  },
  {
   "cell_type": "markdown",
   "id": "bde3eba1-e6c8-406b-ac75-67be228f94f0",
   "metadata": {},
   "source": [
    "##添加制表符，使用字符组合\\t\n",
    "##添加换行符，使用字符组合\\n"
   ]
  },
  {
   "cell_type": "code",
   "execution_count": 7,
   "id": "1586b36c-9845-4c67-a6b6-64cb472d8fa7",
   "metadata": {},
   "outputs": [
    {
     "name": "stdout",
     "output_type": "stream",
     "text": [
      "\tPython\n"
     ]
    }
   ],
   "source": [
    "print(\"\\tPython\")"
   ]
  },
  {
   "cell_type": "code",
   "execution_count": 8,
   "id": "ba0b0470-5c1f-4140-8598-86f33d11a197",
   "metadata": {},
   "outputs": [
    {
     "name": "stdout",
     "output_type": "stream",
     "text": [
      "Languages:\n",
      "Python\n",
      "C\n",
      "JavaScript\n"
     ]
    }
   ],
   "source": [
    "print(\"Languages:\\nPython\\nC\\nJavaScript\")"
   ]
  },
  {
   "cell_type": "code",
   "execution_count": 9,
   "id": "1655aff8-1bda-46ad-beea-7f458650340c",
   "metadata": {},
   "outputs": [
    {
     "name": "stdout",
     "output_type": "stream",
     "text": [
      "Languages:\n",
      "\tPython\n",
      "\tC\n",
      "\tJavaScript\n"
     ]
    }
   ],
   "source": [
    "print(\"Languages:\\n\\tPython\\n\\tC\\n\\tJavaScript\")"
   ]
  },
  {
   "cell_type": "markdown",
   "id": "e519edf3-3730-4523-8111-4de5f04f2097",
   "metadata": {},
   "source": [
    "2.3.4删除空白"
   ]
  },
  {
   "cell_type": "markdown",
   "id": "208faee3-cff0-4bd1-b499-f77a62badab8",
   "metadata": {},
   "source": [
    "##restrip()确保字符串右端没有空白\n",
    "##lstrip()确保字符串左端没有空白\n",
    "##strip()同时删去两端的空白"
   ]
  },
  {
   "cell_type": "code",
   "execution_count": 10,
   "id": "ffd03e27-6d66-4d2e-8b49-e809a1d96714",
   "metadata": {},
   "outputs": [
    {
     "data": {
      "text/plain": [
       "'python'"
      ]
     },
     "execution_count": 10,
     "metadata": {},
     "output_type": "execute_result"
    }
   ],
   "source": [
    "favorite_language='python '\n",
    "favorite_language.rstrip()"
   ]
  },
  {
   "cell_type": "code",
   "execution_count": 16,
   "id": "f1fd7e69-ab32-42c0-9cca-6a6f3dab6cd9",
   "metadata": {},
   "outputs": [
    {
     "data": {
      "text/plain": [
       "' python'"
      ]
     },
     "execution_count": 16,
     "metadata": {},
     "output_type": "execute_result"
    }
   ],
   "source": [
    "favorite_language=' python '\n",
    "favorite_language.rstrip()"
   ]
  },
  {
   "cell_type": "code",
   "execution_count": 17,
   "id": "ea50f34a-8394-4b93-a982-dae727cf9183",
   "metadata": {},
   "outputs": [
    {
     "data": {
      "text/plain": [
       "'python '"
      ]
     },
     "execution_count": 17,
     "metadata": {},
     "output_type": "execute_result"
    }
   ],
   "source": [
    "favorite_language.lstrip()"
   ]
  },
  {
   "cell_type": "code",
   "execution_count": 18,
   "id": "22f1ccdc-b9f9-434b-a041-470a3c284fb7",
   "metadata": {},
   "outputs": [
    {
     "data": {
      "text/plain": [
       "'python'"
      ]
     },
     "execution_count": 18,
     "metadata": {},
     "output_type": "execute_result"
    }
   ],
   "source": [
    "favorite_language.strip()"
   ]
  },
  {
   "cell_type": "markdown",
   "id": "793ff6d4-961f-4ec3-ac7a-f9bd5c5e8e29",
   "metadata": {},
   "source": [
    "2.3.5删除前缀"
   ]
  },
  {
   "cell_type": "code",
   "execution_count": 21,
   "id": "74e58f91-f12c-423d-86fc-808bdb3c7ac7",
   "metadata": {},
   "outputs": [
    {
     "name": "stdout",
     "output_type": "stream",
     "text": [
      "www.ituring.com.cn\n"
     ]
    }
   ],
   "source": [
    "ur1='https://www.ituring.com.cn'\n",
    "ur1=ur1.removeprefix('https://')\n",
    "print(ur1)"
   ]
  },
  {
   "cell_type": "code",
   "execution_count": 4,
   "id": "150e0444-c205-4849-b564-83ba17b0f74a",
   "metadata": {},
   "outputs": [
    {
     "data": {
      "text/plain": [
       "'nostarch.com'"
      ]
     },
     "execution_count": 4,
     "metadata": {},
     "output_type": "execute_result"
    }
   ],
   "source": [
    "nostarch_url='https://nostarch.com'\n",
    "nostarch_url.removeprefix('https://')\n",
    "##与删除空白一样，并不会改变原有字符串，如需改变，需将结果赋给原来的变量或新变量"
   ]
  },
  {
   "cell_type": "markdown",
   "id": "a2245593-64a6-4211-a4bf-14b9401523b8",
   "metadata": {},
   "source": [
    "2.3.6如何在使用字符串时避免语法错误"
   ]
  },
  {
   "cell_type": "code",
   "execution_count": 5,
   "id": "65723505-7fc3-4d4b-9eb6-de3987bfcc47",
   "metadata": {},
   "outputs": [
    {
     "name": "stdout",
     "output_type": "stream",
     "text": [
      "One of Python's strengths is its diverse community.\n"
     ]
    }
   ],
   "source": [
    "##注意单双引号的使用，正确引起字符串\n",
    "message=\"One of Python's strengths is its diverse community.\"\n",
    "print(message)"
   ]
  },
  {
   "cell_type": "markdown",
   "id": "136d1c29-7a36-412f-8644-c0b9260618ad",
   "metadata": {},
   "source": []
  },
  {
   "cell_type": "code",
   "execution_count": 6,
   "id": "aaec99fe-0a7b-43af-95c3-91dc75e870b3",
   "metadata": {},
   "outputs": [
    {
     "name": "stdout",
     "output_type": "stream",
     "text": [
      "Hi Sam, glad to see you.\n"
     ]
    }
   ],
   "source": [
    "#练习2.3\n",
    "name=\"Sam\"\n",
    "message=f\"Hi {name}, glad to see you.\"\n",
    "print(message)"
   ]
  },
  {
   "cell_type": "code",
   "execution_count": 7,
   "id": "42c04f0f-0fc5-4b92-9f14-0345b55b2d27",
   "metadata": {},
   "outputs": [
    {
     "name": "stdout",
     "output_type": "stream",
     "text": [
      "SAM\n",
      "sam\n",
      "Sam\n"
     ]
    }
   ],
   "source": [
    "#练习2.4\n",
    "name=\"sam\"\n",
    "print(name.upper())\n",
    "print(name.lower())\n",
    "print(name.title())"
   ]
  },
  {
   "cell_type": "code",
   "execution_count": 8,
   "id": "01397cee-14ca-462f-ba1f-fb85087b8712",
   "metadata": {},
   "outputs": [
    {
     "name": "stdout",
     "output_type": "stream",
     "text": [
      "Oscar Wilde once said,\"The supereme object of life is to live.\"\n"
     ]
    }
   ],
   "source": [
    "#练习2.5\n",
    "print('Oscar Wilde once said,\"The supereme object of life is to live.\"')"
   ]
  },
  {
   "cell_type": "code",
   "execution_count": 9,
   "id": "cf825aa9-231f-46a7-950e-0146e412a229",
   "metadata": {},
   "outputs": [
    {
     "name": "stdout",
     "output_type": "stream",
     "text": [
      "Oscar Wilde once said, \"The supereme object of life is to live.\"\n"
     ]
    }
   ],
   "source": [
    "#练习2.6\n",
    "famous_person=\"Oscar Wilde\"\n",
    "message=f'{famous_person} once said, \"The supereme object of life is to live.\"'\n",
    "print(message)"
   ]
  },
  {
   "cell_type": "code",
   "execution_count": 10,
   "id": "aa586e85-0d21-492f-a92b-4be2a17195dd",
   "metadata": {},
   "outputs": [
    {
     "name": "stdout",
     "output_type": "stream",
     "text": [
      "\tHi, \n",
      "Albert \n",
      "\tHi, \n",
      "Albert\n",
      "Hi, \n",
      "Albert\n",
      "Hi, \n",
      "Albert \n"
     ]
    }
   ],
   "source": [
    "#练习2.7\n",
    "print(\"\\tHi, \\nAlbert \")\n",
    "name=\"\\tHi, \\nAlbert \"\n",
    "print(name.rstrip())\n",
    "print(name.strip())\n",
    "print(name.lstrip())"
   ]
  },
  {
   "cell_type": "code",
   "execution_count": null,
   "id": "d4bdbb55-9be8-40e9-8e8b-e5d5d09a2e22",
   "metadata": {},
   "outputs": [],
   "source": []
  },
  {
   "cell_type": "markdown",
   "id": "027c9be2-801b-4c33-81e7-767321525a52",
   "metadata": {},
   "source": [
    "2.4 数"
   ]
  },
  {
   "cell_type": "markdown",
   "id": "1e6bb357-25fa-4b58-b321-e991d5a243db",
   "metadata": {},
   "source": [
    "2.4.1整数"
   ]
  },
  {
   "cell_type": "code",
   "execution_count": 22,
   "id": "9b091c15-d46e-4fc0-b96c-30fcc1710803",
   "metadata": {},
   "outputs": [
    {
     "data": {
      "text/plain": [
       "5"
      ]
     },
     "execution_count": 22,
     "metadata": {},
     "output_type": "execute_result"
    }
   ],
   "source": [
    "2+3"
   ]
  },
  {
   "cell_type": "code",
   "execution_count": 23,
   "id": "0cd8b7b5-737a-4ee1-84e0-03a5060950f4",
   "metadata": {},
   "outputs": [
    {
     "data": {
      "text/plain": [
       "1"
      ]
     },
     "execution_count": 23,
     "metadata": {},
     "output_type": "execute_result"
    }
   ],
   "source": [
    "3-2"
   ]
  },
  {
   "cell_type": "code",
   "execution_count": 24,
   "id": "4c75e79d-055b-4e95-8bb0-175ac529255f",
   "metadata": {},
   "outputs": [
    {
     "data": {
      "text/plain": [
       "6"
      ]
     },
     "execution_count": 24,
     "metadata": {},
     "output_type": "execute_result"
    }
   ],
   "source": [
    "2*3"
   ]
  },
  {
   "cell_type": "code",
   "execution_count": 25,
   "id": "29f2c6f6-6b92-4ae3-b362-c1573d1507a9",
   "metadata": {},
   "outputs": [
    {
     "data": {
      "text/plain": [
       "1.5"
      ]
     },
     "execution_count": 25,
     "metadata": {},
     "output_type": "execute_result"
    }
   ],
   "source": [
    "3/2"
   ]
  },
  {
   "cell_type": "code",
   "execution_count": 29,
   "id": "1a6ab6ec-9b35-4835-956a-9475f7527c03",
   "metadata": {},
   "outputs": [
    {
     "name": "stdout",
     "output_type": "stream",
     "text": [
      "1\n",
      "1.0\n",
      "0\n",
      "1.0\n"
     ]
    }
   ],
   "source": [
    "#整数除法\n",
    "print(3//3)\n",
    "print(2.5//2)\n",
    "print(1//2)\n",
    "print(1.5//1.5)"
   ]
  },
  {
   "cell_type": "code",
   "execution_count": 30,
   "id": "c81f176d-caa7-4f60-b2e4-9240925404df",
   "metadata": {},
   "outputs": [
    {
     "name": "stdout",
     "output_type": "stream",
     "text": [
      "27\n",
      "6.25\n",
      "1\n",
      "1.8371173070873836\n"
     ]
    }
   ],
   "source": [
    "#乘方\n",
    "print(3**3)\n",
    "print(2.5**2)\n",
    "print(1**2)\n",
    "print(1.5**1.5)"
   ]
  },
  {
   "cell_type": "markdown",
   "id": "05041600-ce66-405b-a69d-b14dfbfdf614",
   "metadata": {},
   "source": [
    "2.4.2浮点数\n",
    "##带有小数点的数被称为浮点数。任意两数相除结果为浮点数，运算中一个操作数为浮点数则结果是浮点数"
   ]
  },
  {
   "cell_type": "markdown",
   "id": "34d73f24-85b7-4676-86c1-fa79d0cdbb49",
   "metadata": {},
   "source": [
    "2.4.4数中的下划线\n",
    "##清晰易读，不影响打印"
   ]
  },
  {
   "cell_type": "code",
   "execution_count": 11,
   "id": "86e41e1a-f735-4a93-b640-a901e0d29350",
   "metadata": {},
   "outputs": [
    {
     "name": "stdout",
     "output_type": "stream",
     "text": [
      "14000000000\n"
     ]
    }
   ],
   "source": [
    "universe_age=14_000_000_000\n",
    "print(universe_age)"
   ]
  },
  {
   "cell_type": "markdown",
   "id": "69f1a6bd-cf97-40cb-920d-132caf2a6566",
   "metadata": {},
   "source": [
    "2.4.5同时给多个变量赋值"
   ]
  },
  {
   "cell_type": "code",
   "execution_count": 28,
   "id": "a695986a-b29a-4526-b774-22ee1fa839b5",
   "metadata": {},
   "outputs": [
    {
     "name": "stdout",
     "output_type": "stream",
     "text": [
      "0 0 0\n"
     ]
    }
   ],
   "source": [
    "x,y,z=0,0,0\n",
    "print(x,y,z)"
   ]
  },
  {
   "cell_type": "code",
   "execution_count": 12,
   "id": "9ce6e134-221d-4207-9998-85ca5a268d97",
   "metadata": {},
   "outputs": [
    {
     "name": "stdout",
     "output_type": "stream",
     "text": [
      "3 2 1\n"
     ]
    }
   ],
   "source": [
    "x,y,z=1,2,3\n",
    "print(z,y,x)"
   ]
  },
  {
   "cell_type": "markdown",
   "id": "2d8f5319-1788-4c7f-811b-db5e3556c146",
   "metadata": {},
   "source": [
    "2.4.6常量"
   ]
  },
  {
   "cell_type": "code",
   "execution_count": 13,
   "id": "2d98e8b4-7837-4b95-ad42-60af3e9f071d",
   "metadata": {},
   "outputs": [],
   "source": [
    "MAX_CONNECTIONS=5000"
   ]
  },
  {
   "cell_type": "code",
   "execution_count": null,
   "id": "d155c99d-23b5-4c89-9611-a22557d67ace",
   "metadata": {},
   "outputs": [],
   "source": []
  },
  {
   "cell_type": "code",
   "execution_count": 17,
   "id": "21ceb08e-208a-419f-921d-8e447dc55c4a",
   "metadata": {},
   "outputs": [
    {
     "name": "stdout",
     "output_type": "stream",
     "text": [
      "8\n",
      "8\n",
      "8\n",
      "8.0\n"
     ]
    }
   ],
   "source": [
    "#练习2.8\n",
    "print(4+4)\n",
    "print(9-1)\n",
    "print(2*4)\n",
    "print(16/2)"
   ]
  },
  {
   "cell_type": "code",
   "execution_count": 18,
   "id": "88fb3d45-a92d-40ae-888f-d05452324abf",
   "metadata": {},
   "outputs": [
    {
     "name": "stdout",
     "output_type": "stream",
     "text": [
      "My favorite number is 7.\n"
     ]
    }
   ],
   "source": [
    "#练习2.9\n",
    "number=7\n",
    "message=f\"My favorite number is 7.\"\n",
    "print(message)"
   ]
  },
  {
   "cell_type": "code",
   "execution_count": null,
   "id": "595bb2f2-dd74-4bb2-b294-92a957f41754",
   "metadata": {},
   "outputs": [],
   "source": []
  }
 ],
 "metadata": {
  "kernelspec": {
   "display_name": "Python 3 (ipykernel)",
   "language": "python",
   "name": "python3"
  },
  "language_info": {
   "codemirror_mode": {
    "name": "ipython",
    "version": 3
   },
   "file_extension": ".py",
   "mimetype": "text/x-python",
   "name": "python",
   "nbconvert_exporter": "python",
   "pygments_lexer": "ipython3",
   "version": "3.11.7"
  }
 },
 "nbformat": 4,
 "nbformat_minor": 5
}
